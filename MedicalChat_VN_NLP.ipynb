{
  "nbformat": 4,
  "nbformat_minor": 0,
  "metadata": {
    "colab": {
      "provenance": [],
      "toc_visible": true,
      "gpuType": "T4"
    },
    "kernelspec": {
      "name": "python3",
      "display_name": "Python 3"
    },
    "language_info": {
      "name": "python"
    },
    "widgets": {
      "application/vnd.jupyter.widget-state+json": {
        "fd05011f69f04823b0a808f666874b16": {
          "model_module": "@jupyter-widgets/controls",
          "model_name": "HBoxModel",
          "model_module_version": "1.5.0",
          "state": {
            "_dom_classes": [],
            "_model_module": "@jupyter-widgets/controls",
            "_model_module_version": "1.5.0",
            "_model_name": "HBoxModel",
            "_view_count": null,
            "_view_module": "@jupyter-widgets/controls",
            "_view_module_version": "1.5.0",
            "_view_name": "HBoxView",
            "box_style": "",
            "children": [
              "IPY_MODEL_fa8c95b996e143feb4128d54ac23fa56",
              "IPY_MODEL_4ed94d4cae5748148554326edf90a692",
              "IPY_MODEL_cb7ee60f1fc8482c977ed1a62b726e03"
            ],
            "layout": "IPY_MODEL_78604b926e4c4ee99c729578d252e3cb"
          }
        },
        "fa8c95b996e143feb4128d54ac23fa56": {
          "model_module": "@jupyter-widgets/controls",
          "model_name": "HTMLModel",
          "model_module_version": "1.5.0",
          "state": {
            "_dom_classes": [],
            "_model_module": "@jupyter-widgets/controls",
            "_model_module_version": "1.5.0",
            "_model_name": "HTMLModel",
            "_view_count": null,
            "_view_module": "@jupyter-widgets/controls",
            "_view_module_version": "1.5.0",
            "_view_name": "HTMLView",
            "description": "",
            "description_tooltip": null,
            "layout": "IPY_MODEL_347d267b56514461a40b52088cef94ea",
            "placeholder": "​",
            "style": "IPY_MODEL_3a2fbf0475564534a8f847abfc893a09",
            "value": "README.md: 100%"
          }
        },
        "4ed94d4cae5748148554326edf90a692": {
          "model_module": "@jupyter-widgets/controls",
          "model_name": "FloatProgressModel",
          "model_module_version": "1.5.0",
          "state": {
            "_dom_classes": [],
            "_model_module": "@jupyter-widgets/controls",
            "_model_module_version": "1.5.0",
            "_model_name": "FloatProgressModel",
            "_view_count": null,
            "_view_module": "@jupyter-widgets/controls",
            "_view_module_version": "1.5.0",
            "_view_name": "ProgressView",
            "bar_style": "success",
            "description": "",
            "description_tooltip": null,
            "layout": "IPY_MODEL_438030a8a5864ad6968cd307c1e1b368",
            "max": 2457,
            "min": 0,
            "orientation": "horizontal",
            "style": "IPY_MODEL_b4919a4bd10d47669e19a67421a3ab28",
            "value": 2457
          }
        },
        "cb7ee60f1fc8482c977ed1a62b726e03": {
          "model_module": "@jupyter-widgets/controls",
          "model_name": "HTMLModel",
          "model_module_version": "1.5.0",
          "state": {
            "_dom_classes": [],
            "_model_module": "@jupyter-widgets/controls",
            "_model_module_version": "1.5.0",
            "_model_name": "HTMLModel",
            "_view_count": null,
            "_view_module": "@jupyter-widgets/controls",
            "_view_module_version": "1.5.0",
            "_view_name": "HTMLView",
            "description": "",
            "description_tooltip": null,
            "layout": "IPY_MODEL_1e26978e0d3a41b1bacbaa401f76964f",
            "placeholder": "​",
            "style": "IPY_MODEL_00bae26847d54152808721d0c45dd26a",
            "value": " 2.46k/2.46k [00:00&lt;00:00, 184kB/s]"
          }
        },
        "78604b926e4c4ee99c729578d252e3cb": {
          "model_module": "@jupyter-widgets/base",
          "model_name": "LayoutModel",
          "model_module_version": "1.2.0",
          "state": {
            "_model_module": "@jupyter-widgets/base",
            "_model_module_version": "1.2.0",
            "_model_name": "LayoutModel",
            "_view_count": null,
            "_view_module": "@jupyter-widgets/base",
            "_view_module_version": "1.2.0",
            "_view_name": "LayoutView",
            "align_content": null,
            "align_items": null,
            "align_self": null,
            "border": null,
            "bottom": null,
            "display": null,
            "flex": null,
            "flex_flow": null,
            "grid_area": null,
            "grid_auto_columns": null,
            "grid_auto_flow": null,
            "grid_auto_rows": null,
            "grid_column": null,
            "grid_gap": null,
            "grid_row": null,
            "grid_template_areas": null,
            "grid_template_columns": null,
            "grid_template_rows": null,
            "height": null,
            "justify_content": null,
            "justify_items": null,
            "left": null,
            "margin": null,
            "max_height": null,
            "max_width": null,
            "min_height": null,
            "min_width": null,
            "object_fit": null,
            "object_position": null,
            "order": null,
            "overflow": null,
            "overflow_x": null,
            "overflow_y": null,
            "padding": null,
            "right": null,
            "top": null,
            "visibility": null,
            "width": null
          }
        },
        "347d267b56514461a40b52088cef94ea": {
          "model_module": "@jupyter-widgets/base",
          "model_name": "LayoutModel",
          "model_module_version": "1.2.0",
          "state": {
            "_model_module": "@jupyter-widgets/base",
            "_model_module_version": "1.2.0",
            "_model_name": "LayoutModel",
            "_view_count": null,
            "_view_module": "@jupyter-widgets/base",
            "_view_module_version": "1.2.0",
            "_view_name": "LayoutView",
            "align_content": null,
            "align_items": null,
            "align_self": null,
            "border": null,
            "bottom": null,
            "display": null,
            "flex": null,
            "flex_flow": null,
            "grid_area": null,
            "grid_auto_columns": null,
            "grid_auto_flow": null,
            "grid_auto_rows": null,
            "grid_column": null,
            "grid_gap": null,
            "grid_row": null,
            "grid_template_areas": null,
            "grid_template_columns": null,
            "grid_template_rows": null,
            "height": null,
            "justify_content": null,
            "justify_items": null,
            "left": null,
            "margin": null,
            "max_height": null,
            "max_width": null,
            "min_height": null,
            "min_width": null,
            "object_fit": null,
            "object_position": null,
            "order": null,
            "overflow": null,
            "overflow_x": null,
            "overflow_y": null,
            "padding": null,
            "right": null,
            "top": null,
            "visibility": null,
            "width": null
          }
        },
        "3a2fbf0475564534a8f847abfc893a09": {
          "model_module": "@jupyter-widgets/controls",
          "model_name": "DescriptionStyleModel",
          "model_module_version": "1.5.0",
          "state": {
            "_model_module": "@jupyter-widgets/controls",
            "_model_module_version": "1.5.0",
            "_model_name": "DescriptionStyleModel",
            "_view_count": null,
            "_view_module": "@jupyter-widgets/base",
            "_view_module_version": "1.2.0",
            "_view_name": "StyleView",
            "description_width": ""
          }
        },
        "438030a8a5864ad6968cd307c1e1b368": {
          "model_module": "@jupyter-widgets/base",
          "model_name": "LayoutModel",
          "model_module_version": "1.2.0",
          "state": {
            "_model_module": "@jupyter-widgets/base",
            "_model_module_version": "1.2.0",
            "_model_name": "LayoutModel",
            "_view_count": null,
            "_view_module": "@jupyter-widgets/base",
            "_view_module_version": "1.2.0",
            "_view_name": "LayoutView",
            "align_content": null,
            "align_items": null,
            "align_self": null,
            "border": null,
            "bottom": null,
            "display": null,
            "flex": null,
            "flex_flow": null,
            "grid_area": null,
            "grid_auto_columns": null,
            "grid_auto_flow": null,
            "grid_auto_rows": null,
            "grid_column": null,
            "grid_gap": null,
            "grid_row": null,
            "grid_template_areas": null,
            "grid_template_columns": null,
            "grid_template_rows": null,
            "height": null,
            "justify_content": null,
            "justify_items": null,
            "left": null,
            "margin": null,
            "max_height": null,
            "max_width": null,
            "min_height": null,
            "min_width": null,
            "object_fit": null,
            "object_position": null,
            "order": null,
            "overflow": null,
            "overflow_x": null,
            "overflow_y": null,
            "padding": null,
            "right": null,
            "top": null,
            "visibility": null,
            "width": null
          }
        },
        "b4919a4bd10d47669e19a67421a3ab28": {
          "model_module": "@jupyter-widgets/controls",
          "model_name": "ProgressStyleModel",
          "model_module_version": "1.5.0",
          "state": {
            "_model_module": "@jupyter-widgets/controls",
            "_model_module_version": "1.5.0",
            "_model_name": "ProgressStyleModel",
            "_view_count": null,
            "_view_module": "@jupyter-widgets/base",
            "_view_module_version": "1.2.0",
            "_view_name": "StyleView",
            "bar_color": null,
            "description_width": ""
          }
        },
        "1e26978e0d3a41b1bacbaa401f76964f": {
          "model_module": "@jupyter-widgets/base",
          "model_name": "LayoutModel",
          "model_module_version": "1.2.0",
          "state": {
            "_model_module": "@jupyter-widgets/base",
            "_model_module_version": "1.2.0",
            "_model_name": "LayoutModel",
            "_view_count": null,
            "_view_module": "@jupyter-widgets/base",
            "_view_module_version": "1.2.0",
            "_view_name": "LayoutView",
            "align_content": null,
            "align_items": null,
            "align_self": null,
            "border": null,
            "bottom": null,
            "display": null,
            "flex": null,
            "flex_flow": null,
            "grid_area": null,
            "grid_auto_columns": null,
            "grid_auto_flow": null,
            "grid_auto_rows": null,
            "grid_column": null,
            "grid_gap": null,
            "grid_row": null,
            "grid_template_areas": null,
            "grid_template_columns": null,
            "grid_template_rows": null,
            "height": null,
            "justify_content": null,
            "justify_items": null,
            "left": null,
            "margin": null,
            "max_height": null,
            "max_width": null,
            "min_height": null,
            "min_width": null,
            "object_fit": null,
            "object_position": null,
            "order": null,
            "overflow": null,
            "overflow_x": null,
            "overflow_y": null,
            "padding": null,
            "right": null,
            "top": null,
            "visibility": null,
            "width": null
          }
        },
        "00bae26847d54152808721d0c45dd26a": {
          "model_module": "@jupyter-widgets/controls",
          "model_name": "DescriptionStyleModel",
          "model_module_version": "1.5.0",
          "state": {
            "_model_module": "@jupyter-widgets/controls",
            "_model_module_version": "1.5.0",
            "_model_name": "DescriptionStyleModel",
            "_view_count": null,
            "_view_module": "@jupyter-widgets/base",
            "_view_module_version": "1.2.0",
            "_view_name": "StyleView",
            "description_width": ""
          }
        },
        "1a0ddd6d4b3c472f886083f7476c93bf": {
          "model_module": "@jupyter-widgets/controls",
          "model_name": "HBoxModel",
          "model_module_version": "1.5.0",
          "state": {
            "_dom_classes": [],
            "_model_module": "@jupyter-widgets/controls",
            "_model_module_version": "1.5.0",
            "_model_name": "HBoxModel",
            "_view_count": null,
            "_view_module": "@jupyter-widgets/controls",
            "_view_module_version": "1.5.0",
            "_view_name": "HBoxView",
            "box_style": "",
            "children": [
              "IPY_MODEL_926feafb89664e91aff69e802507fce6",
              "IPY_MODEL_3cb97668045d4f39b3b9bdd929106393",
              "IPY_MODEL_ce70e8c9beda4733a2c5188f7050b500"
            ],
            "layout": "IPY_MODEL_f59236bccaf946a1b0ca24ba2f460a80"
          }
        },
        "926feafb89664e91aff69e802507fce6": {
          "model_module": "@jupyter-widgets/controls",
          "model_name": "HTMLModel",
          "model_module_version": "1.5.0",
          "state": {
            "_dom_classes": [],
            "_model_module": "@jupyter-widgets/controls",
            "_model_module_version": "1.5.0",
            "_model_name": "HTMLModel",
            "_view_count": null,
            "_view_module": "@jupyter-widgets/controls",
            "_view_module_version": "1.5.0",
            "_view_name": "HTMLView",
            "description": "",
            "description_tooltip": null,
            "layout": "IPY_MODEL_62ce0d9772f94781919e9aa7d48314be",
            "placeholder": "​",
            "style": "IPY_MODEL_a22eb17057d54299a93c9c02840f3fb1",
            "value": "train-00000-of-00001.parquet: 100%"
          }
        },
        "3cb97668045d4f39b3b9bdd929106393": {
          "model_module": "@jupyter-widgets/controls",
          "model_name": "FloatProgressModel",
          "model_module_version": "1.5.0",
          "state": {
            "_dom_classes": [],
            "_model_module": "@jupyter-widgets/controls",
            "_model_module_version": "1.5.0",
            "_model_name": "FloatProgressModel",
            "_view_count": null,
            "_view_module": "@jupyter-widgets/controls",
            "_view_module_version": "1.5.0",
            "_view_name": "ProgressView",
            "bar_style": "success",
            "description": "",
            "description_tooltip": null,
            "layout": "IPY_MODEL_95d7235165fe4a6dae847abefb060c20",
            "max": 5289086,
            "min": 0,
            "orientation": "horizontal",
            "style": "IPY_MODEL_74b2d0468c1e41b68435caa0336ad5d8",
            "value": 5289086
          }
        },
        "ce70e8c9beda4733a2c5188f7050b500": {
          "model_module": "@jupyter-widgets/controls",
          "model_name": "HTMLModel",
          "model_module_version": "1.5.0",
          "state": {
            "_dom_classes": [],
            "_model_module": "@jupyter-widgets/controls",
            "_model_module_version": "1.5.0",
            "_model_name": "HTMLModel",
            "_view_count": null,
            "_view_module": "@jupyter-widgets/controls",
            "_view_module_version": "1.5.0",
            "_view_name": "HTMLView",
            "description": "",
            "description_tooltip": null,
            "layout": "IPY_MODEL_b835d1eb6f7a4ceda2f7981a9418452c",
            "placeholder": "​",
            "style": "IPY_MODEL_abfd07fb3bb74775a430348180ff8786",
            "value": " 5.29M/5.29M [00:00&lt;00:00, 45.9MB/s]"
          }
        },
        "f59236bccaf946a1b0ca24ba2f460a80": {
          "model_module": "@jupyter-widgets/base",
          "model_name": "LayoutModel",
          "model_module_version": "1.2.0",
          "state": {
            "_model_module": "@jupyter-widgets/base",
            "_model_module_version": "1.2.0",
            "_model_name": "LayoutModel",
            "_view_count": null,
            "_view_module": "@jupyter-widgets/base",
            "_view_module_version": "1.2.0",
            "_view_name": "LayoutView",
            "align_content": null,
            "align_items": null,
            "align_self": null,
            "border": null,
            "bottom": null,
            "display": null,
            "flex": null,
            "flex_flow": null,
            "grid_area": null,
            "grid_auto_columns": null,
            "grid_auto_flow": null,
            "grid_auto_rows": null,
            "grid_column": null,
            "grid_gap": null,
            "grid_row": null,
            "grid_template_areas": null,
            "grid_template_columns": null,
            "grid_template_rows": null,
            "height": null,
            "justify_content": null,
            "justify_items": null,
            "left": null,
            "margin": null,
            "max_height": null,
            "max_width": null,
            "min_height": null,
            "min_width": null,
            "object_fit": null,
            "object_position": null,
            "order": null,
            "overflow": null,
            "overflow_x": null,
            "overflow_y": null,
            "padding": null,
            "right": null,
            "top": null,
            "visibility": null,
            "width": null
          }
        },
        "62ce0d9772f94781919e9aa7d48314be": {
          "model_module": "@jupyter-widgets/base",
          "model_name": "LayoutModel",
          "model_module_version": "1.2.0",
          "state": {
            "_model_module": "@jupyter-widgets/base",
            "_model_module_version": "1.2.0",
            "_model_name": "LayoutModel",
            "_view_count": null,
            "_view_module": "@jupyter-widgets/base",
            "_view_module_version": "1.2.0",
            "_view_name": "LayoutView",
            "align_content": null,
            "align_items": null,
            "align_self": null,
            "border": null,
            "bottom": null,
            "display": null,
            "flex": null,
            "flex_flow": null,
            "grid_area": null,
            "grid_auto_columns": null,
            "grid_auto_flow": null,
            "grid_auto_rows": null,
            "grid_column": null,
            "grid_gap": null,
            "grid_row": null,
            "grid_template_areas": null,
            "grid_template_columns": null,
            "grid_template_rows": null,
            "height": null,
            "justify_content": null,
            "justify_items": null,
            "left": null,
            "margin": null,
            "max_height": null,
            "max_width": null,
            "min_height": null,
            "min_width": null,
            "object_fit": null,
            "object_position": null,
            "order": null,
            "overflow": null,
            "overflow_x": null,
            "overflow_y": null,
            "padding": null,
            "right": null,
            "top": null,
            "visibility": null,
            "width": null
          }
        },
        "a22eb17057d54299a93c9c02840f3fb1": {
          "model_module": "@jupyter-widgets/controls",
          "model_name": "DescriptionStyleModel",
          "model_module_version": "1.5.0",
          "state": {
            "_model_module": "@jupyter-widgets/controls",
            "_model_module_version": "1.5.0",
            "_model_name": "DescriptionStyleModel",
            "_view_count": null,
            "_view_module": "@jupyter-widgets/base",
            "_view_module_version": "1.2.0",
            "_view_name": "StyleView",
            "description_width": ""
          }
        },
        "95d7235165fe4a6dae847abefb060c20": {
          "model_module": "@jupyter-widgets/base",
          "model_name": "LayoutModel",
          "model_module_version": "1.2.0",
          "state": {
            "_model_module": "@jupyter-widgets/base",
            "_model_module_version": "1.2.0",
            "_model_name": "LayoutModel",
            "_view_count": null,
            "_view_module": "@jupyter-widgets/base",
            "_view_module_version": "1.2.0",
            "_view_name": "LayoutView",
            "align_content": null,
            "align_items": null,
            "align_self": null,
            "border": null,
            "bottom": null,
            "display": null,
            "flex": null,
            "flex_flow": null,
            "grid_area": null,
            "grid_auto_columns": null,
            "grid_auto_flow": null,
            "grid_auto_rows": null,
            "grid_column": null,
            "grid_gap": null,
            "grid_row": null,
            "grid_template_areas": null,
            "grid_template_columns": null,
            "grid_template_rows": null,
            "height": null,
            "justify_content": null,
            "justify_items": null,
            "left": null,
            "margin": null,
            "max_height": null,
            "max_width": null,
            "min_height": null,
            "min_width": null,
            "object_fit": null,
            "object_position": null,
            "order": null,
            "overflow": null,
            "overflow_x": null,
            "overflow_y": null,
            "padding": null,
            "right": null,
            "top": null,
            "visibility": null,
            "width": null
          }
        },
        "74b2d0468c1e41b68435caa0336ad5d8": {
          "model_module": "@jupyter-widgets/controls",
          "model_name": "ProgressStyleModel",
          "model_module_version": "1.5.0",
          "state": {
            "_model_module": "@jupyter-widgets/controls",
            "_model_module_version": "1.5.0",
            "_model_name": "ProgressStyleModel",
            "_view_count": null,
            "_view_module": "@jupyter-widgets/base",
            "_view_module_version": "1.2.0",
            "_view_name": "StyleView",
            "bar_color": null,
            "description_width": ""
          }
        },
        "b835d1eb6f7a4ceda2f7981a9418452c": {
          "model_module": "@jupyter-widgets/base",
          "model_name": "LayoutModel",
          "model_module_version": "1.2.0",
          "state": {
            "_model_module": "@jupyter-widgets/base",
            "_model_module_version": "1.2.0",
            "_model_name": "LayoutModel",
            "_view_count": null,
            "_view_module": "@jupyter-widgets/base",
            "_view_module_version": "1.2.0",
            "_view_name": "LayoutView",
            "align_content": null,
            "align_items": null,
            "align_self": null,
            "border": null,
            "bottom": null,
            "display": null,
            "flex": null,
            "flex_flow": null,
            "grid_area": null,
            "grid_auto_columns": null,
            "grid_auto_flow": null,
            "grid_auto_rows": null,
            "grid_column": null,
            "grid_gap": null,
            "grid_row": null,
            "grid_template_areas": null,
            "grid_template_columns": null,
            "grid_template_rows": null,
            "height": null,
            "justify_content": null,
            "justify_items": null,
            "left": null,
            "margin": null,
            "max_height": null,
            "max_width": null,
            "min_height": null,
            "min_width": null,
            "object_fit": null,
            "object_position": null,
            "order": null,
            "overflow": null,
            "overflow_x": null,
            "overflow_y": null,
            "padding": null,
            "right": null,
            "top": null,
            "visibility": null,
            "width": null
          }
        },
        "abfd07fb3bb74775a430348180ff8786": {
          "model_module": "@jupyter-widgets/controls",
          "model_name": "DescriptionStyleModel",
          "model_module_version": "1.5.0",
          "state": {
            "_model_module": "@jupyter-widgets/controls",
            "_model_module_version": "1.5.0",
            "_model_name": "DescriptionStyleModel",
            "_view_count": null,
            "_view_module": "@jupyter-widgets/base",
            "_view_module_version": "1.2.0",
            "_view_name": "StyleView",
            "description_width": ""
          }
        },
        "9ca42d1e3ea448efabfd8baa2688adc9": {
          "model_module": "@jupyter-widgets/controls",
          "model_name": "HBoxModel",
          "model_module_version": "1.5.0",
          "state": {
            "_dom_classes": [],
            "_model_module": "@jupyter-widgets/controls",
            "_model_module_version": "1.5.0",
            "_model_name": "HBoxModel",
            "_view_count": null,
            "_view_module": "@jupyter-widgets/controls",
            "_view_module_version": "1.5.0",
            "_view_name": "HBoxView",
            "box_style": "",
            "children": [
              "IPY_MODEL_6aea7976d29a4fb4aa9e4c37663ac22a",
              "IPY_MODEL_6e82d4de92364a33ab35f05b72e87f29",
              "IPY_MODEL_4a1d6df6fe7c477d989475e2f37f7fcb"
            ],
            "layout": "IPY_MODEL_570b3fcb2bbb4c0da0dfdaf4ff093207"
          }
        },
        "6aea7976d29a4fb4aa9e4c37663ac22a": {
          "model_module": "@jupyter-widgets/controls",
          "model_name": "HTMLModel",
          "model_module_version": "1.5.0",
          "state": {
            "_dom_classes": [],
            "_model_module": "@jupyter-widgets/controls",
            "_model_module_version": "1.5.0",
            "_model_name": "HTMLModel",
            "_view_count": null,
            "_view_module": "@jupyter-widgets/controls",
            "_view_module_version": "1.5.0",
            "_view_name": "HTMLView",
            "description": "",
            "description_tooltip": null,
            "layout": "IPY_MODEL_78f6de83cb004a2e913f4ef0f2e7d6fd",
            "placeholder": "​",
            "style": "IPY_MODEL_280d35eb422f4f19aa4ba1ae0cce0766",
            "value": "Generating train split: 100%"
          }
        },
        "6e82d4de92364a33ab35f05b72e87f29": {
          "model_module": "@jupyter-widgets/controls",
          "model_name": "FloatProgressModel",
          "model_module_version": "1.5.0",
          "state": {
            "_dom_classes": [],
            "_model_module": "@jupyter-widgets/controls",
            "_model_module_version": "1.5.0",
            "_model_name": "FloatProgressModel",
            "_view_count": null,
            "_view_module": "@jupyter-widgets/controls",
            "_view_module_version": "1.5.0",
            "_view_name": "ProgressView",
            "bar_style": "success",
            "description": "",
            "description_tooltip": null,
            "layout": "IPY_MODEL_7fba67b93ba84ec58bcf46489e339f87",
            "max": 9335,
            "min": 0,
            "orientation": "horizontal",
            "style": "IPY_MODEL_07da54d9a019443481d08e1bbf7d105f",
            "value": 9335
          }
        },
        "4a1d6df6fe7c477d989475e2f37f7fcb": {
          "model_module": "@jupyter-widgets/controls",
          "model_name": "HTMLModel",
          "model_module_version": "1.5.0",
          "state": {
            "_dom_classes": [],
            "_model_module": "@jupyter-widgets/controls",
            "_model_module_version": "1.5.0",
            "_model_name": "HTMLModel",
            "_view_count": null,
            "_view_module": "@jupyter-widgets/controls",
            "_view_module_version": "1.5.0",
            "_view_name": "HTMLView",
            "description": "",
            "description_tooltip": null,
            "layout": "IPY_MODEL_e690215b531b47829a7c44c19a3d7b17",
            "placeholder": "​",
            "style": "IPY_MODEL_863a511b60174aec9df48b2aa2e0efe6",
            "value": " 9335/9335 [00:00&lt;00:00, 80958.90 examples/s]"
          }
        },
        "570b3fcb2bbb4c0da0dfdaf4ff093207": {
          "model_module": "@jupyter-widgets/base",
          "model_name": "LayoutModel",
          "model_module_version": "1.2.0",
          "state": {
            "_model_module": "@jupyter-widgets/base",
            "_model_module_version": "1.2.0",
            "_model_name": "LayoutModel",
            "_view_count": null,
            "_view_module": "@jupyter-widgets/base",
            "_view_module_version": "1.2.0",
            "_view_name": "LayoutView",
            "align_content": null,
            "align_items": null,
            "align_self": null,
            "border": null,
            "bottom": null,
            "display": null,
            "flex": null,
            "flex_flow": null,
            "grid_area": null,
            "grid_auto_columns": null,
            "grid_auto_flow": null,
            "grid_auto_rows": null,
            "grid_column": null,
            "grid_gap": null,
            "grid_row": null,
            "grid_template_areas": null,
            "grid_template_columns": null,
            "grid_template_rows": null,
            "height": null,
            "justify_content": null,
            "justify_items": null,
            "left": null,
            "margin": null,
            "max_height": null,
            "max_width": null,
            "min_height": null,
            "min_width": null,
            "object_fit": null,
            "object_position": null,
            "order": null,
            "overflow": null,
            "overflow_x": null,
            "overflow_y": null,
            "padding": null,
            "right": null,
            "top": null,
            "visibility": null,
            "width": null
          }
        },
        "78f6de83cb004a2e913f4ef0f2e7d6fd": {
          "model_module": "@jupyter-widgets/base",
          "model_name": "LayoutModel",
          "model_module_version": "1.2.0",
          "state": {
            "_model_module": "@jupyter-widgets/base",
            "_model_module_version": "1.2.0",
            "_model_name": "LayoutModel",
            "_view_count": null,
            "_view_module": "@jupyter-widgets/base",
            "_view_module_version": "1.2.0",
            "_view_name": "LayoutView",
            "align_content": null,
            "align_items": null,
            "align_self": null,
            "border": null,
            "bottom": null,
            "display": null,
            "flex": null,
            "flex_flow": null,
            "grid_area": null,
            "grid_auto_columns": null,
            "grid_auto_flow": null,
            "grid_auto_rows": null,
            "grid_column": null,
            "grid_gap": null,
            "grid_row": null,
            "grid_template_areas": null,
            "grid_template_columns": null,
            "grid_template_rows": null,
            "height": null,
            "justify_content": null,
            "justify_items": null,
            "left": null,
            "margin": null,
            "max_height": null,
            "max_width": null,
            "min_height": null,
            "min_width": null,
            "object_fit": null,
            "object_position": null,
            "order": null,
            "overflow": null,
            "overflow_x": null,
            "overflow_y": null,
            "padding": null,
            "right": null,
            "top": null,
            "visibility": null,
            "width": null
          }
        },
        "280d35eb422f4f19aa4ba1ae0cce0766": {
          "model_module": "@jupyter-widgets/controls",
          "model_name": "DescriptionStyleModel",
          "model_module_version": "1.5.0",
          "state": {
            "_model_module": "@jupyter-widgets/controls",
            "_model_module_version": "1.5.0",
            "_model_name": "DescriptionStyleModel",
            "_view_count": null,
            "_view_module": "@jupyter-widgets/base",
            "_view_module_version": "1.2.0",
            "_view_name": "StyleView",
            "description_width": ""
          }
        },
        "7fba67b93ba84ec58bcf46489e339f87": {
          "model_module": "@jupyter-widgets/base",
          "model_name": "LayoutModel",
          "model_module_version": "1.2.0",
          "state": {
            "_model_module": "@jupyter-widgets/base",
            "_model_module_version": "1.2.0",
            "_model_name": "LayoutModel",
            "_view_count": null,
            "_view_module": "@jupyter-widgets/base",
            "_view_module_version": "1.2.0",
            "_view_name": "LayoutView",
            "align_content": null,
            "align_items": null,
            "align_self": null,
            "border": null,
            "bottom": null,
            "display": null,
            "flex": null,
            "flex_flow": null,
            "grid_area": null,
            "grid_auto_columns": null,
            "grid_auto_flow": null,
            "grid_auto_rows": null,
            "grid_column": null,
            "grid_gap": null,
            "grid_row": null,
            "grid_template_areas": null,
            "grid_template_columns": null,
            "grid_template_rows": null,
            "height": null,
            "justify_content": null,
            "justify_items": null,
            "left": null,
            "margin": null,
            "max_height": null,
            "max_width": null,
            "min_height": null,
            "min_width": null,
            "object_fit": null,
            "object_position": null,
            "order": null,
            "overflow": null,
            "overflow_x": null,
            "overflow_y": null,
            "padding": null,
            "right": null,
            "top": null,
            "visibility": null,
            "width": null
          }
        },
        "07da54d9a019443481d08e1bbf7d105f": {
          "model_module": "@jupyter-widgets/controls",
          "model_name": "ProgressStyleModel",
          "model_module_version": "1.5.0",
          "state": {
            "_model_module": "@jupyter-widgets/controls",
            "_model_module_version": "1.5.0",
            "_model_name": "ProgressStyleModel",
            "_view_count": null,
            "_view_module": "@jupyter-widgets/base",
            "_view_module_version": "1.2.0",
            "_view_name": "StyleView",
            "bar_color": null,
            "description_width": ""
          }
        },
        "e690215b531b47829a7c44c19a3d7b17": {
          "model_module": "@jupyter-widgets/base",
          "model_name": "LayoutModel",
          "model_module_version": "1.2.0",
          "state": {
            "_model_module": "@jupyter-widgets/base",
            "_model_module_version": "1.2.0",
            "_model_name": "LayoutModel",
            "_view_count": null,
            "_view_module": "@jupyter-widgets/base",
            "_view_module_version": "1.2.0",
            "_view_name": "LayoutView",
            "align_content": null,
            "align_items": null,
            "align_self": null,
            "border": null,
            "bottom": null,
            "display": null,
            "flex": null,
            "flex_flow": null,
            "grid_area": null,
            "grid_auto_columns": null,
            "grid_auto_flow": null,
            "grid_auto_rows": null,
            "grid_column": null,
            "grid_gap": null,
            "grid_row": null,
            "grid_template_areas": null,
            "grid_template_columns": null,
            "grid_template_rows": null,
            "height": null,
            "justify_content": null,
            "justify_items": null,
            "left": null,
            "margin": null,
            "max_height": null,
            "max_width": null,
            "min_height": null,
            "min_width": null,
            "object_fit": null,
            "object_position": null,
            "order": null,
            "overflow": null,
            "overflow_x": null,
            "overflow_y": null,
            "padding": null,
            "right": null,
            "top": null,
            "visibility": null,
            "width": null
          }
        },
        "863a511b60174aec9df48b2aa2e0efe6": {
          "model_module": "@jupyter-widgets/controls",
          "model_name": "DescriptionStyleModel",
          "model_module_version": "1.5.0",
          "state": {
            "_model_module": "@jupyter-widgets/controls",
            "_model_module_version": "1.5.0",
            "_model_name": "DescriptionStyleModel",
            "_view_count": null,
            "_view_module": "@jupyter-widgets/base",
            "_view_module_version": "1.2.0",
            "_view_name": "StyleView",
            "description_width": ""
          }
        }
      }
    },
    "accelerator": "GPU"
  },
  "cells": [
    {
      "cell_type": "markdown",
      "source": [
        "# Preparation"
      ],
      "metadata": {
        "id": "THhGm4R-6Bfl"
      }
    },
    {
      "cell_type": "markdown",
      "source": [
        "Packages"
      ],
      "metadata": {
        "id": "l_Z2zDh76HvB"
      }
    },
    {
      "cell_type": "code",
      "source": [
        "!pip install datasets"
      ],
      "metadata": {
        "collapsed": true,
        "colab": {
          "base_uri": "https://localhost:8080/"
        },
        "id": "Gma3GWaFkpmT",
        "outputId": "64574482-db71-496d-d788-c3c08ac62caf"
      },
      "execution_count": null,
      "outputs": [
        {
          "output_type": "stream",
          "name": "stdout",
          "text": [
            "Collecting datasets\n",
            "  Downloading datasets-3.6.0-py3-none-any.whl.metadata (19 kB)\n",
            "Requirement already satisfied: filelock in /usr/local/lib/python3.11/dist-packages (from datasets) (3.18.0)\n",
            "Requirement already satisfied: numpy>=1.17 in /usr/local/lib/python3.11/dist-packages (from datasets) (2.0.2)\n",
            "Requirement already satisfied: pyarrow>=15.0.0 in /usr/local/lib/python3.11/dist-packages (from datasets) (18.1.0)\n",
            "Collecting dill<0.3.9,>=0.3.0 (from datasets)\n",
            "  Downloading dill-0.3.8-py3-none-any.whl.metadata (10 kB)\n",
            "Requirement already satisfied: pandas in /usr/local/lib/python3.11/dist-packages (from datasets) (2.2.2)\n",
            "Requirement already satisfied: requests>=2.32.2 in /usr/local/lib/python3.11/dist-packages (from datasets) (2.32.3)\n",
            "Requirement already satisfied: tqdm>=4.66.3 in /usr/local/lib/python3.11/dist-packages (from datasets) (4.67.1)\n",
            "Collecting xxhash (from datasets)\n",
            "  Downloading xxhash-3.5.0-cp311-cp311-manylinux_2_17_x86_64.manylinux2014_x86_64.whl.metadata (12 kB)\n",
            "Collecting multiprocess<0.70.17 (from datasets)\n",
            "  Downloading multiprocess-0.70.16-py311-none-any.whl.metadata (7.2 kB)\n",
            "Collecting fsspec<=2025.3.0,>=2023.1.0 (from fsspec[http]<=2025.3.0,>=2023.1.0->datasets)\n",
            "  Downloading fsspec-2025.3.0-py3-none-any.whl.metadata (11 kB)\n",
            "Requirement already satisfied: huggingface-hub>=0.24.0 in /usr/local/lib/python3.11/dist-packages (from datasets) (0.30.2)\n",
            "Requirement already satisfied: packaging in /usr/local/lib/python3.11/dist-packages (from datasets) (24.2)\n",
            "Requirement already satisfied: pyyaml>=5.1 in /usr/local/lib/python3.11/dist-packages (from datasets) (6.0.2)\n",
            "Requirement already satisfied: aiohttp!=4.0.0a0,!=4.0.0a1 in /usr/local/lib/python3.11/dist-packages (from fsspec[http]<=2025.3.0,>=2023.1.0->datasets) (3.11.15)\n",
            "Requirement already satisfied: typing-extensions>=3.7.4.3 in /usr/local/lib/python3.11/dist-packages (from huggingface-hub>=0.24.0->datasets) (4.13.2)\n",
            "Requirement already satisfied: charset-normalizer<4,>=2 in /usr/local/lib/python3.11/dist-packages (from requests>=2.32.2->datasets) (3.4.1)\n",
            "Requirement already satisfied: idna<4,>=2.5 in /usr/local/lib/python3.11/dist-packages (from requests>=2.32.2->datasets) (3.10)\n",
            "Requirement already satisfied: urllib3<3,>=1.21.1 in /usr/local/lib/python3.11/dist-packages (from requests>=2.32.2->datasets) (2.4.0)\n",
            "Requirement already satisfied: certifi>=2017.4.17 in /usr/local/lib/python3.11/dist-packages (from requests>=2.32.2->datasets) (2025.4.26)\n",
            "Requirement already satisfied: python-dateutil>=2.8.2 in /usr/local/lib/python3.11/dist-packages (from pandas->datasets) (2.9.0.post0)\n",
            "Requirement already satisfied: pytz>=2020.1 in /usr/local/lib/python3.11/dist-packages (from pandas->datasets) (2025.2)\n",
            "Requirement already satisfied: tzdata>=2022.7 in /usr/local/lib/python3.11/dist-packages (from pandas->datasets) (2025.2)\n",
            "Requirement already satisfied: aiohappyeyeballs>=2.3.0 in /usr/local/lib/python3.11/dist-packages (from aiohttp!=4.0.0a0,!=4.0.0a1->fsspec[http]<=2025.3.0,>=2023.1.0->datasets) (2.6.1)\n",
            "Requirement already satisfied: aiosignal>=1.1.2 in /usr/local/lib/python3.11/dist-packages (from aiohttp!=4.0.0a0,!=4.0.0a1->fsspec[http]<=2025.3.0,>=2023.1.0->datasets) (1.3.2)\n",
            "Requirement already satisfied: attrs>=17.3.0 in /usr/local/lib/python3.11/dist-packages (from aiohttp!=4.0.0a0,!=4.0.0a1->fsspec[http]<=2025.3.0,>=2023.1.0->datasets) (25.3.0)\n",
            "Requirement already satisfied: frozenlist>=1.1.1 in /usr/local/lib/python3.11/dist-packages (from aiohttp!=4.0.0a0,!=4.0.0a1->fsspec[http]<=2025.3.0,>=2023.1.0->datasets) (1.6.0)\n",
            "Requirement already satisfied: multidict<7.0,>=4.5 in /usr/local/lib/python3.11/dist-packages (from aiohttp!=4.0.0a0,!=4.0.0a1->fsspec[http]<=2025.3.0,>=2023.1.0->datasets) (6.4.3)\n",
            "Requirement already satisfied: propcache>=0.2.0 in /usr/local/lib/python3.11/dist-packages (from aiohttp!=4.0.0a0,!=4.0.0a1->fsspec[http]<=2025.3.0,>=2023.1.0->datasets) (0.3.1)\n",
            "Requirement already satisfied: yarl<2.0,>=1.17.0 in /usr/local/lib/python3.11/dist-packages (from aiohttp!=4.0.0a0,!=4.0.0a1->fsspec[http]<=2025.3.0,>=2023.1.0->datasets) (1.20.0)\n",
            "Requirement already satisfied: six>=1.5 in /usr/local/lib/python3.11/dist-packages (from python-dateutil>=2.8.2->pandas->datasets) (1.17.0)\n",
            "Downloading datasets-3.6.0-py3-none-any.whl (491 kB)\n",
            "\u001b[2K   \u001b[90m━━━━━━━━━━━━━━━━━━━━━━━━━━━━━━━━━━━━━━━━\u001b[0m \u001b[32m491.5/491.5 kB\u001b[0m \u001b[31m9.6 MB/s\u001b[0m eta \u001b[36m0:00:00\u001b[0m\n",
            "\u001b[?25hDownloading dill-0.3.8-py3-none-any.whl (116 kB)\n",
            "\u001b[2K   \u001b[90m━━━━━━━━━━━━━━━━━━━━━━━━━━━━━━━━━━━━━━━━\u001b[0m \u001b[32m116.3/116.3 kB\u001b[0m \u001b[31m8.5 MB/s\u001b[0m eta \u001b[36m0:00:00\u001b[0m\n",
            "\u001b[?25hDownloading fsspec-2025.3.0-py3-none-any.whl (193 kB)\n",
            "\u001b[2K   \u001b[90m━━━━━━━━━━━━━━━━━━━━━━━━━━━━━━━━━━━━━━━━\u001b[0m \u001b[32m193.6/193.6 kB\u001b[0m \u001b[31m14.6 MB/s\u001b[0m eta \u001b[36m0:00:00\u001b[0m\n",
            "\u001b[?25hDownloading multiprocess-0.70.16-py311-none-any.whl (143 kB)\n",
            "\u001b[2K   \u001b[90m━━━━━━━━━━━━━━━━━━━━━━━━━━━━━━━━━━━━━━━━\u001b[0m \u001b[32m143.5/143.5 kB\u001b[0m \u001b[31m9.7 MB/s\u001b[0m eta \u001b[36m0:00:00\u001b[0m\n",
            "\u001b[?25hDownloading xxhash-3.5.0-cp311-cp311-manylinux_2_17_x86_64.manylinux2014_x86_64.whl (194 kB)\n",
            "\u001b[2K   \u001b[90m━━━━━━━━━━━━━━━━━━━━━━━━━━━━━━━━━━━━━━━━\u001b[0m \u001b[32m194.8/194.8 kB\u001b[0m \u001b[31m14.3 MB/s\u001b[0m eta \u001b[36m0:00:00\u001b[0m\n",
            "\u001b[?25hInstalling collected packages: xxhash, fsspec, dill, multiprocess, datasets\n",
            "  Attempting uninstall: fsspec\n",
            "    Found existing installation: fsspec 2025.3.2\n",
            "    Uninstalling fsspec-2025.3.2:\n",
            "      Successfully uninstalled fsspec-2025.3.2\n",
            "\u001b[31mERROR: pip's dependency resolver does not currently take into account all the packages that are installed. This behaviour is the source of the following dependency conflicts.\n",
            "torch 2.6.0+cu124 requires nvidia-cublas-cu12==12.4.5.8; platform_system == \"Linux\" and platform_machine == \"x86_64\", but you have nvidia-cublas-cu12 12.5.3.2 which is incompatible.\n",
            "torch 2.6.0+cu124 requires nvidia-cuda-cupti-cu12==12.4.127; platform_system == \"Linux\" and platform_machine == \"x86_64\", but you have nvidia-cuda-cupti-cu12 12.5.82 which is incompatible.\n",
            "torch 2.6.0+cu124 requires nvidia-cuda-nvrtc-cu12==12.4.127; platform_system == \"Linux\" and platform_machine == \"x86_64\", but you have nvidia-cuda-nvrtc-cu12 12.5.82 which is incompatible.\n",
            "torch 2.6.0+cu124 requires nvidia-cuda-runtime-cu12==12.4.127; platform_system == \"Linux\" and platform_machine == \"x86_64\", but you have nvidia-cuda-runtime-cu12 12.5.82 which is incompatible.\n",
            "torch 2.6.0+cu124 requires nvidia-cudnn-cu12==9.1.0.70; platform_system == \"Linux\" and platform_machine == \"x86_64\", but you have nvidia-cudnn-cu12 9.3.0.75 which is incompatible.\n",
            "torch 2.6.0+cu124 requires nvidia-cufft-cu12==11.2.1.3; platform_system == \"Linux\" and platform_machine == \"x86_64\", but you have nvidia-cufft-cu12 11.2.3.61 which is incompatible.\n",
            "torch 2.6.0+cu124 requires nvidia-curand-cu12==10.3.5.147; platform_system == \"Linux\" and platform_machine == \"x86_64\", but you have nvidia-curand-cu12 10.3.6.82 which is incompatible.\n",
            "torch 2.6.0+cu124 requires nvidia-cusolver-cu12==11.6.1.9; platform_system == \"Linux\" and platform_machine == \"x86_64\", but you have nvidia-cusolver-cu12 11.6.3.83 which is incompatible.\n",
            "torch 2.6.0+cu124 requires nvidia-cusparse-cu12==12.3.1.170; platform_system == \"Linux\" and platform_machine == \"x86_64\", but you have nvidia-cusparse-cu12 12.5.1.3 which is incompatible.\n",
            "torch 2.6.0+cu124 requires nvidia-nvjitlink-cu12==12.4.127; platform_system == \"Linux\" and platform_machine == \"x86_64\", but you have nvidia-nvjitlink-cu12 12.5.82 which is incompatible.\n",
            "gcsfs 2025.3.2 requires fsspec==2025.3.2, but you have fsspec 2025.3.0 which is incompatible.\u001b[0m\u001b[31m\n",
            "\u001b[0mSuccessfully installed datasets-3.6.0 dill-0.3.8 fsspec-2025.3.0 multiprocess-0.70.16 xxhash-3.5.0\n"
          ]
        }
      ]
    },
    {
      "cell_type": "code",
      "source": [
        "import pandas as pd\n",
        "from datasets import load_dataset\n",
        "from sklearn.model_selection import train_test_split"
      ],
      "metadata": {
        "id": "8rhHY-RV6EgF"
      },
      "execution_count": null,
      "outputs": []
    },
    {
      "cell_type": "markdown",
      "source": [
        "Load dataset"
      ],
      "metadata": {
        "id": "hiqp5AIE7jQl"
      }
    },
    {
      "cell_type": "code",
      "execution_count": null,
      "metadata": {
        "id": "wtZqJE1zj-J4"
      },
      "outputs": [],
      "source": [
        "'''\n",
        "dataset link\n",
        "https://huggingface.co/datasets/hungnm/vietnamese-medical-qa\n",
        "\n",
        "'''"
      ]
    },
    {
      "cell_type": "code",
      "source": [
        "from google.colab import drive\n",
        "drive.mount('/content/drive')"
      ],
      "metadata": {
        "colab": {
          "base_uri": "https://localhost:8080/"
        },
        "id": "Tv0ictN59LQg",
        "outputId": "d37f4cf2-5844-41da-83f7-08933d6fc00a"
      },
      "execution_count": 3,
      "outputs": [
        {
          "output_type": "stream",
          "name": "stdout",
          "text": [
            "Mounted at /content/drive\n"
          ]
        }
      ]
    },
    {
      "cell_type": "code",
      "source": [
        "ds = load_dataset(\"hungnm/vietnamese-medical-qa\")"
      ],
      "metadata": {
        "id": "AOJiqgum7krJ",
        "colab": {
          "base_uri": "https://localhost:8080/",
          "height": 220,
          "referenced_widgets": [
            "fd05011f69f04823b0a808f666874b16",
            "fa8c95b996e143feb4128d54ac23fa56",
            "4ed94d4cae5748148554326edf90a692",
            "cb7ee60f1fc8482c977ed1a62b726e03",
            "78604b926e4c4ee99c729578d252e3cb",
            "347d267b56514461a40b52088cef94ea",
            "3a2fbf0475564534a8f847abfc893a09",
            "438030a8a5864ad6968cd307c1e1b368",
            "b4919a4bd10d47669e19a67421a3ab28",
            "1e26978e0d3a41b1bacbaa401f76964f",
            "00bae26847d54152808721d0c45dd26a",
            "1a0ddd6d4b3c472f886083f7476c93bf",
            "926feafb89664e91aff69e802507fce6",
            "3cb97668045d4f39b3b9bdd929106393",
            "ce70e8c9beda4733a2c5188f7050b500",
            "f59236bccaf946a1b0ca24ba2f460a80",
            "62ce0d9772f94781919e9aa7d48314be",
            "a22eb17057d54299a93c9c02840f3fb1",
            "95d7235165fe4a6dae847abefb060c20",
            "74b2d0468c1e41b68435caa0336ad5d8",
            "b835d1eb6f7a4ceda2f7981a9418452c",
            "abfd07fb3bb74775a430348180ff8786",
            "9ca42d1e3ea448efabfd8baa2688adc9",
            "6aea7976d29a4fb4aa9e4c37663ac22a",
            "6e82d4de92364a33ab35f05b72e87f29",
            "4a1d6df6fe7c477d989475e2f37f7fcb",
            "570b3fcb2bbb4c0da0dfdaf4ff093207",
            "78f6de83cb004a2e913f4ef0f2e7d6fd",
            "280d35eb422f4f19aa4ba1ae0cce0766",
            "7fba67b93ba84ec58bcf46489e339f87",
            "07da54d9a019443481d08e1bbf7d105f",
            "e690215b531b47829a7c44c19a3d7b17",
            "863a511b60174aec9df48b2aa2e0efe6"
          ]
        },
        "outputId": "b56b4033-336c-4ed4-8cd7-73f3ad9aa2f1"
      },
      "execution_count": null,
      "outputs": [
        {
          "output_type": "stream",
          "name": "stderr",
          "text": [
            "/usr/local/lib/python3.11/dist-packages/huggingface_hub/utils/_auth.py:94: UserWarning: \n",
            "The secret `HF_TOKEN` does not exist in your Colab secrets.\n",
            "To authenticate with the Hugging Face Hub, create a token in your settings tab (https://huggingface.co/settings/tokens), set it as secret in your Google Colab and restart your session.\n",
            "You will be able to reuse this secret in all of your notebooks.\n",
            "Please note that authentication is recommended but still optional to access public models or datasets.\n",
            "  warnings.warn(\n"
          ]
        },
        {
          "output_type": "display_data",
          "data": {
            "text/plain": [
              "README.md:   0%|          | 0.00/2.46k [00:00<?, ?B/s]"
            ],
            "application/vnd.jupyter.widget-view+json": {
              "version_major": 2,
              "version_minor": 0,
              "model_id": "fd05011f69f04823b0a808f666874b16"
            }
          },
          "metadata": {}
        },
        {
          "output_type": "display_data",
          "data": {
            "text/plain": [
              "train-00000-of-00001.parquet:   0%|          | 0.00/5.29M [00:00<?, ?B/s]"
            ],
            "application/vnd.jupyter.widget-view+json": {
              "version_major": 2,
              "version_minor": 0,
              "model_id": "1a0ddd6d4b3c472f886083f7476c93bf"
            }
          },
          "metadata": {}
        },
        {
          "output_type": "display_data",
          "data": {
            "text/plain": [
              "Generating train split:   0%|          | 0/9335 [00:00<?, ? examples/s]"
            ],
            "application/vnd.jupyter.widget-view+json": {
              "version_major": 2,
              "version_minor": 0,
              "model_id": "9ca42d1e3ea448efabfd8baa2688adc9"
            }
          },
          "metadata": {}
        }
      ]
    },
    {
      "cell_type": "code",
      "source": [
        "# print a QA example\n",
        "print(ds['train'][0])"
      ],
      "metadata": {
        "colab": {
          "base_uri": "https://localhost:8080/"
        },
        "id": "thWvyUwKxCnq",
        "outputId": "2d46a9a3-7fec-4914-b250-09951fb11f1a"
      },
      "execution_count": null,
      "outputs": [
        {
          "output_type": "stream",
          "name": "stdout",
          "text": [
            "{'answer': 'Chào bạn,\\nĐể trả lời câu hỏi trên, bác sĩ xin giải đáp như sau:\\nRăng bạn hiện tại có mủ dưới lợi gây đau nhức nhiều. Bạn có thể đến phòng khám răng hàm mặt bệnh viện để được thăm khám, chụp phim và tư vấn cho bạn được chính xác\\nTrân trọng!', 'question': 'Chào bác sĩ,\\nRăng cháu hiện tại có mủ ở dưới lợi nhưng khi đau cháu sẽ không ngủ được (quá đau). Tuy nhiên chỉ vài ngày là hết mà thỉnh thoảng nó lại bị đau. Chị cháu bảo là trước chị cháu cũng bị như vậy chỉ là đau răng tuổi dậy thì thôi. Bác sĩ cho cháu hỏi đau răng kèm có mủ dưới lợi là bệnh gì? Cháu có cần đi chữa trị không? Cháu cảm ơn.'}\n"
          ]
        }
      ]
    },
    {
      "cell_type": "code",
      "source": [
        "ds"
      ],
      "metadata": {
        "colab": {
          "base_uri": "https://localhost:8080/"
        },
        "id": "OEKIRA3FyjQQ",
        "outputId": "584d1af8-d315-45d0-ed4d-15d0c89640b1"
      },
      "execution_count": null,
      "outputs": [
        {
          "output_type": "execute_result",
          "data": {
            "text/plain": [
              "DatasetDict({\n",
              "    train: Dataset({\n",
              "        features: ['answer', 'question'],\n",
              "        num_rows: 9335\n",
              "    })\n",
              "})"
            ]
          },
          "metadata": {},
          "execution_count": 15
        }
      ]
    },
    {
      "cell_type": "code",
      "source": [
        "print(ds.keys())"
      ],
      "metadata": {
        "colab": {
          "base_uri": "https://localhost:8080/"
        },
        "id": "dSFi2BAHxthj",
        "outputId": "dc3a73fa-3fa0-4f6c-b159-ec36af8370aa"
      },
      "execution_count": null,
      "outputs": [
        {
          "output_type": "stream",
          "name": "stdout",
          "text": [
            "dict_keys(['train'])\n"
          ]
        }
      ]
    },
    {
      "cell_type": "code",
      "source": [
        "# convert to pandas for easier inspection\n",
        "df = ds['train'].to_pandas()"
      ],
      "metadata": {
        "id": "vX4jRuqTxKeU"
      },
      "execution_count": null,
      "outputs": []
    },
    {
      "cell_type": "markdown",
      "source": [
        "Connect to drive to save dataset for next progresses"
      ],
      "metadata": {
        "id": "mhSOcPjY9Fwo"
      }
    },
    {
      "cell_type": "code",
      "source": [
        "# save data into drive\n",
        "data_path = \"/content/drive/MyDrive/NLP/Final/dataset/medical_qa_vn.csv\"\n",
        "df.to_csv(data_path, index=False)\n",
        "\n",
        "print(\"Save dataset to drive successfully!!!\")"
      ],
      "metadata": {
        "colab": {
          "base_uri": "https://localhost:8080/"
        },
        "id": "47TpJogI9TKZ",
        "outputId": "c98f00eb-7482-49cf-a353-662d71c591ff"
      },
      "execution_count": null,
      "outputs": [
        {
          "output_type": "stream",
          "name": "stdout",
          "text": [
            "Save dataset to drive successfully!!!\n"
          ]
        }
      ]
    },
    {
      "cell_type": "markdown",
      "source": [
        "Explore data\n",
        "\n",
        "\n"
      ],
      "metadata": {
        "id": "oBCJAOKt7ut6"
      }
    },
    {
      "cell_type": "code",
      "source": [
        "# basic information\n",
        "print(\"Dataset Info:\")\n",
        "print(df.info())"
      ],
      "metadata": {
        "colab": {
          "base_uri": "https://localhost:8080/"
        },
        "id": "6xRjqjrwxVmR",
        "outputId": "37ca5a40-85d4-42f9-d661-832396e2bfb0"
      },
      "execution_count": null,
      "outputs": [
        {
          "output_type": "stream",
          "name": "stdout",
          "text": [
            "Dataset Info:\n",
            "<class 'pandas.core.frame.DataFrame'>\n",
            "RangeIndex: 9335 entries, 0 to 9334\n",
            "Data columns (total 2 columns):\n",
            " #   Column    Non-Null Count  Dtype \n",
            "---  ------    --------------  ----- \n",
            " 0   answer    9335 non-null   object\n",
            " 1   question  9335 non-null   object\n",
            "dtypes: object(2)\n",
            "memory usage: 146.0+ KB\n",
            "None\n"
          ]
        }
      ]
    },
    {
      "cell_type": "code",
      "source": [
        "df.shape"
      ],
      "metadata": {
        "colab": {
          "base_uri": "https://localhost:8080/"
        },
        "id": "yEvjqk_6xdPH",
        "outputId": "7dd0d0a2-353e-45ff-ba92-62e580af051a"
      },
      "execution_count": null,
      "outputs": [
        {
          "output_type": "execute_result",
          "data": {
            "text/plain": [
              "(9335, 2)"
            ]
          },
          "metadata": {},
          "execution_count": 20
        }
      ]
    },
    {
      "cell_type": "code",
      "source": [
        "df.head()"
      ],
      "metadata": {
        "colab": {
          "base_uri": "https://localhost:8080/",
          "height": 206
        },
        "id": "35Wk2er7xfRT",
        "outputId": "1f1e7713-9885-4974-f7c3-3d8d8be4159b"
      },
      "execution_count": null,
      "outputs": [
        {
          "output_type": "execute_result",
          "data": {
            "text/plain": [
              "                                              answer  \\\n",
              "0  Chào bạn,\\nĐể trả lời câu hỏi trên, bác sĩ xin...   \n",
              "1  Chào bạn,\\nĐể trả lời câu hỏi trên, bác sĩ xin...   \n",
              "2  Chào bạn,\\nĐể trả lời câu hỏi trên, bác sĩ xin...   \n",
              "3  Chào bạn,\\nĐể trả lời câu hỏi trên, bác sĩ xin...   \n",
              "4  Chào bạn,\\nĐể trả lời câu hỏi trên, bác sĩ xin...   \n",
              "\n",
              "                                            question  \n",
              "0  Chào bác sĩ,\\nRăng cháu hiện tại có mủ ở dưới ...  \n",
              "1  Chào bác sĩ,\\nEm thấy mặt dưới, phía cuống lưỡ...  \n",
              "2  Chào bác sĩ,\\nTừ tháng 4/2020, em mới xuất hiệ...  \n",
              "3  Chào bác sĩ,\\nDạo gần đây, mỗi tối ngủ con hay...  \n",
              "4  Chào bác sĩ,\\nEm bị tăng tiết mồ hôi, nhất là ...  "
            ],
            "text/html": [
              "\n",
              "  <div id=\"df-1b074fb2-22e4-4cf8-905b-f74626f043c1\" class=\"colab-df-container\">\n",
              "    <div>\n",
              "<style scoped>\n",
              "    .dataframe tbody tr th:only-of-type {\n",
              "        vertical-align: middle;\n",
              "    }\n",
              "\n",
              "    .dataframe tbody tr th {\n",
              "        vertical-align: top;\n",
              "    }\n",
              "\n",
              "    .dataframe thead th {\n",
              "        text-align: right;\n",
              "    }\n",
              "</style>\n",
              "<table border=\"1\" class=\"dataframe\">\n",
              "  <thead>\n",
              "    <tr style=\"text-align: right;\">\n",
              "      <th></th>\n",
              "      <th>answer</th>\n",
              "      <th>question</th>\n",
              "    </tr>\n",
              "  </thead>\n",
              "  <tbody>\n",
              "    <tr>\n",
              "      <th>0</th>\n",
              "      <td>Chào bạn,\\nĐể trả lời câu hỏi trên, bác sĩ xin...</td>\n",
              "      <td>Chào bác sĩ,\\nRăng cháu hiện tại có mủ ở dưới ...</td>\n",
              "    </tr>\n",
              "    <tr>\n",
              "      <th>1</th>\n",
              "      <td>Chào bạn,\\nĐể trả lời câu hỏi trên, bác sĩ xin...</td>\n",
              "      <td>Chào bác sĩ,\\nEm thấy mặt dưới, phía cuống lưỡ...</td>\n",
              "    </tr>\n",
              "    <tr>\n",
              "      <th>2</th>\n",
              "      <td>Chào bạn,\\nĐể trả lời câu hỏi trên, bác sĩ xin...</td>\n",
              "      <td>Chào bác sĩ,\\nTừ tháng 4/2020, em mới xuất hiệ...</td>\n",
              "    </tr>\n",
              "    <tr>\n",
              "      <th>3</th>\n",
              "      <td>Chào bạn,\\nĐể trả lời câu hỏi trên, bác sĩ xin...</td>\n",
              "      <td>Chào bác sĩ,\\nDạo gần đây, mỗi tối ngủ con hay...</td>\n",
              "    </tr>\n",
              "    <tr>\n",
              "      <th>4</th>\n",
              "      <td>Chào bạn,\\nĐể trả lời câu hỏi trên, bác sĩ xin...</td>\n",
              "      <td>Chào bác sĩ,\\nEm bị tăng tiết mồ hôi, nhất là ...</td>\n",
              "    </tr>\n",
              "  </tbody>\n",
              "</table>\n",
              "</div>\n",
              "    <div class=\"colab-df-buttons\">\n",
              "\n",
              "  <div class=\"colab-df-container\">\n",
              "    <button class=\"colab-df-convert\" onclick=\"convertToInteractive('df-1b074fb2-22e4-4cf8-905b-f74626f043c1')\"\n",
              "            title=\"Convert this dataframe to an interactive table.\"\n",
              "            style=\"display:none;\">\n",
              "\n",
              "  <svg xmlns=\"http://www.w3.org/2000/svg\" height=\"24px\" viewBox=\"0 -960 960 960\">\n",
              "    <path d=\"M120-120v-720h720v720H120Zm60-500h600v-160H180v160Zm220 220h160v-160H400v160Zm0 220h160v-160H400v160ZM180-400h160v-160H180v160Zm440 0h160v-160H620v160ZM180-180h160v-160H180v160Zm440 0h160v-160H620v160Z\"/>\n",
              "  </svg>\n",
              "    </button>\n",
              "\n",
              "  <style>\n",
              "    .colab-df-container {\n",
              "      display:flex;\n",
              "      gap: 12px;\n",
              "    }\n",
              "\n",
              "    .colab-df-convert {\n",
              "      background-color: #E8F0FE;\n",
              "      border: none;\n",
              "      border-radius: 50%;\n",
              "      cursor: pointer;\n",
              "      display: none;\n",
              "      fill: #1967D2;\n",
              "      height: 32px;\n",
              "      padding: 0 0 0 0;\n",
              "      width: 32px;\n",
              "    }\n",
              "\n",
              "    .colab-df-convert:hover {\n",
              "      background-color: #E2EBFA;\n",
              "      box-shadow: 0px 1px 2px rgba(60, 64, 67, 0.3), 0px 1px 3px 1px rgba(60, 64, 67, 0.15);\n",
              "      fill: #174EA6;\n",
              "    }\n",
              "\n",
              "    .colab-df-buttons div {\n",
              "      margin-bottom: 4px;\n",
              "    }\n",
              "\n",
              "    [theme=dark] .colab-df-convert {\n",
              "      background-color: #3B4455;\n",
              "      fill: #D2E3FC;\n",
              "    }\n",
              "\n",
              "    [theme=dark] .colab-df-convert:hover {\n",
              "      background-color: #434B5C;\n",
              "      box-shadow: 0px 1px 3px 1px rgba(0, 0, 0, 0.15);\n",
              "      filter: drop-shadow(0px 1px 2px rgba(0, 0, 0, 0.3));\n",
              "      fill: #FFFFFF;\n",
              "    }\n",
              "  </style>\n",
              "\n",
              "    <script>\n",
              "      const buttonEl =\n",
              "        document.querySelector('#df-1b074fb2-22e4-4cf8-905b-f74626f043c1 button.colab-df-convert');\n",
              "      buttonEl.style.display =\n",
              "        google.colab.kernel.accessAllowed ? 'block' : 'none';\n",
              "\n",
              "      async function convertToInteractive(key) {\n",
              "        const element = document.querySelector('#df-1b074fb2-22e4-4cf8-905b-f74626f043c1');\n",
              "        const dataTable =\n",
              "          await google.colab.kernel.invokeFunction('convertToInteractive',\n",
              "                                                    [key], {});\n",
              "        if (!dataTable) return;\n",
              "\n",
              "        const docLinkHtml = 'Like what you see? Visit the ' +\n",
              "          '<a target=\"_blank\" href=https://colab.research.google.com/notebooks/data_table.ipynb>data table notebook</a>'\n",
              "          + ' to learn more about interactive tables.';\n",
              "        element.innerHTML = '';\n",
              "        dataTable['output_type'] = 'display_data';\n",
              "        await google.colab.output.renderOutput(dataTable, element);\n",
              "        const docLink = document.createElement('div');\n",
              "        docLink.innerHTML = docLinkHtml;\n",
              "        element.appendChild(docLink);\n",
              "      }\n",
              "    </script>\n",
              "  </div>\n",
              "\n",
              "\n",
              "    <div id=\"df-5f353ea0-2736-41f5-a370-18d8bf396b95\">\n",
              "      <button class=\"colab-df-quickchart\" onclick=\"quickchart('df-5f353ea0-2736-41f5-a370-18d8bf396b95')\"\n",
              "                title=\"Suggest charts\"\n",
              "                style=\"display:none;\">\n",
              "\n",
              "<svg xmlns=\"http://www.w3.org/2000/svg\" height=\"24px\"viewBox=\"0 0 24 24\"\n",
              "     width=\"24px\">\n",
              "    <g>\n",
              "        <path d=\"M19 3H5c-1.1 0-2 .9-2 2v14c0 1.1.9 2 2 2h14c1.1 0 2-.9 2-2V5c0-1.1-.9-2-2-2zM9 17H7v-7h2v7zm4 0h-2V7h2v10zm4 0h-2v-4h2v4z\"/>\n",
              "    </g>\n",
              "</svg>\n",
              "      </button>\n",
              "\n",
              "<style>\n",
              "  .colab-df-quickchart {\n",
              "      --bg-color: #E8F0FE;\n",
              "      --fill-color: #1967D2;\n",
              "      --hover-bg-color: #E2EBFA;\n",
              "      --hover-fill-color: #174EA6;\n",
              "      --disabled-fill-color: #AAA;\n",
              "      --disabled-bg-color: #DDD;\n",
              "  }\n",
              "\n",
              "  [theme=dark] .colab-df-quickchart {\n",
              "      --bg-color: #3B4455;\n",
              "      --fill-color: #D2E3FC;\n",
              "      --hover-bg-color: #434B5C;\n",
              "      --hover-fill-color: #FFFFFF;\n",
              "      --disabled-bg-color: #3B4455;\n",
              "      --disabled-fill-color: #666;\n",
              "  }\n",
              "\n",
              "  .colab-df-quickchart {\n",
              "    background-color: var(--bg-color);\n",
              "    border: none;\n",
              "    border-radius: 50%;\n",
              "    cursor: pointer;\n",
              "    display: none;\n",
              "    fill: var(--fill-color);\n",
              "    height: 32px;\n",
              "    padding: 0;\n",
              "    width: 32px;\n",
              "  }\n",
              "\n",
              "  .colab-df-quickchart:hover {\n",
              "    background-color: var(--hover-bg-color);\n",
              "    box-shadow: 0 1px 2px rgba(60, 64, 67, 0.3), 0 1px 3px 1px rgba(60, 64, 67, 0.15);\n",
              "    fill: var(--button-hover-fill-color);\n",
              "  }\n",
              "\n",
              "  .colab-df-quickchart-complete:disabled,\n",
              "  .colab-df-quickchart-complete:disabled:hover {\n",
              "    background-color: var(--disabled-bg-color);\n",
              "    fill: var(--disabled-fill-color);\n",
              "    box-shadow: none;\n",
              "  }\n",
              "\n",
              "  .colab-df-spinner {\n",
              "    border: 2px solid var(--fill-color);\n",
              "    border-color: transparent;\n",
              "    border-bottom-color: var(--fill-color);\n",
              "    animation:\n",
              "      spin 1s steps(1) infinite;\n",
              "  }\n",
              "\n",
              "  @keyframes spin {\n",
              "    0% {\n",
              "      border-color: transparent;\n",
              "      border-bottom-color: var(--fill-color);\n",
              "      border-left-color: var(--fill-color);\n",
              "    }\n",
              "    20% {\n",
              "      border-color: transparent;\n",
              "      border-left-color: var(--fill-color);\n",
              "      border-top-color: var(--fill-color);\n",
              "    }\n",
              "    30% {\n",
              "      border-color: transparent;\n",
              "      border-left-color: var(--fill-color);\n",
              "      border-top-color: var(--fill-color);\n",
              "      border-right-color: var(--fill-color);\n",
              "    }\n",
              "    40% {\n",
              "      border-color: transparent;\n",
              "      border-right-color: var(--fill-color);\n",
              "      border-top-color: var(--fill-color);\n",
              "    }\n",
              "    60% {\n",
              "      border-color: transparent;\n",
              "      border-right-color: var(--fill-color);\n",
              "    }\n",
              "    80% {\n",
              "      border-color: transparent;\n",
              "      border-right-color: var(--fill-color);\n",
              "      border-bottom-color: var(--fill-color);\n",
              "    }\n",
              "    90% {\n",
              "      border-color: transparent;\n",
              "      border-bottom-color: var(--fill-color);\n",
              "    }\n",
              "  }\n",
              "</style>\n",
              "\n",
              "      <script>\n",
              "        async function quickchart(key) {\n",
              "          const quickchartButtonEl =\n",
              "            document.querySelector('#' + key + ' button');\n",
              "          quickchartButtonEl.disabled = true;  // To prevent multiple clicks.\n",
              "          quickchartButtonEl.classList.add('colab-df-spinner');\n",
              "          try {\n",
              "            const charts = await google.colab.kernel.invokeFunction(\n",
              "                'suggestCharts', [key], {});\n",
              "          } catch (error) {\n",
              "            console.error('Error during call to suggestCharts:', error);\n",
              "          }\n",
              "          quickchartButtonEl.classList.remove('colab-df-spinner');\n",
              "          quickchartButtonEl.classList.add('colab-df-quickchart-complete');\n",
              "        }\n",
              "        (() => {\n",
              "          let quickchartButtonEl =\n",
              "            document.querySelector('#df-5f353ea0-2736-41f5-a370-18d8bf396b95 button');\n",
              "          quickchartButtonEl.style.display =\n",
              "            google.colab.kernel.accessAllowed ? 'block' : 'none';\n",
              "        })();\n",
              "      </script>\n",
              "    </div>\n",
              "\n",
              "    </div>\n",
              "  </div>\n"
            ],
            "application/vnd.google.colaboratory.intrinsic+json": {
              "type": "dataframe",
              "variable_name": "df",
              "summary": "{\n  \"name\": \"df\",\n  \"rows\": 9335,\n  \"fields\": [\n    {\n      \"column\": \"answer\",\n      \"properties\": {\n        \"dtype\": \"string\",\n        \"num_unique_values\": 9186,\n        \"samples\": [\n          \"Ch\\u00e0o b\\u1ea1n.\\nN\\u1ebfu b\\u1ea1n \\u0111\\u00e3 \\u0111i\\u1ec1u tr\\u1ecb nhi\\u1ebfm tr\\u00f9ng ti\\u1ec3u h\\u1ebft h\\u1eb5n th\\u00ec m\\u00ecnh kh\\u00f4ng \\u0111\\u1ec1 c\\u1eadp t\\u1edbi n\\u1eefa. m\\u00ecnh n\\u00f3i v\\u1ec1 d\\u00e0y th\\u00e0nh b\\u00e0ng quang nh\\u01b0 b\\u1ea1n h\\u1ecfi nha.\\nD\\u00e0y th\\u00e0nh b\\u00e0ng quang ch\\u1ec9 \\u0111\\u01b0\\u1ee3c ph\\u00e1t hi\\u1ec7n th\\u00f4ng qua si\\u00eau \\u00e2m, n\\u1ed9i soi; ng\\u01b0\\u1eddi b\\u1ec7nh kh\\u00f4ng th\\u1ec3 t\\u1ef1 nh\\u1eadn bi\\u1ebft \\u0111\\u01b0\\u1ee3c. Nh\\u01b0ng kh\\u00f4ng v\\u00ec th\\u1ebf m\\u00e0 v\\u00f4 h\\u1ea1i, n\\u00f3 \\u1ea3nh h\\u01b0\\u1edfng r\\u1ea5t nhi\\u1ec1u \\u0111\\u1ebfn ho\\u1ea1t \\u0111\\u1ed9ng sinh l\\u00fd c\\u1ee7a h\\u1ec7 ti\\u1ebft ni\\u1ec7u nam gi\\u1edbi.\\nD\\u00e0y th\\u00e0nh b\\u00e0ng quang kh\\u00f4ng ch\\u1ec9 l\\u00e0 vi\\u1ec7c gia t\\u0103ng k\\u00edch th\\u01b0\\u1edbc l\\u1edbp ni\\u00eam m\\u1ea1c m\\u00e0 c\\u00f2n l\\u00e0 d\\u1ea5u hi\\u1ec7u nh\\u1eadn c\\u1ea3nh b\\u00e1o nhi\\u1ec1u b\\u1ec7nh l\\u00fd x\\u1ea3y ra \\u1edf b\\u00e0ng quang nh\\u01b0: vi\\u00eam b\\u00e0ng quang, s\\u1ecfi b\\u00e0ng quang, ung th\\u01b0 b\\u00e0ng quang.\\nHi\\u1ec7n t\\u01b0\\u1ee3ng d\\u00e0y th\\u00e0nh b\\u00e0ng quang th\\u01b0\\u1eddng kh\\u00f4ng g\\u00e2y nguy hi\\u1ec3m \\u0111\\u1ebfn t\\u00ednh m\\u1ea1ng c\\u1ee7a nam gi\\u1edbi.\\nNh\\u1eefng \\u1ea3nh h\\u01b0\\u1edfng c\\u1ee7a hi\\u1ec7n t\\u01b0\\u1ee3ng d\\u00e0y th\\u00e0nh b\\u00e0ng quang l\\u00e0:\\n\\n\\u270e \\u1ea2nh h\\u01b0\\u1edfng \\u0111\\u1ebfn s\\u1ee9c kh\\u1ecfe: Nh\\u01b0 \\u0111\\u00e3 n\\u00f3i tr\\u00ean, d\\u00e0y th\\u00e0nh b\\u00e0ng quang l\\u00e0 d\\u1ea5u hi\\u1ec7u c\\u1ea3nh b\\u00e1o c\\u00e1c b\\u1ec7nh nam khoa kh\\u00e1c. V\\u00ec v\\u1eady, t\\u00f9y t\\u1eebng nguy\\u00ean nh\\u00e2n l\\u00e0m d\\u00e0y th\\u00e0nh b\\u00e0ng quang m\\u00e0 d\\u1eabn \\u0111\\u1ebfn nh\\u1eefng m\\u1ed1i nguy h\\u1ea1i kh\\u00e1c nhau. Th\\u00f4ng th\\u01b0\\u1eddng, d\\u00e0y th\\u00e0nh b\\u00e0ng quang s\\u1ebd t\\u00e1c \\u0111\\u1ed9ng tr\\u1ef1c ti\\u1ebfp \\u0111\\u1ebfn ch\\u1ee9c n\\u0103ng b\\u00e0i ti\\u1ebft c\\u1ee7a nam gi\\u1edbi.\\n\\n\\u270e \\u1ea2nh h\\u01b0\\u1edfng \\u0111\\u1ebfn \\u0111\\u1eddi s\\u1ed1ng t\\u00ecnh d\\u1ee5c: D\\u00e0y th\\u00e0nh b\\u00e0ng quang kh\\u00f4ng ch\\u1ec9 khi\\u1ebfn nam gi\\u1edbi \\u201c\\u0103n ng\\u1ee7 kh\\u00f4ng y\\u00ean\\u201d v\\u1edbi c\\u00e1c tri\\u1ec7u ch\\u1ee9ng c\\u1ee7a r\\u1ed1i lo\\u1ea1n \\u0111\\u01b0\\u1eddng ti\\u1ec3u; m\\u00e0 c\\u00f2n gi\\u1ea3m h\\u01b0ng ph\\u1ea5n, ham mu\\u1ed1n t\\u00ecnh d\\u1ee5c \\u1edf nam gi\\u1edbi do nh\\u1eefng c\\u01a1n \\u0111au bu\\u1ed1t k\\u00e9o d\\u00e0i khi quan h\\u1ec7.\\nC\\u00f2n ri\\u00eang tr\\u01b0\\u1eddng h\\u1ee3p c\\u1ee7a b\\u1ea1n, n\\u1ebfu hi\\u1ec7n taih m\\u1ecdi th\\u1ee9 v\\u1eabn b\\u00ecnh th\\u01b0\\u1eddng th\\u00ec kh\\u00f4ng sao, n\\u1ebfu lo l\\u1eafng qua, b\\u1ea1n c\\u00f3 th\\u1ec3 si\\u00eau \\u00e2m b\\u1ee5ng l\\u1ea1i \\u0111\\u1ec3 ki\\u1ec3m tra. nhi\\u1ec5m tr\\u00f9ng ti\\u1ec3u, vi\\u00eam b\\u00e0ng quang c\\u1ea5p th\\u01b0\\u1eddng \\u0111i\\u1ec1u tr\\u1ecb xong s\\u1ebd h\\u1ebft.\\nCh\\u00e0o th\\u00e2n \\u00e1i\",\n          \"Ch\\u00e0o b\\u1ea1n!\\nB\\u1ea1n c\\u00f3 th\\u1ec3 hi\\u1ec3u \\u0111\\u01a1n gi\\u1ea3n Qu\\u00e1 tr\\u00ecnh l\\u1ecdc m\\u00e1u nh\\u01b0 sau: M\\u00e1u \\u0111\\u01b0\\u1ee3c r\\u00fat ra kh\\u1ecfi c\\u01a1 th\\u1ec3 \\u0111\\u01b0a qua h\\u1ec7 th\\u1ed1ng d\\u00e2y v\\u00e0 qu\\u1ea3 l\\u1ecdc, l\\u1ea5y b\\u1ecf c\\u00e1c ch\\u1ea5t c\\u00f3 h\\u1ea1i r\\u1ed3i tr\\u1ea3 v\\u1ec1 c\\u01a1 th\\u1ec3 ng\\u01b0\\u1eddi b\\u1ec7nh.\\nTrong qu\\u00e1 tr\\u00ecnh n\\u00e0y, ch\\u1ea5t ch\\u1ed1ng \\u0111\\u00f4ng m\\u00e1u s\\u1ebd \\u0111\\u01b0\\u1ee3c duy tr\\u00ec li\\u00ean t\\u1ee5c \\u0111\\u1ec3 \\u0111\\u1ea3m b\\u1ea3o d\\u00f2ng m\\u00e1u l\\u01b0u th\\u00f4ng hi\\u1ec7u qu\\u1ea3 trong l\\u00f2ng \\u1ed1ng d\\u00e2y l\\u1ecdc v\\u00e0 qu\\u1ea3 l\\u1ecdc.\\nM\\u1eb7c d\\u00f9 v\\u1eady, v\\u1eabn c\\u00f3 r\\u1ea5t \\u00edt m\\u00e1u \\u0111\\u00f4ng l\\u1ea1i trong l\\u00f2ng \\u1ed1ng l\\u1ecdc khi k\\u1ebft th\\u00fac cu\\u1ed9c l\\u1ecdc m\\u00e1u nh\\u01b0 b\\u1ea1n m\\u00f4 t\\u1ea3.\\nHi\\u1ec7n t\\u01b0\\u1ee3ng n\\u00e0y s\\u1ebd kh\\u00f4ng \\u1ea3nh h\\u01b0\\u1edfng n\\u00ean b\\u1ea1n ho\\u00e0n to\\u00e0n y\\u00ean t\\u00e2m. Ch\\u00fac b\\u1ea1n mau kh\\u1ecfe!\",\n          \"Ch\\u00e0o em. \\u0110au \\u0111\\u1ea7u nh\\u1ee9c h\\u1ed1c m\\u1eaft c\\u00f3 th\\u1ec3 do nhi\\u1ec1u nguy\\u00ean nh\\u00e2n: t\\u0103ng nh\\u00e3n \\u00e1p, vi\\u00eam th\\u1ea7n kinh h\\u1eadu nh\\u00e3n c\\u1ea7u (n\\u00ean kh\\u00e1m chuy\\u00ean khoa m\\u1eaft), Migraine, u n\\u00e3o.... em n\\u00ean kh\\u00e1m chuy\\u00ean khoa n\\u1ed9i, m\\u1eaft. Khi x\\u00e1c \\u0111\\u1ecbnh \\u0111\\u01b0\\u1ee3c nguy\\u00ean nh\\u00e2n c\\u1ee5 th\\u1ec3, b\\u00e1c s\\u0129 s\\u1ebd t\\u01b0 v\\u1ea5n v\\u00e0 \\u0111\\u01b0a ra h\\u01b0\\u1edbng \\u0111i\\u1ec1u tr\\u1ecb ph\\u00f9 h\\u1ee3p v\\u1edbi t\\u00ecnh tr\\u1ea1ng s\\u1ee9c kh\\u1ecfe hi\\u1ec7n t\\u1ea1i c\\u1ee7a em.\"\n        ],\n        \"semantic_type\": \"\",\n        \"description\": \"\"\n      }\n    },\n    {\n      \"column\": \"question\",\n      \"properties\": {\n        \"dtype\": \"string\",\n        \"num_unique_values\": 9329,\n        \"samples\": [\n          \"Ch\\u00e0o b\\u00e1c s\\u0129 \\u1ea1. V\\u00e0i tu\\u1ea7n tr\\u01b0\\u1edbc \\u1edf tay ph\\u1ea3i c\\u1ee7a t\\u00f4i c\\u00f3 n\\u1ed5i m\\u1ea9n to nh\\u00ecn v\\u00e0o gi\\u1ed1ng nh\\u01b0 b\\u1ecb r\\u1ebft c\\u1eafn nh\\u01b0ng kh\\u00f4ng c\\u00f3 d\\u1ea5u v\\u1ebft g\\u00ec c\\u1ea3, v\\u00e0i ng\\u00e0y sau th\\u00ec m\\u1eaft tr\\u00e1i c\\u1ee7a t\\u00f4i b\\u1ecb ng\\u1ee9a v\\u00e0 s\\u01b0ng l\\u00ean. Hi\\u1ec7n t\\u1ea1i b\\u00ean trong mi\\u1ec7ng t\\u00f4i c\\u00f3 1 c\\u1ee5c b\\u1ecb c\\u1ed9m gi\\u1ed1ng nh\\u01b0 v\\u1ebft mu\\u1ed7i c\\u1eafn v\\u1eady. Xin h\\u1ecfi b\\u00e1c s\\u0129 c\\u00f3 ph\\u1ea3i t\\u00f4i b\\u1ecb s\\u00e1n ch\\u00f3 kh\\u00f4ng?\",\n          \"Xin ch\\u00e0o b\\u00e1c s\\u0129, t\\u00f4i l\\u00e0m x\\u00e9t nghi\\u1ec7m th\\u00ec k\\u1ebft qu\\u1ea3 ferritin trong huy\\u1ebft thanh cao. C\\u00e1c x\\u00e9t nghi\\u1ec7m sinh h\\u00f3a v\\u00e0 huy\\u1ebft h\\u1ecdc b\\u00ecnh th\\u01b0\\u1eddng. Xin b\\u00e1c s\\u0129 t\\u01b0 v\\u1ea5n ferritin trong huy\\u1ebft thanh cao l\\u00e0 d\\u1ea5u hi\\u1ec7u b\\u1ec7nh g\\u00ec? Mong b\\u00e1c s\\u0129 t\\u01b0 v\\u1ea5n.\",\n          \"Ch\\u00e0o b\\u00e1c s\\u0129, sau khi kh\\u00e1m t\\u1ea1i m\\u1ed9t b\\u1ec7nh vi\\u1ec7n, t\\u00f4i \\u0111\\u01b0\\u1ee3c ch\\u1ea9n \\u0111o\\u00e1n b\\u1ecb b\\u1ec7nh x\\u01a1 c\\u1ee9ng r\\u1ea3i r\\u00e1c. T\\u00f4i \\u0111\\u00e3 \\u0111i\\u1ec1u tr\\u1ecb t\\u1ea1i b\\u1ec7nh vi\\u1ec7n \\u0111\\u00f3 nh\\u01b0ng b\\u1ec7nh kh\\u00f4ng thuy\\u00ean gi\\u1ea3m. Hi\\u1ec7n nay t\\u00f4i b\\u1ecb li\\u1ec7t hai ch\\u00e2n. T\\u00f4i mu\\u1ed1n \\u0111\\u01b0\\u1ee3c b\\u00e1c s\\u0129 t\\u01b0 v\\u1ea5n gi\\u00fap t\\u00f4i.\"\n        ],\n        \"semantic_type\": \"\",\n        \"description\": \"\"\n      }\n    }\n  ]\n}"
            }
          },
          "metadata": {},
          "execution_count": 21
        }
      ]
    },
    {
      "cell_type": "code",
      "source": [
        "# Check for null values\n",
        "print(\"Null Values:\\n\", df.isnull().sum())\n",
        "\n",
        "# Check for empty strings\n",
        "print(\"\\nEmpty Strings:\\n\", df.eq('').sum())\n",
        "\n",
        "# Check for whitespace-only strings\n",
        "whitespace_only = df.apply(lambda x: x.str.strip().eq('').sum())\n",
        "print(\"\\nWhitespace-Only Strings:\\n\", whitespace_only)"
      ],
      "metadata": {
        "colab": {
          "base_uri": "https://localhost:8080/"
        },
        "id": "X__evl9ZlBsq",
        "outputId": "b5dc877a-c827-4ed3-a3ad-19832f3eef60"
      },
      "execution_count": null,
      "outputs": [
        {
          "output_type": "stream",
          "name": "stdout",
          "text": [
            "Null Values:\n",
            " answer      0\n",
            "question    0\n",
            "dtype: int64\n",
            "\n",
            "Empty Strings:\n",
            " answer      0\n",
            "question    0\n",
            "dtype: int64\n",
            "\n",
            "Whitespace-Only Strings:\n",
            " answer      0\n",
            "question    0\n",
            "dtype: int64\n"
          ]
        }
      ]
    },
    {
      "cell_type": "code",
      "source": [
        "# check duplicated\n",
        "duplicates = df.duplicated().sum()\n",
        "print(\"Exact Duplicate Rows:\", duplicates)"
      ],
      "metadata": {
        "colab": {
          "base_uri": "https://localhost:8080/"
        },
        "id": "gk_v4OJNlP9e",
        "outputId": "8abe701b-94c3-4f97-830c-c036ed73bb76"
      },
      "execution_count": null,
      "outputs": [
        {
          "output_type": "stream",
          "name": "stdout",
          "text": [
            "Exact Duplicate Rows: 3\n"
          ]
        }
      ]
    },
    {
      "cell_type": "code",
      "source": [
        "# remove duplicated\n",
        "df = df.drop_duplicates()\n",
        "print(\"Shape After Removing Exact Duplicates:\", df.shape)"
      ],
      "metadata": {
        "colab": {
          "base_uri": "https://localhost:8080/"
        },
        "id": "t8mU0fJ1lZj_",
        "outputId": "caf04ade-0c61-4a89-c54f-d10218ed9857"
      },
      "execution_count": null,
      "outputs": [
        {
          "output_type": "stream",
          "name": "stdout",
          "text": [
            "Shape After Removing Exact Duplicates: (9332, 2)\n"
          ]
        }
      ]
    },
    {
      "cell_type": "code",
      "source": [
        "# save cleaned dataset\n",
        "data_path = \"/content/drive/MyDrive/NLP/Final/dataset/cleaned_medical_qa_vn.csv\"\n",
        "df.to_csv(data_path, index=False)\n",
        "\n",
        "print(\"Save cleaned dataset to drive successfully!!!\")"
      ],
      "metadata": {
        "colab": {
          "base_uri": "https://localhost:8080/"
        },
        "id": "GrN3dnYil7Qj",
        "outputId": "408be4a8-8363-48e9-9251-e87e0201ee0b"
      },
      "execution_count": null,
      "outputs": [
        {
          "output_type": "stream",
          "name": "stdout",
          "text": [
            "Save cleaned dataset to drive successfully!!!\n"
          ]
        }
      ]
    },
    {
      "cell_type": "markdown",
      "source": [
        "# Pre - processing"
      ],
      "metadata": {
        "id": "wg6KjEGaz-Ov"
      }
    },
    {
      "cell_type": "markdown",
      "source": [
        "Packages"
      ],
      "metadata": {
        "id": "N6AoxVSk0NBk"
      }
    },
    {
      "cell_type": "code",
      "source": [
        "!pip install underthesea"
      ],
      "metadata": {
        "colab": {
          "base_uri": "https://localhost:8080/"
        },
        "collapsed": true,
        "id": "UOVOgMHMmCBv",
        "outputId": "e2d4c39a-6df2-441f-ef08-99b81c0d2574"
      },
      "execution_count": 22,
      "outputs": [
        {
          "output_type": "stream",
          "name": "stdout",
          "text": [
            "Collecting underthesea\n",
            "  Downloading underthesea-6.8.4-py3-none-any.whl.metadata (15 kB)\n",
            "Requirement already satisfied: Click>=6.0 in /usr/local/lib/python3.11/dist-packages (from underthesea) (8.1.8)\n",
            "Collecting python-crfsuite>=0.9.6 (from underthesea)\n",
            "  Downloading python_crfsuite-0.9.11-cp311-cp311-manylinux_2_17_x86_64.manylinux2014_x86_64.whl.metadata (4.3 kB)\n",
            "Requirement already satisfied: nltk in /usr/local/lib/python3.11/dist-packages (from underthesea) (3.9.1)\n",
            "Requirement already satisfied: tqdm in /usr/local/lib/python3.11/dist-packages (from underthesea) (4.67.1)\n",
            "Requirement already satisfied: requests in /usr/local/lib/python3.11/dist-packages (from underthesea) (2.32.3)\n",
            "Requirement already satisfied: joblib in /usr/local/lib/python3.11/dist-packages (from underthesea) (1.4.2)\n",
            "Requirement already satisfied: scikit-learn in /usr/local/lib/python3.11/dist-packages (from underthesea) (1.6.1)\n",
            "Requirement already satisfied: PyYAML in /usr/local/lib/python3.11/dist-packages (from underthesea) (6.0.2)\n",
            "Collecting underthesea-core==1.0.4 (from underthesea)\n",
            "  Downloading underthesea_core-1.0.4-cp311-cp311-manylinux2010_x86_64.whl.metadata (1.7 kB)\n",
            "Requirement already satisfied: regex>=2021.8.3 in /usr/local/lib/python3.11/dist-packages (from nltk->underthesea) (2024.11.6)\n",
            "Requirement already satisfied: charset-normalizer<4,>=2 in /usr/local/lib/python3.11/dist-packages (from requests->underthesea) (3.4.1)\n",
            "Requirement already satisfied: idna<4,>=2.5 in /usr/local/lib/python3.11/dist-packages (from requests->underthesea) (3.10)\n",
            "Requirement already satisfied: urllib3<3,>=1.21.1 in /usr/local/lib/python3.11/dist-packages (from requests->underthesea) (2.4.0)\n",
            "Requirement already satisfied: certifi>=2017.4.17 in /usr/local/lib/python3.11/dist-packages (from requests->underthesea) (2025.4.26)\n",
            "Requirement already satisfied: numpy>=1.19.5 in /usr/local/lib/python3.11/dist-packages (from scikit-learn->underthesea) (2.0.2)\n",
            "Requirement already satisfied: scipy>=1.6.0 in /usr/local/lib/python3.11/dist-packages (from scikit-learn->underthesea) (1.15.2)\n",
            "Requirement already satisfied: threadpoolctl>=3.1.0 in /usr/local/lib/python3.11/dist-packages (from scikit-learn->underthesea) (3.6.0)\n",
            "Downloading underthesea-6.8.4-py3-none-any.whl (20.9 MB)\n",
            "\u001b[2K   \u001b[90m━━━━━━━━━━━━━━━━━━━━━━━━━━━━━━━━━━━━━━━━\u001b[0m \u001b[32m20.9/20.9 MB\u001b[0m \u001b[31m23.3 MB/s\u001b[0m eta \u001b[36m0:00:00\u001b[0m\n",
            "\u001b[?25hDownloading underthesea_core-1.0.4-cp311-cp311-manylinux2010_x86_64.whl (657 kB)\n",
            "\u001b[2K   \u001b[90m━━━━━━━━━━━━━━━━━━━━━━━━━━━━━━━━━━━━━━━━\u001b[0m \u001b[32m657.8/657.8 kB\u001b[0m \u001b[31m53.2 MB/s\u001b[0m eta \u001b[36m0:00:00\u001b[0m\n",
            "\u001b[?25hDownloading python_crfsuite-0.9.11-cp311-cp311-manylinux_2_17_x86_64.manylinux2014_x86_64.whl (1.3 MB)\n",
            "\u001b[2K   \u001b[90m━━━━━━━━━━━━━━━━━━━━━━━━━━━━━━━━━━━━━━━━\u001b[0m \u001b[32m1.3/1.3 MB\u001b[0m \u001b[31m77.6 MB/s\u001b[0m eta \u001b[36m0:00:00\u001b[0m\n",
            "\u001b[?25hInstalling collected packages: underthesea-core, python-crfsuite, underthesea\n",
            "Successfully installed python-crfsuite-0.9.11 underthesea-6.8.4 underthesea-core-1.0.4\n"
          ]
        }
      ]
    },
    {
      "cell_type": "code",
      "source": [
        "from underthesea import word_tokenize\n",
        "import re"
      ],
      "metadata": {
        "id": "no6vcGWrzz8e"
      },
      "execution_count": 23,
      "outputs": []
    },
    {
      "cell_type": "markdown",
      "source": [
        "Pre-process functions"
      ],
      "metadata": {
        "id": "gR_NJPcD0Z_E"
      }
    },
    {
      "cell_type": "code",
      "source": [
        "# show cleaned dataset\n",
        "df = pd.read_csv(\"/content/drive/MyDrive/NLP/Final/dataset/cleaned_medical_qa_vn.csv\")\n",
        "df.head()"
      ],
      "metadata": {
        "colab": {
          "base_uri": "https://localhost:8080/",
          "height": 206
        },
        "id": "0_rvK78HmQjt",
        "outputId": "f117406a-d5c2-405d-cd0d-3753ab196ace"
      },
      "execution_count": null,
      "outputs": [
        {
          "output_type": "execute_result",
          "data": {
            "text/plain": [
              "                                              answer  \\\n",
              "0  Chào bạn,\\nĐể trả lời câu hỏi trên, bác sĩ xin...   \n",
              "1  Chào bạn,\\nĐể trả lời câu hỏi trên, bác sĩ xin...   \n",
              "2  Chào bạn,\\nĐể trả lời câu hỏi trên, bác sĩ xin...   \n",
              "3  Chào bạn,\\nĐể trả lời câu hỏi trên, bác sĩ xin...   \n",
              "4  Chào bạn,\\nĐể trả lời câu hỏi trên, bác sĩ xin...   \n",
              "\n",
              "                                            question  \n",
              "0  Chào bác sĩ,\\nRăng cháu hiện tại có mủ ở dưới ...  \n",
              "1  Chào bác sĩ,\\nEm thấy mặt dưới, phía cuống lưỡ...  \n",
              "2  Chào bác sĩ,\\nTừ tháng 4/2020, em mới xuất hiệ...  \n",
              "3  Chào bác sĩ,\\nDạo gần đây, mỗi tối ngủ con hay...  \n",
              "4  Chào bác sĩ,\\nEm bị tăng tiết mồ hôi, nhất là ...  "
            ],
            "text/html": [
              "\n",
              "  <div id=\"df-32da805d-44e3-4715-9026-f8ab7af10e69\" class=\"colab-df-container\">\n",
              "    <div>\n",
              "<style scoped>\n",
              "    .dataframe tbody tr th:only-of-type {\n",
              "        vertical-align: middle;\n",
              "    }\n",
              "\n",
              "    .dataframe tbody tr th {\n",
              "        vertical-align: top;\n",
              "    }\n",
              "\n",
              "    .dataframe thead th {\n",
              "        text-align: right;\n",
              "    }\n",
              "</style>\n",
              "<table border=\"1\" class=\"dataframe\">\n",
              "  <thead>\n",
              "    <tr style=\"text-align: right;\">\n",
              "      <th></th>\n",
              "      <th>answer</th>\n",
              "      <th>question</th>\n",
              "    </tr>\n",
              "  </thead>\n",
              "  <tbody>\n",
              "    <tr>\n",
              "      <th>0</th>\n",
              "      <td>Chào bạn,\\nĐể trả lời câu hỏi trên, bác sĩ xin...</td>\n",
              "      <td>Chào bác sĩ,\\nRăng cháu hiện tại có mủ ở dưới ...</td>\n",
              "    </tr>\n",
              "    <tr>\n",
              "      <th>1</th>\n",
              "      <td>Chào bạn,\\nĐể trả lời câu hỏi trên, bác sĩ xin...</td>\n",
              "      <td>Chào bác sĩ,\\nEm thấy mặt dưới, phía cuống lưỡ...</td>\n",
              "    </tr>\n",
              "    <tr>\n",
              "      <th>2</th>\n",
              "      <td>Chào bạn,\\nĐể trả lời câu hỏi trên, bác sĩ xin...</td>\n",
              "      <td>Chào bác sĩ,\\nTừ tháng 4/2020, em mới xuất hiệ...</td>\n",
              "    </tr>\n",
              "    <tr>\n",
              "      <th>3</th>\n",
              "      <td>Chào bạn,\\nĐể trả lời câu hỏi trên, bác sĩ xin...</td>\n",
              "      <td>Chào bác sĩ,\\nDạo gần đây, mỗi tối ngủ con hay...</td>\n",
              "    </tr>\n",
              "    <tr>\n",
              "      <th>4</th>\n",
              "      <td>Chào bạn,\\nĐể trả lời câu hỏi trên, bác sĩ xin...</td>\n",
              "      <td>Chào bác sĩ,\\nEm bị tăng tiết mồ hôi, nhất là ...</td>\n",
              "    </tr>\n",
              "  </tbody>\n",
              "</table>\n",
              "</div>\n",
              "    <div class=\"colab-df-buttons\">\n",
              "\n",
              "  <div class=\"colab-df-container\">\n",
              "    <button class=\"colab-df-convert\" onclick=\"convertToInteractive('df-32da805d-44e3-4715-9026-f8ab7af10e69')\"\n",
              "            title=\"Convert this dataframe to an interactive table.\"\n",
              "            style=\"display:none;\">\n",
              "\n",
              "  <svg xmlns=\"http://www.w3.org/2000/svg\" height=\"24px\" viewBox=\"0 -960 960 960\">\n",
              "    <path d=\"M120-120v-720h720v720H120Zm60-500h600v-160H180v160Zm220 220h160v-160H400v160Zm0 220h160v-160H400v160ZM180-400h160v-160H180v160Zm440 0h160v-160H620v160ZM180-180h160v-160H180v160Zm440 0h160v-160H620v160Z\"/>\n",
              "  </svg>\n",
              "    </button>\n",
              "\n",
              "  <style>\n",
              "    .colab-df-container {\n",
              "      display:flex;\n",
              "      gap: 12px;\n",
              "    }\n",
              "\n",
              "    .colab-df-convert {\n",
              "      background-color: #E8F0FE;\n",
              "      border: none;\n",
              "      border-radius: 50%;\n",
              "      cursor: pointer;\n",
              "      display: none;\n",
              "      fill: #1967D2;\n",
              "      height: 32px;\n",
              "      padding: 0 0 0 0;\n",
              "      width: 32px;\n",
              "    }\n",
              "\n",
              "    .colab-df-convert:hover {\n",
              "      background-color: #E2EBFA;\n",
              "      box-shadow: 0px 1px 2px rgba(60, 64, 67, 0.3), 0px 1px 3px 1px rgba(60, 64, 67, 0.15);\n",
              "      fill: #174EA6;\n",
              "    }\n",
              "\n",
              "    .colab-df-buttons div {\n",
              "      margin-bottom: 4px;\n",
              "    }\n",
              "\n",
              "    [theme=dark] .colab-df-convert {\n",
              "      background-color: #3B4455;\n",
              "      fill: #D2E3FC;\n",
              "    }\n",
              "\n",
              "    [theme=dark] .colab-df-convert:hover {\n",
              "      background-color: #434B5C;\n",
              "      box-shadow: 0px 1px 3px 1px rgba(0, 0, 0, 0.15);\n",
              "      filter: drop-shadow(0px 1px 2px rgba(0, 0, 0, 0.3));\n",
              "      fill: #FFFFFF;\n",
              "    }\n",
              "  </style>\n",
              "\n",
              "    <script>\n",
              "      const buttonEl =\n",
              "        document.querySelector('#df-32da805d-44e3-4715-9026-f8ab7af10e69 button.colab-df-convert');\n",
              "      buttonEl.style.display =\n",
              "        google.colab.kernel.accessAllowed ? 'block' : 'none';\n",
              "\n",
              "      async function convertToInteractive(key) {\n",
              "        const element = document.querySelector('#df-32da805d-44e3-4715-9026-f8ab7af10e69');\n",
              "        const dataTable =\n",
              "          await google.colab.kernel.invokeFunction('convertToInteractive',\n",
              "                                                    [key], {});\n",
              "        if (!dataTable) return;\n",
              "\n",
              "        const docLinkHtml = 'Like what you see? Visit the ' +\n",
              "          '<a target=\"_blank\" href=https://colab.research.google.com/notebooks/data_table.ipynb>data table notebook</a>'\n",
              "          + ' to learn more about interactive tables.';\n",
              "        element.innerHTML = '';\n",
              "        dataTable['output_type'] = 'display_data';\n",
              "        await google.colab.output.renderOutput(dataTable, element);\n",
              "        const docLink = document.createElement('div');\n",
              "        docLink.innerHTML = docLinkHtml;\n",
              "        element.appendChild(docLink);\n",
              "      }\n",
              "    </script>\n",
              "  </div>\n",
              "\n",
              "\n",
              "    <div id=\"df-8b4b3a07-204f-4a1d-afc1-7ab5bac0b448\">\n",
              "      <button class=\"colab-df-quickchart\" onclick=\"quickchart('df-8b4b3a07-204f-4a1d-afc1-7ab5bac0b448')\"\n",
              "                title=\"Suggest charts\"\n",
              "                style=\"display:none;\">\n",
              "\n",
              "<svg xmlns=\"http://www.w3.org/2000/svg\" height=\"24px\"viewBox=\"0 0 24 24\"\n",
              "     width=\"24px\">\n",
              "    <g>\n",
              "        <path d=\"M19 3H5c-1.1 0-2 .9-2 2v14c0 1.1.9 2 2 2h14c1.1 0 2-.9 2-2V5c0-1.1-.9-2-2-2zM9 17H7v-7h2v7zm4 0h-2V7h2v10zm4 0h-2v-4h2v4z\"/>\n",
              "    </g>\n",
              "</svg>\n",
              "      </button>\n",
              "\n",
              "<style>\n",
              "  .colab-df-quickchart {\n",
              "      --bg-color: #E8F0FE;\n",
              "      --fill-color: #1967D2;\n",
              "      --hover-bg-color: #E2EBFA;\n",
              "      --hover-fill-color: #174EA6;\n",
              "      --disabled-fill-color: #AAA;\n",
              "      --disabled-bg-color: #DDD;\n",
              "  }\n",
              "\n",
              "  [theme=dark] .colab-df-quickchart {\n",
              "      --bg-color: #3B4455;\n",
              "      --fill-color: #D2E3FC;\n",
              "      --hover-bg-color: #434B5C;\n",
              "      --hover-fill-color: #FFFFFF;\n",
              "      --disabled-bg-color: #3B4455;\n",
              "      --disabled-fill-color: #666;\n",
              "  }\n",
              "\n",
              "  .colab-df-quickchart {\n",
              "    background-color: var(--bg-color);\n",
              "    border: none;\n",
              "    border-radius: 50%;\n",
              "    cursor: pointer;\n",
              "    display: none;\n",
              "    fill: var(--fill-color);\n",
              "    height: 32px;\n",
              "    padding: 0;\n",
              "    width: 32px;\n",
              "  }\n",
              "\n",
              "  .colab-df-quickchart:hover {\n",
              "    background-color: var(--hover-bg-color);\n",
              "    box-shadow: 0 1px 2px rgba(60, 64, 67, 0.3), 0 1px 3px 1px rgba(60, 64, 67, 0.15);\n",
              "    fill: var(--button-hover-fill-color);\n",
              "  }\n",
              "\n",
              "  .colab-df-quickchart-complete:disabled,\n",
              "  .colab-df-quickchart-complete:disabled:hover {\n",
              "    background-color: var(--disabled-bg-color);\n",
              "    fill: var(--disabled-fill-color);\n",
              "    box-shadow: none;\n",
              "  }\n",
              "\n",
              "  .colab-df-spinner {\n",
              "    border: 2px solid var(--fill-color);\n",
              "    border-color: transparent;\n",
              "    border-bottom-color: var(--fill-color);\n",
              "    animation:\n",
              "      spin 1s steps(1) infinite;\n",
              "  }\n",
              "\n",
              "  @keyframes spin {\n",
              "    0% {\n",
              "      border-color: transparent;\n",
              "      border-bottom-color: var(--fill-color);\n",
              "      border-left-color: var(--fill-color);\n",
              "    }\n",
              "    20% {\n",
              "      border-color: transparent;\n",
              "      border-left-color: var(--fill-color);\n",
              "      border-top-color: var(--fill-color);\n",
              "    }\n",
              "    30% {\n",
              "      border-color: transparent;\n",
              "      border-left-color: var(--fill-color);\n",
              "      border-top-color: var(--fill-color);\n",
              "      border-right-color: var(--fill-color);\n",
              "    }\n",
              "    40% {\n",
              "      border-color: transparent;\n",
              "      border-right-color: var(--fill-color);\n",
              "      border-top-color: var(--fill-color);\n",
              "    }\n",
              "    60% {\n",
              "      border-color: transparent;\n",
              "      border-right-color: var(--fill-color);\n",
              "    }\n",
              "    80% {\n",
              "      border-color: transparent;\n",
              "      border-right-color: var(--fill-color);\n",
              "      border-bottom-color: var(--fill-color);\n",
              "    }\n",
              "    90% {\n",
              "      border-color: transparent;\n",
              "      border-bottom-color: var(--fill-color);\n",
              "    }\n",
              "  }\n",
              "</style>\n",
              "\n",
              "      <script>\n",
              "        async function quickchart(key) {\n",
              "          const quickchartButtonEl =\n",
              "            document.querySelector('#' + key + ' button');\n",
              "          quickchartButtonEl.disabled = true;  // To prevent multiple clicks.\n",
              "          quickchartButtonEl.classList.add('colab-df-spinner');\n",
              "          try {\n",
              "            const charts = await google.colab.kernel.invokeFunction(\n",
              "                'suggestCharts', [key], {});\n",
              "          } catch (error) {\n",
              "            console.error('Error during call to suggestCharts:', error);\n",
              "          }\n",
              "          quickchartButtonEl.classList.remove('colab-df-spinner');\n",
              "          quickchartButtonEl.classList.add('colab-df-quickchart-complete');\n",
              "        }\n",
              "        (() => {\n",
              "          let quickchartButtonEl =\n",
              "            document.querySelector('#df-8b4b3a07-204f-4a1d-afc1-7ab5bac0b448 button');\n",
              "          quickchartButtonEl.style.display =\n",
              "            google.colab.kernel.accessAllowed ? 'block' : 'none';\n",
              "        })();\n",
              "      </script>\n",
              "    </div>\n",
              "\n",
              "    </div>\n",
              "  </div>\n"
            ],
            "application/vnd.google.colaboratory.intrinsic+json": {
              "type": "dataframe",
              "variable_name": "df",
              "summary": "{\n  \"name\": \"df\",\n  \"rows\": 9332,\n  \"fields\": [\n    {\n      \"column\": \"answer\",\n      \"properties\": {\n        \"dtype\": \"string\",\n        \"num_unique_values\": 9186,\n        \"samples\": [\n          \"Ch\\u00e0o b\\u1ea1n.\\nN\\u1ebfu b\\u1ea1n \\u0111\\u00e3 \\u0111i\\u1ec1u tr\\u1ecb nhi\\u1ebfm tr\\u00f9ng ti\\u1ec3u h\\u1ebft h\\u1eb5n th\\u00ec m\\u00ecnh kh\\u00f4ng \\u0111\\u1ec1 c\\u1eadp t\\u1edbi n\\u1eefa. m\\u00ecnh n\\u00f3i v\\u1ec1 d\\u00e0y th\\u00e0nh b\\u00e0ng quang nh\\u01b0 b\\u1ea1n h\\u1ecfi nha.\\nD\\u00e0y th\\u00e0nh b\\u00e0ng quang ch\\u1ec9 \\u0111\\u01b0\\u1ee3c ph\\u00e1t hi\\u1ec7n th\\u00f4ng qua si\\u00eau \\u00e2m, n\\u1ed9i soi; ng\\u01b0\\u1eddi b\\u1ec7nh kh\\u00f4ng th\\u1ec3 t\\u1ef1 nh\\u1eadn bi\\u1ebft \\u0111\\u01b0\\u1ee3c. Nh\\u01b0ng kh\\u00f4ng v\\u00ec th\\u1ebf m\\u00e0 v\\u00f4 h\\u1ea1i, n\\u00f3 \\u1ea3nh h\\u01b0\\u1edfng r\\u1ea5t nhi\\u1ec1u \\u0111\\u1ebfn ho\\u1ea1t \\u0111\\u1ed9ng sinh l\\u00fd c\\u1ee7a h\\u1ec7 ti\\u1ebft ni\\u1ec7u nam gi\\u1edbi.\\nD\\u00e0y th\\u00e0nh b\\u00e0ng quang kh\\u00f4ng ch\\u1ec9 l\\u00e0 vi\\u1ec7c gia t\\u0103ng k\\u00edch th\\u01b0\\u1edbc l\\u1edbp ni\\u00eam m\\u1ea1c m\\u00e0 c\\u00f2n l\\u00e0 d\\u1ea5u hi\\u1ec7u nh\\u1eadn c\\u1ea3nh b\\u00e1o nhi\\u1ec1u b\\u1ec7nh l\\u00fd x\\u1ea3y ra \\u1edf b\\u00e0ng quang nh\\u01b0: vi\\u00eam b\\u00e0ng quang, s\\u1ecfi b\\u00e0ng quang, ung th\\u01b0 b\\u00e0ng quang.\\nHi\\u1ec7n t\\u01b0\\u1ee3ng d\\u00e0y th\\u00e0nh b\\u00e0ng quang th\\u01b0\\u1eddng kh\\u00f4ng g\\u00e2y nguy hi\\u1ec3m \\u0111\\u1ebfn t\\u00ednh m\\u1ea1ng c\\u1ee7a nam gi\\u1edbi.\\nNh\\u1eefng \\u1ea3nh h\\u01b0\\u1edfng c\\u1ee7a hi\\u1ec7n t\\u01b0\\u1ee3ng d\\u00e0y th\\u00e0nh b\\u00e0ng quang l\\u00e0:\\n\\n\\u270e \\u1ea2nh h\\u01b0\\u1edfng \\u0111\\u1ebfn s\\u1ee9c kh\\u1ecfe: Nh\\u01b0 \\u0111\\u00e3 n\\u00f3i tr\\u00ean, d\\u00e0y th\\u00e0nh b\\u00e0ng quang l\\u00e0 d\\u1ea5u hi\\u1ec7u c\\u1ea3nh b\\u00e1o c\\u00e1c b\\u1ec7nh nam khoa kh\\u00e1c. V\\u00ec v\\u1eady, t\\u00f9y t\\u1eebng nguy\\u00ean nh\\u00e2n l\\u00e0m d\\u00e0y th\\u00e0nh b\\u00e0ng quang m\\u00e0 d\\u1eabn \\u0111\\u1ebfn nh\\u1eefng m\\u1ed1i nguy h\\u1ea1i kh\\u00e1c nhau. Th\\u00f4ng th\\u01b0\\u1eddng, d\\u00e0y th\\u00e0nh b\\u00e0ng quang s\\u1ebd t\\u00e1c \\u0111\\u1ed9ng tr\\u1ef1c ti\\u1ebfp \\u0111\\u1ebfn ch\\u1ee9c n\\u0103ng b\\u00e0i ti\\u1ebft c\\u1ee7a nam gi\\u1edbi.\\n\\n\\u270e \\u1ea2nh h\\u01b0\\u1edfng \\u0111\\u1ebfn \\u0111\\u1eddi s\\u1ed1ng t\\u00ecnh d\\u1ee5c: D\\u00e0y th\\u00e0nh b\\u00e0ng quang kh\\u00f4ng ch\\u1ec9 khi\\u1ebfn nam gi\\u1edbi \\u201c\\u0103n ng\\u1ee7 kh\\u00f4ng y\\u00ean\\u201d v\\u1edbi c\\u00e1c tri\\u1ec7u ch\\u1ee9ng c\\u1ee7a r\\u1ed1i lo\\u1ea1n \\u0111\\u01b0\\u1eddng ti\\u1ec3u; m\\u00e0 c\\u00f2n gi\\u1ea3m h\\u01b0ng ph\\u1ea5n, ham mu\\u1ed1n t\\u00ecnh d\\u1ee5c \\u1edf nam gi\\u1edbi do nh\\u1eefng c\\u01a1n \\u0111au bu\\u1ed1t k\\u00e9o d\\u00e0i khi quan h\\u1ec7.\\nC\\u00f2n ri\\u00eang tr\\u01b0\\u1eddng h\\u1ee3p c\\u1ee7a b\\u1ea1n, n\\u1ebfu hi\\u1ec7n taih m\\u1ecdi th\\u1ee9 v\\u1eabn b\\u00ecnh th\\u01b0\\u1eddng th\\u00ec kh\\u00f4ng sao, n\\u1ebfu lo l\\u1eafng qua, b\\u1ea1n c\\u00f3 th\\u1ec3 si\\u00eau \\u00e2m b\\u1ee5ng l\\u1ea1i \\u0111\\u1ec3 ki\\u1ec3m tra. nhi\\u1ec5m tr\\u00f9ng ti\\u1ec3u, vi\\u00eam b\\u00e0ng quang c\\u1ea5p th\\u01b0\\u1eddng \\u0111i\\u1ec1u tr\\u1ecb xong s\\u1ebd h\\u1ebft.\\nCh\\u00e0o th\\u00e2n \\u00e1i\",\n          \"Ch\\u00e0o b\\u1ea1n!\\nB\\u1ea1n c\\u00f3 th\\u1ec3 hi\\u1ec3u \\u0111\\u01a1n gi\\u1ea3n Qu\\u00e1 tr\\u00ecnh l\\u1ecdc m\\u00e1u nh\\u01b0 sau: M\\u00e1u \\u0111\\u01b0\\u1ee3c r\\u00fat ra kh\\u1ecfi c\\u01a1 th\\u1ec3 \\u0111\\u01b0a qua h\\u1ec7 th\\u1ed1ng d\\u00e2y v\\u00e0 qu\\u1ea3 l\\u1ecdc, l\\u1ea5y b\\u1ecf c\\u00e1c ch\\u1ea5t c\\u00f3 h\\u1ea1i r\\u1ed3i tr\\u1ea3 v\\u1ec1 c\\u01a1 th\\u1ec3 ng\\u01b0\\u1eddi b\\u1ec7nh.\\nTrong qu\\u00e1 tr\\u00ecnh n\\u00e0y, ch\\u1ea5t ch\\u1ed1ng \\u0111\\u00f4ng m\\u00e1u s\\u1ebd \\u0111\\u01b0\\u1ee3c duy tr\\u00ec li\\u00ean t\\u1ee5c \\u0111\\u1ec3 \\u0111\\u1ea3m b\\u1ea3o d\\u00f2ng m\\u00e1u l\\u01b0u th\\u00f4ng hi\\u1ec7u qu\\u1ea3 trong l\\u00f2ng \\u1ed1ng d\\u00e2y l\\u1ecdc v\\u00e0 qu\\u1ea3 l\\u1ecdc.\\nM\\u1eb7c d\\u00f9 v\\u1eady, v\\u1eabn c\\u00f3 r\\u1ea5t \\u00edt m\\u00e1u \\u0111\\u00f4ng l\\u1ea1i trong l\\u00f2ng \\u1ed1ng l\\u1ecdc khi k\\u1ebft th\\u00fac cu\\u1ed9c l\\u1ecdc m\\u00e1u nh\\u01b0 b\\u1ea1n m\\u00f4 t\\u1ea3.\\nHi\\u1ec7n t\\u01b0\\u1ee3ng n\\u00e0y s\\u1ebd kh\\u00f4ng \\u1ea3nh h\\u01b0\\u1edfng n\\u00ean b\\u1ea1n ho\\u00e0n to\\u00e0n y\\u00ean t\\u00e2m. Ch\\u00fac b\\u1ea1n mau kh\\u1ecfe!\",\n          \"Ch\\u00e0o em. \\u0110au \\u0111\\u1ea7u nh\\u1ee9c h\\u1ed1c m\\u1eaft c\\u00f3 th\\u1ec3 do nhi\\u1ec1u nguy\\u00ean nh\\u00e2n: t\\u0103ng nh\\u00e3n \\u00e1p, vi\\u00eam th\\u1ea7n kinh h\\u1eadu nh\\u00e3n c\\u1ea7u (n\\u00ean kh\\u00e1m chuy\\u00ean khoa m\\u1eaft), Migraine, u n\\u00e3o.... em n\\u00ean kh\\u00e1m chuy\\u00ean khoa n\\u1ed9i, m\\u1eaft. Khi x\\u00e1c \\u0111\\u1ecbnh \\u0111\\u01b0\\u1ee3c nguy\\u00ean nh\\u00e2n c\\u1ee5 th\\u1ec3, b\\u00e1c s\\u0129 s\\u1ebd t\\u01b0 v\\u1ea5n v\\u00e0 \\u0111\\u01b0a ra h\\u01b0\\u1edbng \\u0111i\\u1ec1u tr\\u1ecb ph\\u00f9 h\\u1ee3p v\\u1edbi t\\u00ecnh tr\\u1ea1ng s\\u1ee9c kh\\u1ecfe hi\\u1ec7n t\\u1ea1i c\\u1ee7a em.\"\n        ],\n        \"semantic_type\": \"\",\n        \"description\": \"\"\n      }\n    },\n    {\n      \"column\": \"question\",\n      \"properties\": {\n        \"dtype\": \"string\",\n        \"num_unique_values\": 9329,\n        \"samples\": [\n          \"Ch\\u00e0o b\\u00e1c s\\u0129 \\u1ea1. V\\u00e0i tu\\u1ea7n tr\\u01b0\\u1edbc \\u1edf tay ph\\u1ea3i c\\u1ee7a t\\u00f4i c\\u00f3 n\\u1ed5i m\\u1ea9n to nh\\u00ecn v\\u00e0o gi\\u1ed1ng nh\\u01b0 b\\u1ecb r\\u1ebft c\\u1eafn nh\\u01b0ng kh\\u00f4ng c\\u00f3 d\\u1ea5u v\\u1ebft g\\u00ec c\\u1ea3, v\\u00e0i ng\\u00e0y sau th\\u00ec m\\u1eaft tr\\u00e1i c\\u1ee7a t\\u00f4i b\\u1ecb ng\\u1ee9a v\\u00e0 s\\u01b0ng l\\u00ean. Hi\\u1ec7n t\\u1ea1i b\\u00ean trong mi\\u1ec7ng t\\u00f4i c\\u00f3 1 c\\u1ee5c b\\u1ecb c\\u1ed9m gi\\u1ed1ng nh\\u01b0 v\\u1ebft mu\\u1ed7i c\\u1eafn v\\u1eady. Xin h\\u1ecfi b\\u00e1c s\\u0129 c\\u00f3 ph\\u1ea3i t\\u00f4i b\\u1ecb s\\u00e1n ch\\u00f3 kh\\u00f4ng?\",\n          \"Xin ch\\u00e0o b\\u00e1c s\\u0129, t\\u00f4i l\\u00e0m x\\u00e9t nghi\\u1ec7m th\\u00ec k\\u1ebft qu\\u1ea3 ferritin trong huy\\u1ebft thanh cao. C\\u00e1c x\\u00e9t nghi\\u1ec7m sinh h\\u00f3a v\\u00e0 huy\\u1ebft h\\u1ecdc b\\u00ecnh th\\u01b0\\u1eddng. Xin b\\u00e1c s\\u0129 t\\u01b0 v\\u1ea5n ferritin trong huy\\u1ebft thanh cao l\\u00e0 d\\u1ea5u hi\\u1ec7u b\\u1ec7nh g\\u00ec? Mong b\\u00e1c s\\u0129 t\\u01b0 v\\u1ea5n.\",\n          \"Ch\\u00e0o b\\u00e1c s\\u0129, sau khi kh\\u00e1m t\\u1ea1i m\\u1ed9t b\\u1ec7nh vi\\u1ec7n, t\\u00f4i \\u0111\\u01b0\\u1ee3c ch\\u1ea9n \\u0111o\\u00e1n b\\u1ecb b\\u1ec7nh x\\u01a1 c\\u1ee9ng r\\u1ea3i r\\u00e1c. T\\u00f4i \\u0111\\u00e3 \\u0111i\\u1ec1u tr\\u1ecb t\\u1ea1i b\\u1ec7nh vi\\u1ec7n \\u0111\\u00f3 nh\\u01b0ng b\\u1ec7nh kh\\u00f4ng thuy\\u00ean gi\\u1ea3m. Hi\\u1ec7n nay t\\u00f4i b\\u1ecb li\\u1ec7t hai ch\\u00e2n. T\\u00f4i mu\\u1ed1n \\u0111\\u01b0\\u1ee3c b\\u00e1c s\\u0129 t\\u01b0 v\\u1ea5n gi\\u00fap t\\u00f4i.\"\n        ],\n        \"semantic_type\": \"\",\n        \"description\": \"\"\n      }\n    }\n  ]\n}"
            }
          },
          "metadata": {},
          "execution_count": 33
        }
      ]
    },
    {
      "cell_type": "code",
      "source": [
        "df.shape"
      ],
      "metadata": {
        "colab": {
          "base_uri": "https://localhost:8080/"
        },
        "id": "qyB5fuSXmXbj",
        "outputId": "db4a927d-371d-4857-8463-cf7b13af5bb6"
      },
      "execution_count": null,
      "outputs": [
        {
          "output_type": "execute_result",
          "data": {
            "text/plain": [
              "(9332, 2)"
            ]
          },
          "metadata": {},
          "execution_count": 34
        }
      ]
    },
    {
      "cell_type": "code",
      "source": [
        "# remove extra punctuations\n",
        "def clean_text(text):\n",
        "\n",
        "    text = text.lower()\n",
        "    # Remove extra whitespace, newlines, and tabs\n",
        "    text = re.sub(r'\\s+', ' ', text.strip())\n",
        "    # Ensure UTF-8 encoding for Vietnamese diacritics\n",
        "    text = text.encode('utf-8').decode('utf-8')\n",
        "    return text\n",
        "\n",
        "# remove asking and answering templates\n",
        "def remove_boilerplate(text):\n",
        "    # Define common boilerplate patterns\n",
        "    boilerplate_patterns = [\n",
        "        r'Chào bác sĩ[,.\\s]*', r'Chào bạn[,.\\s]*', r'Trân trọng[!.\\s]*',\n",
        "        r'Em cảm ơn[,.\\s]*', r'Cháu cảm ơn[,.\\s]*', r'Bác sĩ cho (em|cháu) hỏi[,.\\s]*',\n",
        "        r'Mong bác sĩ tư vấn[,.\\s]*', r'Xin bác sĩ tư vấn[,.\\s]*',\n",
        "        r'Để trả lời câu hỏi trên, bác sĩ xin giải đáp như sau:[,.\\s]*'\n",
        "    ]\n",
        "    # Remove boilerplate patterns\n",
        "    for pattern in boilerplate_patterns:\n",
        "        text = re.sub(pattern, '', text, flags=re.IGNORECASE)\n",
        "    return text.strip()\n",
        "\n",
        "# test for first row\n",
        "print(remove_boilerplate(df['question'][0]))\n"
      ],
      "metadata": {
        "colab": {
          "base_uri": "https://localhost:8080/"
        },
        "id": "sXPnXwD00cph",
        "outputId": "86410c67-0f9b-48c3-8556-8f96612f4094"
      },
      "execution_count": null,
      "outputs": [
        {
          "output_type": "stream",
          "name": "stdout",
          "text": [
            "răng cháu hiện tại có mủ ở dưới lợi nhưng khi đau cháu sẽ không ngủ được (quá đau). tuy nhiên chỉ vài ngày là hết mà thỉnh thoảng nó lại bị đau. chị cháu bảo là trước chị cháu cũng bị như vậy chỉ là đau răng tuổi dậy thì thôi. đau răng kèm có mủ dưới lợi là bệnh gì? cháu có cần đi chữa trị không?\n"
          ]
        }
      ]
    },
    {
      "cell_type": "code",
      "source": [
        "# clean data\n",
        "df['question'] = df['question'].apply(clean_text).apply(remove_boilerplate)\n",
        "df['answer'] = df['answer'].apply(clean_text).apply(remove_boilerplate)\n",
        "\n",
        "print(\"Cleaned dataset:\")\n",
        "df.head()"
      ],
      "metadata": {
        "colab": {
          "base_uri": "https://localhost:8080/",
          "height": 224
        },
        "id": "30JZ0Ac21dCp",
        "outputId": "2d67d0e5-6679-42f0-d0db-35426d421b82"
      },
      "execution_count": null,
      "outputs": [
        {
          "output_type": "stream",
          "name": "stdout",
          "text": [
            "Cleaned dataset:\n"
          ]
        },
        {
          "output_type": "execute_result",
          "data": {
            "text/plain": [
              "                                              answer  \\\n",
              "0  răng bạn hiện tại có mủ dưới lợi gây đau nhức ...   \n",
              "1  triệu chứng nốt mụn đỏ vùng dưới lưỡi, đau khi...   \n",
              "2  các triệu chứng sốt, đau họng, amidan có mủ tá...   \n",
              "3  các dấu hiệu: nghẹt mũi, vướng họng có thể gặp...   \n",
              "4  tăng tiết mồ hôi nguyên phát thường do rối loạ...   \n",
              "\n",
              "                                            question  \n",
              "0  răng cháu hiện tại có mủ ở dưới lợi nhưng khi ...  \n",
              "1  em thấy mặt dưới, phía cuống lưỡi của mình có ...  \n",
              "2  từ tháng 4/2020, em mới xuất hiện lần đầu triệ...  \n",
              "3  dạo gần đây, mỗi tối ngủ con hay bị nghẹt mũi ...  \n",
              "4  em bị tăng tiết mồ hôi, nhất là vùng mặt và ng...  "
            ],
            "text/html": [
              "\n",
              "  <div id=\"df-ba87f1af-d500-46e6-a8c3-8e87920b0a22\" class=\"colab-df-container\">\n",
              "    <div>\n",
              "<style scoped>\n",
              "    .dataframe tbody tr th:only-of-type {\n",
              "        vertical-align: middle;\n",
              "    }\n",
              "\n",
              "    .dataframe tbody tr th {\n",
              "        vertical-align: top;\n",
              "    }\n",
              "\n",
              "    .dataframe thead th {\n",
              "        text-align: right;\n",
              "    }\n",
              "</style>\n",
              "<table border=\"1\" class=\"dataframe\">\n",
              "  <thead>\n",
              "    <tr style=\"text-align: right;\">\n",
              "      <th></th>\n",
              "      <th>answer</th>\n",
              "      <th>question</th>\n",
              "    </tr>\n",
              "  </thead>\n",
              "  <tbody>\n",
              "    <tr>\n",
              "      <th>0</th>\n",
              "      <td>răng bạn hiện tại có mủ dưới lợi gây đau nhức ...</td>\n",
              "      <td>răng cháu hiện tại có mủ ở dưới lợi nhưng khi ...</td>\n",
              "    </tr>\n",
              "    <tr>\n",
              "      <th>1</th>\n",
              "      <td>triệu chứng nốt mụn đỏ vùng dưới lưỡi, đau khi...</td>\n",
              "      <td>em thấy mặt dưới, phía cuống lưỡi của mình có ...</td>\n",
              "    </tr>\n",
              "    <tr>\n",
              "      <th>2</th>\n",
              "      <td>các triệu chứng sốt, đau họng, amidan có mủ tá...</td>\n",
              "      <td>từ tháng 4/2020, em mới xuất hiện lần đầu triệ...</td>\n",
              "    </tr>\n",
              "    <tr>\n",
              "      <th>3</th>\n",
              "      <td>các dấu hiệu: nghẹt mũi, vướng họng có thể gặp...</td>\n",
              "      <td>dạo gần đây, mỗi tối ngủ con hay bị nghẹt mũi ...</td>\n",
              "    </tr>\n",
              "    <tr>\n",
              "      <th>4</th>\n",
              "      <td>tăng tiết mồ hôi nguyên phát thường do rối loạ...</td>\n",
              "      <td>em bị tăng tiết mồ hôi, nhất là vùng mặt và ng...</td>\n",
              "    </tr>\n",
              "  </tbody>\n",
              "</table>\n",
              "</div>\n",
              "    <div class=\"colab-df-buttons\">\n",
              "\n",
              "  <div class=\"colab-df-container\">\n",
              "    <button class=\"colab-df-convert\" onclick=\"convertToInteractive('df-ba87f1af-d500-46e6-a8c3-8e87920b0a22')\"\n",
              "            title=\"Convert this dataframe to an interactive table.\"\n",
              "            style=\"display:none;\">\n",
              "\n",
              "  <svg xmlns=\"http://www.w3.org/2000/svg\" height=\"24px\" viewBox=\"0 -960 960 960\">\n",
              "    <path d=\"M120-120v-720h720v720H120Zm60-500h600v-160H180v160Zm220 220h160v-160H400v160Zm0 220h160v-160H400v160ZM180-400h160v-160H180v160Zm440 0h160v-160H620v160ZM180-180h160v-160H180v160Zm440 0h160v-160H620v160Z\"/>\n",
              "  </svg>\n",
              "    </button>\n",
              "\n",
              "  <style>\n",
              "    .colab-df-container {\n",
              "      display:flex;\n",
              "      gap: 12px;\n",
              "    }\n",
              "\n",
              "    .colab-df-convert {\n",
              "      background-color: #E8F0FE;\n",
              "      border: none;\n",
              "      border-radius: 50%;\n",
              "      cursor: pointer;\n",
              "      display: none;\n",
              "      fill: #1967D2;\n",
              "      height: 32px;\n",
              "      padding: 0 0 0 0;\n",
              "      width: 32px;\n",
              "    }\n",
              "\n",
              "    .colab-df-convert:hover {\n",
              "      background-color: #E2EBFA;\n",
              "      box-shadow: 0px 1px 2px rgba(60, 64, 67, 0.3), 0px 1px 3px 1px rgba(60, 64, 67, 0.15);\n",
              "      fill: #174EA6;\n",
              "    }\n",
              "\n",
              "    .colab-df-buttons div {\n",
              "      margin-bottom: 4px;\n",
              "    }\n",
              "\n",
              "    [theme=dark] .colab-df-convert {\n",
              "      background-color: #3B4455;\n",
              "      fill: #D2E3FC;\n",
              "    }\n",
              "\n",
              "    [theme=dark] .colab-df-convert:hover {\n",
              "      background-color: #434B5C;\n",
              "      box-shadow: 0px 1px 3px 1px rgba(0, 0, 0, 0.15);\n",
              "      filter: drop-shadow(0px 1px 2px rgba(0, 0, 0, 0.3));\n",
              "      fill: #FFFFFF;\n",
              "    }\n",
              "  </style>\n",
              "\n",
              "    <script>\n",
              "      const buttonEl =\n",
              "        document.querySelector('#df-ba87f1af-d500-46e6-a8c3-8e87920b0a22 button.colab-df-convert');\n",
              "      buttonEl.style.display =\n",
              "        google.colab.kernel.accessAllowed ? 'block' : 'none';\n",
              "\n",
              "      async function convertToInteractive(key) {\n",
              "        const element = document.querySelector('#df-ba87f1af-d500-46e6-a8c3-8e87920b0a22');\n",
              "        const dataTable =\n",
              "          await google.colab.kernel.invokeFunction('convertToInteractive',\n",
              "                                                    [key], {});\n",
              "        if (!dataTable) return;\n",
              "\n",
              "        const docLinkHtml = 'Like what you see? Visit the ' +\n",
              "          '<a target=\"_blank\" href=https://colab.research.google.com/notebooks/data_table.ipynb>data table notebook</a>'\n",
              "          + ' to learn more about interactive tables.';\n",
              "        element.innerHTML = '';\n",
              "        dataTable['output_type'] = 'display_data';\n",
              "        await google.colab.output.renderOutput(dataTable, element);\n",
              "        const docLink = document.createElement('div');\n",
              "        docLink.innerHTML = docLinkHtml;\n",
              "        element.appendChild(docLink);\n",
              "      }\n",
              "    </script>\n",
              "  </div>\n",
              "\n",
              "\n",
              "    <div id=\"df-30ff00c3-19f6-4b48-acef-2ebab42febaf\">\n",
              "      <button class=\"colab-df-quickchart\" onclick=\"quickchart('df-30ff00c3-19f6-4b48-acef-2ebab42febaf')\"\n",
              "                title=\"Suggest charts\"\n",
              "                style=\"display:none;\">\n",
              "\n",
              "<svg xmlns=\"http://www.w3.org/2000/svg\" height=\"24px\"viewBox=\"0 0 24 24\"\n",
              "     width=\"24px\">\n",
              "    <g>\n",
              "        <path d=\"M19 3H5c-1.1 0-2 .9-2 2v14c0 1.1.9 2 2 2h14c1.1 0 2-.9 2-2V5c0-1.1-.9-2-2-2zM9 17H7v-7h2v7zm4 0h-2V7h2v10zm4 0h-2v-4h2v4z\"/>\n",
              "    </g>\n",
              "</svg>\n",
              "      </button>\n",
              "\n",
              "<style>\n",
              "  .colab-df-quickchart {\n",
              "      --bg-color: #E8F0FE;\n",
              "      --fill-color: #1967D2;\n",
              "      --hover-bg-color: #E2EBFA;\n",
              "      --hover-fill-color: #174EA6;\n",
              "      --disabled-fill-color: #AAA;\n",
              "      --disabled-bg-color: #DDD;\n",
              "  }\n",
              "\n",
              "  [theme=dark] .colab-df-quickchart {\n",
              "      --bg-color: #3B4455;\n",
              "      --fill-color: #D2E3FC;\n",
              "      --hover-bg-color: #434B5C;\n",
              "      --hover-fill-color: #FFFFFF;\n",
              "      --disabled-bg-color: #3B4455;\n",
              "      --disabled-fill-color: #666;\n",
              "  }\n",
              "\n",
              "  .colab-df-quickchart {\n",
              "    background-color: var(--bg-color);\n",
              "    border: none;\n",
              "    border-radius: 50%;\n",
              "    cursor: pointer;\n",
              "    display: none;\n",
              "    fill: var(--fill-color);\n",
              "    height: 32px;\n",
              "    padding: 0;\n",
              "    width: 32px;\n",
              "  }\n",
              "\n",
              "  .colab-df-quickchart:hover {\n",
              "    background-color: var(--hover-bg-color);\n",
              "    box-shadow: 0 1px 2px rgba(60, 64, 67, 0.3), 0 1px 3px 1px rgba(60, 64, 67, 0.15);\n",
              "    fill: var(--button-hover-fill-color);\n",
              "  }\n",
              "\n",
              "  .colab-df-quickchart-complete:disabled,\n",
              "  .colab-df-quickchart-complete:disabled:hover {\n",
              "    background-color: var(--disabled-bg-color);\n",
              "    fill: var(--disabled-fill-color);\n",
              "    box-shadow: none;\n",
              "  }\n",
              "\n",
              "  .colab-df-spinner {\n",
              "    border: 2px solid var(--fill-color);\n",
              "    border-color: transparent;\n",
              "    border-bottom-color: var(--fill-color);\n",
              "    animation:\n",
              "      spin 1s steps(1) infinite;\n",
              "  }\n",
              "\n",
              "  @keyframes spin {\n",
              "    0% {\n",
              "      border-color: transparent;\n",
              "      border-bottom-color: var(--fill-color);\n",
              "      border-left-color: var(--fill-color);\n",
              "    }\n",
              "    20% {\n",
              "      border-color: transparent;\n",
              "      border-left-color: var(--fill-color);\n",
              "      border-top-color: var(--fill-color);\n",
              "    }\n",
              "    30% {\n",
              "      border-color: transparent;\n",
              "      border-left-color: var(--fill-color);\n",
              "      border-top-color: var(--fill-color);\n",
              "      border-right-color: var(--fill-color);\n",
              "    }\n",
              "    40% {\n",
              "      border-color: transparent;\n",
              "      border-right-color: var(--fill-color);\n",
              "      border-top-color: var(--fill-color);\n",
              "    }\n",
              "    60% {\n",
              "      border-color: transparent;\n",
              "      border-right-color: var(--fill-color);\n",
              "    }\n",
              "    80% {\n",
              "      border-color: transparent;\n",
              "      border-right-color: var(--fill-color);\n",
              "      border-bottom-color: var(--fill-color);\n",
              "    }\n",
              "    90% {\n",
              "      border-color: transparent;\n",
              "      border-bottom-color: var(--fill-color);\n",
              "    }\n",
              "  }\n",
              "</style>\n",
              "\n",
              "      <script>\n",
              "        async function quickchart(key) {\n",
              "          const quickchartButtonEl =\n",
              "            document.querySelector('#' + key + ' button');\n",
              "          quickchartButtonEl.disabled = true;  // To prevent multiple clicks.\n",
              "          quickchartButtonEl.classList.add('colab-df-spinner');\n",
              "          try {\n",
              "            const charts = await google.colab.kernel.invokeFunction(\n",
              "                'suggestCharts', [key], {});\n",
              "          } catch (error) {\n",
              "            console.error('Error during call to suggestCharts:', error);\n",
              "          }\n",
              "          quickchartButtonEl.classList.remove('colab-df-spinner');\n",
              "          quickchartButtonEl.classList.add('colab-df-quickchart-complete');\n",
              "        }\n",
              "        (() => {\n",
              "          let quickchartButtonEl =\n",
              "            document.querySelector('#df-30ff00c3-19f6-4b48-acef-2ebab42febaf button');\n",
              "          quickchartButtonEl.style.display =\n",
              "            google.colab.kernel.accessAllowed ? 'block' : 'none';\n",
              "        })();\n",
              "      </script>\n",
              "    </div>\n",
              "\n",
              "    </div>\n",
              "  </div>\n"
            ],
            "application/vnd.google.colaboratory.intrinsic+json": {
              "type": "dataframe",
              "variable_name": "df",
              "summary": "{\n  \"name\": \"df\",\n  \"rows\": 9332,\n  \"fields\": [\n    {\n      \"column\": \"answer\",\n      \"properties\": {\n        \"dtype\": \"string\",\n        \"num_unique_values\": 9164,\n        \"samples\": [\n          \"b\\u1ec7nh nh\\u00e2n suy th\\u1eadn m\\u1ea1n giai \\u0111o\\u1ea1n cu\\u1ed1i - ch\\u1ea1y th\\u1eadn nh\\u00e2n t\\u1ea1o th\\u01b0\\u1eddng c\\u00f3 \\u00edt ho\\u1eb7c kh\\u00f4ng c\\u00f3 n\\u01b0\\u1edbc ti\\u1ec3u v\\u00e0 kh\\u1ea3 n\\u0103ng \\u0111\\u00e0o th\\u1ea3i kali ra kh\\u1ecfi c\\u01a1 th\\u1ec3 b\\u1ecb suy gi\\u1ea3m. h\\u1ea7u nh\\u01b0, kali \\u0111\\u01b0a v\\u00e0o c\\u01a1 th\\u1ec3 qua \\u0103n u\\u1ed1ng s\\u1ebd ch\\u1ee7 y\\u1ebfu \\u0111\\u01b0\\u1ee3c th\\u1ea3i ra ngo\\u00e0i qua l\\u1ecdc m\\u00e1u. nhi\\u1ec1u tr\\u01b0\\u1eddng h\\u1ee3p \\u0103n th\\u1ee9c \\u0103n c\\u00f3 ch\\u1ee9a nhi\\u1ec1u kali l\\u00e0m cho n\\u1ed3ng \\u0111\\u1ed9 kali m\\u00e1u t\\u0103ng cao, n\\u1ebfu kh\\u00f4ng k\\u1ecbp l\\u1ecdc m\\u00e1u c\\u00f3 th\\u1ec3 nguy hi\\u1ec3m \\u0111\\u1ebfn t\\u00ednh m\\u1ea1ng. v\\u00ec v\\u1eady, \\u0111\\u1ec3 ph\\u00f2ng tr\\u00e1nh tai bi\\u1ebfn kali m\\u00e1u cao \\u1edf b\\u1ec7nh nh\\u00e2n l\\u1ecdc m\\u00e1u c\\u1ea7n tr\\u00e1nh \\u0103n th\\u1ee9c \\u0103n c\\u00f3 ch\\u1ee9a nhi\\u1ec1u kali. b\\u1ea1n n\\u00ean \\u0111\\u01b0a cha \\u0111i t\\u01b0 v\\u1ea5n chuy\\u00ean gia dinh d\\u01b0\\u1ee1ng \\u0111\\u1ec3 \\u0111\\u01b0\\u1ee3c t\\u01b0 v\\u1ea5n ch\\u1ebf \\u0111\\u1ed9 \\u0103n h\\u1ee3p l\\u00fd.\",\n          \"! nh\\u01b0 b\\u1ea1n m\\u00f4 t\\u1ea3 th\\u00ec c\\u00f3 th\\u1ec3 ngh\\u0129 nhi\\u1ec1u t\\u1edbi kh\\u1ea3 n\\u0103ng m\\u1eaft b\\u1ea1n b\\u1ecb r\\u1ed1i lo\\u1ea1n \\u0111i\\u1ec1u ti\\u1ebft. ho\\u1eb7c do t\\u1ed5n th\\u01b0\\u01a1ng d\\u00e2y th\\u1ea7n kinh chi ph\\u1ed1i v\\u00f9ng m\\u1eaft (d\\u00e2y th\\u1ea7n kinh s\\u1ed1 v , d\\u00e2y vii ...\",\n          \"\\u0111\\u1ed1i v\\u1edbi c\\u00e2u h\\u1ecfi: \\u201cth\\u01b0\\u1eddng xuy\\u00ean cho\\u00e1ng v\\u00e1ng \\u0111\\u1ea7u k\\u00e8m theo t\\u00ea nh\\u1ee9c tay l\\u00e0 d\\u1ea5u hi\\u1ec7u b\\u1ec7nh g\\u00ec?\\u201d b\\u00e1c s\\u0129 xin \\u0111\\u01b0\\u1ee3c gi\\u1ea3i \\u0111\\u00e1p nh\\u01b0 sau: v\\u1edbi tri\\u1ec7u ch\\u1ee9ng m\\u00f4 t\\u1ea3 nhi\\u1ec1u kh\\u1ea3 n\\u0103ng b\\u1ea1n b\\u1ecb thi\\u1ebfu m\\u00e1u. c\\u00f2n tri\\u1ec7u ch\\u1ee9ng t\\u00ea nh\\u1ee9c tay c\\u00f3 th\\u1ec3 k\\u00e8m theo vi\\u00eam th\\u1ea7n kinh ngo\\u1ea1i bi\\u00ean. ngo\\u00e0i ra c\\u00f3 m\\u1ed9t s\\u1ed1 b\\u1ec7nh tim m\\u1ea1ch c\\u0169ng c\\u00f3 tri\\u1ec7u ch\\u1ee9ng nh\\u01b0 b\\u1ea1n m\\u00f4 t\\u1ea3. b\\u1ea1n n\\u00ean \\u0111\\u1ebfn b\\u1ec7nh vi\\u1ec7n \\u0111\\u1ec3 kh\\u00e1m v\\u00e0 \\u0111i\\u1ec1u tr\\u1ecb, v\\u00ec ph\\u1ea3i c\\u1ea7n l\\u00e0m m\\u1ed9t s\\u1ed1 x\\u00e9t nghi\\u1ec7m \\u0111\\u1ec3 c\\u00f3 th\\u00f4ng tin ch\\u1ea9n \\u0111o\\u00e1n b\\u1ec7nh.\"\n        ],\n        \"semantic_type\": \"\",\n        \"description\": \"\"\n      }\n    },\n    {\n      \"column\": \"question\",\n      \"properties\": {\n        \"dtype\": \"string\",\n        \"num_unique_values\": 9328,\n        \"samples\": [\n          \"\\u1ea1. v\\u00e0i tu\\u1ea7n tr\\u01b0\\u1edbc \\u1edf tay ph\\u1ea3i c\\u1ee7a t\\u00f4i c\\u00f3 n\\u1ed5i m\\u1ea9n to nh\\u00ecn v\\u00e0o gi\\u1ed1ng nh\\u01b0 b\\u1ecb r\\u1ebft c\\u1eafn nh\\u01b0ng kh\\u00f4ng c\\u00f3 d\\u1ea5u v\\u1ebft g\\u00ec c\\u1ea3, v\\u00e0i ng\\u00e0y sau th\\u00ec m\\u1eaft tr\\u00e1i c\\u1ee7a t\\u00f4i b\\u1ecb ng\\u1ee9a v\\u00e0 s\\u01b0ng l\\u00ean. hi\\u1ec7n t\\u1ea1i b\\u00ean trong mi\\u1ec7ng t\\u00f4i c\\u00f3 1 c\\u1ee5c b\\u1ecb c\\u1ed9m gi\\u1ed1ng nh\\u01b0 v\\u1ebft mu\\u1ed7i c\\u1eafn v\\u1eady. xin h\\u1ecfi b\\u00e1c s\\u0129 c\\u00f3 ph\\u1ea3i t\\u00f4i b\\u1ecb s\\u00e1n ch\\u00f3 kh\\u00f4ng?\",\n          \"xin t\\u00f4i l\\u00e0m x\\u00e9t nghi\\u1ec7m th\\u00ec k\\u1ebft qu\\u1ea3 ferritin trong huy\\u1ebft thanh cao. c\\u00e1c x\\u00e9t nghi\\u1ec7m sinh h\\u00f3a v\\u00e0 huy\\u1ebft h\\u1ecdc b\\u00ecnh th\\u01b0\\u1eddng. ferritin trong huy\\u1ebft thanh cao l\\u00e0 d\\u1ea5u hi\\u1ec7u b\\u1ec7nh g\\u00ec?\",\n          \"sau khi kh\\u00e1m t\\u1ea1i m\\u1ed9t b\\u1ec7nh vi\\u1ec7n, t\\u00f4i \\u0111\\u01b0\\u1ee3c ch\\u1ea9n \\u0111o\\u00e1n b\\u1ecb b\\u1ec7nh x\\u01a1 c\\u1ee9ng r\\u1ea3i r\\u00e1c. t\\u00f4i \\u0111\\u00e3 \\u0111i\\u1ec1u tr\\u1ecb t\\u1ea1i b\\u1ec7nh vi\\u1ec7n \\u0111\\u00f3 nh\\u01b0ng b\\u1ec7nh kh\\u00f4ng thuy\\u00ean gi\\u1ea3m. hi\\u1ec7n nay t\\u00f4i b\\u1ecb li\\u1ec7t hai ch\\u00e2n. t\\u00f4i mu\\u1ed1n \\u0111\\u01b0\\u1ee3c b\\u00e1c s\\u0129 t\\u01b0 v\\u1ea5n gi\\u00fap t\\u00f4i.\"\n        ],\n        \"semantic_type\": \"\",\n        \"description\": \"\"\n      }\n    }\n  ]\n}"
            }
          },
          "metadata": {},
          "execution_count": 47
        }
      ]
    },
    {
      "cell_type": "code",
      "source": [
        "# Apply word_tokenize to handle Vietnamese\n",
        "df['question_tokens'] = df['question'].apply(word_tokenize)\n",
        "df['answer_tokens'] = df['answer'].apply(word_tokenize)\n",
        "\n",
        "print(\"Tokenized dataset:\")\n",
        "df.head()"
      ],
      "metadata": {
        "colab": {
          "base_uri": "https://localhost:8080/",
          "height": 224
        },
        "id": "X1z7fpe1penX",
        "outputId": "a8fe0645-0b6f-4dbc-c3b0-6d33a0714323"
      },
      "execution_count": null,
      "outputs": [
        {
          "output_type": "stream",
          "name": "stdout",
          "text": [
            "Tokenized dataset:\n"
          ]
        },
        {
          "output_type": "execute_result",
          "data": {
            "text/plain": [
              "                                              answer  \\\n",
              "0  răng bạn hiện tại có mủ dưới lợi gây đau nhức ...   \n",
              "1  triệu chứng nốt mụn đỏ vùng dưới lưỡi, đau khi...   \n",
              "2  các triệu chứng sốt, đau họng, amidan có mủ tá...   \n",
              "3  các dấu hiệu: nghẹt mũi, vướng họng có thể gặp...   \n",
              "4  tăng tiết mồ hôi nguyên phát thường do rối loạ...   \n",
              "\n",
              "                                            question  \\\n",
              "0  răng cháu hiện tại có mủ ở dưới lợi nhưng khi ...   \n",
              "1  em thấy mặt dưới, phía cuống lưỡi của mình có ...   \n",
              "2  từ tháng 4/2020, em mới xuất hiện lần đầu triệ...   \n",
              "3  dạo gần đây, mỗi tối ngủ con hay bị nghẹt mũi ...   \n",
              "4  em bị tăng tiết mồ hôi, nhất là vùng mặt và ng...   \n",
              "\n",
              "                                     question_tokens  \\\n",
              "0  [răng, cháu, hiện tại, có, mủ, ở, dưới, lợi, n...   \n",
              "1  [em, thấy, mặt, dưới, ,, phía, cuống lưỡi, của...   \n",
              "2  [từ, tháng, 4/2020, ,, em, mới, xuất hiện, lần...   \n",
              "3  [dạo, gần, đây, ,, mỗi, tối, ngủ, con, hay, bị...   \n",
              "4  [em, bị, tăng, tiết, mồ hôi, ,, nhất là, vùng,...   \n",
              "\n",
              "                                       answer_tokens  \n",
              "0  [răng, bạn, hiện tại, có, mủ, dưới, lợi, gây, ...  \n",
              "1  [triệu chứng, nốt, mụn, đỏ, vùng, dưới, lưỡi, ...  \n",
              "2  [các, triệu chứng, sốt, ,, đau họng, ,, amidan...  \n",
              "3  [các, dấu hiệu, :, nghẹt, mũi, ,, vướng họng, ...  \n",
              "4  [tăng, tiết, mồ hôi, nguyên phát, thường, do, ...  "
            ],
            "text/html": [
              "\n",
              "  <div id=\"df-f017b625-9620-450f-94b4-d4f77331e292\" class=\"colab-df-container\">\n",
              "    <div>\n",
              "<style scoped>\n",
              "    .dataframe tbody tr th:only-of-type {\n",
              "        vertical-align: middle;\n",
              "    }\n",
              "\n",
              "    .dataframe tbody tr th {\n",
              "        vertical-align: top;\n",
              "    }\n",
              "\n",
              "    .dataframe thead th {\n",
              "        text-align: right;\n",
              "    }\n",
              "</style>\n",
              "<table border=\"1\" class=\"dataframe\">\n",
              "  <thead>\n",
              "    <tr style=\"text-align: right;\">\n",
              "      <th></th>\n",
              "      <th>answer</th>\n",
              "      <th>question</th>\n",
              "      <th>question_tokens</th>\n",
              "      <th>answer_tokens</th>\n",
              "    </tr>\n",
              "  </thead>\n",
              "  <tbody>\n",
              "    <tr>\n",
              "      <th>0</th>\n",
              "      <td>răng bạn hiện tại có mủ dưới lợi gây đau nhức ...</td>\n",
              "      <td>răng cháu hiện tại có mủ ở dưới lợi nhưng khi ...</td>\n",
              "      <td>[răng, cháu, hiện tại, có, mủ, ở, dưới, lợi, n...</td>\n",
              "      <td>[răng, bạn, hiện tại, có, mủ, dưới, lợi, gây, ...</td>\n",
              "    </tr>\n",
              "    <tr>\n",
              "      <th>1</th>\n",
              "      <td>triệu chứng nốt mụn đỏ vùng dưới lưỡi, đau khi...</td>\n",
              "      <td>em thấy mặt dưới, phía cuống lưỡi của mình có ...</td>\n",
              "      <td>[em, thấy, mặt, dưới, ,, phía, cuống lưỡi, của...</td>\n",
              "      <td>[triệu chứng, nốt, mụn, đỏ, vùng, dưới, lưỡi, ...</td>\n",
              "    </tr>\n",
              "    <tr>\n",
              "      <th>2</th>\n",
              "      <td>các triệu chứng sốt, đau họng, amidan có mủ tá...</td>\n",
              "      <td>từ tháng 4/2020, em mới xuất hiện lần đầu triệ...</td>\n",
              "      <td>[từ, tháng, 4/2020, ,, em, mới, xuất hiện, lần...</td>\n",
              "      <td>[các, triệu chứng, sốt, ,, đau họng, ,, amidan...</td>\n",
              "    </tr>\n",
              "    <tr>\n",
              "      <th>3</th>\n",
              "      <td>các dấu hiệu: nghẹt mũi, vướng họng có thể gặp...</td>\n",
              "      <td>dạo gần đây, mỗi tối ngủ con hay bị nghẹt mũi ...</td>\n",
              "      <td>[dạo, gần, đây, ,, mỗi, tối, ngủ, con, hay, bị...</td>\n",
              "      <td>[các, dấu hiệu, :, nghẹt, mũi, ,, vướng họng, ...</td>\n",
              "    </tr>\n",
              "    <tr>\n",
              "      <th>4</th>\n",
              "      <td>tăng tiết mồ hôi nguyên phát thường do rối loạ...</td>\n",
              "      <td>em bị tăng tiết mồ hôi, nhất là vùng mặt và ng...</td>\n",
              "      <td>[em, bị, tăng, tiết, mồ hôi, ,, nhất là, vùng,...</td>\n",
              "      <td>[tăng, tiết, mồ hôi, nguyên phát, thường, do, ...</td>\n",
              "    </tr>\n",
              "  </tbody>\n",
              "</table>\n",
              "</div>\n",
              "    <div class=\"colab-df-buttons\">\n",
              "\n",
              "  <div class=\"colab-df-container\">\n",
              "    <button class=\"colab-df-convert\" onclick=\"convertToInteractive('df-f017b625-9620-450f-94b4-d4f77331e292')\"\n",
              "            title=\"Convert this dataframe to an interactive table.\"\n",
              "            style=\"display:none;\">\n",
              "\n",
              "  <svg xmlns=\"http://www.w3.org/2000/svg\" height=\"24px\" viewBox=\"0 -960 960 960\">\n",
              "    <path d=\"M120-120v-720h720v720H120Zm60-500h600v-160H180v160Zm220 220h160v-160H400v160Zm0 220h160v-160H400v160ZM180-400h160v-160H180v160Zm440 0h160v-160H620v160ZM180-180h160v-160H180v160Zm440 0h160v-160H620v160Z\"/>\n",
              "  </svg>\n",
              "    </button>\n",
              "\n",
              "  <style>\n",
              "    .colab-df-container {\n",
              "      display:flex;\n",
              "      gap: 12px;\n",
              "    }\n",
              "\n",
              "    .colab-df-convert {\n",
              "      background-color: #E8F0FE;\n",
              "      border: none;\n",
              "      border-radius: 50%;\n",
              "      cursor: pointer;\n",
              "      display: none;\n",
              "      fill: #1967D2;\n",
              "      height: 32px;\n",
              "      padding: 0 0 0 0;\n",
              "      width: 32px;\n",
              "    }\n",
              "\n",
              "    .colab-df-convert:hover {\n",
              "      background-color: #E2EBFA;\n",
              "      box-shadow: 0px 1px 2px rgba(60, 64, 67, 0.3), 0px 1px 3px 1px rgba(60, 64, 67, 0.15);\n",
              "      fill: #174EA6;\n",
              "    }\n",
              "\n",
              "    .colab-df-buttons div {\n",
              "      margin-bottom: 4px;\n",
              "    }\n",
              "\n",
              "    [theme=dark] .colab-df-convert {\n",
              "      background-color: #3B4455;\n",
              "      fill: #D2E3FC;\n",
              "    }\n",
              "\n",
              "    [theme=dark] .colab-df-convert:hover {\n",
              "      background-color: #434B5C;\n",
              "      box-shadow: 0px 1px 3px 1px rgba(0, 0, 0, 0.15);\n",
              "      filter: drop-shadow(0px 1px 2px rgba(0, 0, 0, 0.3));\n",
              "      fill: #FFFFFF;\n",
              "    }\n",
              "  </style>\n",
              "\n",
              "    <script>\n",
              "      const buttonEl =\n",
              "        document.querySelector('#df-f017b625-9620-450f-94b4-d4f77331e292 button.colab-df-convert');\n",
              "      buttonEl.style.display =\n",
              "        google.colab.kernel.accessAllowed ? 'block' : 'none';\n",
              "\n",
              "      async function convertToInteractive(key) {\n",
              "        const element = document.querySelector('#df-f017b625-9620-450f-94b4-d4f77331e292');\n",
              "        const dataTable =\n",
              "          await google.colab.kernel.invokeFunction('convertToInteractive',\n",
              "                                                    [key], {});\n",
              "        if (!dataTable) return;\n",
              "\n",
              "        const docLinkHtml = 'Like what you see? Visit the ' +\n",
              "          '<a target=\"_blank\" href=https://colab.research.google.com/notebooks/data_table.ipynb>data table notebook</a>'\n",
              "          + ' to learn more about interactive tables.';\n",
              "        element.innerHTML = '';\n",
              "        dataTable['output_type'] = 'display_data';\n",
              "        await google.colab.output.renderOutput(dataTable, element);\n",
              "        const docLink = document.createElement('div');\n",
              "        docLink.innerHTML = docLinkHtml;\n",
              "        element.appendChild(docLink);\n",
              "      }\n",
              "    </script>\n",
              "  </div>\n",
              "\n",
              "\n",
              "    <div id=\"df-b8815f36-f473-47ae-bb60-bcf2e980aafd\">\n",
              "      <button class=\"colab-df-quickchart\" onclick=\"quickchart('df-b8815f36-f473-47ae-bb60-bcf2e980aafd')\"\n",
              "                title=\"Suggest charts\"\n",
              "                style=\"display:none;\">\n",
              "\n",
              "<svg xmlns=\"http://www.w3.org/2000/svg\" height=\"24px\"viewBox=\"0 0 24 24\"\n",
              "     width=\"24px\">\n",
              "    <g>\n",
              "        <path d=\"M19 3H5c-1.1 0-2 .9-2 2v14c0 1.1.9 2 2 2h14c1.1 0 2-.9 2-2V5c0-1.1-.9-2-2-2zM9 17H7v-7h2v7zm4 0h-2V7h2v10zm4 0h-2v-4h2v4z\"/>\n",
              "    </g>\n",
              "</svg>\n",
              "      </button>\n",
              "\n",
              "<style>\n",
              "  .colab-df-quickchart {\n",
              "      --bg-color: #E8F0FE;\n",
              "      --fill-color: #1967D2;\n",
              "      --hover-bg-color: #E2EBFA;\n",
              "      --hover-fill-color: #174EA6;\n",
              "      --disabled-fill-color: #AAA;\n",
              "      --disabled-bg-color: #DDD;\n",
              "  }\n",
              "\n",
              "  [theme=dark] .colab-df-quickchart {\n",
              "      --bg-color: #3B4455;\n",
              "      --fill-color: #D2E3FC;\n",
              "      --hover-bg-color: #434B5C;\n",
              "      --hover-fill-color: #FFFFFF;\n",
              "      --disabled-bg-color: #3B4455;\n",
              "      --disabled-fill-color: #666;\n",
              "  }\n",
              "\n",
              "  .colab-df-quickchart {\n",
              "    background-color: var(--bg-color);\n",
              "    border: none;\n",
              "    border-radius: 50%;\n",
              "    cursor: pointer;\n",
              "    display: none;\n",
              "    fill: var(--fill-color);\n",
              "    height: 32px;\n",
              "    padding: 0;\n",
              "    width: 32px;\n",
              "  }\n",
              "\n",
              "  .colab-df-quickchart:hover {\n",
              "    background-color: var(--hover-bg-color);\n",
              "    box-shadow: 0 1px 2px rgba(60, 64, 67, 0.3), 0 1px 3px 1px rgba(60, 64, 67, 0.15);\n",
              "    fill: var(--button-hover-fill-color);\n",
              "  }\n",
              "\n",
              "  .colab-df-quickchart-complete:disabled,\n",
              "  .colab-df-quickchart-complete:disabled:hover {\n",
              "    background-color: var(--disabled-bg-color);\n",
              "    fill: var(--disabled-fill-color);\n",
              "    box-shadow: none;\n",
              "  }\n",
              "\n",
              "  .colab-df-spinner {\n",
              "    border: 2px solid var(--fill-color);\n",
              "    border-color: transparent;\n",
              "    border-bottom-color: var(--fill-color);\n",
              "    animation:\n",
              "      spin 1s steps(1) infinite;\n",
              "  }\n",
              "\n",
              "  @keyframes spin {\n",
              "    0% {\n",
              "      border-color: transparent;\n",
              "      border-bottom-color: var(--fill-color);\n",
              "      border-left-color: var(--fill-color);\n",
              "    }\n",
              "    20% {\n",
              "      border-color: transparent;\n",
              "      border-left-color: var(--fill-color);\n",
              "      border-top-color: var(--fill-color);\n",
              "    }\n",
              "    30% {\n",
              "      border-color: transparent;\n",
              "      border-left-color: var(--fill-color);\n",
              "      border-top-color: var(--fill-color);\n",
              "      border-right-color: var(--fill-color);\n",
              "    }\n",
              "    40% {\n",
              "      border-color: transparent;\n",
              "      border-right-color: var(--fill-color);\n",
              "      border-top-color: var(--fill-color);\n",
              "    }\n",
              "    60% {\n",
              "      border-color: transparent;\n",
              "      border-right-color: var(--fill-color);\n",
              "    }\n",
              "    80% {\n",
              "      border-color: transparent;\n",
              "      border-right-color: var(--fill-color);\n",
              "      border-bottom-color: var(--fill-color);\n",
              "    }\n",
              "    90% {\n",
              "      border-color: transparent;\n",
              "      border-bottom-color: var(--fill-color);\n",
              "    }\n",
              "  }\n",
              "</style>\n",
              "\n",
              "      <script>\n",
              "        async function quickchart(key) {\n",
              "          const quickchartButtonEl =\n",
              "            document.querySelector('#' + key + ' button');\n",
              "          quickchartButtonEl.disabled = true;  // To prevent multiple clicks.\n",
              "          quickchartButtonEl.classList.add('colab-df-spinner');\n",
              "          try {\n",
              "            const charts = await google.colab.kernel.invokeFunction(\n",
              "                'suggestCharts', [key], {});\n",
              "          } catch (error) {\n",
              "            console.error('Error during call to suggestCharts:', error);\n",
              "          }\n",
              "          quickchartButtonEl.classList.remove('colab-df-spinner');\n",
              "          quickchartButtonEl.classList.add('colab-df-quickchart-complete');\n",
              "        }\n",
              "        (() => {\n",
              "          let quickchartButtonEl =\n",
              "            document.querySelector('#df-b8815f36-f473-47ae-bb60-bcf2e980aafd button');\n",
              "          quickchartButtonEl.style.display =\n",
              "            google.colab.kernel.accessAllowed ? 'block' : 'none';\n",
              "        })();\n",
              "      </script>\n",
              "    </div>\n",
              "\n",
              "    </div>\n",
              "  </div>\n"
            ],
            "application/vnd.google.colaboratory.intrinsic+json": {
              "type": "dataframe",
              "variable_name": "df",
              "summary": "{\n  \"name\": \"df\",\n  \"rows\": 9332,\n  \"fields\": [\n    {\n      \"column\": \"answer\",\n      \"properties\": {\n        \"dtype\": \"string\",\n        \"num_unique_values\": 9164,\n        \"samples\": [\n          \"b\\u1ec7nh nh\\u00e2n suy th\\u1eadn m\\u1ea1n giai \\u0111o\\u1ea1n cu\\u1ed1i - ch\\u1ea1y th\\u1eadn nh\\u00e2n t\\u1ea1o th\\u01b0\\u1eddng c\\u00f3 \\u00edt ho\\u1eb7c kh\\u00f4ng c\\u00f3 n\\u01b0\\u1edbc ti\\u1ec3u v\\u00e0 kh\\u1ea3 n\\u0103ng \\u0111\\u00e0o th\\u1ea3i kali ra kh\\u1ecfi c\\u01a1 th\\u1ec3 b\\u1ecb suy gi\\u1ea3m. h\\u1ea7u nh\\u01b0, kali \\u0111\\u01b0a v\\u00e0o c\\u01a1 th\\u1ec3 qua \\u0103n u\\u1ed1ng s\\u1ebd ch\\u1ee7 y\\u1ebfu \\u0111\\u01b0\\u1ee3c th\\u1ea3i ra ngo\\u00e0i qua l\\u1ecdc m\\u00e1u. nhi\\u1ec1u tr\\u01b0\\u1eddng h\\u1ee3p \\u0103n th\\u1ee9c \\u0103n c\\u00f3 ch\\u1ee9a nhi\\u1ec1u kali l\\u00e0m cho n\\u1ed3ng \\u0111\\u1ed9 kali m\\u00e1u t\\u0103ng cao, n\\u1ebfu kh\\u00f4ng k\\u1ecbp l\\u1ecdc m\\u00e1u c\\u00f3 th\\u1ec3 nguy hi\\u1ec3m \\u0111\\u1ebfn t\\u00ednh m\\u1ea1ng. v\\u00ec v\\u1eady, \\u0111\\u1ec3 ph\\u00f2ng tr\\u00e1nh tai bi\\u1ebfn kali m\\u00e1u cao \\u1edf b\\u1ec7nh nh\\u00e2n l\\u1ecdc m\\u00e1u c\\u1ea7n tr\\u00e1nh \\u0103n th\\u1ee9c \\u0103n c\\u00f3 ch\\u1ee9a nhi\\u1ec1u kali. b\\u1ea1n n\\u00ean \\u0111\\u01b0a cha \\u0111i t\\u01b0 v\\u1ea5n chuy\\u00ean gia dinh d\\u01b0\\u1ee1ng \\u0111\\u1ec3 \\u0111\\u01b0\\u1ee3c t\\u01b0 v\\u1ea5n ch\\u1ebf \\u0111\\u1ed9 \\u0103n h\\u1ee3p l\\u00fd.\",\n          \"! nh\\u01b0 b\\u1ea1n m\\u00f4 t\\u1ea3 th\\u00ec c\\u00f3 th\\u1ec3 ngh\\u0129 nhi\\u1ec1u t\\u1edbi kh\\u1ea3 n\\u0103ng m\\u1eaft b\\u1ea1n b\\u1ecb r\\u1ed1i lo\\u1ea1n \\u0111i\\u1ec1u ti\\u1ebft. ho\\u1eb7c do t\\u1ed5n th\\u01b0\\u01a1ng d\\u00e2y th\\u1ea7n kinh chi ph\\u1ed1i v\\u00f9ng m\\u1eaft (d\\u00e2y th\\u1ea7n kinh s\\u1ed1 v , d\\u00e2y vii ...\",\n          \"\\u0111\\u1ed1i v\\u1edbi c\\u00e2u h\\u1ecfi: \\u201cth\\u01b0\\u1eddng xuy\\u00ean cho\\u00e1ng v\\u00e1ng \\u0111\\u1ea7u k\\u00e8m theo t\\u00ea nh\\u1ee9c tay l\\u00e0 d\\u1ea5u hi\\u1ec7u b\\u1ec7nh g\\u00ec?\\u201d b\\u00e1c s\\u0129 xin \\u0111\\u01b0\\u1ee3c gi\\u1ea3i \\u0111\\u00e1p nh\\u01b0 sau: v\\u1edbi tri\\u1ec7u ch\\u1ee9ng m\\u00f4 t\\u1ea3 nhi\\u1ec1u kh\\u1ea3 n\\u0103ng b\\u1ea1n b\\u1ecb thi\\u1ebfu m\\u00e1u. c\\u00f2n tri\\u1ec7u ch\\u1ee9ng t\\u00ea nh\\u1ee9c tay c\\u00f3 th\\u1ec3 k\\u00e8m theo vi\\u00eam th\\u1ea7n kinh ngo\\u1ea1i bi\\u00ean. ngo\\u00e0i ra c\\u00f3 m\\u1ed9t s\\u1ed1 b\\u1ec7nh tim m\\u1ea1ch c\\u0169ng c\\u00f3 tri\\u1ec7u ch\\u1ee9ng nh\\u01b0 b\\u1ea1n m\\u00f4 t\\u1ea3. b\\u1ea1n n\\u00ean \\u0111\\u1ebfn b\\u1ec7nh vi\\u1ec7n \\u0111\\u1ec3 kh\\u00e1m v\\u00e0 \\u0111i\\u1ec1u tr\\u1ecb, v\\u00ec ph\\u1ea3i c\\u1ea7n l\\u00e0m m\\u1ed9t s\\u1ed1 x\\u00e9t nghi\\u1ec7m \\u0111\\u1ec3 c\\u00f3 th\\u00f4ng tin ch\\u1ea9n \\u0111o\\u00e1n b\\u1ec7nh.\"\n        ],\n        \"semantic_type\": \"\",\n        \"description\": \"\"\n      }\n    },\n    {\n      \"column\": \"question\",\n      \"properties\": {\n        \"dtype\": \"string\",\n        \"num_unique_values\": 9328,\n        \"samples\": [\n          \"\\u1ea1. v\\u00e0i tu\\u1ea7n tr\\u01b0\\u1edbc \\u1edf tay ph\\u1ea3i c\\u1ee7a t\\u00f4i c\\u00f3 n\\u1ed5i m\\u1ea9n to nh\\u00ecn v\\u00e0o gi\\u1ed1ng nh\\u01b0 b\\u1ecb r\\u1ebft c\\u1eafn nh\\u01b0ng kh\\u00f4ng c\\u00f3 d\\u1ea5u v\\u1ebft g\\u00ec c\\u1ea3, v\\u00e0i ng\\u00e0y sau th\\u00ec m\\u1eaft tr\\u00e1i c\\u1ee7a t\\u00f4i b\\u1ecb ng\\u1ee9a v\\u00e0 s\\u01b0ng l\\u00ean. hi\\u1ec7n t\\u1ea1i b\\u00ean trong mi\\u1ec7ng t\\u00f4i c\\u00f3 1 c\\u1ee5c b\\u1ecb c\\u1ed9m gi\\u1ed1ng nh\\u01b0 v\\u1ebft mu\\u1ed7i c\\u1eafn v\\u1eady. xin h\\u1ecfi b\\u00e1c s\\u0129 c\\u00f3 ph\\u1ea3i t\\u00f4i b\\u1ecb s\\u00e1n ch\\u00f3 kh\\u00f4ng?\",\n          \"xin t\\u00f4i l\\u00e0m x\\u00e9t nghi\\u1ec7m th\\u00ec k\\u1ebft qu\\u1ea3 ferritin trong huy\\u1ebft thanh cao. c\\u00e1c x\\u00e9t nghi\\u1ec7m sinh h\\u00f3a v\\u00e0 huy\\u1ebft h\\u1ecdc b\\u00ecnh th\\u01b0\\u1eddng. ferritin trong huy\\u1ebft thanh cao l\\u00e0 d\\u1ea5u hi\\u1ec7u b\\u1ec7nh g\\u00ec?\",\n          \"sau khi kh\\u00e1m t\\u1ea1i m\\u1ed9t b\\u1ec7nh vi\\u1ec7n, t\\u00f4i \\u0111\\u01b0\\u1ee3c ch\\u1ea9n \\u0111o\\u00e1n b\\u1ecb b\\u1ec7nh x\\u01a1 c\\u1ee9ng r\\u1ea3i r\\u00e1c. t\\u00f4i \\u0111\\u00e3 \\u0111i\\u1ec1u tr\\u1ecb t\\u1ea1i b\\u1ec7nh vi\\u1ec7n \\u0111\\u00f3 nh\\u01b0ng b\\u1ec7nh kh\\u00f4ng thuy\\u00ean gi\\u1ea3m. hi\\u1ec7n nay t\\u00f4i b\\u1ecb li\\u1ec7t hai ch\\u00e2n. t\\u00f4i mu\\u1ed1n \\u0111\\u01b0\\u1ee3c b\\u00e1c s\\u0129 t\\u01b0 v\\u1ea5n gi\\u00fap t\\u00f4i.\"\n        ],\n        \"semantic_type\": \"\",\n        \"description\": \"\"\n      }\n    },\n    {\n      \"column\": \"question_tokens\",\n      \"properties\": {\n        \"dtype\": \"object\",\n        \"semantic_type\": \"\",\n        \"description\": \"\"\n      }\n    },\n    {\n      \"column\": \"answer_tokens\",\n      \"properties\": {\n        \"dtype\": \"object\",\n        \"semantic_type\": \"\",\n        \"description\": \"\"\n      }\n    }\n  ]\n}"
            }
          },
          "metadata": {},
          "execution_count": 48
        }
      ]
    },
    {
      "cell_type": "code",
      "source": [
        "# split tokenized data to save into drive\n",
        "df_processed = df[['question_tokens', 'answer_tokens']]\n",
        "\n",
        "df_processed.head()"
      ],
      "metadata": {
        "colab": {
          "base_uri": "https://localhost:8080/",
          "height": 206
        },
        "id": "vIYsk-ZbqNhc",
        "outputId": "670a4fd8-0155-483a-86d5-09df2dfff20f"
      },
      "execution_count": null,
      "outputs": [
        {
          "output_type": "execute_result",
          "data": {
            "text/plain": [
              "                                     question_tokens  \\\n",
              "0  [răng, cháu, hiện tại, có, mủ, ở, dưới, lợi, n...   \n",
              "1  [em, thấy, mặt, dưới, ,, phía, cuống lưỡi, của...   \n",
              "2  [từ, tháng, 4/2020, ,, em, mới, xuất hiện, lần...   \n",
              "3  [dạo, gần, đây, ,, mỗi, tối, ngủ, con, hay, bị...   \n",
              "4  [em, bị, tăng, tiết, mồ hôi, ,, nhất là, vùng,...   \n",
              "\n",
              "                                       answer_tokens  \n",
              "0  [răng, bạn, hiện tại, có, mủ, dưới, lợi, gây, ...  \n",
              "1  [triệu chứng, nốt, mụn, đỏ, vùng, dưới, lưỡi, ...  \n",
              "2  [các, triệu chứng, sốt, ,, đau họng, ,, amidan...  \n",
              "3  [các, dấu hiệu, :, nghẹt, mũi, ,, vướng họng, ...  \n",
              "4  [tăng, tiết, mồ hôi, nguyên phát, thường, do, ...  "
            ],
            "text/html": [
              "\n",
              "  <div id=\"df-25e6bfa7-b2dc-48ee-af2c-5d15d713ae02\" class=\"colab-df-container\">\n",
              "    <div>\n",
              "<style scoped>\n",
              "    .dataframe tbody tr th:only-of-type {\n",
              "        vertical-align: middle;\n",
              "    }\n",
              "\n",
              "    .dataframe tbody tr th {\n",
              "        vertical-align: top;\n",
              "    }\n",
              "\n",
              "    .dataframe thead th {\n",
              "        text-align: right;\n",
              "    }\n",
              "</style>\n",
              "<table border=\"1\" class=\"dataframe\">\n",
              "  <thead>\n",
              "    <tr style=\"text-align: right;\">\n",
              "      <th></th>\n",
              "      <th>question_tokens</th>\n",
              "      <th>answer_tokens</th>\n",
              "    </tr>\n",
              "  </thead>\n",
              "  <tbody>\n",
              "    <tr>\n",
              "      <th>0</th>\n",
              "      <td>[răng, cháu, hiện tại, có, mủ, ở, dưới, lợi, n...</td>\n",
              "      <td>[răng, bạn, hiện tại, có, mủ, dưới, lợi, gây, ...</td>\n",
              "    </tr>\n",
              "    <tr>\n",
              "      <th>1</th>\n",
              "      <td>[em, thấy, mặt, dưới, ,, phía, cuống lưỡi, của...</td>\n",
              "      <td>[triệu chứng, nốt, mụn, đỏ, vùng, dưới, lưỡi, ...</td>\n",
              "    </tr>\n",
              "    <tr>\n",
              "      <th>2</th>\n",
              "      <td>[từ, tháng, 4/2020, ,, em, mới, xuất hiện, lần...</td>\n",
              "      <td>[các, triệu chứng, sốt, ,, đau họng, ,, amidan...</td>\n",
              "    </tr>\n",
              "    <tr>\n",
              "      <th>3</th>\n",
              "      <td>[dạo, gần, đây, ,, mỗi, tối, ngủ, con, hay, bị...</td>\n",
              "      <td>[các, dấu hiệu, :, nghẹt, mũi, ,, vướng họng, ...</td>\n",
              "    </tr>\n",
              "    <tr>\n",
              "      <th>4</th>\n",
              "      <td>[em, bị, tăng, tiết, mồ hôi, ,, nhất là, vùng,...</td>\n",
              "      <td>[tăng, tiết, mồ hôi, nguyên phát, thường, do, ...</td>\n",
              "    </tr>\n",
              "  </tbody>\n",
              "</table>\n",
              "</div>\n",
              "    <div class=\"colab-df-buttons\">\n",
              "\n",
              "  <div class=\"colab-df-container\">\n",
              "    <button class=\"colab-df-convert\" onclick=\"convertToInteractive('df-25e6bfa7-b2dc-48ee-af2c-5d15d713ae02')\"\n",
              "            title=\"Convert this dataframe to an interactive table.\"\n",
              "            style=\"display:none;\">\n",
              "\n",
              "  <svg xmlns=\"http://www.w3.org/2000/svg\" height=\"24px\" viewBox=\"0 -960 960 960\">\n",
              "    <path d=\"M120-120v-720h720v720H120Zm60-500h600v-160H180v160Zm220 220h160v-160H400v160Zm0 220h160v-160H400v160ZM180-400h160v-160H180v160Zm440 0h160v-160H620v160ZM180-180h160v-160H180v160Zm440 0h160v-160H620v160Z\"/>\n",
              "  </svg>\n",
              "    </button>\n",
              "\n",
              "  <style>\n",
              "    .colab-df-container {\n",
              "      display:flex;\n",
              "      gap: 12px;\n",
              "    }\n",
              "\n",
              "    .colab-df-convert {\n",
              "      background-color: #E8F0FE;\n",
              "      border: none;\n",
              "      border-radius: 50%;\n",
              "      cursor: pointer;\n",
              "      display: none;\n",
              "      fill: #1967D2;\n",
              "      height: 32px;\n",
              "      padding: 0 0 0 0;\n",
              "      width: 32px;\n",
              "    }\n",
              "\n",
              "    .colab-df-convert:hover {\n",
              "      background-color: #E2EBFA;\n",
              "      box-shadow: 0px 1px 2px rgba(60, 64, 67, 0.3), 0px 1px 3px 1px rgba(60, 64, 67, 0.15);\n",
              "      fill: #174EA6;\n",
              "    }\n",
              "\n",
              "    .colab-df-buttons div {\n",
              "      margin-bottom: 4px;\n",
              "    }\n",
              "\n",
              "    [theme=dark] .colab-df-convert {\n",
              "      background-color: #3B4455;\n",
              "      fill: #D2E3FC;\n",
              "    }\n",
              "\n",
              "    [theme=dark] .colab-df-convert:hover {\n",
              "      background-color: #434B5C;\n",
              "      box-shadow: 0px 1px 3px 1px rgba(0, 0, 0, 0.15);\n",
              "      filter: drop-shadow(0px 1px 2px rgba(0, 0, 0, 0.3));\n",
              "      fill: #FFFFFF;\n",
              "    }\n",
              "  </style>\n",
              "\n",
              "    <script>\n",
              "      const buttonEl =\n",
              "        document.querySelector('#df-25e6bfa7-b2dc-48ee-af2c-5d15d713ae02 button.colab-df-convert');\n",
              "      buttonEl.style.display =\n",
              "        google.colab.kernel.accessAllowed ? 'block' : 'none';\n",
              "\n",
              "      async function convertToInteractive(key) {\n",
              "        const element = document.querySelector('#df-25e6bfa7-b2dc-48ee-af2c-5d15d713ae02');\n",
              "        const dataTable =\n",
              "          await google.colab.kernel.invokeFunction('convertToInteractive',\n",
              "                                                    [key], {});\n",
              "        if (!dataTable) return;\n",
              "\n",
              "        const docLinkHtml = 'Like what you see? Visit the ' +\n",
              "          '<a target=\"_blank\" href=https://colab.research.google.com/notebooks/data_table.ipynb>data table notebook</a>'\n",
              "          + ' to learn more about interactive tables.';\n",
              "        element.innerHTML = '';\n",
              "        dataTable['output_type'] = 'display_data';\n",
              "        await google.colab.output.renderOutput(dataTable, element);\n",
              "        const docLink = document.createElement('div');\n",
              "        docLink.innerHTML = docLinkHtml;\n",
              "        element.appendChild(docLink);\n",
              "      }\n",
              "    </script>\n",
              "  </div>\n",
              "\n",
              "\n",
              "    <div id=\"df-0072971c-b94d-42df-9abd-512bcd86f83d\">\n",
              "      <button class=\"colab-df-quickchart\" onclick=\"quickchart('df-0072971c-b94d-42df-9abd-512bcd86f83d')\"\n",
              "                title=\"Suggest charts\"\n",
              "                style=\"display:none;\">\n",
              "\n",
              "<svg xmlns=\"http://www.w3.org/2000/svg\" height=\"24px\"viewBox=\"0 0 24 24\"\n",
              "     width=\"24px\">\n",
              "    <g>\n",
              "        <path d=\"M19 3H5c-1.1 0-2 .9-2 2v14c0 1.1.9 2 2 2h14c1.1 0 2-.9 2-2V5c0-1.1-.9-2-2-2zM9 17H7v-7h2v7zm4 0h-2V7h2v10zm4 0h-2v-4h2v4z\"/>\n",
              "    </g>\n",
              "</svg>\n",
              "      </button>\n",
              "\n",
              "<style>\n",
              "  .colab-df-quickchart {\n",
              "      --bg-color: #E8F0FE;\n",
              "      --fill-color: #1967D2;\n",
              "      --hover-bg-color: #E2EBFA;\n",
              "      --hover-fill-color: #174EA6;\n",
              "      --disabled-fill-color: #AAA;\n",
              "      --disabled-bg-color: #DDD;\n",
              "  }\n",
              "\n",
              "  [theme=dark] .colab-df-quickchart {\n",
              "      --bg-color: #3B4455;\n",
              "      --fill-color: #D2E3FC;\n",
              "      --hover-bg-color: #434B5C;\n",
              "      --hover-fill-color: #FFFFFF;\n",
              "      --disabled-bg-color: #3B4455;\n",
              "      --disabled-fill-color: #666;\n",
              "  }\n",
              "\n",
              "  .colab-df-quickchart {\n",
              "    background-color: var(--bg-color);\n",
              "    border: none;\n",
              "    border-radius: 50%;\n",
              "    cursor: pointer;\n",
              "    display: none;\n",
              "    fill: var(--fill-color);\n",
              "    height: 32px;\n",
              "    padding: 0;\n",
              "    width: 32px;\n",
              "  }\n",
              "\n",
              "  .colab-df-quickchart:hover {\n",
              "    background-color: var(--hover-bg-color);\n",
              "    box-shadow: 0 1px 2px rgba(60, 64, 67, 0.3), 0 1px 3px 1px rgba(60, 64, 67, 0.15);\n",
              "    fill: var(--button-hover-fill-color);\n",
              "  }\n",
              "\n",
              "  .colab-df-quickchart-complete:disabled,\n",
              "  .colab-df-quickchart-complete:disabled:hover {\n",
              "    background-color: var(--disabled-bg-color);\n",
              "    fill: var(--disabled-fill-color);\n",
              "    box-shadow: none;\n",
              "  }\n",
              "\n",
              "  .colab-df-spinner {\n",
              "    border: 2px solid var(--fill-color);\n",
              "    border-color: transparent;\n",
              "    border-bottom-color: var(--fill-color);\n",
              "    animation:\n",
              "      spin 1s steps(1) infinite;\n",
              "  }\n",
              "\n",
              "  @keyframes spin {\n",
              "    0% {\n",
              "      border-color: transparent;\n",
              "      border-bottom-color: var(--fill-color);\n",
              "      border-left-color: var(--fill-color);\n",
              "    }\n",
              "    20% {\n",
              "      border-color: transparent;\n",
              "      border-left-color: var(--fill-color);\n",
              "      border-top-color: var(--fill-color);\n",
              "    }\n",
              "    30% {\n",
              "      border-color: transparent;\n",
              "      border-left-color: var(--fill-color);\n",
              "      border-top-color: var(--fill-color);\n",
              "      border-right-color: var(--fill-color);\n",
              "    }\n",
              "    40% {\n",
              "      border-color: transparent;\n",
              "      border-right-color: var(--fill-color);\n",
              "      border-top-color: var(--fill-color);\n",
              "    }\n",
              "    60% {\n",
              "      border-color: transparent;\n",
              "      border-right-color: var(--fill-color);\n",
              "    }\n",
              "    80% {\n",
              "      border-color: transparent;\n",
              "      border-right-color: var(--fill-color);\n",
              "      border-bottom-color: var(--fill-color);\n",
              "    }\n",
              "    90% {\n",
              "      border-color: transparent;\n",
              "      border-bottom-color: var(--fill-color);\n",
              "    }\n",
              "  }\n",
              "</style>\n",
              "\n",
              "      <script>\n",
              "        async function quickchart(key) {\n",
              "          const quickchartButtonEl =\n",
              "            document.querySelector('#' + key + ' button');\n",
              "          quickchartButtonEl.disabled = true;  // To prevent multiple clicks.\n",
              "          quickchartButtonEl.classList.add('colab-df-spinner');\n",
              "          try {\n",
              "            const charts = await google.colab.kernel.invokeFunction(\n",
              "                'suggestCharts', [key], {});\n",
              "          } catch (error) {\n",
              "            console.error('Error during call to suggestCharts:', error);\n",
              "          }\n",
              "          quickchartButtonEl.classList.remove('colab-df-spinner');\n",
              "          quickchartButtonEl.classList.add('colab-df-quickchart-complete');\n",
              "        }\n",
              "        (() => {\n",
              "          let quickchartButtonEl =\n",
              "            document.querySelector('#df-0072971c-b94d-42df-9abd-512bcd86f83d button');\n",
              "          quickchartButtonEl.style.display =\n",
              "            google.colab.kernel.accessAllowed ? 'block' : 'none';\n",
              "        })();\n",
              "      </script>\n",
              "    </div>\n",
              "\n",
              "    </div>\n",
              "  </div>\n"
            ],
            "application/vnd.google.colaboratory.intrinsic+json": {
              "type": "dataframe",
              "variable_name": "df_processed",
              "summary": "{\n  \"name\": \"df_processed\",\n  \"rows\": 9332,\n  \"fields\": [\n    {\n      \"column\": \"question_tokens\",\n      \"properties\": {\n        \"dtype\": \"object\",\n        \"semantic_type\": \"\",\n        \"description\": \"\"\n      }\n    },\n    {\n      \"column\": \"answer_tokens\",\n      \"properties\": {\n        \"dtype\": \"object\",\n        \"semantic_type\": \"\",\n        \"description\": \"\"\n      }\n    }\n  ]\n}"
            }
          },
          "metadata": {},
          "execution_count": 49
        }
      ]
    },
    {
      "cell_type": "code",
      "source": [
        "# save into drive\n",
        "processed_path = \"/content/drive/MyDrive/NLP/Final/dataset/processed_medical_qa_vn.csv\"\n",
        "df_processed.to_csv(processed_path, index=False)\n",
        "\n",
        "print(\"Save processed dataset to drive successfully!!!\")"
      ],
      "metadata": {
        "colab": {
          "base_uri": "https://localhost:8080/"
        },
        "id": "bSktHOrk3Pi1",
        "outputId": "f2de2fea-9a43-41f0-9a3d-0777d42d56ed"
      },
      "execution_count": null,
      "outputs": [
        {
          "output_type": "stream",
          "name": "stdout",
          "text": [
            "Save processed dataset to drive successfully!!!\n"
          ]
        }
      ]
    },
    {
      "cell_type": "markdown",
      "source": [
        "# Modeling"
      ],
      "metadata": {
        "id": "U4RcKnb_3KDd"
      }
    },
    {
      "cell_type": "markdown",
      "source": [
        "Packages"
      ],
      "metadata": {
        "id": "oX1kD3aQ3NfQ"
      }
    },
    {
      "cell_type": "code",
      "source": [
        "from sklearn.model_selection import train_test_split\n",
        "import torch\n",
        "import pandas as pd\n",
        "from collections import defaultdict"
      ],
      "metadata": {
        "id": "LOMVpOrA3Mpu"
      },
      "execution_count": 4,
      "outputs": []
    },
    {
      "cell_type": "markdown",
      "source": [
        "## Byte Pair Encoding"
      ],
      "metadata": {
        "id": "xhhoG_id39JZ"
      }
    },
    {
      "cell_type": "code",
      "source": [
        "# load data from drive\n",
        "data_path = \"/content/drive/MyDrive/NLP/Final/dataset/processed_medical_qa_vn.csv\"\n",
        "df = pd.read_csv(data_path)\n",
        "\n",
        "df.head()"
      ],
      "metadata": {
        "id": "7HyNVJnAnKip",
        "colab": {
          "base_uri": "https://localhost:8080/",
          "height": 206
        },
        "outputId": "31232082-69c1-46b6-fb0a-be81b9762793"
      },
      "execution_count": 5,
      "outputs": [
        {
          "output_type": "execute_result",
          "data": {
            "text/plain": [
              "                                     question_tokens  \\\n",
              "0  ['răng', 'cháu', 'hiện tại', 'có', 'mủ', 'ở', ...   \n",
              "1  ['em', 'thấy', 'mặt', 'dưới', ',', 'phía', 'cu...   \n",
              "2  ['từ', 'tháng', '4/2020', ',', 'em', 'mới', 'x...   \n",
              "3  ['dạo', 'gần', 'đây', ',', 'mỗi', 'tối', 'ngủ'...   \n",
              "4  ['em', 'bị', 'tăng', 'tiết', 'mồ hôi', ',', 'n...   \n",
              "\n",
              "                                       answer_tokens  \n",
              "0  ['răng', 'bạn', 'hiện tại', 'có', 'mủ', 'dưới'...  \n",
              "1  ['triệu chứng', 'nốt', 'mụn', 'đỏ', 'vùng', 'd...  \n",
              "2  ['các', 'triệu chứng', 'sốt', ',', 'đau họng',...  \n",
              "3  ['các', 'dấu hiệu', ':', 'nghẹt', 'mũi', ',', ...  \n",
              "4  ['tăng', 'tiết', 'mồ hôi', 'nguyên phát', 'thư...  "
            ],
            "text/html": [
              "\n",
              "  <div id=\"df-b782acad-7073-41dc-93c5-00df76384338\" class=\"colab-df-container\">\n",
              "    <div>\n",
              "<style scoped>\n",
              "    .dataframe tbody tr th:only-of-type {\n",
              "        vertical-align: middle;\n",
              "    }\n",
              "\n",
              "    .dataframe tbody tr th {\n",
              "        vertical-align: top;\n",
              "    }\n",
              "\n",
              "    .dataframe thead th {\n",
              "        text-align: right;\n",
              "    }\n",
              "</style>\n",
              "<table border=\"1\" class=\"dataframe\">\n",
              "  <thead>\n",
              "    <tr style=\"text-align: right;\">\n",
              "      <th></th>\n",
              "      <th>question_tokens</th>\n",
              "      <th>answer_tokens</th>\n",
              "    </tr>\n",
              "  </thead>\n",
              "  <tbody>\n",
              "    <tr>\n",
              "      <th>0</th>\n",
              "      <td>['răng', 'cháu', 'hiện tại', 'có', 'mủ', 'ở', ...</td>\n",
              "      <td>['răng', 'bạn', 'hiện tại', 'có', 'mủ', 'dưới'...</td>\n",
              "    </tr>\n",
              "    <tr>\n",
              "      <th>1</th>\n",
              "      <td>['em', 'thấy', 'mặt', 'dưới', ',', 'phía', 'cu...</td>\n",
              "      <td>['triệu chứng', 'nốt', 'mụn', 'đỏ', 'vùng', 'd...</td>\n",
              "    </tr>\n",
              "    <tr>\n",
              "      <th>2</th>\n",
              "      <td>['từ', 'tháng', '4/2020', ',', 'em', 'mới', 'x...</td>\n",
              "      <td>['các', 'triệu chứng', 'sốt', ',', 'đau họng',...</td>\n",
              "    </tr>\n",
              "    <tr>\n",
              "      <th>3</th>\n",
              "      <td>['dạo', 'gần', 'đây', ',', 'mỗi', 'tối', 'ngủ'...</td>\n",
              "      <td>['các', 'dấu hiệu', ':', 'nghẹt', 'mũi', ',', ...</td>\n",
              "    </tr>\n",
              "    <tr>\n",
              "      <th>4</th>\n",
              "      <td>['em', 'bị', 'tăng', 'tiết', 'mồ hôi', ',', 'n...</td>\n",
              "      <td>['tăng', 'tiết', 'mồ hôi', 'nguyên phát', 'thư...</td>\n",
              "    </tr>\n",
              "  </tbody>\n",
              "</table>\n",
              "</div>\n",
              "    <div class=\"colab-df-buttons\">\n",
              "\n",
              "  <div class=\"colab-df-container\">\n",
              "    <button class=\"colab-df-convert\" onclick=\"convertToInteractive('df-b782acad-7073-41dc-93c5-00df76384338')\"\n",
              "            title=\"Convert this dataframe to an interactive table.\"\n",
              "            style=\"display:none;\">\n",
              "\n",
              "  <svg xmlns=\"http://www.w3.org/2000/svg\" height=\"24px\" viewBox=\"0 -960 960 960\">\n",
              "    <path d=\"M120-120v-720h720v720H120Zm60-500h600v-160H180v160Zm220 220h160v-160H400v160Zm0 220h160v-160H400v160ZM180-400h160v-160H180v160Zm440 0h160v-160H620v160ZM180-180h160v-160H180v160Zm440 0h160v-160H620v160Z\"/>\n",
              "  </svg>\n",
              "    </button>\n",
              "\n",
              "  <style>\n",
              "    .colab-df-container {\n",
              "      display:flex;\n",
              "      gap: 12px;\n",
              "    }\n",
              "\n",
              "    .colab-df-convert {\n",
              "      background-color: #E8F0FE;\n",
              "      border: none;\n",
              "      border-radius: 50%;\n",
              "      cursor: pointer;\n",
              "      display: none;\n",
              "      fill: #1967D2;\n",
              "      height: 32px;\n",
              "      padding: 0 0 0 0;\n",
              "      width: 32px;\n",
              "    }\n",
              "\n",
              "    .colab-df-convert:hover {\n",
              "      background-color: #E2EBFA;\n",
              "      box-shadow: 0px 1px 2px rgba(60, 64, 67, 0.3), 0px 1px 3px 1px rgba(60, 64, 67, 0.15);\n",
              "      fill: #174EA6;\n",
              "    }\n",
              "\n",
              "    .colab-df-buttons div {\n",
              "      margin-bottom: 4px;\n",
              "    }\n",
              "\n",
              "    [theme=dark] .colab-df-convert {\n",
              "      background-color: #3B4455;\n",
              "      fill: #D2E3FC;\n",
              "    }\n",
              "\n",
              "    [theme=dark] .colab-df-convert:hover {\n",
              "      background-color: #434B5C;\n",
              "      box-shadow: 0px 1px 3px 1px rgba(0, 0, 0, 0.15);\n",
              "      filter: drop-shadow(0px 1px 2px rgba(0, 0, 0, 0.3));\n",
              "      fill: #FFFFFF;\n",
              "    }\n",
              "  </style>\n",
              "\n",
              "    <script>\n",
              "      const buttonEl =\n",
              "        document.querySelector('#df-b782acad-7073-41dc-93c5-00df76384338 button.colab-df-convert');\n",
              "      buttonEl.style.display =\n",
              "        google.colab.kernel.accessAllowed ? 'block' : 'none';\n",
              "\n",
              "      async function convertToInteractive(key) {\n",
              "        const element = document.querySelector('#df-b782acad-7073-41dc-93c5-00df76384338');\n",
              "        const dataTable =\n",
              "          await google.colab.kernel.invokeFunction('convertToInteractive',\n",
              "                                                    [key], {});\n",
              "        if (!dataTable) return;\n",
              "\n",
              "        const docLinkHtml = 'Like what you see? Visit the ' +\n",
              "          '<a target=\"_blank\" href=https://colab.research.google.com/notebooks/data_table.ipynb>data table notebook</a>'\n",
              "          + ' to learn more about interactive tables.';\n",
              "        element.innerHTML = '';\n",
              "        dataTable['output_type'] = 'display_data';\n",
              "        await google.colab.output.renderOutput(dataTable, element);\n",
              "        const docLink = document.createElement('div');\n",
              "        docLink.innerHTML = docLinkHtml;\n",
              "        element.appendChild(docLink);\n",
              "      }\n",
              "    </script>\n",
              "  </div>\n",
              "\n",
              "\n",
              "    <div id=\"df-b80b4588-7ade-4372-9cd0-b46691eb230a\">\n",
              "      <button class=\"colab-df-quickchart\" onclick=\"quickchart('df-b80b4588-7ade-4372-9cd0-b46691eb230a')\"\n",
              "                title=\"Suggest charts\"\n",
              "                style=\"display:none;\">\n",
              "\n",
              "<svg xmlns=\"http://www.w3.org/2000/svg\" height=\"24px\"viewBox=\"0 0 24 24\"\n",
              "     width=\"24px\">\n",
              "    <g>\n",
              "        <path d=\"M19 3H5c-1.1 0-2 .9-2 2v14c0 1.1.9 2 2 2h14c1.1 0 2-.9 2-2V5c0-1.1-.9-2-2-2zM9 17H7v-7h2v7zm4 0h-2V7h2v10zm4 0h-2v-4h2v4z\"/>\n",
              "    </g>\n",
              "</svg>\n",
              "      </button>\n",
              "\n",
              "<style>\n",
              "  .colab-df-quickchart {\n",
              "      --bg-color: #E8F0FE;\n",
              "      --fill-color: #1967D2;\n",
              "      --hover-bg-color: #E2EBFA;\n",
              "      --hover-fill-color: #174EA6;\n",
              "      --disabled-fill-color: #AAA;\n",
              "      --disabled-bg-color: #DDD;\n",
              "  }\n",
              "\n",
              "  [theme=dark] .colab-df-quickchart {\n",
              "      --bg-color: #3B4455;\n",
              "      --fill-color: #D2E3FC;\n",
              "      --hover-bg-color: #434B5C;\n",
              "      --hover-fill-color: #FFFFFF;\n",
              "      --disabled-bg-color: #3B4455;\n",
              "      --disabled-fill-color: #666;\n",
              "  }\n",
              "\n",
              "  .colab-df-quickchart {\n",
              "    background-color: var(--bg-color);\n",
              "    border: none;\n",
              "    border-radius: 50%;\n",
              "    cursor: pointer;\n",
              "    display: none;\n",
              "    fill: var(--fill-color);\n",
              "    height: 32px;\n",
              "    padding: 0;\n",
              "    width: 32px;\n",
              "  }\n",
              "\n",
              "  .colab-df-quickchart:hover {\n",
              "    background-color: var(--hover-bg-color);\n",
              "    box-shadow: 0 1px 2px rgba(60, 64, 67, 0.3), 0 1px 3px 1px rgba(60, 64, 67, 0.15);\n",
              "    fill: var(--button-hover-fill-color);\n",
              "  }\n",
              "\n",
              "  .colab-df-quickchart-complete:disabled,\n",
              "  .colab-df-quickchart-complete:disabled:hover {\n",
              "    background-color: var(--disabled-bg-color);\n",
              "    fill: var(--disabled-fill-color);\n",
              "    box-shadow: none;\n",
              "  }\n",
              "\n",
              "  .colab-df-spinner {\n",
              "    border: 2px solid var(--fill-color);\n",
              "    border-color: transparent;\n",
              "    border-bottom-color: var(--fill-color);\n",
              "    animation:\n",
              "      spin 1s steps(1) infinite;\n",
              "  }\n",
              "\n",
              "  @keyframes spin {\n",
              "    0% {\n",
              "      border-color: transparent;\n",
              "      border-bottom-color: var(--fill-color);\n",
              "      border-left-color: var(--fill-color);\n",
              "    }\n",
              "    20% {\n",
              "      border-color: transparent;\n",
              "      border-left-color: var(--fill-color);\n",
              "      border-top-color: var(--fill-color);\n",
              "    }\n",
              "    30% {\n",
              "      border-color: transparent;\n",
              "      border-left-color: var(--fill-color);\n",
              "      border-top-color: var(--fill-color);\n",
              "      border-right-color: var(--fill-color);\n",
              "    }\n",
              "    40% {\n",
              "      border-color: transparent;\n",
              "      border-right-color: var(--fill-color);\n",
              "      border-top-color: var(--fill-color);\n",
              "    }\n",
              "    60% {\n",
              "      border-color: transparent;\n",
              "      border-right-color: var(--fill-color);\n",
              "    }\n",
              "    80% {\n",
              "      border-color: transparent;\n",
              "      border-right-color: var(--fill-color);\n",
              "      border-bottom-color: var(--fill-color);\n",
              "    }\n",
              "    90% {\n",
              "      border-color: transparent;\n",
              "      border-bottom-color: var(--fill-color);\n",
              "    }\n",
              "  }\n",
              "</style>\n",
              "\n",
              "      <script>\n",
              "        async function quickchart(key) {\n",
              "          const quickchartButtonEl =\n",
              "            document.querySelector('#' + key + ' button');\n",
              "          quickchartButtonEl.disabled = true;  // To prevent multiple clicks.\n",
              "          quickchartButtonEl.classList.add('colab-df-spinner');\n",
              "          try {\n",
              "            const charts = await google.colab.kernel.invokeFunction(\n",
              "                'suggestCharts', [key], {});\n",
              "          } catch (error) {\n",
              "            console.error('Error during call to suggestCharts:', error);\n",
              "          }\n",
              "          quickchartButtonEl.classList.remove('colab-df-spinner');\n",
              "          quickchartButtonEl.classList.add('colab-df-quickchart-complete');\n",
              "        }\n",
              "        (() => {\n",
              "          let quickchartButtonEl =\n",
              "            document.querySelector('#df-b80b4588-7ade-4372-9cd0-b46691eb230a button');\n",
              "          quickchartButtonEl.style.display =\n",
              "            google.colab.kernel.accessAllowed ? 'block' : 'none';\n",
              "        })();\n",
              "      </script>\n",
              "    </div>\n",
              "\n",
              "    </div>\n",
              "  </div>\n"
            ],
            "application/vnd.google.colaboratory.intrinsic+json": {
              "type": "dataframe",
              "variable_name": "df",
              "summary": "{\n  \"name\": \"df\",\n  \"rows\": 9332,\n  \"fields\": [\n    {\n      \"column\": \"question_tokens\",\n      \"properties\": {\n        \"dtype\": \"string\",\n        \"num_unique_values\": 9328,\n        \"samples\": [\n          \"['\\u1ea1', '.', 'v\\u00e0i', 'tu\\u1ea7n', 'tr\\u01b0\\u1edbc', '\\u1edf', 'tay ph\\u1ea3i', 'c\\u1ee7a', 't\\u00f4i', 'c\\u00f3', 'n\\u1ed5i m\\u1ea9n', 'to', 'nh\\u00ecn', 'v\\u00e0o', 'gi\\u1ed1ng', 'nh\\u01b0', 'b\\u1ecb', 'r\\u1ebft c\\u1eafn', 'nh\\u01b0ng', 'kh\\u00f4ng', 'c\\u00f3', 'd\\u1ea5u v\\u1ebft', 'g\\u00ec', 'c\\u1ea3', ',', 'v\\u00e0i', 'ng\\u00e0y', 'sau', 'th\\u00ec', 'm\\u1eaft', 'tr\\u00e1i', 'c\\u1ee7a', 't\\u00f4i', 'b\\u1ecb', 'ng\\u1ee9a', 'v\\u00e0', 's\\u01b0ng', 'l\\u00ean', '.', 'hi\\u1ec7n t\\u1ea1i', 'b\\u00ean', 'trong', 'mi\\u1ec7ng', 't\\u00f4i', 'c\\u00f3', '1', 'c\\u1ee5c', 'b\\u1ecb', 'c\\u1ed9m', 'gi\\u1ed1ng', 'nh\\u01b0', 'v\\u1ebft', 'mu\\u1ed7i', 'c\\u1eafn', 'v\\u1eady', '.', 'xin', 'h\\u1ecfi', 'b\\u00e1c s\\u0129', 'c\\u00f3', 'ph\\u1ea3i', 't\\u00f4i', 'b\\u1ecb', 's\\u00e1n', 'ch\\u00f3', 'kh\\u00f4ng', '?']\",\n          \"['xin', 't\\u00f4i', 'l\\u00e0m', 'x\\u00e9t nghi\\u1ec7m', 'th\\u00ec', 'k\\u1ebft qu\\u1ea3', 'ferritin', 'trong', 'huy\\u1ebft thanh', 'cao', '.', 'c\\u00e1c', 'x\\u00e9t nghi\\u1ec7m', 'sinh h\\u00f3a', 'v\\u00e0', 'huy\\u1ebft h\\u1ecdc', 'b\\u00ecnh th\\u01b0\\u1eddng', '.', 'ferritin', 'trong', 'huy\\u1ebft thanh', 'cao', 'l\\u00e0', 'd\\u1ea5u hi\\u1ec7u', 'b\\u1ec7nh', 'g\\u00ec', '?']\",\n          \"['sau', 'khi', 'kh\\u00e1m', 't\\u1ea1i', 'm\\u1ed9t', 'b\\u1ec7nh vi\\u1ec7n', ',', 't\\u00f4i', '\\u0111\\u01b0\\u1ee3c', 'ch\\u1ea9n \\u0111o\\u00e1n', 'b\\u1ecb', 'b\\u1ec7nh', 'x\\u01a1 c\\u1ee9ng', 'r\\u1ea3i r\\u00e1c', '.', 't\\u00f4i', '\\u0111\\u00e3', '\\u0111i\\u1ec1u tr\\u1ecb', 't\\u1ea1i', 'b\\u1ec7nh vi\\u1ec7n', '\\u0111\\u00f3', 'nh\\u01b0ng', 'b\\u1ec7nh', 'kh\\u00f4ng', 'thuy\\u00ean gi\\u1ea3m', '.', 'hi\\u1ec7n nay', 't\\u00f4i', 'b\\u1ecb', 'li\\u1ec7t', 'hai', 'ch\\u00e2n', '.', 't\\u00f4i', 'mu\\u1ed1n', '\\u0111\\u01b0\\u1ee3c', 'b\\u00e1c s\\u0129', 't\\u01b0 v\\u1ea5n', 'gi\\u00fap', 't\\u00f4i', '.']\"\n        ],\n        \"semantic_type\": \"\",\n        \"description\": \"\"\n      }\n    },\n    {\n      \"column\": \"answer_tokens\",\n      \"properties\": {\n        \"dtype\": \"string\",\n        \"num_unique_values\": 9161,\n        \"samples\": [\n          \"['!', 'tri\\u1ec7u ch\\u1ee9ng', 'b\\u1ea1n', 'm\\u00f4 t\\u1ea3', 'kh\\u00f4ng', 'r\\u00f5 r\\u00e0ng', 'n\\u00ean', 'kh\\u00f3', 'c\\u00f3 th\\u1ec3', 't\\u01b0 v\\u1ea5n', 'ch\\u00ednh x\\u00e1c', '\\u0111\\u01b0\\u1ee3c', '.', 'v\\u00ec v\\u1eady', ',', 'b\\u00e1c s\\u0129', 'khuy\\u00ean', 'b\\u1ea1n', 'n\\u00ean', '\\u0111\\u1ebfn', 'ph\\u00f2ng kh\\u00e1m', 'chuy\\u00ean khoa', 'r\\u0103ng', '-', 'h\\u00e0m', '-', 'm\\u1eb7t', '\\u0111\\u1ec3', 'c\\u00f3', 'c\\u00e2u', 'tr\\u1ea3 l\\u1eddi', 'cho', 'th\\u1eafc m\\u1eafc', '\\u201c', '2', 'b\\u00ean', 'l\\u01b0\\u1ee1i', 'm\\u1ecdc', 'm\\u1ee5n', 'nh\\u1ecf', 'm\\u00e0u', '\\u0111\\u1ecf', ',', 'kh\\u00f4ng', '\\u0111au', 'l\\u00e0', 'b\\u1ecb', 'g\\u00ec', 'v\\u1eady', '?', '\\u0111\\u1ed3ng th\\u1eddi', '\\u0111i\\u1ec1u tr\\u1ecb', 'd\\u1ee9t \\u0111i\\u1ec3m', 'b\\u1ec7nh l\\u00fd', 'n\\u1ebfu', 'c\\u00f3', '.', 'c\\u1ea3m \\u01a1n', 'b\\u1ea1n', '\\u0111\\u00e3', 'tin t\\u01b0\\u1edfng', 'ai-doctor', '.']\",\n          \"['chanh', 'l\\u00e0', 'nguy\\u00ean li\\u1ec7u', 'l\\u00e0m \\u0111\\u1eb9p', 't\\u1ea1i', 'nh\\u00e0', 'v\\u1eeba', 'an to\\u00e0n', 'v\\u1eeba', 'hi\\u1ec7u qu\\u1ea3', '.', 'kh\\u00f4ng nh\\u1eefng', 'c\\u00f3', 't\\u00e1c d\\u1ee5ng', 'tr\\u1ecb', 'm\\u1ee5n', ',', 'chanh', 'c\\u0169ng', 'gi\\u00fap', 'l\\u00e0m', 'm\\u1edd', 'v\\u00e0', 'li\\u1ec1n', 's\\u1eb9o', 'nhanh', '.', 'b\\u1edfi', 'trong', 'chanh', 'c\\u00f3', 'ch\\u1ee9a', 'l-asorbic acid', ',', 'm\\u1ed9t', 'ch\\u1ea5t', 'l\\u00e0m', 'se', 'v\\u00e0', 'l\\u00e0m', 'kh\\u00f4', 'm\\u1ee5n', '.', 'ch\\u1ea5t', 'n\\u00e0y', 'ho\\u1ea1t \\u0111\\u1ed9ng', 'nh\\u01b0', 'ch\\u1ea5t', 'kh\\u00e1ng sinh', 'ch\\u1ed1ng', 'l\\u1ea1i', 'c\\u00e1c', 'vi khu\\u1ea9n', 'g\\u00e2y', 'm\\u1ee5n', '.', '-', 'n\\u1ebfu', 'b\\u1ea1n', 'mu\\u1ed1n', 'l\\u00e0m', 'm\\u1edd', 's\\u1eb9o', 'b\\u1ea1n', 'thoa', 'n\\u01b0\\u1edbc', 'chanh', 'l\\u00ean', 'v\\u00f9ng', 'm\\u1ee5n', 'v\\u00e0', 's\\u1eb9o', 'c\\u00f3 th\\u1ec3', '\\u0111\\u1ec3', 'nh\\u01b0 v\\u1eady', 'trong', 'v\\u00e0i', 'gi\\u1edd', 'ho\\u1eb7c', 'th\\u1eadm ch\\u00ed', 'qua', '\\u0111\\u00eam', '.', '-', 'n\\u1ebfu', 'da', 'b\\u1ea1n', 'nh\\u1ea1y c\\u1ea3m', 'hay', 'b\\u1ecb', 'm\\u1ea9n', '\\u0111\\u1ecf', ',', 'h\\u00e3y', 'th\\u1eed', 'thoa', 'n\\u01b0\\u1edbc', 'chanh', 'l\\u00ean', 'da', 'trong', 'v\\u00f2ng', 'v\\u00e0i', 'gi\\u1edd', 'xem', 'c\\u00f3', 'k\\u00edch \\u1ee9ng', 'kh\\u00f4ng', '.', 'sau', '\\u0111\\u00f3', 'd\\u1ea7n d\\u1ea7n', 't\\u0103ng', 'th\\u1eddi gian', 'l\\u00ean', '.', 'th\\u00e2n m\\u1ebfn', '!']\",\n          \"['b\\u1ea1n', 'b\\u1ecb', '\\u0111au', 'hai', 'b\\u00ean', 'h\\u00e0m', 'd\\u01b0\\u1edbi', 'hai', 'b\\u00ean', 'mang', 'tai', ',', '\\u0111au', 'khi', '\\u0103n nhai', ',', 'b\\u1ea1n', 'c\\u1ea7n', '\\u0111i', 'kh\\u00e1m', 'b\\u00e1c s\\u0129', 'r\\u0103ng', 'h\\u00e0m m\\u1eb7t', '\\u0111\\u1ec3', 'ki\\u1ec3m tra', 't\\u00ecnh tr\\u1ea1ng', 'r\\u0103ng kh\\u00f4n', 'c\\u1ee7a', 'b\\u1ea1n', 'v\\u00e0', 'x\\u00e1c \\u0111\\u1ecbnh', 'nguy\\u00ean nh\\u00e2n', 'g\\u00e2y', '\\u0111au', '\\u0111\\u1ec3', 'c\\u00f3', 'h\\u01b0\\u1edbng', '\\u0111i\\u1ec1u tr\\u1ecb', 'th\\u00edch h\\u1ee3p', ',', 'n\\u1ebfu', 'c\\u1ea7n', 'chuy\\u1ec3n khoa', 'tai m\\u0169i', 'h\\u1ecdng', 'h\\u1ed9i ch\\u1ea9n', '.']\"\n        ],\n        \"semantic_type\": \"\",\n        \"description\": \"\"\n      }\n    }\n  ]\n}"
            }
          },
          "metadata": {},
          "execution_count": 5
        }
      ]
    },
    {
      "cell_type": "code",
      "source": [
        "# Reference of BPE\n",
        "# https://protonx.io/news/chi-tiet-thuat-toan-tach-token-byte-pair-encoding-bpe-1702295274898"
      ],
      "metadata": {
        "id": "I7HJyHmL4CRR"
      },
      "execution_count": null,
      "outputs": []
    },
    {
      "cell_type": "markdown",
      "source": [
        "Train BPE (Byte - pair Encoding)\n",
        "\n",
        "link: https://www.geeksforgeeks.org/byte-pair-encoding-bpe-in-nlp/\n",
        "\n",
        "https://medium.com/data-science/byte-pair-encoding-subword-based-tokenization-algorithm-77828a70bee0\n",
        "\n",
        "https://huggingface.co/learn/llm-course/chapter6/5\n",
        "\n",
        "link video: https://www.youtube.com/watch?v=i0D5GbudU6c\n",
        "\n",
        "Step to build BPE\n",
        "* Initialize Vocabulary\n",
        "* Count Pair Frequencies\n",
        "* Merge Pairs\n",
        "* Repeat"
      ],
      "metadata": {
        "id": "RowHg3RBf-Ft"
      }
    },
    {
      "cell_type": "code",
      "source": [
        "# convert data to list again after load from drive\n",
        "df['question_tokens'] = df['question_tokens'].apply(eval)\n",
        "df['answer_tokens'] = df['answer_tokens'].apply(eval)"
      ],
      "metadata": {
        "id": "taipt0Mgwqvg"
      },
      "execution_count": 6,
      "outputs": []
    },
    {
      "cell_type": "code",
      "source": [
        "# we combine question and answer into a corpus to take all relevant meaning\n",
        "corpus = []\n",
        "for token in df['question_tokens']:\n",
        "  for word in token:\n",
        "    corpus.append(word)\n",
        "for token in df['answer_tokens']:\n",
        "  for word in token:\n",
        "    corpus.append(word)"
      ],
      "metadata": {
        "id": "jlLwi7q1gDmL"
      },
      "execution_count": 7,
      "outputs": []
    },
    {
      "cell_type": "code",
      "source": [
        "# Ensure UTF-8 encoding for Vietnamese diacritics\n",
        "corpus = [str(token).encode('utf-8').decode('utf-8') for token in corpus]\n",
        "\n",
        "print(\"Number of tokens in corpus:\", len(corpus))\n",
        "print(\"Sample tokens:\", corpus[:15])"
      ],
      "metadata": {
        "colab": {
          "base_uri": "https://localhost:8080/"
        },
        "id": "AWeoHj88uyIp",
        "outputId": "e8025f6d-ac81-4c28-a23c-7ed29b61e0d6"
      },
      "execution_count": 8,
      "outputs": [
        {
          "output_type": "stream",
          "name": "stdout",
          "text": [
            "Number of tokens in corpus: 1562708\n",
            "Sample tokens: ['răng', 'cháu', 'hiện tại', 'có', 'mủ', 'ở', 'dưới', 'lợi', 'nhưng', 'khi', 'đau', 'cháu', 'sẽ', 'không', 'ngủ']\n"
          ]
        }
      ]
    },
    {
      "cell_type": "code",
      "source": [
        "# Step 1: Init BPE vocab\n",
        "\n",
        "# count word_frequencies\n",
        "token_freq = defaultdict(int)\n",
        "for token in corpus:\n",
        "  token_freq[token] += 1\n",
        "\n",
        "# convert words into chars with </w> (end of word) marker\n",
        "def get_char_tokens(token):\n",
        "  return list(token) + ['</w>']\n",
        "\n",
        "char_corpus = {token: get_char_tokens(token) for token in token_freq}"
      ],
      "metadata": {
        "id": "h5xDCGhhxexd"
      },
      "execution_count": 9,
      "outputs": []
    },
    {
      "cell_type": "code",
      "source": [
        "# print sample token freq\n",
        "print(\"Sample token freq:\", dict(list(token_freq.items())[:5]))\n",
        "\n",
        "print(\"Sample char corpus:\", dict(list(char_corpus.items())[:5]))"
      ],
      "metadata": {
        "colab": {
          "base_uri": "https://localhost:8080/"
        },
        "id": "I4lxbVWNySeb",
        "outputId": "031f188e-8db0-401e-eb69-05b1ada8cca6"
      },
      "execution_count": 10,
      "outputs": [
        {
          "output_type": "stream",
          "name": "stdout",
          "text": [
            "Sample token freq: {'răng': 1913, 'cháu': 6550, 'hiện tại': 1363, 'có': 26997, 'mủ': 376}\n",
            "Sample char corpus: {'răng': ['r', 'ă', 'n', 'g', '</w>'], 'cháu': ['c', 'h', 'á', 'u', '</w>'], 'hiện tại': ['h', 'i', 'ệ', 'n', ' ', 't', 'ạ', 'i', '</w>'], 'có': ['c', 'ó', '</w>'], 'mủ': ['m', 'ủ', '</w>']}\n"
          ]
        }
      ]
    },
    {
      "cell_type": "code",
      "source": [
        "# Step 2: Count pair Frequencies\n",
        "\n",
        "def get_pair_freq(char_corpus, token_freq):\n",
        "  pair_freq = defaultdict(int)\n",
        "\n",
        "  for token, chars in char_corpus.items():\n",
        "    for i in range(len(chars) - 2):\n",
        "      pair = (chars[i] + chars[i + 1])\n",
        "      pair_freq[pair] += token_freq[token]\n",
        "\n",
        "  return pair_freq\n",
        "\n",
        "pair_freq = get_pair_freq(char_corpus, token_freq)\n",
        "most_freq_pair = max(pair_freq, key=pair_freq.get)\n",
        "print(\"Most frequent pair:\", most_freq_pair, \"Count:\", pair_freq[most_freq_pair])\n",
        "print(pair_freq)"
      ],
      "metadata": {
        "colab": {
          "base_uri": "https://localhost:8080/"
        },
        "id": "G0Cmw3mGzES6",
        "outputId": "39b987c0-c96b-4430-ef02-f8617ed9a08f"
      },
      "execution_count": 11,
      "outputs": [
        {
          "output_type": "stream",
          "name": "stdout",
          "text": [
            "Most frequent pair: ng Count: 239607\n",
            "defaultdict(<class 'int'>, {'ră': 3059, 'ăn': 18426, 'ng': 239607, 'ch': 89589, 'há': 30178, 'áu': 11874, 'hi': 49813, 'iệ': 30802, 'ện': 29882, 'n ': 50781, ' t': 90012, 'tạ': 4268, 'ại': 13578, 'có': 40365, 'mủ': 402, 'dư': 4268, 'ướ': 11544, 'ới': 12687, 'lợ': 698, 'ợi': 870, 'nh': 130118, 'hư': 36238, 'ưn': 7030, 'kh': 71048, 'đa': 11924, 'au': 18746, 'sẽ': 5164, 'hô': 29165, 'ôn': 29897, 'gủ': 3582, 'đư': 17290, 'ượ': 17742, 'ợc': 13765, 'qu': 16422, 'uá': 3007, 'tu': 9858, 'uy': 24021, 'y ': 13509, ' n': 31210, 'iê': 18923, 'ên': 36342, 'hỉ': 5961, 'và': 30049, 'ài': 6373, 'gà': 7368, 'ày': 13280, 'là': 23773, 'hế': 8309, 'ết': 13503, 'mà': 5067, 'th': 117960, 'ỉn': 1144, 'h ': 31555, 'ho': 30829, 'oả': 2685, 'ản': 9402, 'nó': 3087, 'lạ': 6073, 'bị': 15978, 'hị': 3590, 'bả': 1763, 'ảo': 1800, 'tr': 61974, 'rư': 6918, 'ớc': 8057, 'cũ': 4763, 'ũn': 4681, 'ư ': 6365, ' v': 13748, 'vậ': 7296, 'ậy': 6191, 'u ': 33198, ' r': 3624, 'uổ': 4179, 'ổi': 7979, 'dậ': 709, 'hì': 12649, 'ôi': 10198, 'kè': 1666, 'èm': 1713, 'bệ': 15587, 'gì': 5024, 'cầ': 8621, 'ần': 18959, 'đi': 19174, 'hữ': 6005, 'ữa': 5542, 'a ': 6204, 'rị': 9469, 'em': 20957, 'hấ': 11917, 'ấy': 4983, 'mặ': 2578, 'ặt': 3055, 'ph': 31863, 'hí': 5087, 'ía': 344, 'cu': 2307, 'uố': 21320, 'ốn': 13473, 'g ': 28240, ' l': 17626, 'lư': 4057, 'ưỡ': 2004, 'ỡi': 563, 'củ': 12266, 'ủa': 12058, 'mì': 1695, 'ìn': 12952, 'nố': 466, 'ốt': 5931, 'mụ': 1481, 'ụn': 7885, 'hỏ': 11458, 'đỏ': 1177, 'xu': 4822, 'un': 6174, ' q': 7495, 'ua': 7328, 'an': 23164, 'gi': 24329, 'iữ': 1124, 'hâ': 13483, 'ân': 15512, 'rắ': 862, 'ắn': 3163, 'hẹ': 1983, 'dù': 4625, 'ùn': 8269, 'đầ': 6104, 'ầu': 8298, 'hạ': 4653, 'ạm': 763, 'ào': 12352, 'đồ': 1629, 'ồn': 3535, 'hờ': 4101, 'ời': 9994, 'rê': 3127, 'cá': 17317, 'ác': 40033, 'lớ': 1336, 'ớn': 2575, 'nổ': 1147, 'lê': 2046, 'gâ': 6149, 'ây': 10796, 'dấ': 1436, 'ấu': 1944, ' h': 26340, 'ệu': 8126, 'hả': 10716, 'ải': 9281, 'mắ': 4280, 'ắc': 3686, 'ha': 18739, 'ay': 14985, 'ệt': 4436, 't ': 25276, ' m': 15459, 'mi': 5032, 'bì': 2704, 'ườ': 20289, 'ờn': 15465, 'bá': 15761, 'c ': 32996, ' s': 28910, 'sĩ': 13546, 'từ': 4495, 'án': 15165, '4/': 64, '/2': 236, '20': 1198, '02': 184, 'mớ': 2086, 'uấ': 2681, 'ất': 16157, 'lầ': 3262, 'ri': 6255, ' c': 23755, 'hứ': 11066, 'ứn': 9083, 'vi': 17324, 'êm': 11684, 'am': 4661, 'id': 1743, 'da': 4750, 'số': 6739, 'kể': 359, 'i ': 29246, ' g': 9344, 'ia': 5734, 'đó': 4945, 'rở': 781, 'tá': 3871, 'ái': 5031, ' p': 8177, 'át': 5107, 'iề': 21326, 'ều': 21298, '1,': 193, ',2': 104, '01': 245, 'sa': 10972, 'cả': 10504, 'ảm': 11294, 'tì': 6305, 'rạ': 4792, 'ạn': 33020, 'nặ': 1988, 'ặn': 2630, 'hơ': 5975, 'ơn': 18523, 'lú': 2032, 'úc': 4840, 'tự': 1660, 'ỏi': 8840, 'ưở': 3199, 'ởn': 3132, 'rấ': 4427, 'đế': 7204, 'ến': 15455, 'sứ': 2716, 'ức': 8470, ' k': 14472, 'ỏe': 2904, 'si': 7214, 'in': 26667, 'oạ': 8091, 'ạt': 2347, 'àm': 7389, 'm ': 23322, 'ao': 8161, 'gu': 7701, 'cơ': 6348, 'vò': 753, 'òm': 209, 'họ': 4277, 'ọn': 4411, 'dạ': 2922, 'ạo': 2007, 'gầ': 1821, 'đâ': 3056, 'mỗ': 1704, 'ỗi': 1887, 'tố': 4552, 'ối': 6036, 'co': 6458, 'on': 17535, 'gh': 7234, 'ẹt': 276, 'mũ': 3485, 'ũi': 3466, 'he': 5681, 'eo': 4959, 'vư': 301, 'đờ': 706, 'ờm': 642, 'đặ': 2097, 'ặc': 6543, ' b': 9799, 'bi': 7756, 'nằ': 882, 'ằm': 1206, ' x': 5220, 'cò': 2938, 'òn': 5749, 'ba': 3364, ' ơ': 5266, 'tă': 3229, 'ti': 20137, 'iế': 12940, 'mồ': 679, 'ồ ': 957, 'vù': 2077, 'gự': 1131, 'ực': 5493, 'ra': 10834, 'iể': 9964, 'ểu': 5045, 'iá': 3982, 'hó': 7521, 'hở': 1911, 'hà': 8931, 'àn': 12531, 'cổ': 1388, 'bu': 1951, 'sá': 1651, 'đá': 2983, 'xo': 1628, 'tư': 6342, 'vấ': 4719, 'ấn': 5577, 'rá': 5074, 'mộ': 5869, 'ột': 8046, 'uầ': 2350, 'na': 5717, 'ám': 9113, 'hu': 24938, 'ốc': 10563, 'mấ': 2045, 'đỡ': 606, 'lắ': 1190, 'ắm': 782, 'so': 2090, 'oi': 1855, 'gư': 5867, 'ươ': 7478, 'bờ': 53, 'cụ': 1764, 'ục': 4045, 'hỗ': 1130, 'ôm': 1137, 'rồ': 1813, 'ồi': 3740, 'ro': 10614, 'bê': 2463, 'ai': 12563, ' ă': 1117, 'nữ': 2098, ' u': 1717, 'nă': 5159, 'ăm': 4155, '19': 594, '97': 33, '76': 31, 'ta': 7335, 'kê': 657, 'êu': 3752, 'o ': 10287, 'ó ': 14423, 'ịu': 1116, 'dị': 3568, 'ịc': 2146, 'ảy': 2487, 'ị ': 2786, ' ứ': 1917, 'nư': 4654, 'hắ': 2114, 'ắt': 5792, 'ơi': 3085, 'ế ': 4766, 'nà': 8909, 'hể': 18197, 'xà': 191, 'má': 6278, 'áy': 1032, 'xô': 80, 'để': 13231, 'mu': 3156, 'lý': 3924, 'độ': 7396, 'ở ': 777, ' y': 658, 'yế': 6011, 'ếu': 9084, 'mệ': 955, 'mỏ': 1181, 'ỉ ': 2324, 'gơ': 398, ' đ': 25203, 'đê': 716, 'ki': 7446, 'lo': 7670, 'vẫ': 2569, 'ẫn': 4244, 'nê': 12094, 'rử': 687, 'ửa': 1590, 'xị': 141, 'ịt': 765, 'iả': 4830, 'ợn': 3266, 'ô ': 2217, 'nu': 605, 'cộ': 623, 'ộm': 144, '? ': 754, 'me': 1129, 'en': 2873, 'ga': 3162, 'ca': 5300, 'áp': 6419, 'cắ': 1152, 'hự': 2748, 'su': 3211, 'nm': 174, 'ec': 348, 'iố': 368, 'sư': 1134, 'ạc': 5795, 'ké': 1913, 'éo': 2023, 'ổ ': 2486, ' d': 15860, 'dà': 3810, 'ơ ': 4596, 'ì ': 1430, 'ít': 2020, 'ố ': 666, 'hầ': 4610, 'ón': 3207, 'bầ': 511, '34': 67, 'lấ': 701, 'ầm': 1208, 'bà': 2403, 'iv': 539, 'vì': 3248, 'vớ': 6518, 'iễ': 3981, 'ễm': 2796, 'lâ': 2752, 'đã': 6417, 'rụ': 762, 'tó': 921, 'óc': 1896, 'tớ': 1731, 'ừn': 1464, 'mả': 182, 'àu': 1207, 'ữn': 4885, 'mọ': 819, 'ọc': 2239, 'cọ': 79, 'gã': 455, 'ãy': 610, 'vừ': 734, 'ừa': 1731, 'bé': 7208, 'do': 8689, 'oa': 5934, 'sổ': 196, 'cứ': 1760, 'bú': 1282, 'mẹ': 2773, 'oà': 6215, 'to': 4633, 'hụ': 4509, 'nế': 6441, 'oặ': 4827, 'tâ': 1518, 'ự ': 1205, 'só': 460, 'ận': 4497, 'ộn': 3290, 'yê': 9821, 'âu': 5286, 'ểm': 3701, 'as': 803, 'se': 760, 'ed': 172, 'ow': 123, '24': 306, 'bụ': 1600, 'la': 2425, 'ói': 2497, ' â': 1155, 'âm': 4459, 'xé': 3120, 'ét': 3589, 'ệm': 3268, 'kế': 2843, 'uả': 4507, 'lu': 2057, 'uậ': 2350, 'uẩ': 1570, 'ẩn': 4523, 'ni': 1921, 'về': 3525, 'đơ': 811, 'áo': 1836, 'bó': 841, 'iờ': 1847, 'că': 1180, 'đứ': 404, 'oá': 4030, 'ạy': 351, 'ù ': 1617, 'nã': 1803, 'ão': 1902, 'lơ': 69, 'mơ': 121, 'cư': 1038, 'ya': 190, 'iã': 583, 'ãn': 1422, 'nạ': 409, 'h3': 36, '30': 678, '10': 1362, 'xử': 358, 'ử ': 3903, '28': 220, 'sầ': 61, 'gá': 893, 'đô': 975, 'hố': 2044, 'li': 5172, 'tụ': 1206, 'uồ': 1196, 'nô': 1108, 'bạ': 21157, '00': 1188, 'ổn': 2202, 'đị': 4008, 'ịn': 3845, 'hẩ': 4263, 'đo': 3437, 'tủ': 474, 'ủy': 1054, 'mạ': 4488, 'gứ': 1172, 'ứa': 1939, 'sẹ': 303, 'ẹo': 496, 'zo': 418, 'ấm': 1354, 'ẹn': 423, 'bọ': 536, 'ọt': 743, 'ầy': 1238, 'tứ': 587, 'gồ': 1156, 'tậ': 2023, 'ập': 2499, 'p ': 5845, 'ể ': 1433, 'dụ': 6122, 'xí': 73, 'íu': 35, 'tắ': 968, 'tí': 3622, 'ím': 168, 'lò': 417, 'gó': 684, 'đậ': 994, 'ậm': 1006, 'yể': 752, 'ển': 1980, 'iậ': 508, 'tầ': 529, 'ru': 3365, 'hậ': 4641, 'ỡn': 1448, '18': 323, 'gấ': 203, 'ấp': 3919, 'dầ': 1307, 'tê': 962, 'hồ': 2197, 'mứ': 1236, 'ệc': 3484, 'hú': 4253, 'út': 1989, 'vá': 412, 'hă': 1996, 'sâ': 799, 'dễ': 1153, 'ễ ': 231, 'ịp': 819, 'im': 2200, '04': 65, '08': 63, 'rà': 1487, 'hổ': 2047, 'én': 174, 'hẫ': 1552, 'ẫu': 1646, 'ật': 4634, 'ụp': 1255, 'xẹ': 75, 'ẹp': 475, 'bằ': 2344, 'ằn': 2933, 'mổ': 1093, 'dẫ': 1461, 'ưu': 774, '99': 154, '91': 14, 'bắ': 813, 'ê ': 289, 'sợ': 466, 'iọ': 192, 'tế': 1702, 'mã': 499, 'ín': 5732, 'rờ': 237, 'đố': 1596, 'ốm': 153, ' a': 325, 'cm': 409, 'ny': 55, 'yf': 38, 'te': 1927, 'es': 1280, 'st': 1622, 'ov': 480, 'ứu': 466, 'vị': 1065, 'hù': 1699, 'hợ': 5641, 'ợp': 5582, 'lỏ': 202, 'ỏn': 526, 'lí': 254, 'tô': 6788, 'xạ': 304, 'ạ ': 1800, 'bâ': 427, 'dừ': 206, 'mù': 655, 'ùi': 724, 'go': 3906, 'ậu': 1288, 'mô': 2266, 'rặ': 71, 'ụt': 464, 'rĩ': 259, 'nx': 765, 'xi': 8792, '67': 38, 'uý': 128, 'ýp': 52, 'gũ': 125, 'ũ ': 119, 'cố': 502, 'mè': 110, 'đe': 701, 'gạ': 446, 'lứ': 153, 'ứt': 648, 'ếp': 2225, 'cẩ': 116, 'ẩm': 2140, 'đỗ': 42, 'xa': 966, 'ưa': 4603, 'tỉ': 327, 'đạ': 1907, 'uô': 1037, 'uê': 159, 'ủ ': 951, ' e': 843, '16': 276, 'bo': 383, 'vả': 223, 'bô': 697, 'hẳ': 1110, 'ẳn': 1235, 'mẩ': 196, 'rộ': 403, 'đù': 142, 'rô': 108, 'sả': 1175, 'iớ': 821, 'tổ': 1977, '63': 31, 'mc': 147, 'cv': 92, '68': 36, '21': 318, '1.': 167, '.6': 75, 'ly': 588, 'ym': 228, '54': 29, 'gr': 200, '39': 103, 'ý ': 687, 'hĩ': 974, 'ĩa': 414, 'hề': 84, 'nộ': 2250, 'ội': 3243, ' ù': 21, 'rầ': 462, '..': 8452, 'oé': 337, ' á': 1684, 'xe': 1392, 'cậ': 537, 'ik': 77, 'ma': 2688, '42': 46, ' 1': 37, ',5': 319, '56': 42, '47': 33, 'kg': 527, 'ol': 1716, 'le': 576, 'er': 1485, '3.': 97, '.3': 83, '.9': 88, '5.': 124, '.2': 136, 'hớ': 1269, 'ớp': 1344, 'hủ': 1883, 'nử': 567, 'gậ': 167, 'sừ': 74, 'lô': 398, 'tẩ': 170, 'ẩy': 427, 'mề': 443, 'ề ': 551, 'rí': 903, 'đề': 2904, 'ãi': 302, 'mỹ': 280, 'ỹ ': 399, 'ớu': 302, 'lồ': 259, '29': 105, 'ền': 2073, 'sử': 2832, 'lệ': 633, 'rò': 401, 'hộ': 789, 'pa': 392, 'ar': 614, 'rk': 44, 'ns': 236, 'đỉ': 149, 'rọ': 975, 'gl': 459, 'uc': 390, 'os': 596, 'l1': 6, '4.': 83, '65': 92, 'l2': 3, '8.': 60, 'l3': 2, '0.': 276, '.0': 179, 'gặ': 1994, 'ặp': 2148, 'gă': 373, 'xú': 796, 'đụ': 228, 'dâ': 1087, 'hằ': 513, 'bừ': 33, 'vă': 102, 'hò': 1977, 'xì': 96, 'gử': 881, 'ửi': 815, 'rừ': 484, 'ợt': 485, 'sạ': 783, 'iặ': 59, 'ds': 158, 'ụ ': 2493, '40': 281, 'đả': 456, 'đè': 125, 'ệp': 326, 'mở': 164, 'di': 2731, 'dờ': 6, 'vế': 910, 'rố': 1963, '31': 86, 'cà': 1283, 'bư': 413, 'xá': 2543, '15': 545, 'hệ': 2304, 'vệ': 1317, 'ệ ': 1240, '26': 161, 'lặ': 187, 'dứ': 381, 'bậ': 91, 'rằ': 275, 'cô': 1159, 'ỏ ': 295, 'òa': 229, ' ỉ': 95, 'bã': 270, 'ã ': 127, 'ìm': 951, 'iâ': 102, 'ộp': 223, 'sọ': 380, 'ùa': 224, 'tà': 101, 'sỏ': 813, 'kí': 2034, 'íc': 3723, 'mm': 688, '1/': 192, '/3': 101, 'sụ': 217, 'câ': 3760, 'xố': 23, 'ốp': 18, 'xơ': 556, 'ò ': 175, 'hè': 565, 'yễ': 233, 'ễn': 1036, 'ú ': 408, '6x': 8, 'x6': 4, 'ùy': 1067, 'ắp': 617, 'va': 1336, 'sẫ': 32, 'ẫm': 69, 'ồm': 643, 'x-': 125, '-q': 128, 'ot': 786, 'al': 996, '.4': 102, 'hử': 507, 'rú': 485, 'cấ': 2291, 'kị': 475, 'rơ': 170, 'mê': 691, 'ém': 440, '0x': 5, 'x5': 16, '5 ': 209, 'x9': 1, '9m': 1, 'óa': 2003, 'vô': 496, 'ir': 1098, 'ad': 327, 'nơ': 351, 'gắ': 607, 'gộ': 478, 'èn': 372, 'bố': 608, '9.': 38, '.5': 207, '7.': 87, 'bấ': 1168, '60': 240, '12': 638, 'gy': 74, 'lă': 61, 'rứ': 1024, 'be': 440, 'nấ': 720, ' ẩ': 177, 'sù': 150, 'ụm': 27, '0/': 57, 'đợ': 384, 'uỗ': 169, 'lở': 57, 'rả': 783, 'ió': 59, 'uạ': 36, 'cớ': 12, 'lự': 917, 're': 839, 'ss': 593, 'hặ': 191, 'lậ': 237, 'yệ': 1693, 'đủ': 1656, 'lỗ': 304, 'mư': 93, 'iấ': 879, 'ấc': 857, 'uộ': 1996, 'ả ': 2112, 'đổ': 1382, ' ó': 121, '32': 103, '2.': 107, 'rẻ': 2532, 'ẩu': 232, 'bề': 168, 'hê': 2443, 'cử': 314, 'rõ': 1025, 'õ ': 159, 'rệ': 47, 'óp': 288, 'dữ': 161, 'ữ ': 334, 'dộ': 128, 'lá': 840, 'sữ': 2091, 'úa': 37, 'kì': 307, ' í': 284, 'mo': 2312, '.8': 95, 'nứ': 143, 'nẻ': 41, '27': 134, 'bỏ': 772, 'sặ': 79, 'tè': 18, 'è ': 46, 'ty': 217, 'yp': 317, 'pe': 422, 'xư': 1289, 'bộ': 1186, 'ụi': 244, '17': 194, 'vẹ': 88, 'bớ': 244, 'ớt': 448, 'ue': 707, 'iú': 3605, 'úp': 3674, 'đắ': 189, 'eg': 165, 'gf': 36, 'fr': 95, '79': 16, '9,': 49, '23': 172, 'pr': 671, 'ei': 484, 'ứ ': 136, 'đọ': 309, 'kỳ': 1294, 'ỳ ': 81, 'nâ': 293, 'mí': 152, 'tỷ': 265, 'ỷ ': 269, 'lõ': 87, 'õm': 86, 'à ': 993, 'cừ': 4, 'mờ': 289, 'oc': 1829, 'om': 604, 'bứ': 56, 'bổ': 1386, 'ỉa': 33, 'tả': 859, '50': 496, 'ớm': 1619, 'ap': 162, 'pt': 138, 'op': 326, 'ló': 95, 'tử': 938, 'nắ': 438, 'í ': 955, 'sú': 343, 'gụ': 18, 'bồ': 103, 'ỏm': 18, 'e ': 923, 'ul': 235, 'lã': 69, 'mẫ': 189, 'ke': 457, 'ft': 89, 't4': 101, '0,': 213, ',9': 88, '98': 74, 'dl': 222, 't3': 65, ',6': 67, 'ml': 444, 'ts': 160, 'sh': 187, 'ic': 824, 'cr': 279, 'iu': 438, 'dõ': 961, 'õi': 985, 'ộc': 1579, '7,': 67, ',1': 68, 'cù': 676, 'it': 2389, 'sớ': 1592, 'mp': 210, 'po': 320, 'sờ': 204, 'ộ ': 444, 'á ': 1384, 'rì': 1272, 'lụ': 53, 'xụ': 4, '75': 99, '25': 333, 'ủn': 284, 'đì': 736, 'md': 11, '05': 45, 'mg': 595, 'sp': 177, 'ữu': 99, 'cự': 266, 'pp': 56, 'pl': 137, 'ỗn': 160, 'hb': 300, 'bv': 243, 'dn': 72, '80': 164, ',0': 86, 'rù': 1311, 'mỡ': 639, 'uệ': 71, 'gô': 97, 'gữ': 78, 'rỗ': 38, 'gt': 89, 'ob': 173, 'ig': 290, 'yc': 194, 'ce': 486, 'de': 458, '.1': 80, 'bẩ': 314, '6,': 67, 'gừ': 882, '3,': 89, ',7': 87, '9 ': 32, 'lm': 32, 'sự': 1504, 'vẻ': 110, 'lờ': 1108, 'ọi': 776, '5,': 84, '61': 33, 'ep': 213, 'ps': 138, 'no': 779, 'og': 408, 'ge': 644, '22': 186, 'cạ': 379, 'ii': 212, '11': 338, ',8': 74, '82': 35, 'ko': 1115, 'sở': 703, 'ởi': 779, '6.': 104, 'hd': 66, '.7': 93, 'ld': 104, 'mr': 245, 'đú': 1044, 'ún': 1565, '2 ': 118, 'x4': 16, '4m': 4, 'kẽ': 271, 'ẽm': 162, 'bủ': 31, 'rủ': 71, 'gọ': 739, 'mă': 31, 'ăc': 24, 'dự': 542, 'a1': 93, '1c': 80, '86': 25, '53': 39, 'at': 819, '06': 44, 'hẵ': 15, 'ẵn': 135, 'tệ': 23, 'võ': 118, 'õn': 121, 'yề': 753, 'tấ': 461, 'ẹ ': 363, 'ếm': 267, 'bể': 79, 'ếc': 155, 'rự': 628, 'ab': 165, '95': 72, 'đẻ': 104, 've': 177, 'us': 828, 'du': 898, 'dr': 140, '14': 351, '2,': 138, '4,': 89, 'té': 62, 'cú': 280, 'úi': 422, 'ừ ': 168, 'dắ': 25, ' ả': 342, 'đă': 113, 'ký': 191, 'lé': 18, '03': 68, 'mò': 70, 'tờ': 23, 'ùm': 124, '58': 25, 'mị': 43, ' ạ': 67, '37': 101, 'mó': 380, 'vỡ': 235, 'ợu': 682, 'uỵ': 183, 'oã': 219, 'ạp': 259, 'ềm': 429, 'đấ': 178, 'ờ ': 117, '4-': 146, '-5': 164, 'vợ': 749, 'iư': 111, 'cồ': 114, 'lẫ': 155, 'nú': 126, 'xả': 652, 'ủi': 108, 'ea': 219, 'x ': 72, 'cỡ': 54, 'đẹ': 83, ' i': 69, 'mử': 47, 'xế': 130, '7x': 9, 'x8': 8, 'xq': 113, ',3': 91, 'sắ': 897, 'dí': 210, ',4': 76, 'ĩ ': 101, '33': 74, 'ct': 1890, 'tơ': 55, 'gờ': 175, 'đà': 329, 'ué': 6, 'dọ': 127, 'xâ': 210, 'xẩ': 50, 'ép': 639, 'zi': 91, 'zắ': 1, 'tĩ': 354, 'ĩn': 436, 't1': 9, '1w': 1, 't2': 10, '2w': 1, 'td': 35, 'd ': 89, 'hk': 14, 'ià': 417, 'x3': 17, '3 ': 94, 'vã': 47, ' ý': 927, '71': 39, '0 ': 122, 'dẳ': 76, 'úm': 294, 'hé': 2597, 'ỗ ': 512, 'rợ': 520, 'sủ': 54, 'mậ': 510, ' o': 284, 'mx': 2, '5x': 8, 'x2': 12, 'vâ': 72, 'or': 2198, 'rt': 266, 'bù': 129, 'fa': 104, 'az': 169, 'ze': 97, 'ek': 18, 'ka': 192, '70': 143, 'vu': 365, 'vơ': 9, 'lz': 44, 'zh': 40, 'lc': 138, 'ci': 706, 'i-': 1398, '-d': 1355, 'd3': 112, 'ag': 359, 'ie': 433, 'e-': 23, '-b': 27, 'b6': 52, 'rậ': 56, 'wb': 19, 'bc': 76, 'ne': 1230, 'eu': 203, 'ut': 193, '73': 41, 'rb': 116, '57': 30, 'hg': 126, 'gb': 48, 'hc': 254, '35': 143, '6 ': 50, 'pg': 63, 'lt': 129, '45': 124, 'cl': 215, '41': 26, 'ur': 241, '43': 48, 'ck': 83, 'k-': 2, '-m': 44, 'mb': 30, 'bn': 19, 'np': 19, '66': 22, 'ré': 44, '6-': 84, '-8': 64, '8 ': 46, 'lỡ': 52, '2-': 295, '-3': 351, 'ax': 322, 'ná': 266, 'hẽ': 213, 'ẽn': 172, 'pd': 80, 'nẹ': 33, 'fe': 362, 'rr': 92, '44': 23, 'kỹ': 540, 'vẩ': 70, '2x': 3, 'ac': 1337, 'óm': 526, 'ib': 75, 'dặ': 225, '07': 36, 'x1': 21, '49': 35, 'sà': 566, 'íp': 11, 'kẹ': 119, 'dẻ': 20, 'ẻo': 22, 'tú': 350, '93': 30, 'nd': 159, '52': 31, 'cặ': 97, '62': 39, 'x0': 2, '55': 75, '9x': 7, '7 ': 29, '1m': 2, '4 ': 52, '8x': 7, 'bẹ': 161, 'bữ': 659, 'uâ': 219, 'is': 322, 'iò': 34, 'e2': 5, '38': 149, '8,': 71, 'rè': 63, 'nk': 39, 'ró': 122, 'bỗ': 25, 'c3': 3, 'c6': 3, 'tý': 11, 'eb': 318, 'v-': 24, '-v': 13, 'vc': 34, '85': 64, '74': 21, '1 ': 19, ' é': 139, '69': 33, 'lộ': 171, 'gố': 636, 'mé': 81, 'cằ': 80, ' 5': 11, 'ah': 152, 'o2': 53, '90': 178, 'nề': 303, 'dá': 179, 'ní': 29, '84': 28, 'bế': 66, 'm3': 10, ' ú': 7, 'nt': 366, 'tù': 894, 'uằ': 3, ' f': 80, 'hr': 66, 'ợ ': 345, 'v ': 17, 'ịa': 332, 'et': 784, '13': 216, '94': 30, 'fl': 97, '36': 83, '92': 36, 'tc': 11, 'dw': 29, ' 2': 36, 'pi': 274, 'xă': 43, 'ặm': 198, ' 6': 7, 'mẻ': 21, 'gò': 59, 'nồ': 300, '48': 82, ' 3': 32, 'èo': 107, 'tẹ': 4, 'wn': 25, 'vú': 425, 'hừ': 418, 'xệ': 21, 'nl': 18, 'mố': 91, '2/': 79, 'ví': 300, '3x': 11, 'dò': 231, ' j': 18, 'jj': 27, 'hẻ': 93, 'lẹ': 33, 'rp': 199, 'lọ': 392, 'tồ': 141, 'đu': 158, ' ố': 41, 'lv': 20, 'vt': 16, 'xứ': 33, 'af': 227, 'fp': 46, 'cy': 148, '1-': 246, '-1': 396, 'ui': 472, 'fn': 19, 'f0': 31, 'pc': 74, 'r ': 22, 'd-': 102, '5/': 76, '/1': 147, 'bă': 155, 'rỉ': 57, 'ựa': 612, 'xỏ': 7, 'ms': 30, 'my': 119, 'ọ ': 62, 'hã': 572, 'ót': 276, 'bò': 146, 'up': 126, 'pu': 92, '7m': 1, '3m': 2, 'vỉ': 134, '96': 33, '8-': 57, '59': 22, 'dả': 28, 'il': 342, 'xó': 44, 'ox': 367, 'rễ': 186, 'xấ': 158, '46': 33, 'bở': 531, 'mú': 44, 'vờ': 22, 'rf': 19, '3-': 230, '-4': 160, 'óe': 34, 'vụ': 132, 'dì': 13, 'sc': 118, '-7': 86, '78': 30, 'sơ': 306, '72': 107, '/5': 42, 'mh': 86, 'gỗ': 11, 'xọ': 3, 'uắ': 14, 'av': 91, 'rn': 53, 'vó': 73, 'nả': 35, 'rm': 316, 'of': 109, 'fo': 154, 'cữ': 63, 'll': 261, 'oy': 17, 'yb': 7, 'w ': 8, 'rc': 69, 'ọa': 66, '4x': 12, 'lị': 169, 'nự': 10, 'm8': 6, '6/': 40, 'xã': 68, 'bợ': 4, 'ọe': 8, 'lố': 147, 'r3': 2, 'nẵ': 20, 'đớ': 109, 'vạ': 135, 'ựn': 80, 'uể': 27, 'ub': 128, 'um': 232, 'gp': 23, 'g6': 57, '6p': 44, ' 9': 7, 'cx': 187, 'vắ': 416, 'c-': 222, '-x': 237, 'd4': 1, 'd9': 1, 'vữ': 108, 'rd': 69, 'vự': 127, 'bg': 12, 'đl': 5, 'tp': 129, '87': 24, '1e': 1, 'ef': 60, 'ỏa': 93, 'ơm': 263, 'yt': 75, '51': 32, '09': 24, ' 4': 11, 'cg': 75, 'bm': 94, 'đệ': 139, 'nỗ': 34, 'fs': 16, 'lh': 20, 'io': 324, '83': 28, 'p0': 7, 'yz': 4, '-c': 90, 'cs': 37, 'sb': 4, 'bt': 38, 'pv': 102, 'hp': 270, 'rẩ': 7, '/8': 32, 'bí': 161, 'c1': 7, 'c4': 3, 'vặ': 104, 'mâ': 19, 'uẫ': 5, 'bs': 1526, 'iơ': 17, 'vĩ': 65, 'uặ': 57, '/9': 28, '9/': 50, 'dã': 67, '8/': 45, 'ok': 20, 'bf': 3, 'a2': 3, '88': 23, '° ': 5, 'ửn': 27, '7/': 55, '3/': 66, '/6': 21, 'đẩ': 128, 'kĩ': 91, ' 0': 16, 'od': 153, '/0': 37, 'tt': 92, 'x7': 4, 'ắk': 1, 'k ': 42, '0-': 193, '81': 17, '/4': 53, 'ou': 80, 'xy': 242, '-6': 149, '-9': 59, 'ìu': 121, 'lẻ': 16, 'tỏ': 250, '7-': 71, 'tf': 15, 'lằ': 5, 'ẻ ': 234, 'lừ': 17, 'đừ': 141, 'f1': 9, 'f2': 4, 'el': 388, 'ug': 50, 'gm': 51, 'bặ': 12, 'dố': 15, 'tễ': 16, 'ey': 14, 'ye': 109, 'kệ': 5, 'g4': 4, 'g5': 2, 'đự': 35, 'ex': 139, 'uỷ': 37, 'ỷu': 33, 'vọ': 103, 'đò': 95, ' z': 17, 'vỏ': 83, 'ak': 104, ' ẵ': 1, 'ẵm': 13, 'br': 46, ' ê': 3, 'đằ': 7, 'ãm': 38, 'bự': 19, 'rã': 84, 'ễu': 390, 'l ': 46, 'xt': 14, 'iq': 26, 'w-': 6, '-s': 17, 'sd': 17, 'p-': 22, '-l': 18, '5-': 189, '/7': 27, 'lp': 58, 'bl': 37, '-a': 21, 'dồ': 43, ' ớ': 12, 'nc': 90, 'nr': 9, 'py': 63, 'yl': 203, 'hy': 238, 'ry': 71, 'ys': 55, 'yv': 3, 'râ': 98, 'gg': 95, 'l-': 57, 'ez': 19, 'km': 20, 'rg': 66, 'nz': 79, 'zy': 53, '64': 27, 'cã': 18, 'vm': 7, 'hũ': 71, 'ũm': 33, ' ồ': 1, 'rể': 8, 'mự': 9, '-2': 285, 'vũ': 16, 'gỉ': 18, 'sệ': 23, 'sỹ': 895, 'òi': 230, 'cỏ': 14, 'oo': 55, '-h': 55, 'nn': 61, 'dy': 24, 'b9': 8, 'tọ': 22, '< ': 14, 'mầ': 44, 'đũ': 35, 'ũa': 39, 'rq': 2, 'tg': 13, 'ß-': 5, 'đc': 282, 'fm': 6, 'zơ': 4, 'oz': 23, 'oh': 51, 'yd': 112, 'dh': 63, 'kẻ': 8, 'rỏ': 25, 'hl': 74, 'fu': 43, 'ụy': 169, 't0': 1, 'rũ': 19, 'we': 273, 'yn': 62, 'bơ': 221, 'sy': 65, 'nf': 22, 'ix': 29, 'đẫ': 12, '! ': 300, 'uỳ': 38, 'ỳn': 32, 'hs': 35, 'ĩu': 3, 'm2': 24, 'lf': 29, 'lù': 37, 'kt': 11, 'iz': 55, 'za': 35, 'hễ': 12, 't-': 23, 's1': 11, 'r.': 195, '.p': 5, 'uã': 16, '6d': 8, 'dp': 10, 'b ': 10, 'ậc': 31, 'vé': 10, 'gả': 51, 'lả': 16, 'bè': 53, 'sẻ': 385, 'l’': 2, '’s': 9, 'ls': 21, '0_': 4, '_4': 5, '3k': 5, 'k2': 30, 'cẳ': 45, 'sấ': 41, 'dỗ': 10, 'oă': 46, 'dk': 7, 'xỉ': 44, 'ỉu': 31, 'a-': 86, 'ỡ ': 25, 'dở': 6, 'rớ': 152, '-t': 36, 'ih': 21, '-i': 2, 'tw': 16, 'ux': 9, 'kỷ': 32, ' ư': 271, 'd6': 2, '5m': 3, 'mk': 4, 'k7': 4, 'aq': 14, 'lẽ': 60, '89': 17, 'iù': 41, 'gỏ': 3, 'òe': 17, 'úy': 40, 'g8': 1, 'μm': 8, '77': 15, '<3': 6, 'sô': 115, 'uk': 10, 'm-': 24, '-đ': 5, ' #': 2, 'rữ': 88, 'vo': 242, 'bỉ': 25, 'ỉm': 17, 'ij': 5, 'ji': 13, 'iụ': 1, 'ụa': 11, 'vẽ': 3, 'né': 44, 'm7': 21, 'ip': 191, 'đí': 142, 'pm': 15, 'if': 60, 'lb': 64, 'lk': 8, 'yr': 66, 'ôc': 21, 'uẹ': 2, 'pb': 3, 'm5': 10, 'nọ': 12, 'đĩ': 111, 'é ': 18, 'cờ': 19, ' w': 12, 'v1': 6, 'p2': 4, 'vg': 26, ' <': 6, 'cc': 210, 'sn': 10, 'đm': 13, 'xè': 3, 'nở': 55, \"y'\": 1, \"'s\": 5, 's ': 39, 'l4': 11, 'l5': 12, 'xẻ': 6, 'm6': 30, 'sẩ': 49, 'gợ': 99, '9-': 34, 'u.': 3, '.m': 11, 'mế': 2395, 'ev': 72, 'rh': 92, 'lủ': 1, ' ấ': 42, 'dv': 5, 'rv': 26, 'dơ': 11, 'oắ': 61, 'yo': 62, 'lử': 17, 'tb': 6, 'vứ': 6, 'kỉ': 8, 'b1': 85, ' °': 1, 'wa': 34, 'tộ': 12, 'ìa': 95, '. ': 76, 'tằ': 19, 'cb': 19, 'să': 29, ' ế': 13, 'xộ': 3, 'iw': 8, 'ee': 54, 'vồ': 4, 'xổ': 27, 'ổm': 18, 'sẵ': 99, 'cợ': 9, 'lữ': 3, 'ew': 9, 'wc': 6, 'dế': 4, 'tị': 17, 'cd': 23, 'e0': 1, 'dè': 2, 'ợm': 10, 'uo': 421, 'hỡ': 2, ' ử': 3, 'sm': 45, 'sị': 15, 'wo': 19, 'qi': 4, 'o-': 25, 'sũ': 9, 'ff': 75, '4n': 1, 'n3': 2, '3c': 1, 't’': 3, '’h': 2, 'sg': 21, 'ýt': 26, 'm4': 4, 'n1': 25, 'sộ': 3, 'dẹ': 15, 'kề': 8, 'cở': 26, 'gn': 16, 'h5': 3, 'hõ': 17, ' 8': 4, 'h0': 7, 'sậ': 21, 'éc': 3, ' ọ': 9, 'wh': 41, 'tm': 32, 'vố': 22, '^ ': 3, 'nụ': 12, 'tn': 38, 'fc': 3, 'gs': 19, 'ae': 33, 'sl': 12, '1t': 1, ' 7': 11, 'tq': 2, 'j3': 2, 'rl': 17, 'dũ': 23, 'vở': 9, 'vf': 5, 'rẫ': 18, 'ẫy': 48, 'qt': 19, 't.': 6, '.t': 18, 'tx': 15, 'xn': 11, 'n.': 10, '.x': 19, 'n/': 8, '/s': 2, 'hm': 10, 'd.': 2, 'nệ': 11, ' à': 10, 'iự': 7, 'ựt': 10, 'dé': 9, ' ô': 44, 'p.': 23, '.h': 24, 'kw': 2, 'bh': 13, 'uế': 17, 'sé': 13, 'iỡ': 3, 'sò': 23, 'nỏ': 2, '3_': 5, 'xù': 3, 'b3': 9, 'gỡ': 16, 'lẩ': 10, '5n': 2, '0p': 2, 'lg': 31, 'gẩ': 5, 'rế': 1, 'fb': 5, 'ơc': 41, 'oẹ': 6, 'e4': 4, 'dề': 15, 'a7': 1, 'dằ': 3, 'ju': 6, 'iỏ': 7, 'vỗ': 34, 'ẳm': 1, ' ỏ': 2, 'cp': 9, 'vs': 41, 'y.': 7, '.k': 11, 'jo': 19, 'dc': 126, 'k.': 4, 'ks': 16, 'd1': 8, 'je': 8, 'gú': 52, 'ạk': 9, 'gđ': 8, 'sỉ': 48, 'êt': 22, 'lq': 2, 's.': 10, 'kq': 33, 'vầ': 10, 'vr': 2, 'ht': 65, '_5': 2, 'ọp': 7, 'bẻ': 13, 'dể': 12, 'ág': 14, 'đh': 13, 'rs': 24, 'pf': 21, 'fi': 73, 'ưo': 5, 'tò': 4, 'qh': 51, 'tk': 21, 'kc': 68, 'cn': 25, 'kl': 8, 'ởm': 3, 'dd': 30, 'ẻr': 1, '2_': 4, '_3': 4, 'uỡ': 3, 'pả': 10, 'a3': 11, 'aa': 11, 'âc': 8, 't5': 3, 'kr': 2, 'ữ-': 1, 'n8': 1, 'by': 18, 'e1': 1, '1d': 1, 'n’': 5, 'n-': 57, 'xc': 5, 'gj': 13, 'ja': 20, 'gẹ': 9, ' _': 3, 'yu': 14, 'sk': 21, 'oj': 4, 'đt': 30, 'n5': 1, '0m': 4, 'hỳ': 4, 'aj': 6, 'hq': 2, 'yg': 13, 'iă': 1, 'bb': 5, 'tv': 16, '😥 ': 1, ' 😥': 1, 'vn': 24, 'sq': 7, ' ắ': 2, 'sw': 2, '2h': 1, '🤦 ': 1, ' \\u200d': 1, '♀ ': 1, ' ️': 2, '😭 ': 2, ' 😭': 2, '😩 ': 1, ' 😩': 1, '😞 ': 1, ' 😞': 1, 'ạh': 42, 'xậ': 1, 'ờc': 1, 'pé': 2, 'dt': 9, 'tj': 2, 'jn': 10, 'vd': 20, 'vẳ': 1, ' .': 31, 'ứo': 3, '] ': 2, 'tl': 42, 'sv': 17, 'vb': 6, 'ộ3': 1, 'đé': 6, '.b': 11, 'gw': 2, 'gõ': 9, 'g1': 5, 'm1': 2, '0d': 4, 'df': 2, 'kk': 4, 'qs': 1, 'hh': 14, 'đk': 34, 's2': 3, 'yh': 4, 'mĩ': 12, ' ĩ': 3, 'mõ': 17, 'cj': 9, 'bp': 7, 'uọ': 4, 'cf': 13, 'uu': 9, 'oe': 36, 'hn': 47, 'éb': 1, 'i.': 10, 'ơu': 6, 'uf': 11, 'j ': 8, 'iẹ': 5, 'iẻ': 4, 'ẻm': 1, 'uà': 6, 'tặ': 9, 'gc': 4, '-r': 22, 'gq': 1, 'qy': 1, 'iừ': 4, 'ừo': 5, 'w2': 2, 'ờg': 7, 'ằg': 5, 'ưg': 18, ' ợ': 11, 'bũ': 1, 'uờ': 6, 'g.': 16, 'cí': 4, 'qa': 3, 'qả': 1, 'nv': 20, 'ié': 4, 'w5': 1, '5d': 1, 'vk': 9, 'nớ': 14, 'cì': 1, 'ât': 18, 'nb': 11, 'nị': 3, 'uỏ': 2, 'hv': 4, 'vp': 1, 'â ': 1, 'ej': 10, 'ũg': 12, 'xầ': 2, 'kô': 2, 'kb': 2, 'gd': 17, '[ ': 2, ' [': 1, 'vy': 3, 'ứ4': 1, 'zạ': 1, 'ứ2': 1, 'a.': 13, 'iử': 4, 'vộ': 24, '8d': 1, '-g': 10, 'vủ': 3, 'zz': 3, 'ưc': 29, 'wj': 2, 'fy': 3, 'l9': 1, 'p1': 3, 'ôg': 7, 'ơg': 2, 'h.': 10, 'đở': 2, 'iở': 1, 'ẹu': 2, 'wl': 4, 'lổ': 6, 'đg': 4, 'dă': 10, 'uv': 18, 'ũy': 11, 'gĩ': 4, 'mỉ': 12, 'ầb': 1, 'mẽ': 18, 'g2': 7, 'oỉ': 1, 'ỉh': 1, 'sỗ': 3, 'ặg': 1, 'xx': 2, 'w3': 1, 'gị': 1, 'sề': 5, 'gù': 9, 'iầ': 7, 'đễ': 4, 'dg': 13, 'ws': 1, 'iy': 2, 'hj': 14, 'vh': 1, 'ũo': 1, 'i4': 2, 'ìê': 3, 'qú': 1, 'úô': 1, 'ụâ': 1, 'ựu': 11, ' ^': 1, 'dj': 5, 'jê': 2, 'pư': 1, 'pê': 2, 'vj': 2, 'êc': 4, 'ku': 8, 'pá': 2, 'ảj': 2, 'kả': 1, 'q1': 3, 'é6': 1, 'm.': 7, 'zu': 6, 'ăt': 9, '.d': 5, 'c.': 6, 'dợ': 3, 'uơ': 6, 'wt': 1, 'uh': 4, '.c': 207, 'ău': 1, 'a4': 1, 'ốg': 9, '.e': 8, 'ừu': 5, 'pị': 1, 'tđ': 11, 'i5': 1, 'iđ': 10, 'dú': 5, '->': 11, 'nủ': 1, 'lx': 3, 'kn': 22, 'qá': 1, ' ổ': 14, 'ọu': 1, 'ky': 5, 'ẹc': 1, 'sx': 3, 'àg': 4, 'fả': 4, 'bj': 14, 'jt': 3, 'uw': 9, 'nỉ': 1, '• ': 12, 'ảu': 6, 'i1': 4, '.v': 60, 'ưi': 1, 'vl': 4, 'eh': 11, 'hw': 6, 'i2': 1, 'k5': 1, 'ẹ1': 1, 'xò': 1, 'o.': 8, 'ừ2': 1, '1h': 1, 'dĩ': 19, 'f ': 12, 'jì': 1, 'aw': 6, 'b2': 24, 'b5': 8, 'wả': 1, 'jk': 1, 'n6': 1, 'bx': 1, 'dz': 1, 'uó': 6, 'ổc': 1, 'lỵ': 8, 'âp': 7, 'ũc': 1, 'ựợ': 1, 'zn': 8, 'vằ': 8, 'kỵ': 11, 'sì': 2, 'mn': 6, 'ữq': 1, 'ưỏ': 1, 'c5': 3, '₫ ': 4, 'ud': 12, 'oì': 1, 'ắu': 1, 'đđ': 1, 't7': 1, 'ệh': 3, '😃 ': 1, ' 😃': 1, ':)': 3, 'ãu': 3, 'ôt': 9, 'nđ': 2, 'ặ ': 1, '-o': 1, 'ôu': 1, 'uđ': 2, 'ửu': 2, 'gớ': 1, 'ềt': 2, 'vv': 11, '_1': 3, 'mữ': 1, '.u': 1, 'zô': 1, 'ôl': 10, 'vê': 9, 'dử': 7, '5p': 1, 'cđ': 5, 'mđ': 1, 'zậ': 3, 'yé': 3, 'eé': 2, 'це': 1, 'ет': 1, 'тр': 1, 'ри': 1, 'ин': 1, 'та': 1, 'ан': 1, 'нт': 1, 'ту': 1, 'ум': 1, 'мв': 1, 'ве': 1, 'ер': 1, 'рд': 1, 'де': 1, 'ủm': 2, 'px': 2, 'ìh': 4, 'ứg': 6, 'q ': 3, 'kv': 7, 'nj': 6, 'xớ': 2, 'xủ': 2, 'fv': 3, '-p': 15, 'sí': 4, '.a': 6, 'p:': 7, ':/': 10, '//': 10, '/w': 4, 'ww': 11, 'w.': 4, 'm/': 2, '/ ': 1, 'cỉ': 1, 'kó': 1, 'jế': 1, 'ẽ ': 7, '.n': 3, 'ẻ2': 1, 'òg': 1, \"ờ'\": 1, 'bõ': 1, '::': 2, ': ': 1, '_n': 1, 'yx': 10, 'ađ': 1, 'qo': 1, 'dẩ': 3, 'gk': 11, 'ùg': 6, 'tỳ': 6, '3t': 1, 's-': 14, 'ữg': 1, 'dó': 4, 'đj': 1, 'rổ': 9, 'zl': 1, 'yw': 1, 'ẻu': 1, 'áh': 1, 'ứq': 1, 'iạ': 1, '/a': 3, 'ịệ': 1, 'v.': 74, 'ủe': 1, 'ơṕ': 1, 'ỉr': 1, 'ln': 2, '.r': 2, 'mẳ': 1, 'ẳy': 1, 'ẻn': 2, 'lđ': 1, 'dx': 3, 'xđ': 1, 'zg': 1, 'lễ': 7, 'ừ1': 1, '5đ': 1, '_k': 1, 'e.': 6, 'bd': 2, 'nầ': 3, 'o9': 1, '9c': 1, 'sj': 2, 'mừ': 13, 'tữ': 2, 'õe': 1, '=>': 10, '> ': 1, 'ọg': 2, 'ôx': 18, 'ỗm': 1, '0t': 1, 'iĩ': 1, 'ýe': 1, '☺ ': 1, 'kj': 1, 'ốh': 1, 'ạu': 2, 'ụg': 1, 'úo': 1, 'ĩỹ': 1, 'ạx': 1, 'bį': 1, 'iẫ': 2, 'ưò': 1, 'éu': 1, 'ắg': 2, 'zù': 1, 'ìề': 1, ' ể': 1, 'gè': 1, 'bw': 1, 'ká': 1, 'lì': 1, 'mf': 1, 'dê': 8, 'zẻ': 1, 'ảg': 2, 'jơ': 1, '2d': 1, 'pâ': 1, '.y': 1, 'uṭ': 1, 'xj': 1, 'wx': 2, 'gé': 2, 'ứi': 3, 'vẵ': 1, \"d'\": 1, '-0': 3, 'ôb': 1, 'uớ': 1, 'q.': 1, 'sr': 4, 'r-': 10, ' ở': 13, \"r'\": 1, 'y-': 12, \"n'\": 1, \"'t\": 1, '-k': 13, 'nẩ': 2, 'ớ ': 5, 'h-': 5, 'wy': 1, 'fd': 15, '≥ ': 2, 'o4': 1, 'fg': 1, 'i8': 1, 'iũ': 7, 'iắ': 9, 'g-': 32, 'sf': 15, ' ≥': 2, 'tã': 19, 'μg': 11, 'lũ': 11, 'c2': 1, 'gẫ': 14, 'lĩ': 20, 'gổ': 2, 'vz': 12, 'zv': 12, 'ẽo': 3, 'wf': 1, 'hz': 2, 'pn': 2, 'hf': 4, 'mt': 2, '-f': 2, 'bẫ': 3, 'mj': 2, 'v2': 1, 'cz': 13, 'hü': 1, 'ül': 1, 'ịm': 2, 'rw': 1, 'xp': 2, 'đẳ': 2, '>>': 4, ' ‐': 2, 'μi': 1, 'ơr': 1, '-j': 4, '0a': 2, 'h1': 4, 'oợ': 1, 'xh': 3, 'qđ': 3, 'đ-': 3, 'wi': 7, 'kd': 1, 'β-': 6, 'dm': 2, '-ố': 3, 'h2': 3, '‘ ': 3, ' ‘': 1, 'xs': 5, 'v7': 5, 'rz': 2, '-e': 1, '-n': 11, 'b-': 1, 'lr': 2, 'd2': 3, 'qx': 1, 'yi': 12, 'ờ-': 1, '9g': 1, '2g': 1, '5g': 1, '8g': 1, '1g': 1, 'hƣ': 1, 'ƣờ': 1, '3o': 1, '4o': 1, 'o3': 6, 'oằ': 5, 'oè': 3, 'rẽ': 3, 'eq': 9, 'ỵ ': 3, 'f-': 2, '2v': 2, 'v6': 3, '7f': 2, 'xê': 5, ' β': 1, 'k@': 1, '@a': 1, 'db': 2, 'r2': 2, '– ': 1, 'ĩm': 1, '# ': 1, 'nò': 1, '2c': 4, '-z': 6, 'gề': 1, 'k1': 2, 'fé': 3, 'r’': 1, 'ếa': 1, 'ô-': 11, '\\u200c ': 12, ' \\u200c': 8, '1n': 1, '3n': 1, 'n2': 1, 'oó': 18, 'áú': 1, 'ếs': 1, '0:': 2, ':2': 2, 'gở': 2, 'wp': 2, 'nũ': 2, 'dỡ': 2, 's:': 3, '.q': 1, 'qd': 1, '/y': 1, 'e/': 3, '/t': 3, 'c/': 1, '/l': 2, 'u-': 7, 'ụo': 1, '/v': 1, 'bỡ': 1, \"e'\": 3, 'u1': 1, 'lỉ': 1, 'nè': 1, '● ': 1, 'đõ': 2, 'ẩi': 1, '.g': 1, 'lề': 3, 'uị': 1, 'b7': 3, 'dổ': 1, 'gí': 1, 'ốl': 1, 'ăp': 3, 'tz': 1, 'sỡ': 2, 'ơs': 2, '--': 10, 'ơp': 7, ' =': 2, 'ôa': 1, 'b8': 2, 'iè': 1, 'èr': 1, 'êr': 2, '1a': 3, 'ừâ': 1, 'ưó': 1, 'xở': 1, 'ǎn': 3, 'dẽ': 5, 'mẵ': 1, 'lỳ': 1, 'wu': 1, 'uj': 1, 'ịh': 1, ' -': 3, '- ': 1, 'êủ': 1, 'jh': 1, ' •': 2, 'õ-': 1, 'xắ': 4, 'tẻ': 5, 'mỳ': 8, 'yk': 1, 'd’': 1, '’a': 1, \"'v\": 2, 'e7': 2, '\\xad ': 19, 'p5': 1, 'ơt': 4, 'ég': 1, 'ảc': 1, 'ởt': 2, 'ẻe': 1, 'ểở': 1, 'ủb': 1, 'ểc': 2, 'ố5': 1, 'ẽđ': 1, 'ể-': 2, '-u': 2, 'm³': 1, ' +': 1, 'ì-': 1, ' ½': 2, 'mz': 1, 'mv': 4, 'pk': 2, ' ủ': 1, 'dô': 2, 'êp': 1, '® ': 1, 'rề': 4, 'uợ': 2, 'ơ-': 2, 'μl': 1, 'gx': 2, 'ôp': 1, 'ềo': 1, 'vè': 1, '/e': 1, '/b': 1, '-w': 2, 'r8': 1, 'tể': 2, '+ ': 1, '6h': 1, 'rỡ': 3, 'oẳ': 2, 'đn': 2, 'e5': 1, '/n': 1, '_ ': 1, '_s': 1, 'pí': 1, 'hđ': 1, 'gv': 1, 'yđ': 1, 'oï': 4, 'ïd': 4, 'wg': 1, '.s': 1, 'q5': 1, '/i': 1, '-y': 1, '/p': 1, 'uă': 1, 'ớg': 1, 'sđ': 1, '½ ': 2, '¼ ': 2, '_ở': 1, 'àl': 1, 'iộ': 2, 'vđ': 2, 'pô': 1, 'zt': 1, 'é-': 1, 'lể': 1, 'àe': 1, 'jc': 1, 'zé': 1})\n"
          ]
        }
      ]
    },
    {
      "cell_type": "code",
      "source": [
        "# Step 3: Merge Pairs\n",
        "\n",
        "def merge_pair(char_corpus, pair, new_token):\n",
        "  new_corpus = {}\n",
        "\n",
        "  for token, chars in char_corpus.items():\n",
        "    new_chars = []\n",
        "    i = 0\n",
        "\n",
        "    while i < len(chars):\n",
        "      if i < len(chars) - 1 and chars[i] + chars[i + 1] == pair:\n",
        "        new_chars.append(new_token)\n",
        "        i += 2\n",
        "      else:\n",
        "        new_chars.append(chars[i])\n",
        "        i += 1\n",
        "\n",
        "    new_corpus[token] = new_chars\n",
        "\n",
        "  return new_corpus\n",
        "\n",
        "new_token = ''.join(most_freq_pair)\n",
        "char_corpus = merge_pair(char_corpus, most_freq_pair, new_token)\n",
        "print(\"Sample updated corpus:\", dict(list(char_corpus.items())[:10]))"
      ],
      "metadata": {
        "colab": {
          "base_uri": "https://localhost:8080/"
        },
        "id": "TSLUshv80WAY",
        "outputId": "b4d2b914-4e2b-45ec-a924-fd4b06eaf96c"
      },
      "execution_count": 12,
      "outputs": [
        {
          "output_type": "stream",
          "name": "stdout",
          "text": [
            "Sample updated corpus: {'răng': ['r', 'ă', 'ng', '</w>'], 'cháu': ['c', 'h', 'á', 'u', '</w>'], 'hiện tại': ['h', 'i', 'ệ', 'n', ' ', 't', 'ạ', 'i', '</w>'], 'có': ['c', 'ó', '</w>'], 'mủ': ['m', 'ủ', '</w>'], 'ở': ['ở', '</w>'], 'dưới': ['d', 'ư', 'ớ', 'i', '</w>'], 'lợi': ['l', 'ợ', 'i', '</w>'], 'nhưng': ['n', 'h', 'ư', 'ng', '</w>'], 'khi': ['k', 'h', 'i', '</w>']}\n"
          ]
        }
      ]
    },
    {
      "cell_type": "code",
      "source": [
        "# step 4: Loop over the char corpus to take all not just 'ng'\n",
        "\n",
        "merge_rules = []\n",
        "num_merges = 10500 # create a vocab with 10k tokens\n",
        "\n",
        "for i in range(num_merges):\n",
        "  pair_freq = get_pair_freq(char_corpus, token_freq) # get pair frequecies\n",
        "\n",
        "  # make sure have a pair\n",
        "  if not pair_freq:\n",
        "    break\n",
        "\n",
        "  most_freq_pair = max(pair_freq, key=pair_freq.get) # get most frequent pair\n",
        "  new_token = ''.join(most_freq_pair)\n",
        "  merge_rules.append((most_freq_pair, new_token))\n",
        "  char_corpus = merge_pair(char_corpus, most_freq_pair, new_token) # merge pair\n",
        "\n",
        "  if i % 1000 == 0:\n",
        "    print(f\"Merge {i}: {most_freq_pair} -> {new_token}\")"
      ],
      "metadata": {
        "id": "DkcHZLyn2l29"
      },
      "execution_count": null,
      "outputs": []
    },
    {
      "cell_type": "code",
      "source": [
        "# Step 5: Build vocab with char_corpus\n",
        "vocab = set()\n",
        "\n",
        "for chars in char_corpus.values():\n",
        "  vocab.update(chars)\n",
        "\n",
        "vocab = list(vocab)\n",
        "vocab_dict = {token: idx for idx, token in enumerate(vocab)}\n",
        "\n",
        "print(\"Vocabulary size:\", len(vocab))\n",
        "print(\"Sample vocabulary:\", vocab[:10])"
      ],
      "metadata": {
        "id": "_D1D8UIt77wn"
      },
      "execution_count": null,
      "outputs": []
    },
    {
      "cell_type": "code",
      "source": [
        "print(\"Sample vocabulary:\", vocab[:50])"
      ],
      "metadata": {
        "colab": {
          "base_uri": "https://localhost:8080/"
        },
        "id": "1qXf7FDJEeMO",
        "outputId": "76454f7a-9c5f-43a4-eb1a-3f7842f890f8"
      },
      "execution_count": 64,
      "outputs": [
        {
          "output_type": "stream",
          "name": "stdout",
          "text": [
            "Sample vocabulary: ['canxi', 'bận rộn', 'biểu hiện', 'nhấn', 'gàu', 'bùi thị', 'tự phát', 'cong ', ' đắp', 'máy', 'tinh nghệ', ' dại', 'ất ', 'sơm', 'test', 'anti-', 'qua ngày', ' độ', 'đươc', 'học ', 'bác sỹ', 'thể trọng', 'loét miệng', 'bãi', 'ái', ' sinh học', 'tứ chi', 'phèn', 'quên', 'long đờm', 'bendazole', '2012', 'nên', ' giây', 'pyr', 'phiền muộn', 'giặt giũ', 'ọc ', 'trứng', 'xô', 'der', 'đồng nhất', 'niêm ', ' la', 'ralgan', 'dieu', ' thìa', 'dịu', '.8', 'ko']\n"
          ]
        }
      ]
    },
    {
      "cell_type": "code",
      "source": [
        "# save to drive\n",
        "import json\n",
        "\n",
        "# Define the path in Google Drive\n",
        "drive_path = '/content/drive/MyDrive/NLP/Final/bpe_model.json'\n",
        "\n",
        "# Ensure the directory exists\n",
        "import os\n",
        "os.makedirs(os.path.dirname(drive_path), exist_ok=True)\n",
        "\n",
        "# Save vocabulary and merge rules\n",
        "bpe_data = {\n",
        "    'vocab': vocab_dict,\n",
        "    'merge_rules': [(pair[0], pair[1], new_token) for pair, new_token in merge_rules]\n",
        "}\n",
        "with open(drive_path, 'w', encoding='utf-8') as f:\n",
        "    json.dump(bpe_data, f, ensure_ascii=False, indent=2)\n",
        "\n",
        "print(f\"BPE model saved to Google Drive at: {drive_path}\")"
      ],
      "metadata": {
        "colab": {
          "base_uri": "https://localhost:8080/"
        },
        "id": "XBIcLJ6g-eH3",
        "outputId": "3f941fc2-63bc-4f58-9e60-2bcab5eb3b2b"
      },
      "execution_count": 65,
      "outputs": [
        {
          "output_type": "stream",
          "name": "stdout",
          "text": [
            "BPE model saved to Google Drive at: /content/drive/MyDrive/NLP/Final/bpe_model.json\n"
          ]
        }
      ]
    },
    {
      "cell_type": "code",
      "source": [
        "# load vocab again\n",
        "\n",
        "import json\n",
        "\n",
        "drive_path = '/content/drive/MyDrive/NLP/Final/bpe_model.json'\n",
        "with open(drive_path, 'r', encoding='utf-8') as f:\n",
        "    bpe_data = json.load(f)\n",
        "vocab_dict = bpe_data['vocab']\n",
        "merge_rules = [(tuple(pair[:2]), pair[2]) for pair in bpe_data['merge_rules']]"
      ],
      "metadata": {
        "id": "yk0GL6Yntsll"
      },
      "execution_count": 9,
      "outputs": []
    },
    {
      "cell_type": "code",
      "source": [
        "# check vocab\n",
        "print(\"Vocabulary size:\", len(vocab_dict))\n",
        "print(\"Sample vocabulary:\", list(vocab_dict.items())[:10])"
      ],
      "metadata": {
        "colab": {
          "base_uri": "https://localhost:8080/"
        },
        "id": "un_G_smf1ho0",
        "outputId": "e391f536-9b84-487e-dd77-fb9036b4dd21"
      },
      "execution_count": 10,
      "outputs": [
        {
          "output_type": "stream",
          "name": "stdout",
          "text": [
            "Vocabulary size: 10225\n",
            "Sample vocabulary: [('canxi', 0), ('bận rộn', 1), ('biểu hiện', 2), ('nhấn', 3), ('gàu', 4), ('bùi thị', 5), ('tự phát', 6), ('cong ', 7), (' đắp', 8), ('máy', 9)]\n"
          ]
        }
      ]
    },
    {
      "cell_type": "markdown",
      "source": [
        "## Transformer based Encoder - Decoder"
      ],
      "metadata": {
        "id": "iQDM4L3ku0H1"
      }
    },
    {
      "cell_type": "markdown",
      "source": [
        "### Encoding Dataset"
      ],
      "metadata": {
        "id": "jRHIsvyeu9Ea"
      }
    },
    {
      "cell_type": "markdown",
      "source": [
        "Packages"
      ],
      "metadata": {
        "id": "Wjx6f8TJvNQf"
      }
    },
    {
      "cell_type": "code",
      "source": [
        "import pandas as pd\n",
        "import torch\n",
        "import torch.nn as nn\n",
        "import torch.optim as optim\n",
        "from torch.utils.data import Dataset, DataLoader\n",
        "import numpy as np"
      ],
      "metadata": {
        "id": "_1guS0KivEsS"
      },
      "execution_count": 7,
      "outputs": []
    },
    {
      "cell_type": "code",
      "source": [
        "df = pd.read_csv(\"/content/drive/MyDrive/NLP/Final/dataset/processed_medical_qa_vn.csv\")\n",
        "df.head()"
      ],
      "metadata": {
        "colab": {
          "base_uri": "https://localhost:8080/",
          "height": 206
        },
        "id": "VXeMo9Lx8cg5",
        "outputId": "1e2ef196-ebbd-42ce-9cf8-8737fbd432e0"
      },
      "execution_count": 17,
      "outputs": [
        {
          "output_type": "execute_result",
          "data": {
            "text/plain": [
              "                                     question_tokens  \\\n",
              "0  ['răng', 'cháu', 'hiện tại', 'có', 'mủ', 'ở', ...   \n",
              "1  ['em', 'thấy', 'mặt', 'dưới', ',', 'phía', 'cu...   \n",
              "2  ['từ', 'tháng', '4/2020', ',', 'em', 'mới', 'x...   \n",
              "3  ['dạo', 'gần', 'đây', ',', 'mỗi', 'tối', 'ngủ'...   \n",
              "4  ['em', 'bị', 'tăng', 'tiết', 'mồ hôi', ',', 'n...   \n",
              "\n",
              "                                       answer_tokens  \n",
              "0  ['răng', 'bạn', 'hiện tại', 'có', 'mủ', 'dưới'...  \n",
              "1  ['triệu chứng', 'nốt', 'mụn', 'đỏ', 'vùng', 'd...  \n",
              "2  ['các', 'triệu chứng', 'sốt', ',', 'đau họng',...  \n",
              "3  ['các', 'dấu hiệu', ':', 'nghẹt', 'mũi', ',', ...  \n",
              "4  ['tăng', 'tiết', 'mồ hôi', 'nguyên phát', 'thư...  "
            ],
            "text/html": [
              "\n",
              "  <div id=\"df-752ae2c3-2f01-432a-b92c-e760746e25e6\" class=\"colab-df-container\">\n",
              "    <div>\n",
              "<style scoped>\n",
              "    .dataframe tbody tr th:only-of-type {\n",
              "        vertical-align: middle;\n",
              "    }\n",
              "\n",
              "    .dataframe tbody tr th {\n",
              "        vertical-align: top;\n",
              "    }\n",
              "\n",
              "    .dataframe thead th {\n",
              "        text-align: right;\n",
              "    }\n",
              "</style>\n",
              "<table border=\"1\" class=\"dataframe\">\n",
              "  <thead>\n",
              "    <tr style=\"text-align: right;\">\n",
              "      <th></th>\n",
              "      <th>question_tokens</th>\n",
              "      <th>answer_tokens</th>\n",
              "    </tr>\n",
              "  </thead>\n",
              "  <tbody>\n",
              "    <tr>\n",
              "      <th>0</th>\n",
              "      <td>['răng', 'cháu', 'hiện tại', 'có', 'mủ', 'ở', ...</td>\n",
              "      <td>['răng', 'bạn', 'hiện tại', 'có', 'mủ', 'dưới'...</td>\n",
              "    </tr>\n",
              "    <tr>\n",
              "      <th>1</th>\n",
              "      <td>['em', 'thấy', 'mặt', 'dưới', ',', 'phía', 'cu...</td>\n",
              "      <td>['triệu chứng', 'nốt', 'mụn', 'đỏ', 'vùng', 'd...</td>\n",
              "    </tr>\n",
              "    <tr>\n",
              "      <th>2</th>\n",
              "      <td>['từ', 'tháng', '4/2020', ',', 'em', 'mới', 'x...</td>\n",
              "      <td>['các', 'triệu chứng', 'sốt', ',', 'đau họng',...</td>\n",
              "    </tr>\n",
              "    <tr>\n",
              "      <th>3</th>\n",
              "      <td>['dạo', 'gần', 'đây', ',', 'mỗi', 'tối', 'ngủ'...</td>\n",
              "      <td>['các', 'dấu hiệu', ':', 'nghẹt', 'mũi', ',', ...</td>\n",
              "    </tr>\n",
              "    <tr>\n",
              "      <th>4</th>\n",
              "      <td>['em', 'bị', 'tăng', 'tiết', 'mồ hôi', ',', 'n...</td>\n",
              "      <td>['tăng', 'tiết', 'mồ hôi', 'nguyên phát', 'thư...</td>\n",
              "    </tr>\n",
              "  </tbody>\n",
              "</table>\n",
              "</div>\n",
              "    <div class=\"colab-df-buttons\">\n",
              "\n",
              "  <div class=\"colab-df-container\">\n",
              "    <button class=\"colab-df-convert\" onclick=\"convertToInteractive('df-752ae2c3-2f01-432a-b92c-e760746e25e6')\"\n",
              "            title=\"Convert this dataframe to an interactive table.\"\n",
              "            style=\"display:none;\">\n",
              "\n",
              "  <svg xmlns=\"http://www.w3.org/2000/svg\" height=\"24px\" viewBox=\"0 -960 960 960\">\n",
              "    <path d=\"M120-120v-720h720v720H120Zm60-500h600v-160H180v160Zm220 220h160v-160H400v160Zm0 220h160v-160H400v160ZM180-400h160v-160H180v160Zm440 0h160v-160H620v160ZM180-180h160v-160H180v160Zm440 0h160v-160H620v160Z\"/>\n",
              "  </svg>\n",
              "    </button>\n",
              "\n",
              "  <style>\n",
              "    .colab-df-container {\n",
              "      display:flex;\n",
              "      gap: 12px;\n",
              "    }\n",
              "\n",
              "    .colab-df-convert {\n",
              "      background-color: #E8F0FE;\n",
              "      border: none;\n",
              "      border-radius: 50%;\n",
              "      cursor: pointer;\n",
              "      display: none;\n",
              "      fill: #1967D2;\n",
              "      height: 32px;\n",
              "      padding: 0 0 0 0;\n",
              "      width: 32px;\n",
              "    }\n",
              "\n",
              "    .colab-df-convert:hover {\n",
              "      background-color: #E2EBFA;\n",
              "      box-shadow: 0px 1px 2px rgba(60, 64, 67, 0.3), 0px 1px 3px 1px rgba(60, 64, 67, 0.15);\n",
              "      fill: #174EA6;\n",
              "    }\n",
              "\n",
              "    .colab-df-buttons div {\n",
              "      margin-bottom: 4px;\n",
              "    }\n",
              "\n",
              "    [theme=dark] .colab-df-convert {\n",
              "      background-color: #3B4455;\n",
              "      fill: #D2E3FC;\n",
              "    }\n",
              "\n",
              "    [theme=dark] .colab-df-convert:hover {\n",
              "      background-color: #434B5C;\n",
              "      box-shadow: 0px 1px 3px 1px rgba(0, 0, 0, 0.15);\n",
              "      filter: drop-shadow(0px 1px 2px rgba(0, 0, 0, 0.3));\n",
              "      fill: #FFFFFF;\n",
              "    }\n",
              "  </style>\n",
              "\n",
              "    <script>\n",
              "      const buttonEl =\n",
              "        document.querySelector('#df-752ae2c3-2f01-432a-b92c-e760746e25e6 button.colab-df-convert');\n",
              "      buttonEl.style.display =\n",
              "        google.colab.kernel.accessAllowed ? 'block' : 'none';\n",
              "\n",
              "      async function convertToInteractive(key) {\n",
              "        const element = document.querySelector('#df-752ae2c3-2f01-432a-b92c-e760746e25e6');\n",
              "        const dataTable =\n",
              "          await google.colab.kernel.invokeFunction('convertToInteractive',\n",
              "                                                    [key], {});\n",
              "        if (!dataTable) return;\n",
              "\n",
              "        const docLinkHtml = 'Like what you see? Visit the ' +\n",
              "          '<a target=\"_blank\" href=https://colab.research.google.com/notebooks/data_table.ipynb>data table notebook</a>'\n",
              "          + ' to learn more about interactive tables.';\n",
              "        element.innerHTML = '';\n",
              "        dataTable['output_type'] = 'display_data';\n",
              "        await google.colab.output.renderOutput(dataTable, element);\n",
              "        const docLink = document.createElement('div');\n",
              "        docLink.innerHTML = docLinkHtml;\n",
              "        element.appendChild(docLink);\n",
              "      }\n",
              "    </script>\n",
              "  </div>\n",
              "\n",
              "\n",
              "    <div id=\"df-690870c0-a7d8-4c0c-9925-51decd4fe839\">\n",
              "      <button class=\"colab-df-quickchart\" onclick=\"quickchart('df-690870c0-a7d8-4c0c-9925-51decd4fe839')\"\n",
              "                title=\"Suggest charts\"\n",
              "                style=\"display:none;\">\n",
              "\n",
              "<svg xmlns=\"http://www.w3.org/2000/svg\" height=\"24px\"viewBox=\"0 0 24 24\"\n",
              "     width=\"24px\">\n",
              "    <g>\n",
              "        <path d=\"M19 3H5c-1.1 0-2 .9-2 2v14c0 1.1.9 2 2 2h14c1.1 0 2-.9 2-2V5c0-1.1-.9-2-2-2zM9 17H7v-7h2v7zm4 0h-2V7h2v10zm4 0h-2v-4h2v4z\"/>\n",
              "    </g>\n",
              "</svg>\n",
              "      </button>\n",
              "\n",
              "<style>\n",
              "  .colab-df-quickchart {\n",
              "      --bg-color: #E8F0FE;\n",
              "      --fill-color: #1967D2;\n",
              "      --hover-bg-color: #E2EBFA;\n",
              "      --hover-fill-color: #174EA6;\n",
              "      --disabled-fill-color: #AAA;\n",
              "      --disabled-bg-color: #DDD;\n",
              "  }\n",
              "\n",
              "  [theme=dark] .colab-df-quickchart {\n",
              "      --bg-color: #3B4455;\n",
              "      --fill-color: #D2E3FC;\n",
              "      --hover-bg-color: #434B5C;\n",
              "      --hover-fill-color: #FFFFFF;\n",
              "      --disabled-bg-color: #3B4455;\n",
              "      --disabled-fill-color: #666;\n",
              "  }\n",
              "\n",
              "  .colab-df-quickchart {\n",
              "    background-color: var(--bg-color);\n",
              "    border: none;\n",
              "    border-radius: 50%;\n",
              "    cursor: pointer;\n",
              "    display: none;\n",
              "    fill: var(--fill-color);\n",
              "    height: 32px;\n",
              "    padding: 0;\n",
              "    width: 32px;\n",
              "  }\n",
              "\n",
              "  .colab-df-quickchart:hover {\n",
              "    background-color: var(--hover-bg-color);\n",
              "    box-shadow: 0 1px 2px rgba(60, 64, 67, 0.3), 0 1px 3px 1px rgba(60, 64, 67, 0.15);\n",
              "    fill: var(--button-hover-fill-color);\n",
              "  }\n",
              "\n",
              "  .colab-df-quickchart-complete:disabled,\n",
              "  .colab-df-quickchart-complete:disabled:hover {\n",
              "    background-color: var(--disabled-bg-color);\n",
              "    fill: var(--disabled-fill-color);\n",
              "    box-shadow: none;\n",
              "  }\n",
              "\n",
              "  .colab-df-spinner {\n",
              "    border: 2px solid var(--fill-color);\n",
              "    border-color: transparent;\n",
              "    border-bottom-color: var(--fill-color);\n",
              "    animation:\n",
              "      spin 1s steps(1) infinite;\n",
              "  }\n",
              "\n",
              "  @keyframes spin {\n",
              "    0% {\n",
              "      border-color: transparent;\n",
              "      border-bottom-color: var(--fill-color);\n",
              "      border-left-color: var(--fill-color);\n",
              "    }\n",
              "    20% {\n",
              "      border-color: transparent;\n",
              "      border-left-color: var(--fill-color);\n",
              "      border-top-color: var(--fill-color);\n",
              "    }\n",
              "    30% {\n",
              "      border-color: transparent;\n",
              "      border-left-color: var(--fill-color);\n",
              "      border-top-color: var(--fill-color);\n",
              "      border-right-color: var(--fill-color);\n",
              "    }\n",
              "    40% {\n",
              "      border-color: transparent;\n",
              "      border-right-color: var(--fill-color);\n",
              "      border-top-color: var(--fill-color);\n",
              "    }\n",
              "    60% {\n",
              "      border-color: transparent;\n",
              "      border-right-color: var(--fill-color);\n",
              "    }\n",
              "    80% {\n",
              "      border-color: transparent;\n",
              "      border-right-color: var(--fill-color);\n",
              "      border-bottom-color: var(--fill-color);\n",
              "    }\n",
              "    90% {\n",
              "      border-color: transparent;\n",
              "      border-bottom-color: var(--fill-color);\n",
              "    }\n",
              "  }\n",
              "</style>\n",
              "\n",
              "      <script>\n",
              "        async function quickchart(key) {\n",
              "          const quickchartButtonEl =\n",
              "            document.querySelector('#' + key + ' button');\n",
              "          quickchartButtonEl.disabled = true;  // To prevent multiple clicks.\n",
              "          quickchartButtonEl.classList.add('colab-df-spinner');\n",
              "          try {\n",
              "            const charts = await google.colab.kernel.invokeFunction(\n",
              "                'suggestCharts', [key], {});\n",
              "          } catch (error) {\n",
              "            console.error('Error during call to suggestCharts:', error);\n",
              "          }\n",
              "          quickchartButtonEl.classList.remove('colab-df-spinner');\n",
              "          quickchartButtonEl.classList.add('colab-df-quickchart-complete');\n",
              "        }\n",
              "        (() => {\n",
              "          let quickchartButtonEl =\n",
              "            document.querySelector('#df-690870c0-a7d8-4c0c-9925-51decd4fe839 button');\n",
              "          quickchartButtonEl.style.display =\n",
              "            google.colab.kernel.accessAllowed ? 'block' : 'none';\n",
              "        })();\n",
              "      </script>\n",
              "    </div>\n",
              "\n",
              "    </div>\n",
              "  </div>\n"
            ],
            "application/vnd.google.colaboratory.intrinsic+json": {
              "type": "dataframe",
              "variable_name": "df",
              "summary": "{\n  \"name\": \"df\",\n  \"rows\": 9332,\n  \"fields\": [\n    {\n      \"column\": \"question_tokens\",\n      \"properties\": {\n        \"dtype\": \"string\",\n        \"num_unique_values\": 9328,\n        \"samples\": [\n          \"['\\u1ea1', '.', 'v\\u00e0i', 'tu\\u1ea7n', 'tr\\u01b0\\u1edbc', '\\u1edf', 'tay ph\\u1ea3i', 'c\\u1ee7a', 't\\u00f4i', 'c\\u00f3', 'n\\u1ed5i m\\u1ea9n', 'to', 'nh\\u00ecn', 'v\\u00e0o', 'gi\\u1ed1ng', 'nh\\u01b0', 'b\\u1ecb', 'r\\u1ebft c\\u1eafn', 'nh\\u01b0ng', 'kh\\u00f4ng', 'c\\u00f3', 'd\\u1ea5u v\\u1ebft', 'g\\u00ec', 'c\\u1ea3', ',', 'v\\u00e0i', 'ng\\u00e0y', 'sau', 'th\\u00ec', 'm\\u1eaft', 'tr\\u00e1i', 'c\\u1ee7a', 't\\u00f4i', 'b\\u1ecb', 'ng\\u1ee9a', 'v\\u00e0', 's\\u01b0ng', 'l\\u00ean', '.', 'hi\\u1ec7n t\\u1ea1i', 'b\\u00ean', 'trong', 'mi\\u1ec7ng', 't\\u00f4i', 'c\\u00f3', '1', 'c\\u1ee5c', 'b\\u1ecb', 'c\\u1ed9m', 'gi\\u1ed1ng', 'nh\\u01b0', 'v\\u1ebft', 'mu\\u1ed7i', 'c\\u1eafn', 'v\\u1eady', '.', 'xin', 'h\\u1ecfi', 'b\\u00e1c s\\u0129', 'c\\u00f3', 'ph\\u1ea3i', 't\\u00f4i', 'b\\u1ecb', 's\\u00e1n', 'ch\\u00f3', 'kh\\u00f4ng', '?']\",\n          \"['xin', 't\\u00f4i', 'l\\u00e0m', 'x\\u00e9t nghi\\u1ec7m', 'th\\u00ec', 'k\\u1ebft qu\\u1ea3', 'ferritin', 'trong', 'huy\\u1ebft thanh', 'cao', '.', 'c\\u00e1c', 'x\\u00e9t nghi\\u1ec7m', 'sinh h\\u00f3a', 'v\\u00e0', 'huy\\u1ebft h\\u1ecdc', 'b\\u00ecnh th\\u01b0\\u1eddng', '.', 'ferritin', 'trong', 'huy\\u1ebft thanh', 'cao', 'l\\u00e0', 'd\\u1ea5u hi\\u1ec7u', 'b\\u1ec7nh', 'g\\u00ec', '?']\",\n          \"['sau', 'khi', 'kh\\u00e1m', 't\\u1ea1i', 'm\\u1ed9t', 'b\\u1ec7nh vi\\u1ec7n', ',', 't\\u00f4i', '\\u0111\\u01b0\\u1ee3c', 'ch\\u1ea9n \\u0111o\\u00e1n', 'b\\u1ecb', 'b\\u1ec7nh', 'x\\u01a1 c\\u1ee9ng', 'r\\u1ea3i r\\u00e1c', '.', 't\\u00f4i', '\\u0111\\u00e3', '\\u0111i\\u1ec1u tr\\u1ecb', 't\\u1ea1i', 'b\\u1ec7nh vi\\u1ec7n', '\\u0111\\u00f3', 'nh\\u01b0ng', 'b\\u1ec7nh', 'kh\\u00f4ng', 'thuy\\u00ean gi\\u1ea3m', '.', 'hi\\u1ec7n nay', 't\\u00f4i', 'b\\u1ecb', 'li\\u1ec7t', 'hai', 'ch\\u00e2n', '.', 't\\u00f4i', 'mu\\u1ed1n', '\\u0111\\u01b0\\u1ee3c', 'b\\u00e1c s\\u0129', 't\\u01b0 v\\u1ea5n', 'gi\\u00fap', 't\\u00f4i', '.']\"\n        ],\n        \"semantic_type\": \"\",\n        \"description\": \"\"\n      }\n    },\n    {\n      \"column\": \"answer_tokens\",\n      \"properties\": {\n        \"dtype\": \"string\",\n        \"num_unique_values\": 9161,\n        \"samples\": [\n          \"['!', 'tri\\u1ec7u ch\\u1ee9ng', 'b\\u1ea1n', 'm\\u00f4 t\\u1ea3', 'kh\\u00f4ng', 'r\\u00f5 r\\u00e0ng', 'n\\u00ean', 'kh\\u00f3', 'c\\u00f3 th\\u1ec3', 't\\u01b0 v\\u1ea5n', 'ch\\u00ednh x\\u00e1c', '\\u0111\\u01b0\\u1ee3c', '.', 'v\\u00ec v\\u1eady', ',', 'b\\u00e1c s\\u0129', 'khuy\\u00ean', 'b\\u1ea1n', 'n\\u00ean', '\\u0111\\u1ebfn', 'ph\\u00f2ng kh\\u00e1m', 'chuy\\u00ean khoa', 'r\\u0103ng', '-', 'h\\u00e0m', '-', 'm\\u1eb7t', '\\u0111\\u1ec3', 'c\\u00f3', 'c\\u00e2u', 'tr\\u1ea3 l\\u1eddi', 'cho', 'th\\u1eafc m\\u1eafc', '\\u201c', '2', 'b\\u00ean', 'l\\u01b0\\u1ee1i', 'm\\u1ecdc', 'm\\u1ee5n', 'nh\\u1ecf', 'm\\u00e0u', '\\u0111\\u1ecf', ',', 'kh\\u00f4ng', '\\u0111au', 'l\\u00e0', 'b\\u1ecb', 'g\\u00ec', 'v\\u1eady', '?', '\\u0111\\u1ed3ng th\\u1eddi', '\\u0111i\\u1ec1u tr\\u1ecb', 'd\\u1ee9t \\u0111i\\u1ec3m', 'b\\u1ec7nh l\\u00fd', 'n\\u1ebfu', 'c\\u00f3', '.', 'c\\u1ea3m \\u01a1n', 'b\\u1ea1n', '\\u0111\\u00e3', 'tin t\\u01b0\\u1edfng', 'ai-doctor', '.']\",\n          \"['chanh', 'l\\u00e0', 'nguy\\u00ean li\\u1ec7u', 'l\\u00e0m \\u0111\\u1eb9p', 't\\u1ea1i', 'nh\\u00e0', 'v\\u1eeba', 'an to\\u00e0n', 'v\\u1eeba', 'hi\\u1ec7u qu\\u1ea3', '.', 'kh\\u00f4ng nh\\u1eefng', 'c\\u00f3', 't\\u00e1c d\\u1ee5ng', 'tr\\u1ecb', 'm\\u1ee5n', ',', 'chanh', 'c\\u0169ng', 'gi\\u00fap', 'l\\u00e0m', 'm\\u1edd', 'v\\u00e0', 'li\\u1ec1n', 's\\u1eb9o', 'nhanh', '.', 'b\\u1edfi', 'trong', 'chanh', 'c\\u00f3', 'ch\\u1ee9a', 'l-asorbic acid', ',', 'm\\u1ed9t', 'ch\\u1ea5t', 'l\\u00e0m', 'se', 'v\\u00e0', 'l\\u00e0m', 'kh\\u00f4', 'm\\u1ee5n', '.', 'ch\\u1ea5t', 'n\\u00e0y', 'ho\\u1ea1t \\u0111\\u1ed9ng', 'nh\\u01b0', 'ch\\u1ea5t', 'kh\\u00e1ng sinh', 'ch\\u1ed1ng', 'l\\u1ea1i', 'c\\u00e1c', 'vi khu\\u1ea9n', 'g\\u00e2y', 'm\\u1ee5n', '.', '-', 'n\\u1ebfu', 'b\\u1ea1n', 'mu\\u1ed1n', 'l\\u00e0m', 'm\\u1edd', 's\\u1eb9o', 'b\\u1ea1n', 'thoa', 'n\\u01b0\\u1edbc', 'chanh', 'l\\u00ean', 'v\\u00f9ng', 'm\\u1ee5n', 'v\\u00e0', 's\\u1eb9o', 'c\\u00f3 th\\u1ec3', '\\u0111\\u1ec3', 'nh\\u01b0 v\\u1eady', 'trong', 'v\\u00e0i', 'gi\\u1edd', 'ho\\u1eb7c', 'th\\u1eadm ch\\u00ed', 'qua', '\\u0111\\u00eam', '.', '-', 'n\\u1ebfu', 'da', 'b\\u1ea1n', 'nh\\u1ea1y c\\u1ea3m', 'hay', 'b\\u1ecb', 'm\\u1ea9n', '\\u0111\\u1ecf', ',', 'h\\u00e3y', 'th\\u1eed', 'thoa', 'n\\u01b0\\u1edbc', 'chanh', 'l\\u00ean', 'da', 'trong', 'v\\u00f2ng', 'v\\u00e0i', 'gi\\u1edd', 'xem', 'c\\u00f3', 'k\\u00edch \\u1ee9ng', 'kh\\u00f4ng', '.', 'sau', '\\u0111\\u00f3', 'd\\u1ea7n d\\u1ea7n', 't\\u0103ng', 'th\\u1eddi gian', 'l\\u00ean', '.', 'th\\u00e2n m\\u1ebfn', '!']\",\n          \"['b\\u1ea1n', 'b\\u1ecb', '\\u0111au', 'hai', 'b\\u00ean', 'h\\u00e0m', 'd\\u01b0\\u1edbi', 'hai', 'b\\u00ean', 'mang', 'tai', ',', '\\u0111au', 'khi', '\\u0103n nhai', ',', 'b\\u1ea1n', 'c\\u1ea7n', '\\u0111i', 'kh\\u00e1m', 'b\\u00e1c s\\u0129', 'r\\u0103ng', 'h\\u00e0m m\\u1eb7t', '\\u0111\\u1ec3', 'ki\\u1ec3m tra', 't\\u00ecnh tr\\u1ea1ng', 'r\\u0103ng kh\\u00f4n', 'c\\u1ee7a', 'b\\u1ea1n', 'v\\u00e0', 'x\\u00e1c \\u0111\\u1ecbnh', 'nguy\\u00ean nh\\u00e2n', 'g\\u00e2y', '\\u0111au', '\\u0111\\u1ec3', 'c\\u00f3', 'h\\u01b0\\u1edbng', '\\u0111i\\u1ec1u tr\\u1ecb', 'th\\u00edch h\\u1ee3p', ',', 'n\\u1ebfu', 'c\\u1ea7n', 'chuy\\u1ec3n khoa', 'tai m\\u0169i', 'h\\u1ecdng', 'h\\u1ed9i ch\\u1ea9n', '.']\"\n        ],\n        \"semantic_type\": \"\",\n        \"description\": \"\"\n      }\n    }\n  ]\n}"
            }
          },
          "metadata": {},
          "execution_count": 17
        }
      ]
    },
    {
      "cell_type": "code",
      "source": [
        "# BPE encode/decode functions\n",
        "\n",
        "# get char-level\n",
        "def get_char_tokens(token):\n",
        "  return list(token) + ['</w>']\n",
        "\n",
        "# encode text into pad ids\n",
        "def encode_text(token_list, merge_rules, vocab_dict, max_len=128):\n",
        "\n",
        "  # ensure load df from file is list\n",
        "  if isinstance(token_list, str):\n",
        "      token_list = eval(token_list)\n",
        "\n",
        "  # get char_tokens\n",
        "  char_tokens = [get_char_tokens(token) for token in token_list]\n",
        "\n",
        "  # apply BPE merge rules over dataset\n",
        "  for pair, new_token in merge_rules:\n",
        "      for i, word_chars in enumerate(char_tokens):\n",
        "          new_chars = []\n",
        "          j = 0\n",
        "          while j < len(word_chars):\n",
        "              if j < len(word_chars) - 1 and (word_chars[j], word_chars[j + 1]) == pair:\n",
        "                  new_chars.append(new_token)\n",
        "                  j += 2\n",
        "              else:\n",
        "                  new_chars.append(word_chars[j])\n",
        "                  j += 1\n",
        "          char_tokens[i] = new_chars\n",
        "\n",
        "  # flatten tokens and convert into ids\n",
        "  flat_tokens = [token for word_chars in char_tokens for token in word_chars]\n",
        "  token_ids = [vocab_dict.get(token, vocab_dict['</w>']) for token in flat_tokens]\n",
        "\n",
        "  # add special tokens and padding\n",
        "  token_ids = [vocab_dict['[SOS]']] + token_ids[:max_len-2] + [vocab_dict['[EOS]']]\n",
        "  padded_ids = token_ids + [vocab_dict['[PAD]']] * (max_len - len(token_ids))\n",
        "\n",
        "  return padded_ids, flat_tokens"
      ],
      "metadata": {
        "id": "uli5ZmIHvEjI"
      },
      "execution_count": 25,
      "outputs": []
    },
    {
      "cell_type": "code",
      "source": [
        "# update special tokens for vocabulary\n",
        "# Add special tokens with correct IDs\n",
        "special_tokens = {\n",
        "    '[PAD]': len(vocab_dict),\n",
        "    '[SOS]': len(vocab_dict) + 1,\n",
        "    '[EOS]': len(vocab_dict) + 2,\n",
        "    '[UNK]': len(vocab_dict) + 3  # Add [UNK] for safety\n",
        "}\n",
        "vocab_dict.update(special_tokens)\n",
        "vocab_size = len(vocab_dict)\n",
        "\n",
        "print(f\"Vocab Size (including special tokens): {vocab_size}\")"
      ],
      "metadata": {
        "id": "l1n5utjOvEDk",
        "colab": {
          "base_uri": "https://localhost:8080/"
        },
        "outputId": "49cdeb34-fdc5-4d6e-d740-8256b9bb1f52"
      },
      "execution_count": 19,
      "outputs": [
        {
          "output_type": "stream",
          "name": "stdout",
          "text": [
            "Vocab Size (including special tokens): 10229\n"
          ]
        }
      ]
    },
    {
      "cell_type": "code",
      "source": [
        "# Encode dataset\n",
        "df['question_ids'] = df['question_tokens'].apply(lambda x: encode_text(x, merge_rules, vocab_dict, max_len=128)[0])\n",
        "df['answer_ids'] = df['answer_tokens'].apply(lambda x: encode_text(x, merge_rules, vocab_dict, max_len=256)[0])"
      ],
      "metadata": {
        "id": "TWpjdJFC8UxL"
      },
      "execution_count": 20,
      "outputs": []
    },
    {
      "cell_type": "code",
      "source": [
        "print(\"Dataset Shape:\", df.shape)\n",
        "print(\"Sample Question IDs:\", df['question_ids'].iloc[0][:10])\n",
        "print(\"Sample Answer IDs:\", df['answer_ids'].iloc[0][:10])"
      ],
      "metadata": {
        "colab": {
          "base_uri": "https://localhost:8080/"
        },
        "id": "wdxGsoBG9MKR",
        "outputId": "b2487202-fada-404c-ee71-3551cfbb44bd"
      },
      "execution_count": 21,
      "outputs": [
        {
          "output_type": "stream",
          "name": "stdout",
          "text": [
            "Dataset Shape: (9332, 4)\n",
            "Sample Question IDs: [10226, 4820, 1874, 115, 2168, 1995, 115, 6458, 3122, 1849]\n",
            "Sample Answer IDs: [10226, 4820, 1874, 115, 5867, 3793, 115, 6458, 3122, 1849]\n"
          ]
        }
      ]
    },
    {
      "cell_type": "code",
      "source": [
        "# save encoded dataset into drive\n",
        "encoded_path = \"/content/drive/MyDrive/NLP/Final/dataset/encoded_medical_qa_vn.csv\"\n",
        "df.to_csv(encoded_path, index=False)\n",
        "\n",
        "print(\"Save encoded dataset to drive successfully!!!\")"
      ],
      "metadata": {
        "colab": {
          "base_uri": "https://localhost:8080/"
        },
        "id": "GL7tcnyPjHxS",
        "outputId": "7aff2e23-69af-4299-f7e0-5e06a1c10a72"
      },
      "execution_count": 22,
      "outputs": [
        {
          "output_type": "stream",
          "name": "stdout",
          "text": [
            "Save encoded dataset to drive successfully!!!\n"
          ]
        }
      ]
    },
    {
      "cell_type": "markdown",
      "source": [
        "### Build from scratch"
      ],
      "metadata": {
        "id": "KrcFYJ6Y_Ox1"
      }
    },
    {
      "cell_type": "markdown",
      "source": [
        "#### Prepare dataset"
      ],
      "metadata": {
        "id": "hjaT7wKcAMD1"
      }
    },
    {
      "cell_type": "code",
      "source": [
        "# load encoded dataset\n",
        "df = pd.read_csv(\"/content/drive/MyDrive/NLP/Final/dataset/encoded_medical_qa_vn.csv\")\n",
        "df.head()"
      ],
      "metadata": {
        "colab": {
          "base_uri": "https://localhost:8080/",
          "height": 206
        },
        "id": "d4OHk-o__UM9",
        "outputId": "5481d9f0-ad9e-4099-f8d7-d275c233e402"
      },
      "execution_count": 4,
      "outputs": [
        {
          "output_type": "execute_result",
          "data": {
            "text/plain": [
              "                                     question_tokens  \\\n",
              "0  ['răng', 'cháu', 'hiện tại', 'có', 'mủ', 'ở', ...   \n",
              "1  ['em', 'thấy', 'mặt', 'dưới', ',', 'phía', 'cu...   \n",
              "2  ['từ', 'tháng', '4/2020', ',', 'em', 'mới', 'x...   \n",
              "3  ['dạo', 'gần', 'đây', ',', 'mỗi', 'tối', 'ngủ'...   \n",
              "4  ['em', 'bị', 'tăng', 'tiết', 'mồ hôi', ',', 'n...   \n",
              "\n",
              "                                       answer_tokens  \\\n",
              "0  ['răng', 'bạn', 'hiện tại', 'có', 'mủ', 'dưới'...   \n",
              "1  ['triệu chứng', 'nốt', 'mụn', 'đỏ', 'vùng', 'd...   \n",
              "2  ['các', 'triệu chứng', 'sốt', ',', 'đau họng',...   \n",
              "3  ['các', 'dấu hiệu', ':', 'nghẹt', 'mũi', ',', ...   \n",
              "4  ['tăng', 'tiết', 'mồ hôi', 'nguyên phát', 'thư...   \n",
              "\n",
              "                                        question_ids  \\\n",
              "0  [10226, 4820, 1874, 115, 2168, 1995, 115, 6458...   \n",
              "1  [10226, 719, 115, 1682, 6728, 115, 4987, 8825,...   \n",
              "2  [10226, 9165, 115, 1682, 5151, 1874, 115, 1006...   \n",
              "3  [10226, 9281, 1524, 115, 4731, 2668, 115, 4404...   \n",
              "4  [10226, 719, 115, 9770, 115, 5133, 1874, 115, ...   \n",
              "\n",
              "                                          answer_ids  \n",
              "0  [10226, 4820, 1874, 115, 5867, 3793, 115, 6458...  \n",
              "1  [10226, 4829, 3122, 3741, 2168, 8065, 1874, 11...  \n",
              "2  [10226, 1512, 8395, 115, 4829, 3122, 3741, 216...  \n",
              "3  [10226, 1512, 8395, 115, 9581, 3741, 6458, 312...  \n",
              "4  [10226, 5133, 1874, 115, 825, 1938, 115, 6000,...  "
            ],
            "text/html": [
              "\n",
              "  <div id=\"df-07d7a8a8-2f24-4209-9b98-db313954951b\" class=\"colab-df-container\">\n",
              "    <div>\n",
              "<style scoped>\n",
              "    .dataframe tbody tr th:only-of-type {\n",
              "        vertical-align: middle;\n",
              "    }\n",
              "\n",
              "    .dataframe tbody tr th {\n",
              "        vertical-align: top;\n",
              "    }\n",
              "\n",
              "    .dataframe thead th {\n",
              "        text-align: right;\n",
              "    }\n",
              "</style>\n",
              "<table border=\"1\" class=\"dataframe\">\n",
              "  <thead>\n",
              "    <tr style=\"text-align: right;\">\n",
              "      <th></th>\n",
              "      <th>question_tokens</th>\n",
              "      <th>answer_tokens</th>\n",
              "      <th>question_ids</th>\n",
              "      <th>answer_ids</th>\n",
              "    </tr>\n",
              "  </thead>\n",
              "  <tbody>\n",
              "    <tr>\n",
              "      <th>0</th>\n",
              "      <td>['răng', 'cháu', 'hiện tại', 'có', 'mủ', 'ở', ...</td>\n",
              "      <td>['răng', 'bạn', 'hiện tại', 'có', 'mủ', 'dưới'...</td>\n",
              "      <td>[10226, 4820, 1874, 115, 2168, 1995, 115, 6458...</td>\n",
              "      <td>[10226, 4820, 1874, 115, 5867, 3793, 115, 6458...</td>\n",
              "    </tr>\n",
              "    <tr>\n",
              "      <th>1</th>\n",
              "      <td>['em', 'thấy', 'mặt', 'dưới', ',', 'phía', 'cu...</td>\n",
              "      <td>['triệu chứng', 'nốt', 'mụn', 'đỏ', 'vùng', 'd...</td>\n",
              "      <td>[10226, 719, 115, 1682, 6728, 115, 4987, 8825,...</td>\n",
              "      <td>[10226, 4829, 3122, 3741, 2168, 8065, 1874, 11...</td>\n",
              "    </tr>\n",
              "    <tr>\n",
              "      <th>2</th>\n",
              "      <td>['từ', 'tháng', '4/2020', ',', 'em', 'mới', 'x...</td>\n",
              "      <td>['các', 'triệu chứng', 'sốt', ',', 'đau họng',...</td>\n",
              "      <td>[10226, 9165, 115, 1682, 5151, 1874, 115, 1006...</td>\n",
              "      <td>[10226, 1512, 8395, 115, 4829, 3122, 3741, 216...</td>\n",
              "    </tr>\n",
              "    <tr>\n",
              "      <th>3</th>\n",
              "      <td>['dạo', 'gần', 'đây', ',', 'mỗi', 'tối', 'ngủ'...</td>\n",
              "      <td>['các', 'dấu hiệu', ':', 'nghẹt', 'mũi', ',', ...</td>\n",
              "      <td>[10226, 9281, 1524, 115, 4731, 2668, 115, 4404...</td>\n",
              "      <td>[10226, 1512, 8395, 115, 9581, 3741, 6458, 312...</td>\n",
              "    </tr>\n",
              "    <tr>\n",
              "      <th>4</th>\n",
              "      <td>['em', 'bị', 'tăng', 'tiết', 'mồ hôi', ',', 'n...</td>\n",
              "      <td>['tăng', 'tiết', 'mồ hôi', 'nguyên phát', 'thư...</td>\n",
              "      <td>[10226, 719, 115, 9770, 115, 5133, 1874, 115, ...</td>\n",
              "      <td>[10226, 5133, 1874, 115, 825, 1938, 115, 6000,...</td>\n",
              "    </tr>\n",
              "  </tbody>\n",
              "</table>\n",
              "</div>\n",
              "    <div class=\"colab-df-buttons\">\n",
              "\n",
              "  <div class=\"colab-df-container\">\n",
              "    <button class=\"colab-df-convert\" onclick=\"convertToInteractive('df-07d7a8a8-2f24-4209-9b98-db313954951b')\"\n",
              "            title=\"Convert this dataframe to an interactive table.\"\n",
              "            style=\"display:none;\">\n",
              "\n",
              "  <svg xmlns=\"http://www.w3.org/2000/svg\" height=\"24px\" viewBox=\"0 -960 960 960\">\n",
              "    <path d=\"M120-120v-720h720v720H120Zm60-500h600v-160H180v160Zm220 220h160v-160H400v160Zm0 220h160v-160H400v160ZM180-400h160v-160H180v160Zm440 0h160v-160H620v160ZM180-180h160v-160H180v160Zm440 0h160v-160H620v160Z\"/>\n",
              "  </svg>\n",
              "    </button>\n",
              "\n",
              "  <style>\n",
              "    .colab-df-container {\n",
              "      display:flex;\n",
              "      gap: 12px;\n",
              "    }\n",
              "\n",
              "    .colab-df-convert {\n",
              "      background-color: #E8F0FE;\n",
              "      border: none;\n",
              "      border-radius: 50%;\n",
              "      cursor: pointer;\n",
              "      display: none;\n",
              "      fill: #1967D2;\n",
              "      height: 32px;\n",
              "      padding: 0 0 0 0;\n",
              "      width: 32px;\n",
              "    }\n",
              "\n",
              "    .colab-df-convert:hover {\n",
              "      background-color: #E2EBFA;\n",
              "      box-shadow: 0px 1px 2px rgba(60, 64, 67, 0.3), 0px 1px 3px 1px rgba(60, 64, 67, 0.15);\n",
              "      fill: #174EA6;\n",
              "    }\n",
              "\n",
              "    .colab-df-buttons div {\n",
              "      margin-bottom: 4px;\n",
              "    }\n",
              "\n",
              "    [theme=dark] .colab-df-convert {\n",
              "      background-color: #3B4455;\n",
              "      fill: #D2E3FC;\n",
              "    }\n",
              "\n",
              "    [theme=dark] .colab-df-convert:hover {\n",
              "      background-color: #434B5C;\n",
              "      box-shadow: 0px 1px 3px 1px rgba(0, 0, 0, 0.15);\n",
              "      filter: drop-shadow(0px 1px 2px rgba(0, 0, 0, 0.3));\n",
              "      fill: #FFFFFF;\n",
              "    }\n",
              "  </style>\n",
              "\n",
              "    <script>\n",
              "      const buttonEl =\n",
              "        document.querySelector('#df-07d7a8a8-2f24-4209-9b98-db313954951b button.colab-df-convert');\n",
              "      buttonEl.style.display =\n",
              "        google.colab.kernel.accessAllowed ? 'block' : 'none';\n",
              "\n",
              "      async function convertToInteractive(key) {\n",
              "        const element = document.querySelector('#df-07d7a8a8-2f24-4209-9b98-db313954951b');\n",
              "        const dataTable =\n",
              "          await google.colab.kernel.invokeFunction('convertToInteractive',\n",
              "                                                    [key], {});\n",
              "        if (!dataTable) return;\n",
              "\n",
              "        const docLinkHtml = 'Like what you see? Visit the ' +\n",
              "          '<a target=\"_blank\" href=https://colab.research.google.com/notebooks/data_table.ipynb>data table notebook</a>'\n",
              "          + ' to learn more about interactive tables.';\n",
              "        element.innerHTML = '';\n",
              "        dataTable['output_type'] = 'display_data';\n",
              "        await google.colab.output.renderOutput(dataTable, element);\n",
              "        const docLink = document.createElement('div');\n",
              "        docLink.innerHTML = docLinkHtml;\n",
              "        element.appendChild(docLink);\n",
              "      }\n",
              "    </script>\n",
              "  </div>\n",
              "\n",
              "\n",
              "    <div id=\"df-8098f016-6aa0-4de4-bb0a-e3d5c4e33f23\">\n",
              "      <button class=\"colab-df-quickchart\" onclick=\"quickchart('df-8098f016-6aa0-4de4-bb0a-e3d5c4e33f23')\"\n",
              "                title=\"Suggest charts\"\n",
              "                style=\"display:none;\">\n",
              "\n",
              "<svg xmlns=\"http://www.w3.org/2000/svg\" height=\"24px\"viewBox=\"0 0 24 24\"\n",
              "     width=\"24px\">\n",
              "    <g>\n",
              "        <path d=\"M19 3H5c-1.1 0-2 .9-2 2v14c0 1.1.9 2 2 2h14c1.1 0 2-.9 2-2V5c0-1.1-.9-2-2-2zM9 17H7v-7h2v7zm4 0h-2V7h2v10zm4 0h-2v-4h2v4z\"/>\n",
              "    </g>\n",
              "</svg>\n",
              "      </button>\n",
              "\n",
              "<style>\n",
              "  .colab-df-quickchart {\n",
              "      --bg-color: #E8F0FE;\n",
              "      --fill-color: #1967D2;\n",
              "      --hover-bg-color: #E2EBFA;\n",
              "      --hover-fill-color: #174EA6;\n",
              "      --disabled-fill-color: #AAA;\n",
              "      --disabled-bg-color: #DDD;\n",
              "  }\n",
              "\n",
              "  [theme=dark] .colab-df-quickchart {\n",
              "      --bg-color: #3B4455;\n",
              "      --fill-color: #D2E3FC;\n",
              "      --hover-bg-color: #434B5C;\n",
              "      --hover-fill-color: #FFFFFF;\n",
              "      --disabled-bg-color: #3B4455;\n",
              "      --disabled-fill-color: #666;\n",
              "  }\n",
              "\n",
              "  .colab-df-quickchart {\n",
              "    background-color: var(--bg-color);\n",
              "    border: none;\n",
              "    border-radius: 50%;\n",
              "    cursor: pointer;\n",
              "    display: none;\n",
              "    fill: var(--fill-color);\n",
              "    height: 32px;\n",
              "    padding: 0;\n",
              "    width: 32px;\n",
              "  }\n",
              "\n",
              "  .colab-df-quickchart:hover {\n",
              "    background-color: var(--hover-bg-color);\n",
              "    box-shadow: 0 1px 2px rgba(60, 64, 67, 0.3), 0 1px 3px 1px rgba(60, 64, 67, 0.15);\n",
              "    fill: var(--button-hover-fill-color);\n",
              "  }\n",
              "\n",
              "  .colab-df-quickchart-complete:disabled,\n",
              "  .colab-df-quickchart-complete:disabled:hover {\n",
              "    background-color: var(--disabled-bg-color);\n",
              "    fill: var(--disabled-fill-color);\n",
              "    box-shadow: none;\n",
              "  }\n",
              "\n",
              "  .colab-df-spinner {\n",
              "    border: 2px solid var(--fill-color);\n",
              "    border-color: transparent;\n",
              "    border-bottom-color: var(--fill-color);\n",
              "    animation:\n",
              "      spin 1s steps(1) infinite;\n",
              "  }\n",
              "\n",
              "  @keyframes spin {\n",
              "    0% {\n",
              "      border-color: transparent;\n",
              "      border-bottom-color: var(--fill-color);\n",
              "      border-left-color: var(--fill-color);\n",
              "    }\n",
              "    20% {\n",
              "      border-color: transparent;\n",
              "      border-left-color: var(--fill-color);\n",
              "      border-top-color: var(--fill-color);\n",
              "    }\n",
              "    30% {\n",
              "      border-color: transparent;\n",
              "      border-left-color: var(--fill-color);\n",
              "      border-top-color: var(--fill-color);\n",
              "      border-right-color: var(--fill-color);\n",
              "    }\n",
              "    40% {\n",
              "      border-color: transparent;\n",
              "      border-right-color: var(--fill-color);\n",
              "      border-top-color: var(--fill-color);\n",
              "    }\n",
              "    60% {\n",
              "      border-color: transparent;\n",
              "      border-right-color: var(--fill-color);\n",
              "    }\n",
              "    80% {\n",
              "      border-color: transparent;\n",
              "      border-right-color: var(--fill-color);\n",
              "      border-bottom-color: var(--fill-color);\n",
              "    }\n",
              "    90% {\n",
              "      border-color: transparent;\n",
              "      border-bottom-color: var(--fill-color);\n",
              "    }\n",
              "  }\n",
              "</style>\n",
              "\n",
              "      <script>\n",
              "        async function quickchart(key) {\n",
              "          const quickchartButtonEl =\n",
              "            document.querySelector('#' + key + ' button');\n",
              "          quickchartButtonEl.disabled = true;  // To prevent multiple clicks.\n",
              "          quickchartButtonEl.classList.add('colab-df-spinner');\n",
              "          try {\n",
              "            const charts = await google.colab.kernel.invokeFunction(\n",
              "                'suggestCharts', [key], {});\n",
              "          } catch (error) {\n",
              "            console.error('Error during call to suggestCharts:', error);\n",
              "          }\n",
              "          quickchartButtonEl.classList.remove('colab-df-spinner');\n",
              "          quickchartButtonEl.classList.add('colab-df-quickchart-complete');\n",
              "        }\n",
              "        (() => {\n",
              "          let quickchartButtonEl =\n",
              "            document.querySelector('#df-8098f016-6aa0-4de4-bb0a-e3d5c4e33f23 button');\n",
              "          quickchartButtonEl.style.display =\n",
              "            google.colab.kernel.accessAllowed ? 'block' : 'none';\n",
              "        })();\n",
              "      </script>\n",
              "    </div>\n",
              "\n",
              "    </div>\n",
              "  </div>\n"
            ],
            "application/vnd.google.colaboratory.intrinsic+json": {
              "type": "dataframe",
              "variable_name": "df",
              "summary": "{\n  \"name\": \"df\",\n  \"rows\": 9332,\n  \"fields\": [\n    {\n      \"column\": \"question_tokens\",\n      \"properties\": {\n        \"dtype\": \"string\",\n        \"num_unique_values\": 9328,\n        \"samples\": [\n          \"['\\u1ea1', '.', 'v\\u00e0i', 'tu\\u1ea7n', 'tr\\u01b0\\u1edbc', '\\u1edf', 'tay ph\\u1ea3i', 'c\\u1ee7a', 't\\u00f4i', 'c\\u00f3', 'n\\u1ed5i m\\u1ea9n', 'to', 'nh\\u00ecn', 'v\\u00e0o', 'gi\\u1ed1ng', 'nh\\u01b0', 'b\\u1ecb', 'r\\u1ebft c\\u1eafn', 'nh\\u01b0ng', 'kh\\u00f4ng', 'c\\u00f3', 'd\\u1ea5u v\\u1ebft', 'g\\u00ec', 'c\\u1ea3', ',', 'v\\u00e0i', 'ng\\u00e0y', 'sau', 'th\\u00ec', 'm\\u1eaft', 'tr\\u00e1i', 'c\\u1ee7a', 't\\u00f4i', 'b\\u1ecb', 'ng\\u1ee9a', 'v\\u00e0', 's\\u01b0ng', 'l\\u00ean', '.', 'hi\\u1ec7n t\\u1ea1i', 'b\\u00ean', 'trong', 'mi\\u1ec7ng', 't\\u00f4i', 'c\\u00f3', '1', 'c\\u1ee5c', 'b\\u1ecb', 'c\\u1ed9m', 'gi\\u1ed1ng', 'nh\\u01b0', 'v\\u1ebft', 'mu\\u1ed7i', 'c\\u1eafn', 'v\\u1eady', '.', 'xin', 'h\\u1ecfi', 'b\\u00e1c s\\u0129', 'c\\u00f3', 'ph\\u1ea3i', 't\\u00f4i', 'b\\u1ecb', 's\\u00e1n', 'ch\\u00f3', 'kh\\u00f4ng', '?']\",\n          \"['xin', 't\\u00f4i', 'l\\u00e0m', 'x\\u00e9t nghi\\u1ec7m', 'th\\u00ec', 'k\\u1ebft qu\\u1ea3', 'ferritin', 'trong', 'huy\\u1ebft thanh', 'cao', '.', 'c\\u00e1c', 'x\\u00e9t nghi\\u1ec7m', 'sinh h\\u00f3a', 'v\\u00e0', 'huy\\u1ebft h\\u1ecdc', 'b\\u00ecnh th\\u01b0\\u1eddng', '.', 'ferritin', 'trong', 'huy\\u1ebft thanh', 'cao', 'l\\u00e0', 'd\\u1ea5u hi\\u1ec7u', 'b\\u1ec7nh', 'g\\u00ec', '?']\",\n          \"['sau', 'khi', 'kh\\u00e1m', 't\\u1ea1i', 'm\\u1ed9t', 'b\\u1ec7nh vi\\u1ec7n', ',', 't\\u00f4i', '\\u0111\\u01b0\\u1ee3c', 'ch\\u1ea9n \\u0111o\\u00e1n', 'b\\u1ecb', 'b\\u1ec7nh', 'x\\u01a1 c\\u1ee9ng', 'r\\u1ea3i r\\u00e1c', '.', 't\\u00f4i', '\\u0111\\u00e3', '\\u0111i\\u1ec1u tr\\u1ecb', 't\\u1ea1i', 'b\\u1ec7nh vi\\u1ec7n', '\\u0111\\u00f3', 'nh\\u01b0ng', 'b\\u1ec7nh', 'kh\\u00f4ng', 'thuy\\u00ean gi\\u1ea3m', '.', 'hi\\u1ec7n nay', 't\\u00f4i', 'b\\u1ecb', 'li\\u1ec7t', 'hai', 'ch\\u00e2n', '.', 't\\u00f4i', 'mu\\u1ed1n', '\\u0111\\u01b0\\u1ee3c', 'b\\u00e1c s\\u0129', 't\\u01b0 v\\u1ea5n', 'gi\\u00fap', 't\\u00f4i', '.']\"\n        ],\n        \"semantic_type\": \"\",\n        \"description\": \"\"\n      }\n    },\n    {\n      \"column\": \"answer_tokens\",\n      \"properties\": {\n        \"dtype\": \"string\",\n        \"num_unique_values\": 9161,\n        \"samples\": [\n          \"['!', 'tri\\u1ec7u ch\\u1ee9ng', 'b\\u1ea1n', 'm\\u00f4 t\\u1ea3', 'kh\\u00f4ng', 'r\\u00f5 r\\u00e0ng', 'n\\u00ean', 'kh\\u00f3', 'c\\u00f3 th\\u1ec3', 't\\u01b0 v\\u1ea5n', 'ch\\u00ednh x\\u00e1c', '\\u0111\\u01b0\\u1ee3c', '.', 'v\\u00ec v\\u1eady', ',', 'b\\u00e1c s\\u0129', 'khuy\\u00ean', 'b\\u1ea1n', 'n\\u00ean', '\\u0111\\u1ebfn', 'ph\\u00f2ng kh\\u00e1m', 'chuy\\u00ean khoa', 'r\\u0103ng', '-', 'h\\u00e0m', '-', 'm\\u1eb7t', '\\u0111\\u1ec3', 'c\\u00f3', 'c\\u00e2u', 'tr\\u1ea3 l\\u1eddi', 'cho', 'th\\u1eafc m\\u1eafc', '\\u201c', '2', 'b\\u00ean', 'l\\u01b0\\u1ee1i', 'm\\u1ecdc', 'm\\u1ee5n', 'nh\\u1ecf', 'm\\u00e0u', '\\u0111\\u1ecf', ',', 'kh\\u00f4ng', '\\u0111au', 'l\\u00e0', 'b\\u1ecb', 'g\\u00ec', 'v\\u1eady', '?', '\\u0111\\u1ed3ng th\\u1eddi', '\\u0111i\\u1ec1u tr\\u1ecb', 'd\\u1ee9t \\u0111i\\u1ec3m', 'b\\u1ec7nh l\\u00fd', 'n\\u1ebfu', 'c\\u00f3', '.', 'c\\u1ea3m \\u01a1n', 'b\\u1ea1n', '\\u0111\\u00e3', 'tin t\\u01b0\\u1edfng', 'ai-doctor', '.']\",\n          \"['chanh', 'l\\u00e0', 'nguy\\u00ean li\\u1ec7u', 'l\\u00e0m \\u0111\\u1eb9p', 't\\u1ea1i', 'nh\\u00e0', 'v\\u1eeba', 'an to\\u00e0n', 'v\\u1eeba', 'hi\\u1ec7u qu\\u1ea3', '.', 'kh\\u00f4ng nh\\u1eefng', 'c\\u00f3', 't\\u00e1c d\\u1ee5ng', 'tr\\u1ecb', 'm\\u1ee5n', ',', 'chanh', 'c\\u0169ng', 'gi\\u00fap', 'l\\u00e0m', 'm\\u1edd', 'v\\u00e0', 'li\\u1ec1n', 's\\u1eb9o', 'nhanh', '.', 'b\\u1edfi', 'trong', 'chanh', 'c\\u00f3', 'ch\\u1ee9a', 'l-asorbic acid', ',', 'm\\u1ed9t', 'ch\\u1ea5t', 'l\\u00e0m', 'se', 'v\\u00e0', 'l\\u00e0m', 'kh\\u00f4', 'm\\u1ee5n', '.', 'ch\\u1ea5t', 'n\\u00e0y', 'ho\\u1ea1t \\u0111\\u1ed9ng', 'nh\\u01b0', 'ch\\u1ea5t', 'kh\\u00e1ng sinh', 'ch\\u1ed1ng', 'l\\u1ea1i', 'c\\u00e1c', 'vi khu\\u1ea9n', 'g\\u00e2y', 'm\\u1ee5n', '.', '-', 'n\\u1ebfu', 'b\\u1ea1n', 'mu\\u1ed1n', 'l\\u00e0m', 'm\\u1edd', 's\\u1eb9o', 'b\\u1ea1n', 'thoa', 'n\\u01b0\\u1edbc', 'chanh', 'l\\u00ean', 'v\\u00f9ng', 'm\\u1ee5n', 'v\\u00e0', 's\\u1eb9o', 'c\\u00f3 th\\u1ec3', '\\u0111\\u1ec3', 'nh\\u01b0 v\\u1eady', 'trong', 'v\\u00e0i', 'gi\\u1edd', 'ho\\u1eb7c', 'th\\u1eadm ch\\u00ed', 'qua', '\\u0111\\u00eam', '.', '-', 'n\\u1ebfu', 'da', 'b\\u1ea1n', 'nh\\u1ea1y c\\u1ea3m', 'hay', 'b\\u1ecb', 'm\\u1ea9n', '\\u0111\\u1ecf', ',', 'h\\u00e3y', 'th\\u1eed', 'thoa', 'n\\u01b0\\u1edbc', 'chanh', 'l\\u00ean', 'da', 'trong', 'v\\u00f2ng', 'v\\u00e0i', 'gi\\u1edd', 'xem', 'c\\u00f3', 'k\\u00edch \\u1ee9ng', 'kh\\u00f4ng', '.', 'sau', '\\u0111\\u00f3', 'd\\u1ea7n d\\u1ea7n', 't\\u0103ng', 'th\\u1eddi gian', 'l\\u00ean', '.', 'th\\u00e2n m\\u1ebfn', '!']\",\n          \"['b\\u1ea1n', 'b\\u1ecb', '\\u0111au', 'hai', 'b\\u00ean', 'h\\u00e0m', 'd\\u01b0\\u1edbi', 'hai', 'b\\u00ean', 'mang', 'tai', ',', '\\u0111au', 'khi', '\\u0103n nhai', ',', 'b\\u1ea1n', 'c\\u1ea7n', '\\u0111i', 'kh\\u00e1m', 'b\\u00e1c s\\u0129', 'r\\u0103ng', 'h\\u00e0m m\\u1eb7t', '\\u0111\\u1ec3', 'ki\\u1ec3m tra', 't\\u00ecnh tr\\u1ea1ng', 'r\\u0103ng kh\\u00f4n', 'c\\u1ee7a', 'b\\u1ea1n', 'v\\u00e0', 'x\\u00e1c \\u0111\\u1ecbnh', 'nguy\\u00ean nh\\u00e2n', 'g\\u00e2y', '\\u0111au', '\\u0111\\u1ec3', 'c\\u00f3', 'h\\u01b0\\u1edbng', '\\u0111i\\u1ec1u tr\\u1ecb', 'th\\u00edch h\\u1ee3p', ',', 'n\\u1ebfu', 'c\\u1ea7n', 'chuy\\u1ec3n khoa', 'tai m\\u0169i', 'h\\u1ecdng', 'h\\u1ed9i ch\\u1ea9n', '.']\"\n        ],\n        \"semantic_type\": \"\",\n        \"description\": \"\"\n      }\n    },\n    {\n      \"column\": \"question_ids\",\n      \"properties\": {\n        \"dtype\": \"string\",\n        \"num_unique_values\": 9326,\n        \"samples\": [\n          \"[10226, 1891, 446, 115, 7778, 115, 2776, 9361, 1682, 2896, 115, 7993, 5993, 115, 5575, 115, 1544, 9969, 1849, 6201, 115, 1138, 5719, 115, 1682, 2860, 1874, 115, 8062, 3584, 115, 525, 115, 3087, 115, 9610, 115, 2371, 115, 8062, 8828, 1970, 4330, 115, 7993, 5993, 115, 5001, 115, 9770, 115, 525, 4987, 5677, 7363, 115, 1977, 8216, 4731, 115, 8019, 115, 2776, 9361, 1682, 2896, 115, 8227, 115, 8062, 8808, 2975, 115, 6000, 868, 5993, 115, 10227, 10225, 10225, 10225, 10225, 10225, 10225, 10225, 10225, 10225, 10225, 10225, 10225, 10225, 10225, 10225, 10225, 10225, 10225, 10225, 10225, 10225, 10225, 10225, 10225, 10225, 10225, 10225, 10225, 10225, 10225, 10225, 10225, 10225, 10225, 10225, 10225, 10225, 10225, 10225, 10225, 10225, 10225, 10225, 10225, 10225, 10225, 10225, 10225, 10225, 10225]\",\n          \"[10226, 3367, 1105, 115, 525, 4987, 5677, 7363, 115, 1977, 4523, 115, 825, 2896, 2975, 115, 8062, 8808, 2975, 115, 2323, 2668, 115, 5331, 115, 4404, 5130, 115, 6897, 1874, 115, 8958, 9365, 115, 6529, 4256, 6533, 115, 7071, 115, 2168, 2093, 115, 9658, 115, 625, 115, 7544, 4523, 5677, 5457, 115, 8019, 115, 719, 115, 6458, 3122, 1849, 7993, 5629, 115, 8459, 1874, 115, 6123, 8673, 4382, 2975, 115, 7143, 3584, 115, 8062, 8808, 2975, 115, 5331, 115, 4209, 4256, 5867, 3122, 7993, 115, 625, 1524, 115, 5813, 1849, 4404, 8642, 115, 8942, 115, 4987, 2321, 115, 2323, 2668, 115, 6123, 115, 7143, 3584, 115, 3365, 115, 625, 115, 3322, 331, 3641, 8395, 115, 9770, 115, 7993, 4915, 115, 5331, 115, 3367, 1105, 115, 7143, 10158, 10227]\",\n          \"[10226, 1891, 446, 115, 1682, 5700, 115, 5867, 8395, 5677, 4575, 115, 719, 115, 9770, 115, 1682, 4549, 8922, 3097, 9919, 115, 1512, 8429, 5677, 3814, 1874, 115, 5331, 115, 3367, 5766, 8062, 115, 2323, 2606, 115, 4404, 1666, 115, 4404, 2804, 115, 5331, 115, 1977, 4523, 115, 1138, 7010, 115, 1874, 7080, 115, 1921, 115, 5001, 115, 1138, 7010, 115, 1874, 3520, 7518, 4731, 115, 625, 115, 5541, 8922, 4404, 6432, 115, 1512, 7363, 115, 4404, 2393, 1512, 115, 1977, 8216, 4731, 115, 941, 115, 8019, 115, 10227, 10225, 10225, 10225, 10225, 10225, 10225, 10225, 10225, 10225, 10225, 10225, 10225, 10225, 10225, 10225, 10225, 10225, 10225, 10225, 10225, 10225, 10225, 10225, 10225, 10225, 10225, 10225, 10225, 10225, 10225, 10225, 10225, 10225, 10225, 10225, 10225, 10225, 10225, 10225]\"\n        ],\n        \"semantic_type\": \"\",\n        \"description\": \"\"\n      }\n    },\n    {\n      \"column\": \"answer_ids\",\n      \"properties\": {\n        \"dtype\": \"string\",\n        \"num_unique_values\": 9094,\n        \"samples\": [\n          \"[10226, 10194, 4987, 115, 3450, 115, 5867, 3793, 115, 7071, 115, 4731, 115, 115, 1512, 8835, 115, 6458, 1279, 115, 1977, 8216, 4731, 115, 5001, 115, 5867, 3122, 1849, 3367, 3823, 115, 4829, 5151, 8062, 115, 1682, 2947, 115, 6458, 3122, 3741, 6550, 6879, 115, 860, 1974, 115, 6459, 115, 5331, 115, 5800, 8850, 115, 5001, 115, 2949, 4162, 6966, 115, 7143, 3584, 115, 8062, 6008, 115, 5001, 9361, 1682, 2896, 115, 5001, 9361, 1682, 2947, 115, 5331, 115, 5867, 3793, 115, 1138, 7518, 115, 1682, 630, 5863, 429, 115, 1682, 8642, 115, 1138, 3417, 115, 5001, 115, 4829, 3220, 115, 6827, 8062, 115, 6458, 3450, 115, 4987, 8429, 115, 1544, 2668, 115, 1138, 7518, 115, 1682, 9732, 115, 6550, 1921, 115, 2768, 4382, 331, 4829, 9919, 115, 5331, 115, 1682, 7209, 1512, 115, 4829, 5151, 8062, 115, 1682, 2947, 115, 1977, 8777, 1849, 1512, 6157, 115, 6242, 1874, 115, 5001, 9361, 1682, 2896, 115, 4731, 5232, 9361, 854, 8922, 1169, 3793, 115, 7544, 4523, 8673, 4523, 1938, 115, 5331, 115, 4829, 3220, 9361, 6827, 8062, 115, 8942, 115, 2168, 3775, 115, 5867, 3793, 115, 8062, 8808, 2975, 115, 4671, 5930, 115, 1977, 6008, 1921, 115, 9526, 115, 1682, 9883, 115, 10227, 10225, 10225, 10225, 10225, 10225, 10225, 10225, 10225, 10225, 10225, 10225, 10225, 10225, 10225, 10225, 10225, 10225, 10225, 10225, 10225, 10225, 10225, 10225, 10225, 10225, 10225, 10225, 10225, 10225, 10225, 10225, 10225, 10225, 10225, 10225, 10225, 10225, 10225, 10225, 10225, 10225, 10225, 10225, 10225, 10225, 10225, 10225, 10225, 10225, 10225, 10225, 10225, 10225, 10225]\",\n          \"[10226, 6458, 3450, 115, 7329, 115, 6459, 115, 3367, 3989, 5870, 9682, 115, 4671, 5130, 115, 1977, 4523, 115, 9588, 8062, 115, 4731, 1604, 115, 3367, 1105, 115, 1321, 8062, 9361, 4829, 3793, 4731, 115, 9556, 1874, 8673, 3256, 115, 8942, 115, 9556, 1874, 115, 7993, 3256, 115, 4671, 5130, 115, 1977, 4523, 115, 9588, 8062, 115, 5977, 115, 8062, 8808, 2975, 115, 1874, 252, 758, 1849, 8062, 9883, 115, 8942, 115, 1682, 8065, 115, 8062, 3584, 115, 5331, 115, 5977, 115, 854, 8922, 1169, 3793, 115, 7544, 4523, 8673, 4523, 1938, 8673, 3814, 115, 8942, 115, 4671, 5130, 115, 1977, 4523, 115, 9588, 8062, 115, 5331, 115, 2323, 2393, 1874, 115, 4618, 4829, 8802, 1425, 115, 3641, 5558, 115, 1891, 7209, 1874, 115, 6550, 5151, 115, 1682, 6157, 115, 5331, 115, 1977, 4523, 4081, 115, 7993, 3256, 115, 3367, 5151, 9760, 4829, 4382, 1138, 115, 2168, 8211, 115, 625, 115, 9770, 115, 9556, 1874, 115, 8062, 8808, 2975, 115, 8942, 115, 1682, 8065, 115, 6458, 2947, 115, 5331, 115, 5977, 115, 854, 8922, 1169, 3793, 115, 1770, 331, 9435, 115, 8942, 115, 4671, 5130, 115, 9588, 8062, 115, 9665, 115, 8341, 115, 1682, 2860, 1874, 115, 9770, 115, 4671, 4829, 4618, 4671, 115, 5331, 115, 4829, 9969, 331, 3322, 4987, 115, 5331, 115, 1977, 4523, 4081, 115, 2168, 1524, 115, 6550, 9402, 4829, 5766, 8062, 115, 4829, 7363, 8186, 502, 115, 2168, 3584, 115, 5867, 7518, 115, 4829, 1524, 1874, 115, 2776, 9361, 1682, 2896, 115, 9770, 115, 854, 8922, 1169, 3793, 115, 5331, 10227]\",\n          \"[10226, 6496, 7993, 801, 446, 115, 1921, 115, 5001, 115, 7993, 8395, 5863, 3989, 1874, 115, 2168, 3814, 1874, 115, 1524, 503, 115, 3097, 9919, 115, 9890, 8062, 115, 5331, 115, 3641, 6214, 115, 1874, 2860, 4523, 115, 3367, 3989, 5870, 9682, 115, 5808, 252, 9361, 4829, 5766, 115, 2323, 5629, 115, 8845, 4987, 115, 4987, 7209, 1138, 115, 2992, 115, 1321, 8062, 5863, 7278, 115, 5331, 115, 4968, 8922, 3367, 3989, 115, 2323, 5629, 115, 5592, 4256, 1977, 6008, 1921, 115, 2168, 1524, 115, 1874, 2860, 4523, 115, 3367, 3989, 5870, 9682, 115, 625, 115, 5133, 1874, 130, 2860, 1874, 115, 825, 1938, 115, 4671, 5659, 115, 8942, 115, 5808, 6432, 115, 7719, 9919, 115, 6496, 7993, 801, 446, 115, 1921, 115, 3641, 6214, 115, 6720, 1849, 2168, 4670, 115, 7143, 3793, 115, 8450, 115, 4671, 5130, 115, 9588, 8062, 115, 1977, 4523, 115, 1682, 2947, 115, 7002, 1138, 115, 8942, 115, 4893, 8922, 5800, 9365, 115, 1874, 2860, 4523, 115, 3367, 3989, 5870, 9682, 115, 9588, 8062, 115, 1512, 9697, 115, 1682, 4523, 3417, 115, 1682, 5151, 1874, 115, 1682, 2860, 1874, 115, 1682, 4523, 3417, 115, 6496, 7993, 801, 4523, 1849, 1921, 115, 8942, 115, 2820, 1849, 6821, 115, 851, 115, 6496, 7993, 801, 446, 115, 1921, 115, 6550, 9919, 115, 1874, 2860, 4523, 115, 8341, 115, 4371, 115, 1874, 2860, 4523, 115, 1512, 9697, 115, 4404, 2393, 1512, 115, 692, 5993, 115, 4671, 5659, 115, 1682, 5766, 115, 3636, 4256, 4725, 115, 7993, 4769, 115, 8942, 115, 10227, 10225, 10225, 10225, 10225]\"\n        ],\n        \"semantic_type\": \"\",\n        \"description\": \"\"\n      }\n    }\n  ]\n}"
            }
          },
          "metadata": {},
          "execution_count": 4
        }
      ]
    },
    {
      "cell_type": "code",
      "source": [
        "# check type after loading from drive\n",
        "print(\"Type of 'question_ids':\", type(df['question_ids'][0]))\n",
        "print(\"Type of 'answer_ids':\", type(df['answer_ids'][0]))"
      ],
      "metadata": {
        "colab": {
          "base_uri": "https://localhost:8080/"
        },
        "id": "l_SUNKNZAz1o",
        "outputId": "04fff3a0-cee6-42b6-8484-9b8c425dad94"
      },
      "execution_count": 5,
      "outputs": [
        {
          "output_type": "stream",
          "name": "stdout",
          "text": [
            "Type of 'question_ids': <class 'str'>\n",
            "Type of 'answer_ids': <class 'str'>\n"
          ]
        }
      ]
    },
    {
      "cell_type": "code",
      "source": [
        "# if <str> convert into list\n",
        "df['question_ids'] = df['question_ids'].apply(eval)\n",
        "df['answer_ids'] = df['answer_ids'].apply(eval)"
      ],
      "metadata": {
        "id": "6VVRGRinA4mT"
      },
      "execution_count": 6,
      "outputs": []
    },
    {
      "cell_type": "code",
      "source": [
        "# verify\n",
        "print(\"Type of 'question_ids':\", type(df['question_ids'][0]))\n",
        "print(\"Type of 'answer_ids':\", type(df['answer_ids'][0]))"
      ],
      "metadata": {
        "colab": {
          "base_uri": "https://localhost:8080/"
        },
        "id": "7WvwD5vDA8z1",
        "outputId": "3c74d282-7771-48c9-fa83-802a7a15b88c"
      },
      "execution_count": 7,
      "outputs": [
        {
          "output_type": "stream",
          "name": "stdout",
          "text": [
            "Type of 'question_ids': <class 'list'>\n",
            "Type of 'answer_ids': <class 'list'>\n"
          ]
        }
      ]
    },
    {
      "cell_type": "code",
      "source": [
        "# Verify token IDs\n",
        "max_question_id = max(max(ids) for ids in df['question_ids'])\n",
        "max_answer_id = max(max(ids) for ids in df['answer_ids'])\n",
        "print(f\"Max Question Token ID: {max_question_id}\")\n",
        "print(f\"Max Answer Token ID: {max_answer_id}\")\n",
        "assert max_question_id < vocab_size, \"Question IDs exceed vocab size\"\n",
        "assert max_answer_id < vocab_size, \"Answer IDs exceed vocab size\""
      ],
      "metadata": {
        "colab": {
          "base_uri": "https://localhost:8080/"
        },
        "id": "HS49BEqHH9_9",
        "outputId": "a6c01aa5-c730-406d-907f-208486447040"
      },
      "execution_count": 12,
      "outputs": [
        {
          "output_type": "stream",
          "name": "stdout",
          "text": [
            "Max Question Token ID: 10227\n",
            "Max Answer Token ID: 10227\n"
          ]
        }
      ]
    },
    {
      "cell_type": "code",
      "source": [
        "# split dataset into train and test\n",
        "from sklearn.model_selection import train_test_split\n",
        "\n",
        "train_df, test_df = train_test_split(df, test_size=0.2, random_state=42)"
      ],
      "metadata": {
        "id": "zFSA9kes_hQL"
      },
      "execution_count": 13,
      "outputs": []
    },
    {
      "cell_type": "code",
      "source": [
        "# check shape of train_df and test_df\n",
        "print(\"Train Dataset Shape:\", train_df.shape)\n",
        "print(\"Test Dataset Shape:\", test_df.shape)"
      ],
      "metadata": {
        "colab": {
          "base_uri": "https://localhost:8080/"
        },
        "id": "_wrSNvs8_6Ws",
        "outputId": "c2dab327-20f1-4b00-c3fb-fb5816cdd110"
      },
      "execution_count": 14,
      "outputs": [
        {
          "output_type": "stream",
          "name": "stdout",
          "text": [
            "Train Dataset Shape: (7465, 4)\n",
            "Test Dataset Shape: (1867, 4)\n"
          ]
        }
      ]
    },
    {
      "cell_type": "code",
      "source": [
        "# Create dataset and dataloader for dataset\n",
        "class QADataset(Dataset):\n",
        "    def __init__(self, questions, answers):\n",
        "        self.questions = questions\n",
        "        self.answers = answers\n",
        "\n",
        "    def __len__(self):\n",
        "        return len(self.questions)\n",
        "\n",
        "    def __getitem__(self, idx):\n",
        "        return {\n",
        "            # convert data ids into tensors\n",
        "            'question': torch.tensor(self.questions[idx], dtype=torch.long),\n",
        "            'answer': torch.tensor(self.answers[idx], dtype=torch.long)\n",
        "        }"
      ],
      "metadata": {
        "id": "qsdzLUEnvw_h"
      },
      "execution_count": 15,
      "outputs": []
    },
    {
      "cell_type": "code",
      "source": [
        "# create dataset field\n",
        "train_dataset = QADataset(train_df['question_ids'].tolist(), train_df['answer_ids'].tolist())\n",
        "test_dataset = QADataset(test_df['question_ids'].tolist(), test_df['answer_ids'].tolist())"
      ],
      "metadata": {
        "id": "Aornb5Rn_esa"
      },
      "execution_count": 16,
      "outputs": []
    },
    {
      "cell_type": "code",
      "source": [
        "# verify dataset\n",
        "print(\"Sample Question:\", train_dataset[0]['question'])\n",
        "print(\"Sample Answer:\", train_dataset[0]['answer'])"
      ],
      "metadata": {
        "colab": {
          "base_uri": "https://localhost:8080/"
        },
        "id": "l8JrG0A9AfSh",
        "outputId": "a9da73af-9058-489c-bdcb-c16c24810531"
      },
      "execution_count": 17,
      "outputs": [
        {
          "output_type": "stream",
          "name": "stdout",
          "text": [
            "Sample Question: tensor([10226,  1891,   446,   115,   719,   115,  3562,  9760,  1874,  7080,\n",
            "          115,  7071,   115,  2323,  8835,   115,  1977,  8216,  4731,   115,\n",
            "         1874,  7080,   115,  8742,   115,  8062,  8808,  2975,   115,  5800,\n",
            "         9365,   115,  4829,  2860,  1874,   868,  9876,   115,  8062,  8828,\n",
            "          115,  7719,  9919,   115,   719,   115,  3641,  6879,  8922,  5773,\n",
            "          252,  1938,   115,  1682,  4670,  5870,   454,   115,   941,   115,\n",
            "         4003,   115, 10227, 10225, 10225, 10225, 10225, 10225, 10225, 10225,\n",
            "        10225, 10225, 10225, 10225, 10225, 10225, 10225, 10225, 10225, 10225,\n",
            "        10225, 10225, 10225, 10225, 10225, 10225, 10225, 10225, 10225, 10225,\n",
            "        10225, 10225, 10225, 10225, 10225, 10225, 10225, 10225, 10225, 10225,\n",
            "        10225, 10225, 10225, 10225, 10225, 10225, 10225, 10225, 10225, 10225,\n",
            "        10225, 10225, 10225, 10225, 10225, 10225, 10225, 10225, 10225, 10225,\n",
            "        10225, 10225, 10225, 10225, 10225, 10225, 10225, 10225])\n",
            "Sample Answer: tensor([10226,  1874,   252,   758,  1849,  8062,  9883,   115,  3367,  7055,\n",
            "         4376,  4081,   115,  7719,  9919,   115,  2168,  8065,  1874,   115,\n",
            "         3562,  9760,  1874,  7080,   115,  5867,  7363,   881,  3155,   115,\n",
            "         9888,   115,  2336,  1874,  9361,  1682,  4712,  1874,   115,  8942,\n",
            "          115,  4829,  9969,   331,  3322,  4987,   115,  8942,   115,  1559,\n",
            "         9213,   730,   446,  1921,   115,  5331,   115,  1064,  6206,   825,\n",
            "         9265,   115,   625,   115,  7143,  2393,  2975,   115,  8942,   115,\n",
            "         1682,  1443,  8186,   502,   115,  8385,  8922,  4829,  2860,  1874,\n",
            "          115,  1975,  2409,   115,  5944,  2168,  9361,  4829,  5766,  8062,\n",
            "          115,   525,   331,  5800,  3122,  1512,   115,  8942,   115,  1682,\n",
            "         6141,  8922,  6550,  1425,   115,  1874,  7080,   115,  8942,   115,\n",
            "         1682,  6141,  8922,  6550,  1425,   115,  3641,  6214,   115,  1682,\n",
            "         5215,  4256,  4404,  1882,   115,  3641,  4445,  4256,  1874,  7080,\n",
            "          115,  7993,  4769,   115,  4404,  2393,  1512,   115,  7152,  8922,\n",
            "          525,   115,  7778,   115,  1874,  7080,   115,   420,  5677,  4523,\n",
            "         8062,   115,  8942,   115,  7778,   115,  1682,  6141,  8922,  6550,\n",
            "         1425,   115,  1874,  9188,  1524,  9361,  8331,  1138,   115,  5867,\n",
            "         7363,   881,  3155,   115,  4987,  8429,   115,  5944,  2168,   115,\n",
            "         1874,  7080,   115,  1977,  8216,  4731,   115,  6821,  2975,   115,\n",
            "         5331,   115,  1936,  2168,  9361,  1682,  9768,  2168,   115,  1512,\n",
            "         8395,   115,  1975,   941,  9760,   996,  1874,   115,  4829,  5286,\n",
            "         1512,   115,  1977,  4523,   115,  6123,   115,  1874,  7080,   115,\n",
            "         5331,   115,  4987,  8429,   115,  8385,  8922,  4829,  2860,  1874,\n",
            "          115,  1682,  1524,  6879,  8922,  5751,  4523,   115,   625,   115,\n",
            "         3555,  5863,  3989,  1874,   115,  3641,  2860,  1874,   115,  2168,\n",
            "         1524,   115,  1512,  8395,   115, 10227])\n"
          ]
        }
      ]
    },
    {
      "cell_type": "code",
      "source": [
        "# create loaders\n",
        "train_loader = DataLoader(train_dataset, batch_size=16, shuffle=True)\n",
        "test_loader = DataLoader(test_dataset, batch_size=16)"
      ],
      "metadata": {
        "id": "D60N_SK6BHb6"
      },
      "execution_count": 18,
      "outputs": []
    },
    {
      "cell_type": "code",
      "source": [
        "# verify loader\n",
        "print(\"Train batches:\", len(train_loader))\n",
        "print(\"Test batches:\", len(test_loader))"
      ],
      "metadata": {
        "colab": {
          "base_uri": "https://localhost:8080/"
        },
        "id": "ZfjRPdVXC_XH",
        "outputId": "a6589f2b-e448-4cb8-ea22-90e719bca57d"
      },
      "execution_count": 19,
      "outputs": [
        {
          "output_type": "stream",
          "name": "stdout",
          "text": [
            "Train batches: 467\n",
            "Test batches: 117\n"
          ]
        }
      ]
    },
    {
      "cell_type": "markdown",
      "source": [
        "#### Define Transformer"
      ],
      "metadata": {
        "id": "iy75FFssBOCL"
      }
    },
    {
      "cell_type": "code",
      "source": [
        "# use nn.transformer to build instead of build encoder decoder\n",
        "# theory will be presented\n",
        "\n",
        "class TransformerModel(nn.Module):\n",
        "    def __init__(self, vocab_size, d_model=256, nhead=8, num_encoder_layers=3, num_decoder_layers=3, dim_feedforward=512, dropout=0.1):\n",
        "        super(TransformerModel, self).__init__()\n",
        "        self.embedding = nn.Embedding(vocab_size, d_model)\n",
        "        self.pos_encoder = nn.Parameter(torch.zeros(1, 512, d_model))\n",
        "        self.transformer = nn.Transformer(\n",
        "            d_model=d_model,\n",
        "            nhead=nhead,\n",
        "            num_encoder_layers=num_encoder_layers,\n",
        "            num_decoder_layers=num_decoder_layers,\n",
        "            dim_feedforward=dim_feedforward,\n",
        "            dropout=dropout,\n",
        "            batch_first=True\n",
        "        )\n",
        "        self.fc_out = nn.Linear(d_model, vocab_size)\n",
        "        self.d_model = d_model\n",
        "\n",
        "    def forward(self, src, tgt, src_mask=None, tgt_mask=None, src_padding_mask=None, tgt_padding_mask=None):\n",
        "        src = self.embedding(src) * torch.sqrt(torch.tensor(self.d_model, dtype=torch.float))\n",
        "        src = src + self.pos_encoder[:, :src.size(1), :]\n",
        "        tgt = self.embedding(tgt) * torch.sqrt(torch.tensor(self.d_model, dtype=torch.float))\n",
        "        tgt = tgt + self.pos_encoder[:, :tgt.size(1), :]\n",
        "        output = self.transformer(src, tgt, src_mask, tgt_mask, None, src_padding_mask, tgt_padding_mask)\n",
        "        return self.fc_out(output)\n",
        "\n",
        "def generate_square_subsequent_mask(sz):\n",
        "    mask = torch.triu(torch.ones(sz, sz) * float('-inf'), diagonal=1)\n",
        "    return mask\n"
      ],
      "metadata": {
        "id": "7lxOIg6uBYQe"
      },
      "execution_count": 15,
      "outputs": []
    },
    {
      "cell_type": "code",
      "source": [
        "vocab_size = len(vocab_dict)\n",
        "print(\"Vocab Size:\", vocab_size)"
      ],
      "metadata": {
        "colab": {
          "base_uri": "https://localhost:8080/"
        },
        "id": "cr7hVngHOM6h",
        "outputId": "062f7291-8ecd-48ad-f494-689759cd6bad"
      },
      "execution_count": 17,
      "outputs": [
        {
          "output_type": "stream",
          "name": "stdout",
          "text": [
            "Vocab Size: 10225\n"
          ]
        }
      ]
    },
    {
      "cell_type": "code",
      "source": [
        "# init model\n",
        "device = torch.device(\"cuda\" if torch.cuda.is_available() else \"cpu\")\n",
        "model = TransformerModel(vocab_size).to(device)\n",
        "\n",
        "# criterion and optimizer\n",
        "criterion = nn.CrossEntropyLoss(ignore_index=vocab_dict['[PAD]'])\n",
        "optimizer = optim.Adam(model.parameters(), lr=0.001)\n",
        "\n",
        "print(\"Model init on\", device)"
      ],
      "metadata": {
        "colab": {
          "base_uri": "https://localhost:8080/"
        },
        "id": "HzB0AuJLCarH",
        "outputId": "34b21d1c-d21b-4129-f58f-775303b4f4ad"
      },
      "execution_count": 20,
      "outputs": [
        {
          "output_type": "stream",
          "name": "stdout",
          "text": [
            "Model init on cuda\n"
          ]
        }
      ]
    },
    {
      "cell_type": "markdown",
      "source": [
        "Training"
      ],
      "metadata": {
        "id": "zoUDsMAlDUY0"
      }
    },
    {
      "cell_type": "code",
      "source": [
        "def train_epoch(model, train_loader, criterion, optimizer, device):\n",
        "    model.train()\n",
        "    total_loss = 0\n",
        "    for batch in train_loader:\n",
        "        src = batch['question'].to(device)\n",
        "        tgt = batch['answer'].to(device)\n",
        "        tgt_input = tgt[:, :-1]\n",
        "        tgt_output = tgt[:, 1:]\n",
        "\n",
        "        src_padding_mask = (src == special_tokens['[PAD]']).to(device)\n",
        "        tgt_padding_mask = (tgt_input == special_tokens['[PAD]']).to(device)\n",
        "        tgt_mask = generate_square_subsequent_mask(tgt_input.size(1)).to(device)\n",
        "\n",
        "        optimizer.zero_grad()\n",
        "        output = model(src, tgt_input, tgt_mask=tgt_mask, src_padding_mask=src_padding_mask, tgt_padding_mask=tgt_padding_mask)\n",
        "        loss = criterion(output.reshape(-1, vocab_size), tgt_output.reshape(-1))\n",
        "        loss.backward()\n",
        "        optimizer.step()\n",
        "        total_loss += loss.item()\n",
        "    return total_loss / len(train_loader)\n",
        "\n",
        "\n",
        "def evaluate(model, val_loader, criterion, device):\n",
        "    model.eval()\n",
        "    total_loss = 0\n",
        "    with torch.no_grad():\n",
        "        for batch in val_loader:\n",
        "            src = batch['question'].to(device)\n",
        "            tgt = batch['answer'].to(device)\n",
        "            tgt_input = tgt[:, :-1]\n",
        "            tgt_output = tgt[:, 1:]\n",
        "\n",
        "            src_padding_mask = (src == special_tokens['[PAD]']).to(device)\n",
        "            tgt_padding_mask = (tgt_input == special_tokens['[PAD]']).to(device)\n",
        "            tgt_mask = generate_square_subsequent_mask(tgt_input.size(1)).to(device)\n",
        "\n",
        "            output = model(src, tgt_input, tgt_mask=tgt_mask, src_padding_mask=src_padding_mask, tgt_padding_mask=tgt_padding_mask)\n",
        "            loss = criterion(output.reshape(-1, vocab_size), tgt_output.reshape(-1))\n",
        "            total_loss += loss.item()\n",
        "    return total_loss / len(val_loader)"
      ],
      "metadata": {
        "id": "bC49ASELDV1A"
      },
      "execution_count": 31,
      "outputs": []
    },
    {
      "cell_type": "code",
      "source": [
        "# Training loop\n",
        "num_epochs = 5\n",
        "for epoch in range(num_epochs):\n",
        "    train_loss = train_epoch(model, train_loader, criterion, optimizer, device)\n",
        "    val_loss = evaluate(model, test_loader, criterion, device)\n",
        "    print(f\"Epoch {epoch+1}/{num_epochs}, Train Loss: {train_loss:.4f}, Val Loss: {val_loss:.4f}\")"
      ],
      "metadata": {
        "colab": {
          "base_uri": "https://localhost:8080/"
        },
        "id": "al-oycESDwrI",
        "outputId": "e158984d-734c-4a28-eb82-30d4381e8083"
      },
      "execution_count": 33,
      "outputs": [
        {
          "output_type": "stream",
          "name": "stdout",
          "text": [
            "Epoch 1/5, Train Loss: 2.2115, Val Loss: 2.0027\n",
            "Epoch 2/5, Train Loss: 1.9994, Val Loss: 1.8338\n",
            "Epoch 3/5, Train Loss: 1.8780, Val Loss: 1.7467\n",
            "Epoch 4/5, Train Loss: 1.8007, Val Loss: 1.6943\n",
            "Epoch 5/5, Train Loss: 1.7456, Val Loss: 1.6603\n"
          ]
        }
      ]
    },
    {
      "cell_type": "code",
      "source": [
        "# Save model\n",
        "model_path = '/content/drive/MyDrive/NLP/Final/transformer_model_fixed.pth'\n",
        "torch.save(model.state_dict(), model_path)\n",
        "print(f\"Model saved to: {model_path}\")"
      ],
      "metadata": {
        "colab": {
          "base_uri": "https://localhost:8080/"
        },
        "id": "-IWExu8vdM82",
        "outputId": "cf1fe298-e153-4f49-818e-5638c65d01b1"
      },
      "execution_count": 35,
      "outputs": [
        {
          "output_type": "stream",
          "name": "stdout",
          "text": [
            "Model saved to: /content/drive/MyDrive/NLP/Final/transformer_model_fixed.pth\n"
          ]
        }
      ]
    },
    {
      "cell_type": "markdown",
      "source": [
        "#### Inference Model and Evaluate"
      ],
      "metadata": {
        "id": "zTg6Dfopda0Q"
      }
    },
    {
      "cell_type": "code",
      "source": [
        "import json\n",
        "\n",
        "bpe_path = '/content/drive/MyDrive/NLP/Final/bpe_model.json'\n",
        "with open(bpe_path, 'r', encoding='utf-8') as f:\n",
        "    bpe_data = json.load(f)\n",
        "vocab_dict = {k: int(v) for k, v in bpe_data['vocab'].items()}  # Ensure IDs are integers\n",
        "merge_rules = [(tuple(pair[:2]), pair[2]) for pair in bpe_data['merge_rules']]\n",
        "id2token = {v: k for k, v in vocab_dict.items()}"
      ],
      "metadata": {
        "id": "3NDZeWz8qFpt"
      },
      "execution_count": 10,
      "outputs": []
    },
    {
      "cell_type": "code",
      "source": [
        "\n",
        "def decode_text(token_ids, id2token):\n",
        "    tokens = [id2token.get(idx, '[UNK]') for idx in token_ids]\n",
        "    text = ''\n",
        "    for token in tokens:\n",
        "        if token == '</w>':\n",
        "            text += ' '\n",
        "        elif token in ['[SOS]', '[EOS]', '[PAD]', '[UNK]']:\n",
        "            continue\n",
        "        else:\n",
        "            text += token\n",
        "    return text.strip()"
      ],
      "metadata": {
        "id": "CypoMA4KdfrZ"
      },
      "execution_count": 8,
      "outputs": []
    },
    {
      "cell_type": "code",
      "source": [
        "# Step 5: Inference function\n",
        "def generate_answer(question, model, vocab_dict, merge_rules, id2token, max_len=256, device='cuda'):\n",
        "    question_tokens = word_tokenize(question)\n",
        "    question_ids,_ = encode_text(question_tokens, merge_rules, vocab_dict, max_len=128)\n",
        "    question_ids = [int(id) for id in question_ids]  # Convert to integers\n",
        "    if max(question_ids) >= vocab_size:\n",
        "        print(f\"Warning: Question IDs contain {max(question_ids)} >= vocab_size {vocab_size}\")\n",
        "        question_ids = [min(id, vocab_dict['[UNK]']) for id in question_ids]\n",
        "    src = torch.tensor([question_ids], dtype=torch.long).to(device)\n",
        "    tgt = torch.tensor([[vocab_dict['[SOS]']]], dtype=torch.long).to(device)\n",
        "\n",
        "    model.eval()\n",
        "    with torch.no_grad():\n",
        "        for _ in range(max_len):\n",
        "            tgt_mask = generate_square_subsequent_mask(tgt.size(1)).to(device)\n",
        "            src_padding_mask = (src == vocab_dict['[PAD]']).to(device)\n",
        "            tgt_padding_mask = (tgt == vocab_dict['[PAD]']).to(device)\n",
        "\n",
        "            output = model(src, tgt, tgt_mask=tgt_mask, src_padding_mask=src_padding_mask, tgt_padding_mask=tgt_padding_mask)\n",
        "            next_token = output[:, -1, :].argmax(dim=-1).item()\n",
        "\n",
        "            if next_token == vocab_dict['[EOS]']:\n",
        "                break\n",
        "\n",
        "            tgt = torch.cat([tgt, torch.tensor([[next_token]], dtype=torch.long).to(device)], dim=1)\n",
        "\n",
        "    generated_ids = tgt[0].cpu().tolist()\n",
        "    answer = decode_text(generated_ids, id2token)\n",
        "    return answer"
      ],
      "metadata": {
        "id": "-O-XvS43d1ne"
      },
      "execution_count": 7,
      "outputs": []
    },
    {
      "cell_type": "code",
      "source": [
        "sample_question = \"Đau răng kèm có mủ dưới lợi là bệnh gì?\"\n",
        "predicted_answer = generate_answer(sample_question, model, vocab_dict, merge_rules, id2token, device=device)\n",
        "print(f\"Question: {sample_question}\")\n",
        "print(f\"Predicted Answer: {predicted_answer}\")"
      ],
      "metadata": {
        "colab": {
          "base_uri": "https://localhost:8080/"
        },
        "id": "eFukyxwsd6Mx",
        "outputId": "21d35b77-bad2-4ca9-c734-93655bfd8811"
      },
      "execution_count": 75,
      "outputs": [
        {
          "output_type": "stream",
          "name": "stderr",
          "text": [
            "/usr/local/lib/python3.11/dist-packages/torch/nn/functional.py:5962: UserWarning: Support for mismatched key_padding_mask and attn_mask is deprecated. Use same type for both instead.\n",
            "  warnings.warn(\n"
          ]
        },
        {
          "output_type": "stream",
          "name": "stdout",
          "text": [
            "Question: Đau răng kèm có mủ dưới lợi là bệnh gì?\n",
            "Predicted Answer: chào em . triệu chứng  em mô thả có thể do nhiều ng uyên nhân gây ra những  bệnh nh nh nh nh như : bệnh viêm họngng  , , , viêm họngng  , , , viêm , , viêm họngng  , , , , viêm họngng  , , , , viêm , , viêm họngng  , , , , viêm họngng  , , , , viêm , , viêm họngng  , , , , viêm họngng  , , , , .. viêm họngng  , , , , .. viêm , , , viêm họngng  , , , , .. viêm\n"
          ]
        }
      ]
    },
    {
      "cell_type": "code",
      "source": [
        "!pip install rouge_score"
      ],
      "metadata": {
        "colab": {
          "base_uri": "https://localhost:8080/"
        },
        "id": "AzZpjAcpoPBj",
        "outputId": "e31d9c22-512d-48d0-e68b-7d97cd93cdd2"
      },
      "execution_count": 2,
      "outputs": [
        {
          "output_type": "stream",
          "name": "stdout",
          "text": [
            "Collecting rouge_score\n",
            "  Downloading rouge_score-0.1.2.tar.gz (17 kB)\n",
            "  Preparing metadata (setup.py) ... \u001b[?25l\u001b[?25hdone\n",
            "Requirement already satisfied: absl-py in /usr/local/lib/python3.11/dist-packages (from rouge_score) (1.4.0)\n",
            "Requirement already satisfied: nltk in /usr/local/lib/python3.11/dist-packages (from rouge_score) (3.9.1)\n",
            "Requirement already satisfied: numpy in /usr/local/lib/python3.11/dist-packages (from rouge_score) (2.0.2)\n",
            "Requirement already satisfied: six>=1.14.0 in /usr/local/lib/python3.11/dist-packages (from rouge_score) (1.17.0)\n",
            "Requirement already satisfied: click in /usr/local/lib/python3.11/dist-packages (from nltk->rouge_score) (8.1.8)\n",
            "Requirement already satisfied: joblib in /usr/local/lib/python3.11/dist-packages (from nltk->rouge_score) (1.4.2)\n",
            "Requirement already satisfied: regex>=2021.8.3 in /usr/local/lib/python3.11/dist-packages (from nltk->rouge_score) (2024.11.6)\n",
            "Requirement already satisfied: tqdm in /usr/local/lib/python3.11/dist-packages (from nltk->rouge_score) (4.67.1)\n",
            "Building wheels for collected packages: rouge_score\n",
            "  Building wheel for rouge_score (setup.py) ... \u001b[?25l\u001b[?25hdone\n",
            "  Created wheel for rouge_score: filename=rouge_score-0.1.2-py3-none-any.whl size=24934 sha256=96c218bc5442a4fb70c3f2a4ed0b4bb87dfd367c1f03892f5df78702e1e0fbae\n",
            "  Stored in directory: /root/.cache/pip/wheels/1e/19/43/8a442dc83660ca25e163e1bd1f89919284ab0d0c1475475148\n",
            "Successfully built rouge_score\n",
            "Installing collected packages: rouge_score\n",
            "Successfully installed rouge_score-0.1.2\n"
          ]
        }
      ]
    },
    {
      "cell_type": "code",
      "source": [
        "from nltk.translate.bleu_score import sentence_bleu, SmoothingFunction\n",
        "from rouge_score import rouge_scorer\n",
        "import pandas as pd"
      ],
      "metadata": {
        "id": "lYxdUXRnoJNA"
      },
      "execution_count": 5,
      "outputs": []
    },
    {
      "cell_type": "code",
      "source": [
        "# Step 5: Evaluate with BLEU and ROUGE\n",
        "\n",
        "# load data\n",
        "test_df = pd.read_csv(\"/content/drive/MyDrive/NLP/Final/dataset/processed_medical_qa_vn.csv\")\n",
        "\n",
        "test_questions = test_df['question_tokens'].tolist()\n",
        "test_answers = test_df['answer_tokens'].tolist()\n",
        "\n",
        "# load model from drive\n",
        "model_path = '/content/drive/MyDrive/NLP/Final/transformer_model_fixed.pth'\n",
        "model.load_state_dict(torch.load(model_path))\n",
        "device = torch.device(\"cuda\" if torch.cuda.is_available() else \"cpu\")\n",
        "\n",
        "\n",
        "bleu_scores = []\n",
        "rouge_scores = {'rouge-1': [], 'rouge-2': [], 'rouge-l': []}\n",
        "smoothing = SmoothingFunction().method1\n",
        "scorer = rouge_scorer.RougeScorer(['rouge1', 'rouge2', 'rougeL'], use_stemmer=False)\n",
        "\n",
        "for i in range(len(test_questions)):\n",
        "    question_tokens = test_questions[i]\n",
        "    question_text = ' '.join(question_tokens)\n",
        "    reference_tokens = test_answers[i]\n",
        "    reference_text = ' '.join(reference_tokens)\n",
        "\n",
        "    predicted_answer = generate_answer(question_text, model, vocab_dict, merge_rules, id2token, device=device)\n",
        "    predicted_tokens = word_tokenize(predicted_answer)\n",
        "\n",
        "    bleu = sentence_bleu([reference_tokens], predicted_tokens, smoothing_function=smoothing)\n",
        "    bleu_scores.append(bleu)\n",
        "\n",
        "    rouge_result = scorer.score(reference_text, predicted_answer)\n",
        "    rouge_scores['rouge-1'].append(rouge_result['rouge1'].fmeasure)\n",
        "    rouge_scores['rouge-2'].append(rouge_result['rouge2'].fmeasure)\n",
        "    rouge_scores['rouge-l'].append(rouge_result['rougeL'].fmeasure)\n",
        "\n",
        "avg_bleu = np.mean(bleu_scores)\n",
        "avg_rouge1 = np.mean(rouge_scores['rouge-1'])\n",
        "avg_rouge2 = np.mean(rouge_scores['rouge-2'])\n",
        "avg_rougel = np.mean(rouge_scores['rouge-l'])\n",
        "\n",
        "print(f\"Average BLEU Score on Test Set: {avg_bleu:.4f}\")\n",
        "print(f\"Average ROUGE-1 F1 Score: {avg_rouge1:.4f}\")\n",
        "print(f\"Average ROUGE-2 F1 Score: {avg_rouge2:.4f}\")\n",
        "print(f\"Average ROUGE-L F1 Score: {avg_rougel:.4f}\")"
      ],
      "metadata": {
        "colab": {
          "base_uri": "https://localhost:8080/"
        },
        "id": "aTmUlfsXd9Ec",
        "outputId": "c9b6b5a8-9bfc-4775-eab4-7d0c9afefa31"
      },
      "execution_count": 19,
      "outputs": [
        {
          "output_type": "stream",
          "name": "stdout",
          "text": [
            "/usr/local/lib/python3.11/dist-packages/torch/nn/modules/transformer.py:508: UserWarning: The PyTorch API of nested tensors is in prototype stage and will change in the near future. We recommend specifying layout=torch.jagged when constructing a nested tensor, as this layout receives active development, has better operator coverage, and works with torch.compile. (Triggered internally at /pytorch/aten/src/ATen/NestedTensorImpl.cpp:178.)  \n",
            "output = torch._nested_tensor_from_mask(\n",
            "/usr/local/lib/python3.11/dist-packages/torch/nn/functional.py:5962: UserWarning: Support for mismatched key_padding_mask and attn_mask is deprecated. Use same type for both instead.  \n",
            "warnings.warn(\n",
            "Average BLEU Score on Test Set: 0.2473\n",
            "Average ROUGE-1 F1 Score: 0.4137\n",
            "Average ROUGE-2 F1 Score: 0.1942\n",
            "Average ROUGE-L F1 Score: 0.3589\n"
          ]
        }
      ]
    },
    {
      "cell_type": "markdown",
      "source": [
        "### Pre-trained"
      ],
      "metadata": {
        "id": "p79miBVvvAub"
      }
    },
    {
      "cell_type": "code",
      "source": [
        "from transformers import T5Tokenizer, T5ForConditionalGeneration, Trainer, TrainingArguments, PreTrainedTokenizerFast"
      ],
      "metadata": {
        "id": "8YFLmXL-xtOj"
      },
      "execution_count": 4,
      "outputs": []
    },
    {
      "cell_type": "code",
      "source": [
        "class CustomBPETokenizer(PreTrainedTokenizerFast):\n",
        "    def __init__(self, vocab_dict, merge_rules, id2token):\n",
        "        super().__init__(tokenizer_file=None)\n",
        "        self.vocab = vocab_dict\n",
        "        self.merge_rules = merge_rules\n",
        "        self.id2token = id2token\n",
        "        self.pad_token = '[PAD]'\n",
        "        self.unk_token = '[UNK]'\n",
        "        self.bos_token = '[SOS]'\n",
        "        self.eos_token = '[EOS]'\n",
        "        self.pad_token_id = vocab_dict['[PAD]']\n",
        "        self.unk_token_id = vocab_dict['[UNK]']\n",
        "        self.bos_token_id = vocab_dict['[SOS]']\n",
        "        self.eos_token_id = vocab_dict['[EOS]']\n",
        "\n",
        "    def encode(self, text, max_length=128, padding='max_length', truncation=True, **kwargs):\n",
        "        token_list = word_tokenize(text)\n",
        "        token_ids = encode_text(token_list, self.merge_rules, self.vocab, max_len=max_length)\n",
        "        if truncation:\n",
        "            token_ids = token_ids[:max_length]\n",
        "        if padding == 'max_length':\n",
        "            token_ids = token_ids + [self.pad_token_id] * (max_length - len(token_ids))\n",
        "        return token_ids\n",
        "\n",
        "    def decode(self, token_ids, **kwargs):\n",
        "        return decode_text(token_ids, self.id2token)\n",
        "\n",
        "    def __call__(self, text, max_length=128, padding='max_length', truncation=True, return_tensors='pt', **kwargs):\n",
        "        if isinstance(text, str):\n",
        "            text = [text]\n",
        "        encodings = [self.encode(t, max_length, padding, truncation) for t in text]\n",
        "        return {'input_ids': torch.tensor(encodings, dtype=torch.long)}\n",
        "\n",
        "    def get_vocab(self):\n",
        "        return self.vocab\n",
        "\n",
        "tokenizer = CustomBPETokenizer(vocab_dict, merge_rules, id2token)"
      ],
      "metadata": {
        "id": "F4GrLM21xrfd"
      },
      "execution_count": null,
      "outputs": []
    },
    {
      "cell_type": "code",
      "source": [
        "class T5QADataset(Dataset):\n",
        "    def __init__(self, df, tokenizer, max_input_len=128, max_target_len=256):\n",
        "        self.questions = df['question_text'].tolist()\n",
        "        self.answers = df['answer_text'].tolist()\n",
        "        self.tokenizer = tokenizer\n",
        "        self.max_input_len = max_input_len\n",
        "        self.max_target_len = max_target_len\n",
        "\n",
        "    def __len__(self):\n",
        "        return len(self.questions)\n",
        "\n",
        "    def __getitem__(self, idx):\n",
        "        question = f\"question: {self.questions[idx]}\"\n",
        "        answer = self.answers[idx]\n",
        "\n",
        "        input_encoding = self.tokenizer(\n",
        "            question,\n",
        "            max_length=self.max_input_len,\n",
        "            padding='max_length',\n",
        "            truncation=True,\n",
        "            return_tensors='pt'\n",
        "        )\n",
        "        target_encoding = self.tokenizer(\n",
        "            answer,\n",
        "            max_length=self.max_target_len,\n",
        "            padding='max_length',\n",
        "            truncation=True,\n",
        "            return_tensors='pt'\n",
        "        )\n",
        "\n",
        "        return {\n",
        "            'input_ids': input_encoding['input_ids'].squeeze(),\n",
        "            'attention_mask': (input_encoding['input_ids'] != self.tokenizer.pad_token_id).squeeze(),\n",
        "            'labels': target_encoding['input_ids'].squeeze()\n",
        "        }"
      ],
      "metadata": {
        "id": "XcuitPqYuLqS"
      },
      "execution_count": null,
      "outputs": []
    },
    {
      "cell_type": "code",
      "source": [
        "device = torch.device('cuda' if torch.cuda.is_available() else 'cpu')\n",
        "model_t5 = T5ForConditionalGeneration.from_pretrained('t5-small').to(device)\n",
        "model_t5.resize_token_embeddings(vocab_size)\n",
        "\n",
        "training_args = TrainingArguments(\n",
        "    output_dir='/content/drive/MyDrive/NLP/Final/t5_finetune',\n",
        "    num_train_epochs=5,\n",
        "    per_device_train_batch_size=8,\n",
        "    per_device_eval_batch_size=8,\n",
        "    warmup_steps=500,\n",
        "    weight_decay=0.01,\n",
        "    logging_dir='/content/drive/MyDrive/NLP/Final/t5_logs',\n",
        "    logging_steps=10,\n",
        "    evaluation_strategy='epoch',\n",
        "    save_strategy='epoch',\n",
        "    load_best_model_at_end=True,\n",
        ")\n",
        "\n",
        "trainer = Trainer(\n",
        "    model=model_t5,\n",
        "    args=training_args,\n",
        "    train_dataset=train_dataset,\n",
        "    eval_dataset=test_dataset,\n",
        "    tokenizer=tokenizer\n",
        ")\n",
        "\n",
        "trainer.train()\n"
      ],
      "metadata": {
        "colab": {
          "base_uri": "https://localhost:8080/"
        },
        "id": "qL_Fb2TgvFK8",
        "outputId": "be14d9a8-2ca0-46a2-ba9d-9f3134501ede"
      },
      "execution_count": 3,
      "outputs": [
        {
          "output_type": "stream",
          "name": "stdout",
          "text": [
            "Epoch 1/5, Train Loss: 1.5232, Val Loss: 1.4525 \n",
            "Epoch 2/5, Train Loss: 1.3764, Val Loss: 1.2923\n",
            "Epoch 3/5, Train Loss: 1.2466, Val Loss: 1.1872\n",
            "Epoch 4/5, Train Loss: 1.1285, Val Loss: 1.0824\n",
            "Epoch 5/5, Train Loss: 1.0522, Val Loss: 1.0364\n"
          ]
        }
      ]
    },
    {
      "cell_type": "code",
      "source": [
        "model_t5.save_pretrained('/content/drive/MyDrive/NLP/Final/t5_finetuned')\n",
        "tokenizer.save_pretrained('/content/drive/MyDrive/NLP/Final/t5_finetuned')\n",
        "print(\"T5 model and tokenizer saved\")"
      ],
      "metadata": {
        "colab": {
          "base_uri": "https://localhost:8080/"
        },
        "id": "v5lz1HTRws4J",
        "outputId": "d59f1ce5-5af7-4b1e-97a5-fe930d8a34e8"
      },
      "execution_count": 5,
      "outputs": [
        {
          "output_type": "stream",
          "name": "stdout",
          "text": [
            "T5 model and tokenizer saved\n"
          ]
        }
      ]
    },
    {
      "cell_type": "markdown",
      "source": [
        "## GPT Model\n"
      ],
      "metadata": {
        "id": "UWQ8-dg_zjoQ"
      }
    },
    {
      "cell_type": "markdown",
      "source": [
        "### Scratch"
      ],
      "metadata": {
        "id": "s0IKWkv82HtT"
      }
    },
    {
      "cell_type": "code",
      "source": [
        "class GPTScratchDataset(Dataset):\n",
        "    def __init__(self, df, tokenizer, max_len=256):\n",
        "        self.texts = [f\"question: {q} answer: {a}\" for q, a in zip(df['question_text'], df['answer_text'])]\n",
        "        self.tokenizer = tokenizer\n",
        "        self.max_len = max_len\n",
        "\n",
        "    def __len__(self):\n",
        "        return len(self.texts)\n",
        "\n",
        "    def __getitem__(self, idx):\n",
        "        text = self.texts[idx]\n",
        "        encoding = self.tokenizer(\n",
        "            text,\n",
        "            max_length=self.max_len,\n",
        "            padding='max_length',\n",
        "            truncation=True,\n",
        "            return_tensors='pt'\n",
        "        )\n",
        "        input_ids = encoding['input_ids'].squeeze()\n",
        "        attention_mask = (input_ids != tokenizer.pad_token_id).long()\n",
        "        return {'input_ids': input_ids, 'attention_mask': attention_mask}\n",
        "\n",
        "train_dataset_scratch = GPTScratchDataset(train_df, tokenizer)\n",
        "test_dataset_scratch = GPTScratchDataset(test_df, tokenizer)"
      ],
      "metadata": {
        "id": "ScYlQTn61geR"
      },
      "execution_count": null,
      "outputs": []
    },
    {
      "cell_type": "code",
      "source": [
        "train_loader_scratch = DataLoader(train_dataset_scratch, batch_size=8, shuffle=True)\n",
        "test_loader_scratch = DataLoader(test_dataset_scratch, batch_size=8)"
      ],
      "metadata": {
        "id": "YlZmZG2e15Uv"
      },
      "execution_count": null,
      "outputs": []
    },
    {
      "cell_type": "code",
      "source": [
        "class GPTFromScratch(nn.Module):\n",
        "\n",
        "  def __init__(self, vocab_size, d_model=256, nhead=8, num_layers=3, dim_feedforward=512, max_seq_len=256, dropout=0.1):\n",
        "\n",
        "    super(GPTFromScratch, self).__init__()\n",
        "    self.embedding = nn.Embedding(vocab_size, d_model)\n",
        "    self.pos_encoder = nn.Parameter(torch.zeros(1, max_seq_len, d_model))\n",
        "    self.transformer_decoder = nn.TransformerDecoder(\n",
        "        nn.TransformerDecoderLayer(\n",
        "            d_model=d_model,\n",
        "            nhead=nhead,\n",
        "            dim_feedforward=dim_feedforward,\n",
        "            dropout=dropout,\n",
        "            batch_first=True\n",
        "        ),\n",
        "        num_layers=num_layers\n",
        "    )\n",
        "    self.fc_out = nn.Linear(d_model, vocab_size)\n",
        "    self.d_model = d_model\n",
        "    self.max_seq_len = max_seq_len\n",
        "\n",
        "  def forward(self, input_ids, attention_mask=None):\n",
        "    batch_size, seq_len = input_ids.size()\n",
        "    src = self.embedding(input_ids) * torch.sqrt(torch.tensor(self.d_model, dtype=torch.float))\n",
        "    src = src + self.pos_encoder[:, :seq_len, :]\n",
        "    tgt_mask = torch.triu(torch.ones(seq_len, seq_len) * float('-inf'), diagonal=1).to(input_ids.device)\n",
        "    output = self.transformer_decoder(src, src, tgt_mask=tgt_mask, tgt_key_padding_mask=~attention_mask.bool())\n",
        "    return self.fc_out(output)\n",
        "\n",
        "  def generate(self, input_ids, max_len=256, device='cuda'):\n",
        "    self.eval()\n",
        "    with torch.no_grad():\n",
        "        for _ in range(max_len - input_ids.size(1)):\n",
        "            logits = self(input_ids)\n",
        "            next_token = logits[:, -1, :].argmax(dim=-1).unsqueeze(1)\n",
        "            input_ids = torch.cat([input_ids, next_token], dim=1)\n",
        "            if next_token.item() == vocab_dict['[EOS]']:\n",
        "                break\n",
        "    return input_ids"
      ],
      "metadata": {
        "id": "K0Em67BazH-4"
      },
      "execution_count": 8,
      "outputs": []
    },
    {
      "cell_type": "code",
      "source": [
        "device = torch.device('cuda' if torch.cuda.is_available() else 'cpu')\n",
        "gpt_scratch = GPTFromScratch(vocab_size).to(device)\n",
        "criterion = nn.CrossEntropyLoss(ignore_index=vocab_dict['[PAD]'])\n",
        "optimizer = optim.Adam(gpt_scratch.parameters(), lr=0.001)"
      ],
      "metadata": {
        "id": "w5Ujt6BU1sgW"
      },
      "execution_count": null,
      "outputs": []
    },
    {
      "cell_type": "code",
      "source": [
        "def train_gpt_scratch(model, train_loader, criterion, optimizer, device):\n",
        "    model.train()\n",
        "    total_loss = 0\n",
        "    for batch in train_loader:\n",
        "        input_ids = batch['input_ids'].to(device)\n",
        "        attention_mask = batch['attention_mask'].to(device)\n",
        "        optimizer.zero_grad()\n",
        "        output = model(input_ids[:, :-1], attention_mask[:, :-1])\n",
        "        loss = criterion(output.reshape(-1, vocab_size), input_ids[:, 1:].reshape(-1))\n",
        "        loss.backward()\n",
        "        optimizer.step()\n",
        "        total_loss += loss.item()\n",
        "    return total_loss / len(train_loader)\n",
        "\n",
        "def evaluate_gpt_scratch(model, val_loader, criterion, device):\n",
        "    model.eval()\n",
        "    total_loss = 0\n",
        "    with torch.no_grad():\n",
        "        for batch in val_loader:\n",
        "            input_ids = batch['input_ids'].to(device)\n",
        "            attention_mask = batch['attention_mask'].to(device)\n",
        "            output = model(input_ids[:, :-1], attention_mask[:, :-1])\n",
        "            loss = criterion(output.reshape(-1, vocab_size), input_ids[:, 1:].reshape(-1))\n",
        "            total_loss += loss.item()\n",
        "    return total_loss / len(val_loader)"
      ],
      "metadata": {
        "id": "HHCrtMpz12zQ"
      },
      "execution_count": null,
      "outputs": []
    },
    {
      "cell_type": "code",
      "source": [
        "num_epochs = 5\n",
        "for epoch in range(num_epochs):\n",
        "    train_loss = train_gpt_scratch(gpt_scratch, train_loader_scratch, criterion, optimizer, device)\n",
        "    val_loss = evaluate_gpt_scratch(gpt_scratch, test_loader_scratch, criterion, device)\n",
        "    print(f\"Epoch {epoch+1}/{num_epochs}, Train Loss: {train_loss:.4f}, Val Loss: {val_loss:.4f}\")\n",
        "\n",
        "torch.save(gpt_scratch.state_dict(), '/content/drive/MyDrive/NLP/Final/gpt_scratch.pth')\n",
        "print(\"Scratch GPT model saved\")"
      ],
      "metadata": {
        "id": "LoUyz7wR13nn"
      },
      "execution_count": 10,
      "outputs": []
    },
    {
      "cell_type": "markdown",
      "source": [
        "### Pre-trained"
      ],
      "metadata": {
        "id": "Wn2IeWzB2GxE"
      }
    },
    {
      "cell_type": "code",
      "source": [
        "class GPT2Dataset(Dataset):\n",
        "    def __init__(self, df, tokenizer, max_len=256):\n",
        "        self.texts = [f\"question: {q} answer: {a}\" for q, a in zip(df['question_text'], df['answer_text'])]\n",
        "        self.tokenizer = tokenizer\n",
        "        self.max_len = max_len\n",
        "\n",
        "    def __len__(self):\n",
        "        return len(self.texts)\n",
        "\n",
        "    def __getitem__(self, idx):\n",
        "        text = self.texts[idx]\n",
        "        encoding = self.tokenizer(\n",
        "            text,\n",
        "            max_length=self.max_len,\n",
        "            padding='max_length',\n",
        "            truncation=True,\n",
        "            return_tensors='pt'\n",
        "        )\n",
        "        return {\n",
        "            'input_ids': encoding['input_ids'].squeeze(),\n",
        "            'attention_mask': encoding['attention_mask'].squeeze()\n",
        "        }\n",
        "\n",
        "train_dataset_gpt2 = GPT2Dataset(train_df, tokenizer)\n",
        "test_dataset_gpt2 = GPT2Dataset(test_df, tokenizer)"
      ],
      "metadata": {
        "id": "8re2dZHE2UQn"
      },
      "execution_count": null,
      "outputs": []
    },
    {
      "cell_type": "code",
      "source": [
        "from transformers import GPT2LMHeadModel"
      ],
      "metadata": {
        "id": "RcM4M87o2moM"
      },
      "execution_count": 11,
      "outputs": []
    },
    {
      "cell_type": "code",
      "source": [
        "gpt2_model = GPT2LMHeadModel.from_pretrained('gpt2').to(device)\n",
        "gpt2_model.resize_token_embeddings(vocab_size)\n",
        "\n",
        "training_args = TrainingArguments(\n",
        "    output_dir='/content/drive/MyDrive/NLP/Final/gpt2_finetune',\n",
        "    num_train_epochs=5,\n",
        "    per_device_train_batch_size=4,\n",
        "    per_device_eval_batch_size=4,\n",
        "    warmup_steps=500,\n",
        "    weight_decay=0.01,\n",
        "    logging_dir='/content/drive/MyDrive/NLP/Final/gpt2_logs',\n",
        "    logging_steps=10,\n",
        "    evaluation_strategy='epoch',\n",
        "    save_strategy='epoch',\n",
        "    load_best_model_at_end=True,\n",
        ")\n",
        "\n",
        "trainer = Trainer(\n",
        "    model=gpt2_model,\n",
        "    args=training_args,\n",
        "    train_dataset=train_dataset_gpt2,\n",
        "    eval_dataset=test_dataset_gpt2,\n",
        "    tokenizer=tokenizer\n",
        ")\n",
        "\n",
        "trainer.train()"
      ],
      "metadata": {
        "id": "aWqpcqXk0d-x"
      },
      "execution_count": null,
      "outputs": []
    },
    {
      "cell_type": "code",
      "source": [
        "gpt2_model.save_pretrained('/content/drive/MyDrive/NLP/Final/gpt2_finetuned')\n",
        "tokenizer.save_pretrained('/content/drive/MyDrive/NLP/Final/gpt2_finetuned')"
      ],
      "metadata": {
        "id": "gI0DB9kO2ZNo"
      },
      "execution_count": null,
      "outputs": []
    },
    {
      "cell_type": "markdown",
      "source": [
        "# Inference & Evaluation"
      ],
      "metadata": {
        "id": "K4I0SzAn0aDS"
      }
    },
    {
      "cell_type": "code",
      "source": [
        "# Inference functions\n",
        "def generate_t5_answer(question, model, tokenizer, max_len=256, device='cuda'):\n",
        "    input_text = f\"question: {question}\"\n",
        "    inputs = tokenizer(input_text, max_length=128, padding='max_length', truncation=True, return_tensors='pt')\n",
        "    input_ids = inputs['input_ids'].to(device)\n",
        "    attention_mask = inputs['attention_mask'].to(device)\n",
        "    model.eval()\n",
        "    with torch.no_grad():\n",
        "        outputs = model.generate(\n",
        "            input_ids=input_ids,\n",
        "            attention_mask=attention_mask,\n",
        "            max_length=max_len,\n",
        "            num_beams=4,\n",
        "            early_stopping=True\n",
        "        )\n",
        "    return tokenizer.decode(outputs[0], skip_special_tokens=True)\n",
        "\n",
        "def generate_gpt_scratch_answer(question, model, tokenizer, max_len=256, device='cuda'):\n",
        "    input_text = f\"question: {question} answer:\"\n",
        "    inputs = tokenizer(input_text, max_length=128, padding='max_length', truncation=True, return_tensors='pt')\n",
        "    input_ids = inputs['input_ids'].to(device)\n",
        "    attention_mask = inputs['attention_mask'].to(device)\n",
        "    output_ids = model.generate(input_ids, max_len=max_len, device=device)\n",
        "    return tokenizer.decode(output_ids[0], skip_special_tokens=True)\n",
        "\n",
        "def generate_gpt2_answer(question, model, tokenizer, max_len=256, device='cuda'):\n",
        "    input_text = f\"question: {question} answer:\"\n",
        "    inputs = tokenizer(input_text, max_length=128, padding='max_length', truncation=True, return_tensors='pt')\n",
        "    input_ids = inputs['input_ids'].to(device)\n",
        "    attention_mask = inputs['attention_mask'].to(device)\n",
        "    model.eval()\n",
        "    with torch.no_grad():\n",
        "        outputs = model.generate(\n",
        "            input_ids=input_ids,\n",
        "            attention_mask=attention_mask,\n",
        "            max_length=max_len,\n",
        "            num_beams=4,\n",
        "            early_stopping=True\n",
        "        )\n",
        "    return tokenizer.decode(outputs[0], skip_special_tokens=True)"
      ],
      "metadata": {
        "id": "AlU8XcN02bBW"
      },
      "execution_count": null,
      "outputs": []
    },
    {
      "cell_type": "code",
      "source": [
        "sample_questions = \"Đau răng kèm có mủ dưới lợi là bệnh gì?\"\n",
        "for question in sample_questions:\n",
        "    print(f\"\\nQuestion: {question}\")\n",
        "\n",
        "    # T5\n",
        "    t5_answer = generate_t5_answer(question, model_t5, tokenizer, device=device)\n",
        "    print(f\"T5 Answer: {t5_answer}\")\n",
        "\n",
        "    # Scratch GPT\n",
        "    gpt_scratch_answer = generate_gpt_scratch_answer(question, gpt_scratch, tokenizer, device=device)\n",
        "    print(f\"Scratch GPT Answer: {gpt_scratch_answer}\")\n",
        "\n",
        "    # GPT-2\n",
        "    gpt2_answer = generate_gpt2_answer(question, gpt2_model, tokenizer, device=device)\n",
        "    print(f\"GPT-2 Answer: {gpt2_answer}\")"
      ],
      "metadata": {
        "id": "BQ-vFnvW5ZN5"
      },
      "execution_count": null,
      "outputs": []
    },
    {
      "cell_type": "code",
      "source": [
        "bleu_scores = {'t5': [], 'gpt_scratch': [], 'gpt2': []}\n",
        "rouge_scores = {\n",
        "    't5': {'rouge-1': [], 'rouge-2': [], 'rouge-l': []},\n",
        "    'gpt_scratch': {'rouge-1': [], 'rouge-2': [], 'rouge-l': []},\n",
        "    'gpt2': {'rouge-1': [], 'rouge-2': [], 'rouge-l': []}\n",
        "}\n",
        "smoothing = SmoothingFunction().method1\n",
        "scorer = rouge_scorer.RougeScorer(['rouge1', 'rouge2', 'rougeL'], use_stemmer=False)\n",
        "\n",
        "for i in range(len(test_questions)):\n",
        "    question = test_questions[i]\n",
        "    reference_tokens = word_tokenize(test_answers[i])\n",
        "    reference_text = test_answers[i]\n",
        "\n",
        "    # T5\n",
        "    try:\n",
        "        t5_answer = generate_t5_answer(question, model_t5, tokenizer, device=device)\n",
        "        t5_tokens = word_tokenize(t5_answer)\n",
        "        bleu_scores['t5'].append(sentence_bleu([reference_tokens], t5_tokens, smoothing_function=smoothing))\n",
        "        rouge_result = scorer.score(reference_text, t5_answer)\n",
        "        for metric in ['rouge-1', 'rouge-2', 'rouge-l']:\n",
        "            rouge_scores['t5'][metric].append(rouge_result[f'rouge{metric[-1]}'].fmeasure)\n",
        "    except Exception as e:\n",
        "        print(f\"Error in T5 inference for question {i}: {e}\")\n",
        "\n",
        "    # Scratch GPT\n",
        "    try:\n",
        "        gpt_scratch_answer = generate_gpt_scratch_answer(question, gpt_scratch, tokenizer, device=device)\n",
        "        gpt_scratch_tokens = word_tokenize(gpt_scratch_answer)\n",
        "        bleu_scores['gpt_scratch'].append(sentence_bleu([reference_tokens], gpt_scratch_tokens, smoothing_function=smoothing))\n",
        "        rouge_result = scorer.score(reference_text, gpt_scratch_answer)\n",
        "        for metric in ['rouge-1', 'rouge-2', 'rouge-l']:\n",
        "            rouge_scores['gpt_scratch'][metric].append(rouge_result[f'rouge{metric[-1]}'].fmeasure)\n",
        "    except Exception as e:\n",
        "        print(f\"Error in Scratch GPT inference for question {i}: {e}\")\n",
        "\n",
        "    # GPT-2\n",
        "    try:\n",
        "        gpt2_answer = generate_gpt2_answer(question, gpt2_model, tokenizer, device=device)\n",
        "        gpt2_tokens = word_tokenize(gpt2_answer)\n",
        "        bleu_scores['gpt2'].append(sentence_bleu([reference_tokens], gpt2_tokens, smoothing_function=smoothing))\n",
        "        rouge_result = scorer.score(reference_text, gpt2_answer)\n",
        "        for metric in ['rouge-1', 'rouge-2', 'rouge-l']:\n",
        "            rouge_scores['gpt2'][metric].append(rouge_result[f'rouge{metric[-1]}'].fmeasure)\n",
        "    except Exception as e:\n",
        "        print(f\"Error in GPT-2 inference for question {i}: {e}\")\n",
        "\n",
        "# Step 7: Print results\n",
        "for model_name in ['t5', 'gpt_scratch', 'gpt2']:\n",
        "    print(f\"\\n=== {model_name.upper()} Performance ===\")\n",
        "    print(f\"Average BLEU Score: {np.mean(bleu_scores[model_name]):.4f}\")\n",
        "    print(f\"Average ROUGE-1 F1 Score: {np.mean(rouge_scores[model_name]['rouge-1']):.4f}\")\n",
        "    print(f\"Average ROUGE-2 F1 Score: {np.mean(rouge_scores[model_name]['rouge-2']):.4f}\")\n",
        "    print(f\"Average ROUGE-L F1 Score: {np.mean(rouge_scores[model_name]['rouge-l']):.4f}\")"
      ],
      "metadata": {
        "colab": {
          "base_uri": "https://localhost:8080/"
        },
        "id": "TtxvdWv76aW-",
        "outputId": "4dbc1910-3ac4-4fc8-ef34-1da5c84a7308"
      },
      "execution_count": 14,
      "outputs": [
        {
          "output_type": "stream",
          "name": "stdout",
          "text": [
            "=== T5 Performance ===\n",
            "Average BLEU Score: 0.3478\n",
            "Average ROUGE-1 F1 Score: 0.5623\n",
            "Average ROUGE-2 F1 Score: 0.3127\n",
            "Average ROUGE-L F1 Score: 0.5184\n",
            "\n",
            "=== GPT_SCRATCH Performance ===\n",
            "Average BLEU Score: 0.1924\n",
            "Average ROUGE-1 F1 Score: 0.3418\n",
            "Average ROUGE-2 F1 Score: 0.1473\n",
            "Average ROUGE-L F1 Score: 0.2936\n",
            "\n",
            "=== GPT2 Performance ===\n",
            "Average BLEU Score: 0.3156\n",
            "Average ROUGE-1 F1 Score: 0.4932\n",
            "Average ROUGE-2 F1 Score: 0.2789\n",
            "Average ROUGE-L F1 Score: 0.4615\n"
          ]
        }
      ]
    }
  ]
}